{
 "cells": [
  {
   "cell_type": "markdown",
   "source": [
    "# Mapping results analysis"
   ],
   "metadata": {
    "collapsed": false
   },
   "id": "9f0b3545c835eb2a"
  },
  {
   "cell_type": "markdown",
   "source": [
    "The mapping output consists of CSV files that are stored in different folders, according to the relation between the bibliographic resources (BRs) in the two collection. The folders are the following:\n",
    "1. the folder containing bibliographic resources that are mapped in a 1:1 relation (each OC Meta BR is mapped to exactly one OpenAlex BR)\n",
    "2. the folder containing multi-mapped bibliographic resources (each OC Meta BR is mapped to more than one OpenAlex BR)\n",
    "3. the folder containing unmapped bibliographic resources (the CSV files only contain the OC Meta BRs for which no corresponding entity was found in OpenAlex).\n",
    "\n",
    "Given a sample configuration file like the following, the mapping results folders would be the `mapped` (1), `multi_mapped` (2) and `non_mapped` folders (3), which are all inside the folder `mapping_output`.\n",
    "\n",
    "```yaml\n",
    "meta_tables:\n",
    "  meta_dump_zip: '../data/oc_meta/oc_meta.zip'\n",
    "  meta_ids_out: '../process/meta_ids'\n",
    "  all_rows: True\n",
    "\n",
    "openalex_works:\n",
    "  inp_dir: '../data/openalex/data/works'\n",
    "  out_dir: '../process/openalex_tables/works'\n",
    "  entity_type: 'work'\n",
    "openalex_sources:\n",
    "  inp_dir: '../data/openalex/data/sources'\n",
    "  out_dir: '../process/openalex_tables/sources'\n",
    "  entity_type: 'source'\n",
    "\n",
    "... # other configuration parameters\n",
    "\n",
    "mapping:\n",
    "  inp_dir: '../process/meta_ids/primary_ents'\n",
    "  db_path: '../process/openalex.db'\n",
    "  out_dir: '../mapping_output/mapped'\n",
    "  multi_mapped_dir: '../mapping_output/multi_mapped'\n",
    "  non_mapped_dir: '../mapping_output/non_mapped'\n",
    "  type_field: True\n",
    "  all_rows: True\n",
    "```"
   ],
   "metadata": {
    "collapsed": false
   },
   "id": "f975f6e153c20b1e"
  },
  {
   "cell_type": "markdown",
   "source": [
    "## Basic quantitative analysis on input data and OC Meta BRs mapped to a single OpenAlex BR\n",
    "\n",
    "First, we can perform basic counts on the input data and the OC Meta BRs that are mapped to a single OpenAlex BR. To make things easier, we can use some of the functions in `omid_openalex.mapping` and `omid_openalex.utils`. \n",
    "\n",
    "Let's start by simply counting the number of BRs in the input OC Meta data: each of these BRs is represented as a row in the CSV files (stored in the ZIP archive `oc_meta.zip`, see the configuration file above), therefore we can simply count the number of rows in the file. We should bear in mind, however, that not all BRs are represented as CSV rows in their own right, even though they are available in the OC Meta collection: this is the case of journal issues and volumes, that despite being first-class entities in OC Meta and represented as such in the triplestore, are not necessarily represented as CSV single rows in the OC Meta dump.[^1] \n",
    "Besides counting the total number of BRs represented as a CSV row (i.e. the number of BRs that are processed in the mapping step), we can gain more specific insights by counting, among these BRs, how many have external PIDs (i.e. any PID that is not OMID) and how many have at least one PID that is also supported by OpenAlex (i.e. one PID among DOI, PMID, PMCID, Wikidata ID and ISSN). It is worth noting that only the OC Meta BRs with at least one OpenAlex-supported PID are potentially mappable to any corresponding BR in OpenAlex. \n",
    " \n",
    "[^1]: In the CSV dump, journal volumes and issues are often represented only as values of the *volume* and *issue* fields, and they are not considered for the mapping process, which only takes into consideration the OMIDs and the external PIDs stored in the *id* field."
   ],
   "metadata": {
    "collapsed": false
   },
   "id": "3de5500691238250"
  },
  {
   "cell_type": "code",
   "execution_count": null,
   "outputs": [],
   "source": [
    "\"\"\"Count the number of rows in the input data.\"\"\"\n",
    "from omid_openalex.mapping import MetaProcessor\n",
    "\n",
    "meta_dump_zip = '../data/oc_meta/oc_meta.zip'\n",
    "\n",
    "tot_brs_count = 0\n",
    "brs_with_external_pids_count = 0\n",
    "brs_with_openalex_supported_pids_count = 0\n",
    "mutually_supported_ids = {'doi', 'pmid', 'pmcid', 'issn', 'wikidata'}\n",
    "for row in MetaProcessor.read_compressed_meta_dump(meta_dump_zip):\n",
    "    tot_brs_count += 1\n",
    "    ids = row['id'].split()\n",
    "    if len(ids) > 1:\n",
    "        brs_with_external_pids_count += 1\n",
    "        if any(id.split(':')[0] in mutually_supported_ids for id in ids):\n",
    "            brs_with_openalex_supported_pids_count += 1\n",
    "\n",
    "print(f'Total number of OC Meta BRs represented as CSV rows: {tot_brs_count}')\n",
    "print(f'Number of OC Meta BRs with external PIDs: {brs_with_external_pids_count}')\n",
    "print(f'Number of OC Meta BRs with at least one PID that is also supported by OpenAlex: {brs_with_openalex_supported_pids_count}')\n",
    "print(f'Number of non-mappable OC Meta BRs represented as CSV rows: {tot_brs_count - brs_with_openalex_supported_pids_count}')\n",
    "print(f'Percentage of potentially mappable OC Meta BRs represented as CSV rows: {brs_with_openalex_supported_pids_count / tot_brs_count * 100:.2f}%')"
   ],
   "metadata": {
    "collapsed": false
   },
   "id": "f150d7b02d0d3656"
  },
  {
   "cell_type": "markdown",
   "source": [
    "Similarly to what we did for the OC Meta data, we can count the number of BRs in the OpenAlex data. In this case, we can simply count the number of lines, i.e. JSON objects in the JSON-L files in the `works` and `sources` folders, which contain the BRs that are processed in the mapping step. Moreover, we can count how many of these BRs have at least one PID that is also supported by OC Meta."
   ],
   "metadata": {
    "collapsed": false
   },
   "id": "9b9b931108d26920"
  },
  {
   "cell_type": "code",
   "execution_count": null,
   "outputs": [],
   "source": [
    "from omid_openalex.mapping import OpenAlexProcessor\n",
    "\n",
    "openalex_works_dir = '../data/openalex/data/works'\n",
    "openalex_sources_dir = '../data/openalex/data/sources'\n",
    "\n",
    "# Count Works\n",
    "tot_works_count = 0\n",
    "works_with_meta_supported_pids_count = 0\n",
    "for line in OpenAlexProcessor.read_compressed_openalex_dump(openalex_works_dir):\n",
    "    tot_works_count += 1\n",
    "    for _ in OpenAlexProcessor.get_work_ids(line):\n",
    "        works_with_meta_supported_pids_count += 1\n",
    "        break\n",
    "\n",
    "# Count Sources\n",
    "tot_sources_count = 0\n",
    "sources_with_meta_supported_pids_count = 0\n",
    "for line in OpenAlexProcessor.read_compressed_openalex_dump(openalex_sources_dir):\n",
    "    tot_sources_count += 1\n",
    "    for _ in OpenAlexProcessor.get_source_ids(line):\n",
    "        sources_with_meta_supported_pids_count += 1\n",
    "        break\n",
    "\n",
    "print(f'Total number of OpenAlex BRs: {tot_works_count + tot_sources_count}')\n",
    "print(f'Total number of OpenAlex Works: {tot_works_count}')\n",
    "print(f'Number of OpenAlex Works with at least one PID that is also supported by OC Meta: {works_with_meta_supported_pids_count}')\n",
    "print(f'Total number of OpenAlex Sources: {tot_sources_count}')\n",
    "print(f'Number of OpenAlex Sources with at least one PID that is also supported by OC Meta: {sources_with_meta_supported_pids_count}')\n",
    "print(f'Total number of OpenAlex BRs with at least one PID that is also supported by OC Meta (i.e. mappable BRs in OpenAlex): {works_with_meta_supported_pids_count + sources_with_meta_supported_pids_count}')\n",
    "print(f'Percentage of OpenAlex BRs with at least one PID that is also supported by OC Meta: {(works_with_meta_supported_pids_count + sources_with_meta_supported_pids_count) / (tot_works_count + tot_sources_count) * 100:.2f}%')"
   ],
   "metadata": {
    "collapsed": false
   },
   "id": "30252912f586d9fb"
  },
  {
   "cell_type": "markdown",
   "source": [
    "Finally, we can count the number of OC Meta BRs that are mapped to a single OpenAlex BR. With the sample configuration file above, these BRs would be stored in the CSV files in the `mapped` folder. We can simply count the number of rows in these files, which corresponds to the number of OC Meta BRs (from the rows of the CSV dump) that are mapped to a single OpenAlex BR."
   ],
   "metadata": {
    "collapsed": false
   },
   "id": "2985fe0178900e88"
  },
  {
   "cell_type": "code",
   "execution_count": null,
   "outputs": [],
   "source": [
    "from omid_openalex.utils import read_csv_tables\n",
    "\n",
    "mapped_dir = '../mapping_output/mapped'\n",
    "\n",
    "mapped_brs_count = 0\n",
    "for row in read_csv_tables(mapped_dir):\n",
    "    mapped_brs_count += 1\n",
    "\n",
    "print(f'Total number of OC Meta BRs mapped to a single OpenAlex BR: {mapped_brs_count}')"
   ],
   "metadata": {
    "collapsed": false
   },
   "id": "35c8fd72f8c44281"
  },
  {
   "cell_type": "markdown",
   "source": [
    "Moreover, it should be considered that some of these OC Meta BRs might be mapped to the same OpenAlex BR as other OC Meta BRs (inverted multi-mapped). In fact, if two BRs in OC Meta have been mistakenly assigned the same external PID, if this PID is assigned to a BR in OpenAlex both the BRs in OC Meta will be mapped to the same BR in OpenAlex. \n",
    "We can examine the BRs in the `mapped` folder and save the inverted multi-mapped BRs in a separate CSV file, in order to later distinguish them from other multi-mapped BRs, if necessary. In order to do so, we can use the `find_inverted_multi_mapped` function in `omid_openalex.analytics.helper`."
   ],
   "metadata": {
    "collapsed": false
   },
   "id": "27cec58c41fb94ed"
  },
  {
   "cell_type": "code",
   "execution_count": null,
   "outputs": [],
   "source": [
    "from omid_openalex.analytics.helper import find_inverted_multi_mapped\n",
    "\n",
    "mapped_dir = '../mapping_output/mapped'\n",
    "inverted_multi_mapped_dir = '../analysis/inverted_multi_mapped' #dir where to save the inverted multi-mapped BRs\n",
    "\n",
    "# print the number of inverted multi-mapped OC Meta BRs and save them to a separate CSV file, together with the corresponding OpenAlex BRs\n",
    "find_inverted_multi_mapped(mapped_dir, inverted_multi_mapped_dir)"
   ],
   "metadata": {
    "collapsed": false
   },
   "id": "14dce9fd5b0445d6"
  },
  {
   "cell_type": "markdown",
   "source": [
    "Furthermore, we can count the number of multi-mapped OC Meta BRs (OC Meta BRs that are mapped to more than one OpenAlex BR). With the sample configuration file above, multi-mapped BRs would be stored in (one or more) CSV file(s) in the `multi_mapped` folder: again, we can simply count the number of table rows."
   ],
   "metadata": {
    "collapsed": false
   },
   "id": "1b0ccf7f7f985b16"
  },
  {
   "cell_type": "code",
   "execution_count": null,
   "outputs": [],
   "source": [
    "from omid_openalex.utils import read_csv_tables\n",
    "\n",
    "multi_mapped_dir = '../mapping_output/multi_mapped'\n",
    "\n",
    "multi_mapped_brs_count = 0\n",
    "for row in read_csv_tables(multi_mapped_dir):\n",
    "    multi_mapped_brs_count += 1\n",
    "\n",
    "print(f'Total number of OC Meta BRs mapped to more than one OpenAlex BR: {multi_mapped_brs_count}')"
   ],
   "metadata": {
    "collapsed": false
   },
   "id": "6250152a394f2cb9"
  },
  {
   "cell_type": "markdown",
   "source": [
    "Finally, we can count the number of OC Meta BRs that are not mapped to any OpenAlex BR. With the sample configuration file above, these BRs would be stored in the CSV files in the `non_mapped` folder."
   ],
   "metadata": {
    "collapsed": false
   },
   "id": "3ca34ae50bb7e018"
  },
  {
   "cell_type": "code",
   "execution_count": null,
   "outputs": [],
   "source": [
    "from omid_openalex.utils import read_csv_tables\n",
    "\n",
    "non_mapped_dir = '../mapping_output/non_mapped'\n",
    "\n",
    "non_mapped_brs_count = 0\n",
    "for row in read_csv_tables(non_mapped_dir):\n",
    "    non_mapped_brs_count += 1\n",
    "\n",
    "print(f'Total number of unmapped OC Meta BRs (from CSV dump): {non_mapped_brs_count}')"
   ],
   "metadata": {
    "collapsed": false
   },
   "id": "be692c90f0c4543e"
  },
  {
   "cell_type": "markdown",
   "source": [
    "## Multi-mapped BRs analysis\n"
   ],
   "metadata": {
    "collapsed": false
   },
   "id": "fefee18207483b1f"
  }
 ],
 "metadata": {
  "kernelspec": {
   "display_name": "Python 3",
   "language": "python",
   "name": "python3"
  },
  "language_info": {
   "codemirror_mode": {
    "name": "ipython",
    "version": 2
   },
   "file_extension": ".py",
   "mimetype": "text/x-python",
   "name": "python",
   "nbconvert_exporter": "python",
   "pygments_lexer": "ipython2",
   "version": "2.7.6"
  }
 },
 "nbformat": 4,
 "nbformat_minor": 5
}
