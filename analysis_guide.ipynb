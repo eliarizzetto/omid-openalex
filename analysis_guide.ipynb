{
 "cells": [
  {
   "cell_type": "markdown",
   "id": "9f0b3545c835eb2a",
   "metadata": {
    "collapsed": false
   },
   "source": [
    "# Mapping results analysis"
   ]
  },
  {
   "cell_type": "markdown",
   "id": "f975f6e153c20b1e",
   "metadata": {
    "collapsed": false
   },
   "source": [
    "The mapping output consists of CSV files that are stored in different folders, according to the relation between the bibliographic resources (BRs) in the two collection. The folders are the following:\n",
    "1. the folder containing bibliographic resources that are mapped in a 1:1 relation (each OC Meta BR is mapped to exactly one OpenAlex BR)\n",
    "2. the folder containing multi-mapped bibliographic resources (each OC Meta BR is mapped to more than one OpenAlex BR)\n",
    "3. the folder containing unmapped bibliographic resources (the CSV files only contain the OC Meta BRs for which no corresponding entity was found in OpenAlex).\n",
    "\n",
    "Given a sample configuration file like the following, the mapping results folders would be the `mapped` (1), `multi_mapped` (2) and `non_mapped` folders (3), which are all inside the folder `mapping_output`.\n",
    "\n",
    "```yaml\n",
    "meta_tables:\n",
    "  meta_dump_zip: '../data/oc_meta/oc_meta.zip'\n",
    "  meta_ids_out: '../process/meta_ids'\n",
    "  all_rows: True\n",
    "\n",
    "openalex_works:\n",
    "  inp_dir: '../data/openalex/data/works'\n",
    "  out_dir: '../process/openalex_tables/works'\n",
    "  entity_type: 'work'\n",
    "openalex_sources:\n",
    "  inp_dir: '../data/openalex/data/sources'\n",
    "  out_dir: '../process/openalex_tables/sources'\n",
    "  entity_type: 'source'\n",
    "\n",
    "... # other configuration parameters\n",
    "\n",
    "mapping:\n",
    "  inp_dir: '../process/meta_ids/primary_ents'\n",
    "  db_path: '../process/openalex.db'\n",
    "  out_dir: '../mapping_output/mapped'\n",
    "  multi_mapped_dir: '../mapping_output/multi_mapped'\n",
    "  non_mapped_dir: '../mapping_output/non_mapped'\n",
    "  type_field: True\n",
    "  all_rows: True\n",
    "```"
   ]
  },
  {
   "cell_type": "markdown",
   "id": "3de5500691238250",
   "metadata": {
    "collapsed": false
   },
   "source": [
    "## Basic quantitative analysis on input data and OC Meta BRs mapped to a single OpenAlex BR\n",
    "\n",
    "First, we can perform basic counts on the input data and the OC Meta BRs that are mapped to a single OpenAlex BR. To make things easier, we can use some of the functions in `omid_openalex.mapping` and `omid_openalex.utils`. \n",
    "\n",
    "Let's start by simply counting the number of BRs in the input OC Meta data: each of these BRs is represented as a row in the CSV files (stored in the ZIP archive `oc_meta.zip`, see the configuration file above), therefore we can simply count the number of rows in the file. We should bear in mind, however, that not all BRs are represented as CSV rows in their own right, even though they are available in the OC Meta collection: this is the case of journal issues and volumes, that despite being first-class entities in OC Meta and represented as such in the triplestore, are not necessarily represented as CSV single rows in the OC Meta dump.[^1] \n",
    "Besides counting the total number of BRs represented as a CSV row (i.e. the number of BRs that are processed in the mapping step), we can gain more specific insights by counting, among these BRs, how many have external PIDs (i.e. any PID that is not OMID) and how many have at least one PID that is also supported by OpenAlex (i.e. one PID among DOI, PMID, PMCID, Wikidata ID and ISSN). It is worth noting that only the OC Meta BRs with at least one OpenAlex-supported PID are potentially mappable to any corresponding BR in OpenAlex. \n",
    " \n",
    "[^1]: In the CSV dump, journal volumes and issues are often represented only as values of the *volume* and *issue* fields, and they are not considered for the mapping process, which only takes into consideration the OMIDs and the external PIDs stored in the *id* field."
   ]
  },
  {
   "cell_type": "code",
   "execution_count": null,
   "id": "f150d7b02d0d3656",
   "metadata": {
    "collapsed": false
   },
   "outputs": [],
   "source": [
    "\"\"\"Count the number of rows in the input data.\"\"\"\n",
    "from omid_openalex.mapping import MetaProcessor\n",
    "\n",
    "meta_dump_zip = '../data/oc_meta/oc_meta.zip'\n",
    "\n",
    "tot_brs_count = 0\n",
    "brs_with_external_pids_count = 0\n",
    "brs_with_openalex_supported_pids_count = 0\n",
    "mutually_supported_ids = {'doi', 'pmid', 'pmcid', 'issn', 'wikidata'}\n",
    "for row in MetaProcessor.read_compressed_meta_dump(meta_dump_zip):\n",
    "    tot_brs_count += 1\n",
    "    ids = row['id'].split()\n",
    "    if len(ids) > 1:\n",
    "        brs_with_external_pids_count += 1\n",
    "        if any(id.split(':')[0] in mutually_supported_ids for id in ids):\n",
    "            brs_with_openalex_supported_pids_count += 1\n",
    "\n",
    "print(f'Total number of OC Meta BRs represented as CSV rows: {tot_brs_count}')\n",
    "print(f'Number of OC Meta BRs with external PIDs: {brs_with_external_pids_count}')\n",
    "print(f'Number of OC Meta BRs with at least one PID that is also supported by OpenAlex: {brs_with_openalex_supported_pids_count}')\n",
    "print(f'Number of non-mappable OC Meta BRs represented as CSV rows: {tot_brs_count - brs_with_openalex_supported_pids_count}')\n",
    "print(f'Percentage of potentially mappable OC Meta BRs represented as CSV rows: {brs_with_openalex_supported_pids_count / tot_brs_count * 100:.2f}%')"
   ]
  },
  {
   "cell_type": "markdown",
   "id": "9b9b931108d26920",
   "metadata": {
    "collapsed": false
   },
   "source": [
    "Similarly to what we did for the OC Meta data, we can count the number of BRs in the OpenAlex data. In this case, we can simply count the number of lines, i.e. JSON objects in the JSON-L files in the `works` and `sources` folders, which contain the BRs that are processed in the mapping step. Moreover, we can count how many of these BRs have at least one PID that is also supported by OC Meta."
   ]
  },
  {
   "cell_type": "code",
   "execution_count": null,
   "id": "30252912f586d9fb",
   "metadata": {
    "collapsed": false
   },
   "outputs": [],
   "source": [
    "from omid_openalex.mapping import OpenAlexProcessor\n",
    "\n",
    "openalex_works_dir = '../data/openalex/data/works'\n",
    "openalex_sources_dir = '../data/openalex/data/sources'\n",
    "\n",
    "# Count Works\n",
    "tot_works_count = 0\n",
    "works_with_meta_supported_pids_count = 0\n",
    "for line in OpenAlexProcessor.read_compressed_openalex_dump(openalex_works_dir):\n",
    "    tot_works_count += 1\n",
    "    for _ in OpenAlexProcessor.get_work_ids(line):\n",
    "        works_with_meta_supported_pids_count += 1\n",
    "        break\n",
    "\n",
    "# Count Sources\n",
    "tot_sources_count = 0\n",
    "sources_with_meta_supported_pids_count = 0\n",
    "for line in OpenAlexProcessor.read_compressed_openalex_dump(openalex_sources_dir):\n",
    "    tot_sources_count += 1\n",
    "    for _ in OpenAlexProcessor.get_source_ids(line):\n",
    "        sources_with_meta_supported_pids_count += 1\n",
    "        break\n",
    "\n",
    "print(f'Total number of OpenAlex BRs: {tot_works_count + tot_sources_count}')\n",
    "print(f'Total number of OpenAlex Works: {tot_works_count}')\n",
    "print(f'Number of OpenAlex Works with at least one PID that is also supported by OC Meta: {works_with_meta_supported_pids_count}')\n",
    "print(f'Total number of OpenAlex Sources: {tot_sources_count}')\n",
    "print(f'Number of OpenAlex Sources with at least one PID that is also supported by OC Meta: {sources_with_meta_supported_pids_count}')\n",
    "print(f'Total number of OpenAlex BRs with at least one PID that is also supported by OC Meta (i.e. mappable BRs in OpenAlex): {works_with_meta_supported_pids_count + sources_with_meta_supported_pids_count}')\n",
    "print(f'Percentage of OpenAlex BRs with at least one PID that is also supported by OC Meta: {(works_with_meta_supported_pids_count + sources_with_meta_supported_pids_count) / (tot_works_count + tot_sources_count) * 100:.2f}%')"
   ]
  },
  {
   "cell_type": "markdown",
   "id": "2985fe0178900e88",
   "metadata": {
    "collapsed": false
   },
   "source": [
    "Finally, we can count the number of OC Meta BRs that are mapped to a single OpenAlex BR. With the sample configuration file above, these BRs would be stored in the CSV files in the `mapped` folder. We can simply count the number of rows in these files, which corresponds to the number of OC Meta BRs (from the rows of the CSV dump) that are mapped to a single OpenAlex BR."
   ]
  },
  {
   "cell_type": "code",
   "execution_count": null,
   "id": "35c8fd72f8c44281",
   "metadata": {
    "collapsed": false
   },
   "outputs": [],
   "source": [
    "from omid_openalex.utils import read_csv_tables\n",
    "\n",
    "mapped_dir = '../mapping_output/mapped'\n",
    "\n",
    "mapped_brs_count = 0\n",
    "for row in read_csv_tables(mapped_dir):\n",
    "    mapped_brs_count += 1\n",
    "\n",
    "print(f'Total number of OC Meta BRs mapped to a single OpenAlex BR: {mapped_brs_count}')"
   ]
  },
  {
   "cell_type": "markdown",
   "id": "27cec58c41fb94ed",
   "metadata": {
    "collapsed": false
   },
   "source": [
    "Moreover, it should be considered that some of these OC Meta BRs might be mapped to the same OpenAlex BR as other OC Meta BRs (inverted multi-mapped). In fact, if two BRs in OC Meta have been mistakenly assigned the same external PID, if this PID is assigned to a BR in OpenAlex both the BRs in OC Meta will be mapped to the same BR in OpenAlex. \n",
    "We can examine the BRs in the `mapped` folder and save the inverted multi-mapped BRs in a separate CSV file, in order to later distinguish them from other multi-mapped BRs, if necessary. In order to do so, we can use the `find_inverted_multi_mapped` function in `omid_openalex.analytics.helper`."
   ]
  },
  {
   "cell_type": "code",
   "execution_count": null,
   "id": "14dce9fd5b0445d6",
   "metadata": {
    "collapsed": false
   },
   "outputs": [],
   "source": [
    "from omid_openalex.analytics.helper import find_inverted_multi_mapped\n",
    "\n",
    "mapped_dir = '../mapping_output/mapped'\n",
    "inverted_multi_mapped_dir = '../analysis/inverted_multi_mapped' #dir where to save the inverted multi-mapped BRs\n",
    "\n",
    "# print the number of inverted multi-mapped OC Meta BRs and save them to a separate CSV file, together with the corresponding OpenAlex BRs\n",
    "find_inverted_multi_mapped(mapped_dir, inverted_multi_mapped_dir)"
   ]
  },
  {
   "cell_type": "markdown",
   "id": "1b0ccf7f7f985b16",
   "metadata": {
    "collapsed": false
   },
   "source": [
    "Furthermore, we can count the number of multi-mapped OC Meta BRs (OC Meta BRs that are mapped to more than one OpenAlex BR). With the sample configuration file above, multi-mapped BRs would be stored in (one or more) CSV file(s) in the `multi_mapped` folder: again, we can simply count the number of table rows."
   ]
  },
  {
   "cell_type": "code",
   "execution_count": null,
   "id": "6250152a394f2cb9",
   "metadata": {
    "collapsed": false
   },
   "outputs": [],
   "source": [
    "from omid_openalex.utils import read_csv_tables\n",
    "\n",
    "multi_mapped_dir = '../mapping_output/multi_mapped'\n",
    "\n",
    "multi_mapped_brs_count = 0\n",
    "for row in read_csv_tables(multi_mapped_dir):\n",
    "    multi_mapped_brs_count += 1\n",
    "\n",
    "print(f'Total number of OC Meta BRs mapped to more than one OpenAlex BR: {multi_mapped_brs_count}')"
   ]
  },
  {
   "cell_type": "markdown",
   "id": "3ca34ae50bb7e018",
   "metadata": {
    "collapsed": false
   },
   "source": [
    "Finally, we can count the number of OC Meta BRs that are not mapped to any OpenAlex BR. With the sample configuration file above, these BRs would be stored in the CSV files in the `non_mapped` folder."
   ]
  },
  {
   "cell_type": "code",
   "execution_count": null,
   "id": "be692c90f0c4543e",
   "metadata": {
    "collapsed": false
   },
   "outputs": [],
   "source": [
    "from omid_openalex.utils import read_csv_tables\n",
    "\n",
    "non_mapped_dir = '../mapping_output/non_mapped'\n",
    "\n",
    "non_mapped_brs_count = 0\n",
    "for row in read_csv_tables(non_mapped_dir):\n",
    "    non_mapped_brs_count += 1\n",
    "\n",
    "print(f'Total number of unmapped OC Meta BRs (from CSV dump): {non_mapped_brs_count}')"
   ]
  },
  {
   "cell_type": "markdown",
   "id": "fefee18207483b1f",
   "metadata": {
    "collapsed": false
   },
   "source": [
    "## Multi-mapped BRs analysis"
   ]
  },
  {
   "cell_type": "markdown",
   "id": "5cd8b4b8dc7d5e4",
   "metadata": {
    "collapsed": false
   },
   "source": [
    "Multi-mapped BRs are particularly interesting, since they can help reveal potential inconsistencies in the processed datasets. First, we can load the multi-mapped BRs (stored in a single file, named `multi_mapped_omids.csv` inside the `multi_mapped` folder) in a pandas Dataframe. \n",
    "Then, we can gain a deeper understanding of their nature by using some functions from the `omid_openalex.analytics.helper` module."
   ]
  },
  {
   "cell_type": "code",
   "execution_count": 146,
   "id": "6b877d5441311c2c",
   "metadata": {
    "collapsed": false,
    "ExecuteTime": {
     "end_time": "2024-01-09T19:10:59.786181Z",
     "start_time": "2024-01-09T19:10:56.402975600Z"
    }
   },
   "outputs": [
    {
     "data": {
      "text/plain": "             omid              openalex_id            type\n0   omid:br/06083  W4235201711 W2550489455  reference book\n1  omid:br/060135  W3116204541 W2504600547  reference book\n2  omid:br/060101  W4234565634 W4254878166  reference book\n3  omid:br/060765  W3081784037 W3035986120          report\n4   omid:br/06082  W2889504338 W2551658000  reference book",
      "text/html": "<div>\n<style scoped>\n    .dataframe tbody tr th:only-of-type {\n        vertical-align: middle;\n    }\n\n    .dataframe tbody tr th {\n        vertical-align: top;\n    }\n\n    .dataframe thead th {\n        text-align: right;\n    }\n</style>\n<table border=\"1\" class=\"dataframe\">\n  <thead>\n    <tr style=\"text-align: right;\">\n      <th></th>\n      <th>omid</th>\n      <th>openalex_id</th>\n      <th>type</th>\n    </tr>\n  </thead>\n  <tbody>\n    <tr>\n      <th>0</th>\n      <td>omid:br/06083</td>\n      <td>W4235201711 W2550489455</td>\n      <td>reference book</td>\n    </tr>\n    <tr>\n      <th>1</th>\n      <td>omid:br/060135</td>\n      <td>W3116204541 W2504600547</td>\n      <td>reference book</td>\n    </tr>\n    <tr>\n      <th>2</th>\n      <td>omid:br/060101</td>\n      <td>W4234565634 W4254878166</td>\n      <td>reference book</td>\n    </tr>\n    <tr>\n      <th>3</th>\n      <td>omid:br/060765</td>\n      <td>W3081784037 W3035986120</td>\n      <td>report</td>\n    </tr>\n    <tr>\n      <th>4</th>\n      <td>omid:br/06082</td>\n      <td>W2889504338 W2551658000</td>\n      <td>reference book</td>\n    </tr>\n  </tbody>\n</table>\n</div>"
     },
     "execution_count": 146,
     "metadata": {},
     "output_type": "execute_result"
    }
   ],
   "source": [
    "import pandas as pd\n",
    "from omid_openalex.utils import read_csv_tables\n",
    "\n",
    "# mm_csv = '../mapping_output/multi_mapped/multi_mapped_omids.csv' # multi-mapped BRs are stored in a single CSV file\n",
    "mm_csv = \"D:/mapping_oct_23/multi_map/multi_mapped_omids.csv\" # multi-mapped BRs are stored in a single CSV file; replace this path with the one where you saved your results\n",
    "\n",
    "df = pd.read_csv(mm_csv, encoding='utf-8')\n",
    "df.head()\n"
   ]
  },
  {
   "cell_type": "markdown",
   "id": "01b76898-b79a-4e58-a378-ef4ad5f44e54",
   "metadata": {},
   "source": [
    "For example, we can focus on journal articles and perform basic analysis with standard pandas operations."
   ]
  },
  {
   "cell_type": "code",
   "execution_count": 147,
   "id": "5756cd3bfe720256",
   "metadata": {
    "collapsed": false,
    "ExecuteTime": {
     "end_time": "2024-01-09T19:10:59.807193100Z",
     "start_time": "2024-01-09T19:10:57.006002200Z"
    }
   },
   "outputs": [
    {
     "name": "stdout",
     "output_type": "stream",
     "text": [
      "Average number of OpenAlex IDs for one OMID: 2.15\n",
      "Minimum number of OpenAlex IDs for one OMID: 2\n",
      "Maximum number of OpenAlex IDs for one OMID: 1051\n"
     ]
    },
    {
     "name": "stderr",
     "output_type": "stream",
     "text": [
      "C:\\Users\\media\\AppData\\Local\\Temp\\ipykernel_24432\\1660339807.py:3: SettingWithCopyWarning:\n",
      "\n",
      "\n",
      "A value is trying to be set on a copy of a slice from a DataFrame.\n",
      "Try using .loc[row_indexer,col_indexer] = value instead\n",
      "\n",
      "See the caveats in the documentation: https://pandas.pydata.org/pandas-docs/stable/user_guide/indexing.html#returning-a-view-versus-a-copy\n",
      "\n"
     ]
    }
   ],
   "source": [
    "# get multi-mapped JOURNAL ARTICLES and study them\n",
    "jadf = df[df['type'] == 'journal article']\n",
    "jadf['openalex_id'] = jadf['openalex_id'].str.split() # convert string-encoded lists to actual lists\n",
    "\n",
    "\n",
    "print(f'Average number of OpenAlex IDs for one OMID: {jadf.openalex_id.apply(len).mean():.2f}')\n",
    "print(f'Minimum number of OpenAlex IDs for one OMID: {jadf.openalex_id.apply(len).min()}')\n",
    "print(f'Maximum number of OpenAlex IDs for one OMID: {jadf.openalex_id.apply(len).max()}')"
   ]
  },
  {
   "cell_type": "markdown",
   "source": [
    "In order to get more complete results, we can also pass the type of bibliographic resource we want to analyse to the `analyse_mm_by_type()` function, together with the path to the CSV file storing multi-mapped BRs. This will output the distribution of OMIDs over the number of OpenAlex IDs each OMID is mapped to."
   ],
   "metadata": {
    "collapsed": false
   },
   "id": "a047a2d56e97268f"
  },
  {
   "cell_type": "code",
   "execution_count": 148,
   "outputs": [
    {
     "name": "stderr",
     "output_type": "stream",
     "text": [
      "C:\\Users\\media\\Lavoro\\oa\\omid-openalex\\omid_openalex\\analytics\\helper.py:24: SettingWithCopyWarning:\n",
      "\n",
      "\n",
      "A value is trying to be set on a copy of a slice from a DataFrame.\n",
      "Try using .loc[row_indexer,col_indexer] = value instead\n",
      "\n",
      "See the caveats in the documentation: https://pandas.pydata.org/pandas-docs/stable/user_guide/indexing.html#returning-a-view-versus-a-copy\n",
      "\n"
     ]
    },
    {
     "name": "stdout",
     "output_type": "stream",
     "text": [
      "Total number of multi-mapped OMIDs of BRs of type journal article: 140426\n",
      "\n",
      "Number of OMIDs of journal article multi-mapped to Work IDs only: 140426. The following illustrates how these are distributed over the number of OAIDs each OMID is mapped to: {2: 130280, 3: 7471, 4: 1601, 5: 506, 6: 201, 7: 83, 8: 39, 9: 13, 10: 27, 11: 18, 12: 12, 13: 11, 14: 10, 15: 10, 16: 4, 17: 13, 18: 14, 19: 5, 20: 3, 21: 4, 22: 5, 23: 8, 24: 5, 25: 4, 26: 4, 28: 5, 29: 1, 30: 1, 31: 6, 32: 2, 33: 2, 34: 2, 35: 2, 40: 2, 41: 1, 42: 2, 43: 4, 44: 1, 45: 1, 46: 2, 47: 1, 48: 1, 49: 1, 50: 1, 52: 1, 53: 1, 57: 1, 59: 2, 60: 2, 65: 1, 67: 1, 69: 1, 73: 1, 74: 1, 76: 1, 77: 1, 78: 1, 80: 1, 83: 2, 94: 2, 96: 1, 97: 1, 98: 1, 100: 1, 106: 2, 111: 2, 112: 2, 115: 1, 123: 1, 130: 1, 135: 1, 160: 1, 197: 1, 1051: 1}\n",
      "\n",
      "Number of OMIDs of journal article multi-mapped to Source IDs only: 0. The following illustrates how these are distributed over the number of OAIDs each OMID is mapped to: {}\n"
     ]
    }
   ],
   "source": [
    "from omid_openalex.analytics.helper import analyse_mm_by_type\n",
    "\n",
    "analyse_mm_by_type(mm_csv, 'journal article')\n"
   ],
   "metadata": {
    "collapsed": false,
    "ExecuteTime": {
     "end_time": "2024-01-09T19:11:11.961507700Z",
     "start_time": "2024-01-09T19:10:58.086878100Z"
    }
   },
   "id": "ab9660e4322687d"
  },
  {
   "cell_type": "markdown",
   "source": [
    "The `filter_mm_df()` function makes it easier to filter the dataframe for a specific type of bibliographic resource among the ones specified by OC Meta (e.g. journal article, journal, book), for a specific OpenAlex entity type (Works or Sources) and for a given number of OpenAlex IDs at the same time."
   ],
   "metadata": {
    "collapsed": false
   },
   "id": "745ba436df440c52"
  },
  {
   "cell_type": "code",
   "execution_count": 149,
   "outputs": [
    {
     "data": {
      "text/plain": "                     omid                                        openalex_id  \\\n676    omid:br/0620144776  W4253733061 W4250748934 W4233785629 W425195928...   \n5459  omid:br/06204258166  W4232252855 W2068427257 W4245596445 W422992732...   \n5584  omid:br/06204264644  W4244962988 W4251940503 W4233590687 W423690514...   \n5670  omid:br/06204269306  W3124575407 W4298086179 W4300444114 W429844190...   \n5969  omid:br/06204285178  W2586568347 W2590260806 W1898333710 W258633207...   \n\n                 type  oaid_count composition  \n676   journal article           6       works  \n5459  journal article           6       works  \n5584  journal article           6       works  \n5670  journal article           6       works  \n5969  journal article           6       works  ",
      "text/html": "<div>\n<style scoped>\n    .dataframe tbody tr th:only-of-type {\n        vertical-align: middle;\n    }\n\n    .dataframe tbody tr th {\n        vertical-align: top;\n    }\n\n    .dataframe thead th {\n        text-align: right;\n    }\n</style>\n<table border=\"1\" class=\"dataframe\">\n  <thead>\n    <tr style=\"text-align: right;\">\n      <th></th>\n      <th>omid</th>\n      <th>openalex_id</th>\n      <th>type</th>\n      <th>oaid_count</th>\n      <th>composition</th>\n    </tr>\n  </thead>\n  <tbody>\n    <tr>\n      <th>676</th>\n      <td>omid:br/0620144776</td>\n      <td>W4253733061 W4250748934 W4233785629 W425195928...</td>\n      <td>journal article</td>\n      <td>6</td>\n      <td>works</td>\n    </tr>\n    <tr>\n      <th>5459</th>\n      <td>omid:br/06204258166</td>\n      <td>W4232252855 W2068427257 W4245596445 W422992732...</td>\n      <td>journal article</td>\n      <td>6</td>\n      <td>works</td>\n    </tr>\n    <tr>\n      <th>5584</th>\n      <td>omid:br/06204264644</td>\n      <td>W4244962988 W4251940503 W4233590687 W423690514...</td>\n      <td>journal article</td>\n      <td>6</td>\n      <td>works</td>\n    </tr>\n    <tr>\n      <th>5670</th>\n      <td>omid:br/06204269306</td>\n      <td>W3124575407 W4298086179 W4300444114 W429844190...</td>\n      <td>journal article</td>\n      <td>6</td>\n      <td>works</td>\n    </tr>\n    <tr>\n      <th>5969</th>\n      <td>omid:br/06204285178</td>\n      <td>W2586568347 W2590260806 W1898333710 W258633207...</td>\n      <td>journal article</td>\n      <td>6</td>\n      <td>works</td>\n    </tr>\n  </tbody>\n</table>\n</div>"
     },
     "execution_count": 149,
     "metadata": {},
     "output_type": "execute_result"
    }
   ],
   "source": [
    "from omid_openalex.analytics.helper import prepare_data_for_filtering, filter_mm_df\n",
    "\n",
    "new_df = prepare_data_for_filtering(mm_csv)\n",
    "filtered_df = filter_mm_df(new_df, res_type='journal article', composition='works', oaid_count=6)\n",
    "filtered_df.head()"
   ],
   "metadata": {
    "collapsed": false,
    "ExecuteTime": {
     "end_time": "2024-01-09T19:11:12.895973500Z",
     "start_time": "2024-01-09T19:11:11.964507400Z"
    }
   },
   "id": "ad713240610118f0"
  },
  {
   "cell_type": "markdown",
   "source": [
    "For a manual analysis of the multi-mapped BRs it can be useful to directly access the metadata of the involved entities via the APIs of both OpenCitations and OpenAlex. To make it faster, we can use the `get_api_url()` function as follows."
   ],
   "metadata": {
    "collapsed": false
   },
   "id": "fceba01cb63eadb9"
  },
  {
   "cell_type": "code",
   "execution_count": 150,
   "outputs": [
    {
     "name": "stdout",
     "output_type": "stream",
     "text": [
      "[{'composition': 'works',\n",
      "  'oaid_count': 6,\n",
      "  'omid': 'https://opencitations.net/meta/api/v1/metadata/omid:br/0620144776',\n",
      "  'openalex_id': ['https://api.openalex.org/W4253733061',\n",
      "                  'https://api.openalex.org/W4250748934',\n",
      "                  'https://api.openalex.org/W4233785629',\n",
      "                  'https://api.openalex.org/W4251959288',\n",
      "                  'https://api.openalex.org/W3102474143',\n",
      "                  'https://api.openalex.org/W4244406985'],\n",
      "  'type': 'journal article'},\n",
      " {'composition': 'works',\n",
      "  'oaid_count': 6,\n",
      "  'omid': 'https://opencitations.net/meta/api/v1/metadata/omid:br/06204258166',\n",
      "  'openalex_id': ['https://api.openalex.org/W4232252855',\n",
      "                  'https://api.openalex.org/W2068427257',\n",
      "                  'https://api.openalex.org/W4245596445',\n",
      "                  'https://api.openalex.org/W4229927320',\n",
      "                  'https://api.openalex.org/W4229699789',\n",
      "                  'https://api.openalex.org/W4239361117'],\n",
      "  'type': 'journal article'},\n",
      " {'composition': 'works',\n",
      "  'oaid_count': 6,\n",
      "  'omid': 'https://opencitations.net/meta/api/v1/metadata/omid:br/06204264644',\n",
      "  'openalex_id': ['https://api.openalex.org/W4244962988',\n",
      "                  'https://api.openalex.org/W4251940503',\n",
      "                  'https://api.openalex.org/W4233590687',\n",
      "                  'https://api.openalex.org/W4236905149',\n",
      "                  'https://api.openalex.org/W4250099966',\n",
      "                  'https://api.openalex.org/W4247129970'],\n",
      "  'type': 'journal article'}]\n"
     ]
    }
   ],
   "source": [
    "from omid_openalex.analytics.helper import get_api_url\n",
    "from pprint import pprint\n",
    "\n",
    "pprint(get_api_url(filtered_df)[:3]) # print the API url for the first 3 rows of the dataframe obtained in the previous cell"
   ],
   "metadata": {
    "collapsed": false,
    "ExecuteTime": {
     "end_time": "2024-01-09T19:11:12.934551900Z",
     "start_time": "2024-01-09T19:11:12.902019600Z"
    }
   },
   "id": "59bc42d43fa7d0f6"
  },
  {
   "cell_type": "markdown",
   "source": [
    "Valuable insights can be provided also by a dynamic visualisation of multi-mapped data. For example, we can create a distribution histogram to immediately grasp what are the BR types most frequently involved in multi-mapping, or to understand how many OpenAlex IDs the OMIDs are typically multi-mapped to."
   ],
   "metadata": {
    "collapsed": false
   },
   "id": "4bdba38d8249d56e"
  },
  {
   "cell_type": "code",
   "execution_count": 151,
   "outputs": [
    {
     "data": {
      "application/vnd.plotly.v1+json": {
       "data": [
        {
         "alignmentgroup": "True",
         "customdata": [
          [
           "works"
          ],
          [
           "works"
          ],
          [
           "works"
          ],
          [
           "works"
          ],
          [
           "works"
          ],
          [
           "works"
          ],
          [
           "works"
          ],
          [
           "works"
          ],
          [
           "works"
          ],
          [
           "works"
          ],
          [
           "works"
          ],
          [
           "works"
          ],
          [
           "works"
          ],
          [
           "works"
          ],
          [
           "works"
          ]
         ],
         "hovertemplate": "type=book<br>oaid_count=%{x}<br>frequency=%{y}<br>composition=%{customdata[0]}<extra></extra>",
         "legendgroup": "book",
         "marker": {
          "color": "#636efa",
          "pattern": {
           "shape": ""
          }
         },
         "name": "book (9115)",
         "offsetgroup": "book",
         "orientation": "v",
         "showlegend": true,
         "textposition": "auto",
         "x": [
          2,
          3,
          4,
          5,
          6,
          7,
          8,
          9,
          10,
          11,
          13,
          14,
          16,
          20,
          35
         ],
         "xaxis": "x",
         "y": [
          7706,
          1277,
          79,
          22,
          8,
          8,
          2,
          2,
          4,
          2,
          1,
          1,
          1,
          1,
          1
         ],
         "yaxis": "y",
         "type": "bar"
        },
        {
         "alignmentgroup": "True",
         "customdata": [
          [
           "works"
          ],
          [
           "works"
          ],
          [
           "works"
          ],
          [
           "works"
          ],
          [
           "works"
          ],
          [
           "works"
          ],
          [
           "works"
          ],
          [
           "works"
          ],
          [
           "works"
          ],
          [
           "works"
          ],
          [
           "works"
          ]
         ],
         "hovertemplate": "type=book chapter<br>oaid_count=%{x}<br>frequency=%{y}<br>composition=%{customdata[0]}<extra></extra>",
         "legendgroup": "book chapter",
         "marker": {
          "color": "#EF553B",
          "pattern": {
           "shape": ""
          }
         },
         "name": "book chapter (3366)",
         "offsetgroup": "book chapter",
         "orientation": "v",
         "showlegend": true,
         "textposition": "auto",
         "x": [
          2,
          3,
          4,
          5,
          6,
          7,
          8,
          9,
          10,
          12,
          24
         ],
         "xaxis": "x",
         "y": [
          2630,
          480,
          172,
          41,
          24,
          8,
          3,
          3,
          2,
          2,
          1
         ],
         "yaxis": "y",
         "type": "bar"
        },
        {
         "alignmentgroup": "True",
         "customdata": [
          [
           "works"
          ]
         ],
         "hovertemplate": "type=book section<br>oaid_count=%{x}<br>frequency=%{y}<br>composition=%{customdata[0]}<extra></extra>",
         "legendgroup": "book section",
         "marker": {
          "color": "#00cc96",
          "pattern": {
           "shape": ""
          }
         },
         "name": "book section (1)",
         "offsetgroup": "book section",
         "orientation": "v",
         "showlegend": true,
         "textposition": "auto",
         "x": [
          2
         ],
         "xaxis": "x",
         "y": [
          1
         ],
         "yaxis": "y",
         "type": "bar"
        },
        {
         "alignmentgroup": "True",
         "customdata": [
          [
           "sources"
          ],
          [
           "sources"
          ],
          [
           "sources"
          ]
         ],
         "hovertemplate": "type=book series<br>oaid_count=%{x}<br>frequency=%{y}<br>composition=%{customdata[0]}<extra></extra>",
         "legendgroup": "book series",
         "marker": {
          "color": "#ab63fa",
          "pattern": {
           "shape": ""
          }
         },
         "name": "book series (54)",
         "offsetgroup": "book series",
         "orientation": "v",
         "showlegend": true,
         "textposition": "auto",
         "x": [
          2,
          3,
          5
         ],
         "xaxis": "x",
         "y": [
          52,
          1,
          1
         ],
         "yaxis": "y",
         "type": "bar"
        },
        {
         "alignmentgroup": "True",
         "customdata": [
          [
           "works"
          ],
          [
           "works"
          ],
          [
           "works"
          ],
          [
           "works"
          ],
          [
           "works"
          ]
         ],
         "hovertemplate": "type=dataset<br>oaid_count=%{x}<br>frequency=%{y}<br>composition=%{customdata[0]}<extra></extra>",
         "legendgroup": "dataset",
         "marker": {
          "color": "#FFA15A",
          "pattern": {
           "shape": ""
          }
         },
         "name": "dataset (86)",
         "offsetgroup": "dataset",
         "orientation": "v",
         "showlegend": true,
         "textposition": "auto",
         "x": [
          2,
          3,
          4,
          14,
          132
         ],
         "xaxis": "x",
         "y": [
          77,
          5,
          2,
          1,
          1
         ],
         "yaxis": "y",
         "type": "bar"
        },
        {
         "alignmentgroup": "True",
         "customdata": [
          [
           "works"
          ]
         ],
         "hovertemplate": "type=dissertation<br>oaid_count=%{x}<br>frequency=%{y}<br>composition=%{customdata[0]}<extra></extra>",
         "legendgroup": "dissertation",
         "marker": {
          "color": "#19d3f3",
          "pattern": {
           "shape": ""
          }
         },
         "name": "dissertation (20)",
         "offsetgroup": "dissertation",
         "orientation": "v",
         "showlegend": true,
         "textposition": "auto",
         "x": [
          2
         ],
         "xaxis": "x",
         "y": [
          20
         ],
         "yaxis": "y",
         "type": "bar"
        },
        {
         "alignmentgroup": "True",
         "customdata": [
          [
           "sources"
          ],
          [
           "works"
          ],
          [
           "sources"
          ],
          [
           "sources"
          ],
          [
           "sources"
          ]
         ],
         "hovertemplate": "type=journal<br>oaid_count=%{x}<br>frequency=%{y}<br>composition=%{customdata[0]}<extra></extra>",
         "legendgroup": "journal",
         "marker": {
          "color": "#FF6692",
          "pattern": {
           "shape": ""
          }
         },
         "name": "journal (6366)",
         "offsetgroup": "journal",
         "orientation": "v",
         "showlegend": true,
         "textposition": "auto",
         "x": [
          2,
          2,
          3,
          4,
          5
         ],
         "xaxis": "x",
         "y": [
          6134,
          4,
          192,
          30,
          6
         ],
         "yaxis": "y",
         "type": "bar"
        },
        {
         "alignmentgroup": "True",
         "customdata": [
          [
           "works"
          ],
          [
           "works"
          ],
          [
           "works"
          ],
          [
           "works"
          ],
          [
           "works"
          ],
          [
           "works"
          ],
          [
           "works"
          ],
          [
           "works"
          ],
          [
           "works"
          ],
          [
           "works"
          ],
          [
           "works"
          ],
          [
           "works"
          ],
          [
           "works"
          ],
          [
           "works"
          ],
          [
           "works"
          ],
          [
           "works"
          ],
          [
           "works"
          ],
          [
           "works"
          ],
          [
           "works"
          ],
          [
           "works"
          ],
          [
           "works"
          ],
          [
           "works"
          ],
          [
           "works"
          ],
          [
           "works"
          ],
          [
           "works"
          ],
          [
           "works"
          ],
          [
           "works"
          ],
          [
           "works"
          ],
          [
           "works"
          ],
          [
           "works"
          ],
          [
           "works"
          ],
          [
           "works"
          ],
          [
           "works"
          ],
          [
           "works"
          ],
          [
           "works"
          ],
          [
           "works"
          ],
          [
           "works"
          ],
          [
           "works"
          ],
          [
           "works"
          ],
          [
           "works"
          ],
          [
           "works"
          ],
          [
           "works"
          ],
          [
           "works"
          ],
          [
           "works"
          ],
          [
           "works"
          ],
          [
           "works"
          ],
          [
           "works"
          ],
          [
           "works"
          ],
          [
           "works"
          ],
          [
           "works"
          ],
          [
           "works"
          ],
          [
           "works"
          ],
          [
           "works"
          ],
          [
           "works"
          ],
          [
           "works"
          ],
          [
           "works"
          ],
          [
           "works"
          ],
          [
           "works"
          ],
          [
           "works"
          ],
          [
           "works"
          ],
          [
           "works"
          ],
          [
           "works"
          ],
          [
           "works"
          ],
          [
           "works"
          ],
          [
           "works"
          ],
          [
           "works"
          ],
          [
           "works"
          ],
          [
           "works"
          ],
          [
           "works"
          ],
          [
           "works"
          ],
          [
           "works"
          ],
          [
           "works"
          ],
          [
           "works"
          ],
          [
           "works"
          ]
         ],
         "hovertemplate": "type=journal article<br>oaid_count=%{x}<br>frequency=%{y}<br>composition=%{customdata[0]}<extra></extra>",
         "legendgroup": "journal article",
         "marker": {
          "color": "#B6E880",
          "pattern": {
           "shape": ""
          }
         },
         "name": "journal article (140426)",
         "offsetgroup": "journal article",
         "orientation": "v",
         "showlegend": true,
         "textposition": "auto",
         "x": [
          2,
          3,
          4,
          5,
          6,
          7,
          8,
          9,
          10,
          11,
          12,
          13,
          14,
          15,
          16,
          17,
          18,
          19,
          20,
          21,
          22,
          23,
          24,
          25,
          26,
          28,
          29,
          30,
          31,
          32,
          33,
          34,
          35,
          40,
          41,
          42,
          43,
          44,
          45,
          46,
          47,
          48,
          49,
          50,
          52,
          53,
          57,
          59,
          60,
          65,
          67,
          69,
          73,
          74,
          76,
          77,
          78,
          80,
          83,
          94,
          96,
          97,
          98,
          100,
          106,
          111,
          112,
          115,
          123,
          130,
          135,
          160,
          197,
          1051
         ],
         "xaxis": "x",
         "y": [
          130280,
          7471,
          1601,
          506,
          201,
          83,
          39,
          13,
          27,
          18,
          12,
          11,
          10,
          10,
          4,
          13,
          14,
          5,
          3,
          4,
          5,
          8,
          5,
          4,
          4,
          5,
          1,
          1,
          6,
          2,
          2,
          2,
          2,
          2,
          1,
          2,
          4,
          1,
          1,
          2,
          1,
          1,
          1,
          1,
          1,
          1,
          1,
          2,
          2,
          1,
          1,
          1,
          1,
          1,
          1,
          1,
          1,
          1,
          2,
          2,
          1,
          1,
          1,
          1,
          2,
          2,
          2,
          1,
          1,
          1,
          1,
          1,
          1,
          1
         ],
         "yaxis": "y",
         "type": "bar"
        },
        {
         "alignmentgroup": "True",
         "customdata": [
          [
           "works"
          ],
          [
           "works"
          ],
          [
           "works"
          ],
          [
           "works"
          ],
          [
           "works"
          ]
         ],
         "hovertemplate": "type=proceedings<br>oaid_count=%{x}<br>frequency=%{y}<br>composition=%{customdata[0]}<extra></extra>",
         "legendgroup": "proceedings",
         "marker": {
          "color": "#FF97FF",
          "pattern": {
           "shape": ""
          }
         },
         "name": "proceedings (783)",
         "offsetgroup": "proceedings",
         "orientation": "v",
         "showlegend": true,
         "textposition": "auto",
         "x": [
          2,
          3,
          4,
          5,
          7
         ],
         "xaxis": "x",
         "y": [
          554,
          193,
          29,
          6,
          1
         ],
         "yaxis": "y",
         "type": "bar"
        },
        {
         "alignmentgroup": "True",
         "customdata": [
          [
           "works"
          ],
          [
           "works"
          ],
          [
           "works"
          ],
          [
           "works"
          ]
         ],
         "hovertemplate": "type=proceedings article<br>oaid_count=%{x}<br>frequency=%{y}<br>composition=%{customdata[0]}<extra></extra>",
         "legendgroup": "proceedings article",
         "marker": {
          "color": "#FECB52",
          "pattern": {
           "shape": ""
          }
         },
         "name": "proceedings article (1424)",
         "offsetgroup": "proceedings article",
         "orientation": "v",
         "showlegend": true,
         "textposition": "auto",
         "x": [
          2,
          3,
          4,
          5
         ],
         "xaxis": "x",
         "y": [
          1374,
          44,
          5,
          1
         ],
         "yaxis": "y",
         "type": "bar"
        },
        {
         "alignmentgroup": "True",
         "customdata": [
          [
           "works"
          ],
          [
           "works"
          ]
         ],
         "hovertemplate": "type=reference book<br>oaid_count=%{x}<br>frequency=%{y}<br>composition=%{customdata[0]}<extra></extra>",
         "legendgroup": "reference book",
         "marker": {
          "color": "#636efa",
          "pattern": {
           "shape": ""
          }
         },
         "name": "reference book (80)",
         "offsetgroup": "reference book",
         "orientation": "v",
         "showlegend": true,
         "textposition": "auto",
         "x": [
          2,
          3
         ],
         "xaxis": "x",
         "y": [
          77,
          3
         ],
         "yaxis": "y",
         "type": "bar"
        },
        {
         "alignmentgroup": "True",
         "customdata": [
          [
           "works"
          ],
          [
           "works"
          ]
         ],
         "hovertemplate": "type=reference entry<br>oaid_count=%{x}<br>frequency=%{y}<br>composition=%{customdata[0]}<extra></extra>",
         "legendgroup": "reference entry",
         "marker": {
          "color": "#EF553B",
          "pattern": {
           "shape": ""
          }
         },
         "name": "reference entry (200)",
         "offsetgroup": "reference entry",
         "orientation": "v",
         "showlegend": true,
         "textposition": "auto",
         "x": [
          2,
          3
         ],
         "xaxis": "x",
         "y": [
          197,
          3
         ],
         "yaxis": "y",
         "type": "bar"
        },
        {
         "alignmentgroup": "True",
         "customdata": [
          [
           "works"
          ],
          [
           "works"
          ],
          [
           "works"
          ],
          [
           "works"
          ],
          [
           "works"
          ],
          [
           "works"
          ],
          [
           "works"
          ],
          [
           "works"
          ],
          [
           "works"
          ],
          [
           "works"
          ]
         ],
         "hovertemplate": "type=report<br>oaid_count=%{x}<br>frequency=%{y}<br>composition=%{customdata[0]}<extra></extra>",
         "legendgroup": "report",
         "marker": {
          "color": "#00cc96",
          "pattern": {
           "shape": ""
          }
         },
         "name": "report (336)",
         "offsetgroup": "report",
         "orientation": "v",
         "showlegend": true,
         "textposition": "auto",
         "x": [
          2,
          3,
          4,
          5,
          6,
          7,
          8,
          9,
          10,
          17
         ],
         "xaxis": "x",
         "y": [
          264,
          47,
          11,
          5,
          1,
          2,
          1,
          2,
          1,
          2
         ],
         "yaxis": "y",
         "type": "bar"
        },
        {
         "alignmentgroup": "True",
         "customdata": [
          [
           "sources"
          ],
          [
           "works"
          ],
          [
           "works"
          ],
          [
           "works"
          ]
         ],
         "hovertemplate": "type=series<br>oaid_count=%{x}<br>frequency=%{y}<br>composition=%{customdata[0]}<extra></extra>",
         "legendgroup": "series",
         "marker": {
          "color": "#ab63fa",
          "pattern": {
           "shape": ""
          }
         },
         "name": "series (9)",
         "offsetgroup": "series",
         "orientation": "v",
         "showlegend": true,
         "textposition": "auto",
         "x": [
          2,
          2,
          3,
          4
         ],
         "xaxis": "x",
         "y": [
          2,
          5,
          1,
          1
         ],
         "yaxis": "y",
         "type": "bar"
        },
        {
         "alignmentgroup": "True",
         "customdata": [
          [
           "works"
          ],
          [
           "works"
          ]
         ],
         "hovertemplate": "type=standard<br>oaid_count=%{x}<br>frequency=%{y}<br>composition=%{customdata[0]}<extra></extra>",
         "legendgroup": "standard",
         "marker": {
          "color": "#FFA15A",
          "pattern": {
           "shape": ""
          }
         },
         "name": "standard (7)",
         "offsetgroup": "standard",
         "orientation": "v",
         "showlegend": true,
         "textposition": "auto",
         "x": [
          2,
          4
         ],
         "xaxis": "x",
         "y": [
          6,
          1
         ],
         "yaxis": "y",
         "type": "bar"
        },
        {
         "alignmentgroup": "True",
         "customdata": [
          [
           "works"
          ],
          [
           "works"
          ],
          [
           "works"
          ],
          [
           "works"
          ],
          [
           "works"
          ],
          [
           "works"
          ],
          [
           "works"
          ],
          [
           "works"
          ],
          [
           "works"
          ],
          [
           "works"
          ],
          [
           "works"
          ],
          [
           "works"
          ],
          [
           "works"
          ],
          [
           "works"
          ],
          [
           "works"
          ],
          [
           "works"
          ],
          [
           "works"
          ],
          [
           "works"
          ],
          [
           "works"
          ],
          [
           "works"
          ],
          [
           "works"
          ],
          [
           "works"
          ],
          [
           "works"
          ],
          [
           "works"
          ],
          [
           "works"
          ],
          [
           "works"
          ],
          [
           "works"
          ]
         ],
         "hovertemplate": "type=unspecified<br>oaid_count=%{x}<br>frequency=%{y}<br>composition=%{customdata[0]}<extra></extra>",
         "legendgroup": "unspecified",
         "marker": {
          "color": "#19d3f3",
          "pattern": {
           "shape": ""
          }
         },
         "name": "unspecified (5094)",
         "offsetgroup": "unspecified",
         "orientation": "v",
         "showlegend": true,
         "textposition": "auto",
         "x": [
          2,
          3,
          4,
          5,
          6,
          7,
          8,
          9,
          10,
          11,
          12,
          13,
          14,
          15,
          16,
          17,
          18,
          19,
          24,
          32,
          36,
          38,
          45,
          52,
          75,
          80,
          154
         ],
         "xaxis": "x",
         "y": [
          3444,
          1023,
          370,
          137,
          59,
          16,
          9,
          8,
          3,
          1,
          1,
          3,
          1,
          1,
          1,
          3,
          2,
          1,
          2,
          1,
          1,
          1,
          1,
          2,
          1,
          1,
          1
         ],
         "yaxis": "y",
         "type": "bar"
        },
        {
         "alignmentgroup": "True",
         "customdata": [
          [
           "works"
          ],
          [
           "works"
          ],
          [
           "works"
          ],
          [
           "works"
          ],
          [
           "works"
          ],
          [
           "works"
          ]
         ],
         "hovertemplate": "type=web content<br>oaid_count=%{x}<br>frequency=%{y}<br>composition=%{customdata[0]}<extra></extra>",
         "legendgroup": "web content",
         "marker": {
          "color": "#FF6692",
          "pattern": {
           "shape": ""
          }
         },
         "name": "web content (599)",
         "offsetgroup": "web content",
         "orientation": "v",
         "showlegend": true,
         "textposition": "auto",
         "x": [
          2,
          3,
          4,
          5,
          6,
          7
         ],
         "xaxis": "x",
         "y": [
          523,
          55,
          16,
          3,
          1,
          1
         ],
         "yaxis": "y",
         "type": "bar"
        }
       ],
       "layout": {
        "template": {
         "data": {
          "histogram2dcontour": [
           {
            "type": "histogram2dcontour",
            "colorbar": {
             "outlinewidth": 0,
             "ticks": ""
            },
            "colorscale": [
             [
              0.0,
              "#0d0887"
             ],
             [
              0.1111111111111111,
              "#46039f"
             ],
             [
              0.2222222222222222,
              "#7201a8"
             ],
             [
              0.3333333333333333,
              "#9c179e"
             ],
             [
              0.4444444444444444,
              "#bd3786"
             ],
             [
              0.5555555555555556,
              "#d8576b"
             ],
             [
              0.6666666666666666,
              "#ed7953"
             ],
             [
              0.7777777777777778,
              "#fb9f3a"
             ],
             [
              0.8888888888888888,
              "#fdca26"
             ],
             [
              1.0,
              "#f0f921"
             ]
            ]
           }
          ],
          "choropleth": [
           {
            "type": "choropleth",
            "colorbar": {
             "outlinewidth": 0,
             "ticks": ""
            }
           }
          ],
          "histogram2d": [
           {
            "type": "histogram2d",
            "colorbar": {
             "outlinewidth": 0,
             "ticks": ""
            },
            "colorscale": [
             [
              0.0,
              "#0d0887"
             ],
             [
              0.1111111111111111,
              "#46039f"
             ],
             [
              0.2222222222222222,
              "#7201a8"
             ],
             [
              0.3333333333333333,
              "#9c179e"
             ],
             [
              0.4444444444444444,
              "#bd3786"
             ],
             [
              0.5555555555555556,
              "#d8576b"
             ],
             [
              0.6666666666666666,
              "#ed7953"
             ],
             [
              0.7777777777777778,
              "#fb9f3a"
             ],
             [
              0.8888888888888888,
              "#fdca26"
             ],
             [
              1.0,
              "#f0f921"
             ]
            ]
           }
          ],
          "heatmap": [
           {
            "type": "heatmap",
            "colorbar": {
             "outlinewidth": 0,
             "ticks": ""
            },
            "colorscale": [
             [
              0.0,
              "#0d0887"
             ],
             [
              0.1111111111111111,
              "#46039f"
             ],
             [
              0.2222222222222222,
              "#7201a8"
             ],
             [
              0.3333333333333333,
              "#9c179e"
             ],
             [
              0.4444444444444444,
              "#bd3786"
             ],
             [
              0.5555555555555556,
              "#d8576b"
             ],
             [
              0.6666666666666666,
              "#ed7953"
             ],
             [
              0.7777777777777778,
              "#fb9f3a"
             ],
             [
              0.8888888888888888,
              "#fdca26"
             ],
             [
              1.0,
              "#f0f921"
             ]
            ]
           }
          ],
          "heatmapgl": [
           {
            "type": "heatmapgl",
            "colorbar": {
             "outlinewidth": 0,
             "ticks": ""
            },
            "colorscale": [
             [
              0.0,
              "#0d0887"
             ],
             [
              0.1111111111111111,
              "#46039f"
             ],
             [
              0.2222222222222222,
              "#7201a8"
             ],
             [
              0.3333333333333333,
              "#9c179e"
             ],
             [
              0.4444444444444444,
              "#bd3786"
             ],
             [
              0.5555555555555556,
              "#d8576b"
             ],
             [
              0.6666666666666666,
              "#ed7953"
             ],
             [
              0.7777777777777778,
              "#fb9f3a"
             ],
             [
              0.8888888888888888,
              "#fdca26"
             ],
             [
              1.0,
              "#f0f921"
             ]
            ]
           }
          ],
          "contourcarpet": [
           {
            "type": "contourcarpet",
            "colorbar": {
             "outlinewidth": 0,
             "ticks": ""
            }
           }
          ],
          "contour": [
           {
            "type": "contour",
            "colorbar": {
             "outlinewidth": 0,
             "ticks": ""
            },
            "colorscale": [
             [
              0.0,
              "#0d0887"
             ],
             [
              0.1111111111111111,
              "#46039f"
             ],
             [
              0.2222222222222222,
              "#7201a8"
             ],
             [
              0.3333333333333333,
              "#9c179e"
             ],
             [
              0.4444444444444444,
              "#bd3786"
             ],
             [
              0.5555555555555556,
              "#d8576b"
             ],
             [
              0.6666666666666666,
              "#ed7953"
             ],
             [
              0.7777777777777778,
              "#fb9f3a"
             ],
             [
              0.8888888888888888,
              "#fdca26"
             ],
             [
              1.0,
              "#f0f921"
             ]
            ]
           }
          ],
          "surface": [
           {
            "type": "surface",
            "colorbar": {
             "outlinewidth": 0,
             "ticks": ""
            },
            "colorscale": [
             [
              0.0,
              "#0d0887"
             ],
             [
              0.1111111111111111,
              "#46039f"
             ],
             [
              0.2222222222222222,
              "#7201a8"
             ],
             [
              0.3333333333333333,
              "#9c179e"
             ],
             [
              0.4444444444444444,
              "#bd3786"
             ],
             [
              0.5555555555555556,
              "#d8576b"
             ],
             [
              0.6666666666666666,
              "#ed7953"
             ],
             [
              0.7777777777777778,
              "#fb9f3a"
             ],
             [
              0.8888888888888888,
              "#fdca26"
             ],
             [
              1.0,
              "#f0f921"
             ]
            ]
           }
          ],
          "mesh3d": [
           {
            "type": "mesh3d",
            "colorbar": {
             "outlinewidth": 0,
             "ticks": ""
            }
           }
          ],
          "scatter": [
           {
            "marker": {
             "line": {
              "color": "#283442"
             }
            },
            "type": "scatter"
           }
          ],
          "parcoords": [
           {
            "type": "parcoords",
            "line": {
             "colorbar": {
              "outlinewidth": 0,
              "ticks": ""
             }
            }
           }
          ],
          "scatterpolargl": [
           {
            "type": "scatterpolargl",
            "marker": {
             "colorbar": {
              "outlinewidth": 0,
              "ticks": ""
             }
            }
           }
          ],
          "bar": [
           {
            "error_x": {
             "color": "#f2f5fa"
            },
            "error_y": {
             "color": "#f2f5fa"
            },
            "marker": {
             "line": {
              "color": "rgb(17,17,17)",
              "width": 0.5
             },
             "pattern": {
              "fillmode": "overlay",
              "size": 10,
              "solidity": 0.2
             }
            },
            "type": "bar"
           }
          ],
          "scattergeo": [
           {
            "type": "scattergeo",
            "marker": {
             "colorbar": {
              "outlinewidth": 0,
              "ticks": ""
             }
            }
           }
          ],
          "scatterpolar": [
           {
            "type": "scatterpolar",
            "marker": {
             "colorbar": {
              "outlinewidth": 0,
              "ticks": ""
             }
            }
           }
          ],
          "histogram": [
           {
            "marker": {
             "pattern": {
              "fillmode": "overlay",
              "size": 10,
              "solidity": 0.2
             }
            },
            "type": "histogram"
           }
          ],
          "scattergl": [
           {
            "marker": {
             "line": {
              "color": "#283442"
             }
            },
            "type": "scattergl"
           }
          ],
          "scatter3d": [
           {
            "type": "scatter3d",
            "line": {
             "colorbar": {
              "outlinewidth": 0,
              "ticks": ""
             }
            },
            "marker": {
             "colorbar": {
              "outlinewidth": 0,
              "ticks": ""
             }
            }
           }
          ],
          "scattermapbox": [
           {
            "type": "scattermapbox",
            "marker": {
             "colorbar": {
              "outlinewidth": 0,
              "ticks": ""
             }
            }
           }
          ],
          "scatterternary": [
           {
            "type": "scatterternary",
            "marker": {
             "colorbar": {
              "outlinewidth": 0,
              "ticks": ""
             }
            }
           }
          ],
          "scattercarpet": [
           {
            "type": "scattercarpet",
            "marker": {
             "colorbar": {
              "outlinewidth": 0,
              "ticks": ""
             }
            }
           }
          ],
          "carpet": [
           {
            "aaxis": {
             "endlinecolor": "#A2B1C6",
             "gridcolor": "#506784",
             "linecolor": "#506784",
             "minorgridcolor": "#506784",
             "startlinecolor": "#A2B1C6"
            },
            "baxis": {
             "endlinecolor": "#A2B1C6",
             "gridcolor": "#506784",
             "linecolor": "#506784",
             "minorgridcolor": "#506784",
             "startlinecolor": "#A2B1C6"
            },
            "type": "carpet"
           }
          ],
          "table": [
           {
            "cells": {
             "fill": {
              "color": "#506784"
             },
             "line": {
              "color": "rgb(17,17,17)"
             }
            },
            "header": {
             "fill": {
              "color": "#2a3f5f"
             },
             "line": {
              "color": "rgb(17,17,17)"
             }
            },
            "type": "table"
           }
          ],
          "barpolar": [
           {
            "marker": {
             "line": {
              "color": "rgb(17,17,17)",
              "width": 0.5
             },
             "pattern": {
              "fillmode": "overlay",
              "size": 10,
              "solidity": 0.2
             }
            },
            "type": "barpolar"
           }
          ],
          "pie": [
           {
            "automargin": true,
            "type": "pie"
           }
          ]
         },
         "layout": {
          "autotypenumbers": "strict",
          "colorway": [
           "#636efa",
           "#EF553B",
           "#00cc96",
           "#ab63fa",
           "#FFA15A",
           "#19d3f3",
           "#FF6692",
           "#B6E880",
           "#FF97FF",
           "#FECB52"
          ],
          "font": {
           "color": "#f2f5fa"
          },
          "hovermode": "closest",
          "hoverlabel": {
           "align": "left"
          },
          "paper_bgcolor": "rgb(17,17,17)",
          "plot_bgcolor": "rgb(17,17,17)",
          "polar": {
           "bgcolor": "rgb(17,17,17)",
           "angularaxis": {
            "gridcolor": "#506784",
            "linecolor": "#506784",
            "ticks": ""
           },
           "radialaxis": {
            "gridcolor": "#506784",
            "linecolor": "#506784",
            "ticks": ""
           }
          },
          "ternary": {
           "bgcolor": "rgb(17,17,17)",
           "aaxis": {
            "gridcolor": "#506784",
            "linecolor": "#506784",
            "ticks": ""
           },
           "baxis": {
            "gridcolor": "#506784",
            "linecolor": "#506784",
            "ticks": ""
           },
           "caxis": {
            "gridcolor": "#506784",
            "linecolor": "#506784",
            "ticks": ""
           }
          },
          "coloraxis": {
           "colorbar": {
            "outlinewidth": 0,
            "ticks": ""
           }
          },
          "colorscale": {
           "sequential": [
            [
             0.0,
             "#0d0887"
            ],
            [
             0.1111111111111111,
             "#46039f"
            ],
            [
             0.2222222222222222,
             "#7201a8"
            ],
            [
             0.3333333333333333,
             "#9c179e"
            ],
            [
             0.4444444444444444,
             "#bd3786"
            ],
            [
             0.5555555555555556,
             "#d8576b"
            ],
            [
             0.6666666666666666,
             "#ed7953"
            ],
            [
             0.7777777777777778,
             "#fb9f3a"
            ],
            [
             0.8888888888888888,
             "#fdca26"
            ],
            [
             1.0,
             "#f0f921"
            ]
           ],
           "sequentialminus": [
            [
             0.0,
             "#0d0887"
            ],
            [
             0.1111111111111111,
             "#46039f"
            ],
            [
             0.2222222222222222,
             "#7201a8"
            ],
            [
             0.3333333333333333,
             "#9c179e"
            ],
            [
             0.4444444444444444,
             "#bd3786"
            ],
            [
             0.5555555555555556,
             "#d8576b"
            ],
            [
             0.6666666666666666,
             "#ed7953"
            ],
            [
             0.7777777777777778,
             "#fb9f3a"
            ],
            [
             0.8888888888888888,
             "#fdca26"
            ],
            [
             1.0,
             "#f0f921"
            ]
           ],
           "diverging": [
            [
             0,
             "#8e0152"
            ],
            [
             0.1,
             "#c51b7d"
            ],
            [
             0.2,
             "#de77ae"
            ],
            [
             0.3,
             "#f1b6da"
            ],
            [
             0.4,
             "#fde0ef"
            ],
            [
             0.5,
             "#f7f7f7"
            ],
            [
             0.6,
             "#e6f5d0"
            ],
            [
             0.7,
             "#b8e186"
            ],
            [
             0.8,
             "#7fbc41"
            ],
            [
             0.9,
             "#4d9221"
            ],
            [
             1,
             "#276419"
            ]
           ]
          },
          "xaxis": {
           "gridcolor": "#283442",
           "linecolor": "#506784",
           "ticks": "",
           "title": {
            "standoff": 15
           },
           "zerolinecolor": "#283442",
           "automargin": true,
           "zerolinewidth": 2
          },
          "yaxis": {
           "gridcolor": "#283442",
           "linecolor": "#506784",
           "ticks": "",
           "title": {
            "standoff": 15
           },
           "zerolinecolor": "#283442",
           "automargin": true,
           "zerolinewidth": 2
          },
          "scene": {
           "xaxis": {
            "backgroundcolor": "rgb(17,17,17)",
            "gridcolor": "#506784",
            "linecolor": "#506784",
            "showbackground": true,
            "ticks": "",
            "zerolinecolor": "#C8D4E3",
            "gridwidth": 2
           },
           "yaxis": {
            "backgroundcolor": "rgb(17,17,17)",
            "gridcolor": "#506784",
            "linecolor": "#506784",
            "showbackground": true,
            "ticks": "",
            "zerolinecolor": "#C8D4E3",
            "gridwidth": 2
           },
           "zaxis": {
            "backgroundcolor": "rgb(17,17,17)",
            "gridcolor": "#506784",
            "linecolor": "#506784",
            "showbackground": true,
            "ticks": "",
            "zerolinecolor": "#C8D4E3",
            "gridwidth": 2
           }
          },
          "shapedefaults": {
           "line": {
            "color": "#f2f5fa"
           }
          },
          "annotationdefaults": {
           "arrowcolor": "#f2f5fa",
           "arrowhead": 0,
           "arrowwidth": 1
          },
          "geo": {
           "bgcolor": "rgb(17,17,17)",
           "landcolor": "rgb(17,17,17)",
           "subunitcolor": "#506784",
           "showland": true,
           "showlakes": true,
           "lakecolor": "rgb(17,17,17)"
          },
          "title": {
           "x": 0.05
          },
          "updatemenudefaults": {
           "bgcolor": "#506784",
           "borderwidth": 0
          },
          "sliderdefaults": {
           "bgcolor": "#C8D4E3",
           "borderwidth": 1,
           "bordercolor": "rgb(17,17,17)",
           "tickwidth": 0
          },
          "mapbox": {
           "style": "dark"
          }
         }
        },
        "xaxis": {
         "anchor": "y",
         "domain": [
          0.0,
          1.0
         ],
         "title": {
          "text": "Number of OpenAlex IDs for a single OMID"
         }
        },
        "yaxis": {
         "anchor": "x",
         "domain": [
          0.0,
          1.0
         ],
         "title": {
          "text": "Frequency (log)"
         },
         "type": "log"
        },
        "legend": {
         "title": {
          "text": "type"
         },
         "tracegroupgap": 0
        },
        "margin": {
         "t": 60
        },
        "barmode": "relative",
        "title": {
         "text": "Distribution of OpenAlex ID per OMID over number of multi-mapped OMIDs (grouped by type)"
        }
       },
       "config": {
        "plotlyServerURL": "https://plotly.com"
       }
      },
      "text/html": "<div>                            <div id=\"be576934-b0e6-4964-a4e8-76b57d32a7bc\" class=\"plotly-graph-div\" style=\"height:525px; width:100%;\"></div>            <script type=\"text/javascript\">                require([\"plotly\"], function(Plotly) {                    window.PLOTLYENV=window.PLOTLYENV || {};                                    if (document.getElementById(\"be576934-b0e6-4964-a4e8-76b57d32a7bc\")) {                    Plotly.newPlot(                        \"be576934-b0e6-4964-a4e8-76b57d32a7bc\",                        [{\"alignmentgroup\":\"True\",\"customdata\":[[\"works\"],[\"works\"],[\"works\"],[\"works\"],[\"works\"],[\"works\"],[\"works\"],[\"works\"],[\"works\"],[\"works\"],[\"works\"],[\"works\"],[\"works\"],[\"works\"],[\"works\"]],\"hovertemplate\":\"type=book\\u003cbr\\u003eoaid_count=%{x}\\u003cbr\\u003efrequency=%{y}\\u003cbr\\u003ecomposition=%{customdata[0]}\\u003cextra\\u003e\\u003c\\u002fextra\\u003e\",\"legendgroup\":\"book\",\"marker\":{\"color\":\"#636efa\",\"pattern\":{\"shape\":\"\"}},\"name\":\"book (9115)\",\"offsetgroup\":\"book\",\"orientation\":\"v\",\"showlegend\":true,\"textposition\":\"auto\",\"x\":[2,3,4,5,6,7,8,9,10,11,13,14,16,20,35],\"xaxis\":\"x\",\"y\":[7706,1277,79,22,8,8,2,2,4,2,1,1,1,1,1],\"yaxis\":\"y\",\"type\":\"bar\"},{\"alignmentgroup\":\"True\",\"customdata\":[[\"works\"],[\"works\"],[\"works\"],[\"works\"],[\"works\"],[\"works\"],[\"works\"],[\"works\"],[\"works\"],[\"works\"],[\"works\"]],\"hovertemplate\":\"type=book chapter\\u003cbr\\u003eoaid_count=%{x}\\u003cbr\\u003efrequency=%{y}\\u003cbr\\u003ecomposition=%{customdata[0]}\\u003cextra\\u003e\\u003c\\u002fextra\\u003e\",\"legendgroup\":\"book chapter\",\"marker\":{\"color\":\"#EF553B\",\"pattern\":{\"shape\":\"\"}},\"name\":\"book chapter (3366)\",\"offsetgroup\":\"book chapter\",\"orientation\":\"v\",\"showlegend\":true,\"textposition\":\"auto\",\"x\":[2,3,4,5,6,7,8,9,10,12,24],\"xaxis\":\"x\",\"y\":[2630,480,172,41,24,8,3,3,2,2,1],\"yaxis\":\"y\",\"type\":\"bar\"},{\"alignmentgroup\":\"True\",\"customdata\":[[\"works\"]],\"hovertemplate\":\"type=book section\\u003cbr\\u003eoaid_count=%{x}\\u003cbr\\u003efrequency=%{y}\\u003cbr\\u003ecomposition=%{customdata[0]}\\u003cextra\\u003e\\u003c\\u002fextra\\u003e\",\"legendgroup\":\"book section\",\"marker\":{\"color\":\"#00cc96\",\"pattern\":{\"shape\":\"\"}},\"name\":\"book section (1)\",\"offsetgroup\":\"book section\",\"orientation\":\"v\",\"showlegend\":true,\"textposition\":\"auto\",\"x\":[2],\"xaxis\":\"x\",\"y\":[1],\"yaxis\":\"y\",\"type\":\"bar\"},{\"alignmentgroup\":\"True\",\"customdata\":[[\"sources\"],[\"sources\"],[\"sources\"]],\"hovertemplate\":\"type=book series\\u003cbr\\u003eoaid_count=%{x}\\u003cbr\\u003efrequency=%{y}\\u003cbr\\u003ecomposition=%{customdata[0]}\\u003cextra\\u003e\\u003c\\u002fextra\\u003e\",\"legendgroup\":\"book series\",\"marker\":{\"color\":\"#ab63fa\",\"pattern\":{\"shape\":\"\"}},\"name\":\"book series (54)\",\"offsetgroup\":\"book series\",\"orientation\":\"v\",\"showlegend\":true,\"textposition\":\"auto\",\"x\":[2,3,5],\"xaxis\":\"x\",\"y\":[52,1,1],\"yaxis\":\"y\",\"type\":\"bar\"},{\"alignmentgroup\":\"True\",\"customdata\":[[\"works\"],[\"works\"],[\"works\"],[\"works\"],[\"works\"]],\"hovertemplate\":\"type=dataset\\u003cbr\\u003eoaid_count=%{x}\\u003cbr\\u003efrequency=%{y}\\u003cbr\\u003ecomposition=%{customdata[0]}\\u003cextra\\u003e\\u003c\\u002fextra\\u003e\",\"legendgroup\":\"dataset\",\"marker\":{\"color\":\"#FFA15A\",\"pattern\":{\"shape\":\"\"}},\"name\":\"dataset (86)\",\"offsetgroup\":\"dataset\",\"orientation\":\"v\",\"showlegend\":true,\"textposition\":\"auto\",\"x\":[2,3,4,14,132],\"xaxis\":\"x\",\"y\":[77,5,2,1,1],\"yaxis\":\"y\",\"type\":\"bar\"},{\"alignmentgroup\":\"True\",\"customdata\":[[\"works\"]],\"hovertemplate\":\"type=dissertation\\u003cbr\\u003eoaid_count=%{x}\\u003cbr\\u003efrequency=%{y}\\u003cbr\\u003ecomposition=%{customdata[0]}\\u003cextra\\u003e\\u003c\\u002fextra\\u003e\",\"legendgroup\":\"dissertation\",\"marker\":{\"color\":\"#19d3f3\",\"pattern\":{\"shape\":\"\"}},\"name\":\"dissertation (20)\",\"offsetgroup\":\"dissertation\",\"orientation\":\"v\",\"showlegend\":true,\"textposition\":\"auto\",\"x\":[2],\"xaxis\":\"x\",\"y\":[20],\"yaxis\":\"y\",\"type\":\"bar\"},{\"alignmentgroup\":\"True\",\"customdata\":[[\"sources\"],[\"works\"],[\"sources\"],[\"sources\"],[\"sources\"]],\"hovertemplate\":\"type=journal\\u003cbr\\u003eoaid_count=%{x}\\u003cbr\\u003efrequency=%{y}\\u003cbr\\u003ecomposition=%{customdata[0]}\\u003cextra\\u003e\\u003c\\u002fextra\\u003e\",\"legendgroup\":\"journal\",\"marker\":{\"color\":\"#FF6692\",\"pattern\":{\"shape\":\"\"}},\"name\":\"journal (6366)\",\"offsetgroup\":\"journal\",\"orientation\":\"v\",\"showlegend\":true,\"textposition\":\"auto\",\"x\":[2,2,3,4,5],\"xaxis\":\"x\",\"y\":[6134,4,192,30,6],\"yaxis\":\"y\",\"type\":\"bar\"},{\"alignmentgroup\":\"True\",\"customdata\":[[\"works\"],[\"works\"],[\"works\"],[\"works\"],[\"works\"],[\"works\"],[\"works\"],[\"works\"],[\"works\"],[\"works\"],[\"works\"],[\"works\"],[\"works\"],[\"works\"],[\"works\"],[\"works\"],[\"works\"],[\"works\"],[\"works\"],[\"works\"],[\"works\"],[\"works\"],[\"works\"],[\"works\"],[\"works\"],[\"works\"],[\"works\"],[\"works\"],[\"works\"],[\"works\"],[\"works\"],[\"works\"],[\"works\"],[\"works\"],[\"works\"],[\"works\"],[\"works\"],[\"works\"],[\"works\"],[\"works\"],[\"works\"],[\"works\"],[\"works\"],[\"works\"],[\"works\"],[\"works\"],[\"works\"],[\"works\"],[\"works\"],[\"works\"],[\"works\"],[\"works\"],[\"works\"],[\"works\"],[\"works\"],[\"works\"],[\"works\"],[\"works\"],[\"works\"],[\"works\"],[\"works\"],[\"works\"],[\"works\"],[\"works\"],[\"works\"],[\"works\"],[\"works\"],[\"works\"],[\"works\"],[\"works\"],[\"works\"],[\"works\"],[\"works\"],[\"works\"]],\"hovertemplate\":\"type=journal article\\u003cbr\\u003eoaid_count=%{x}\\u003cbr\\u003efrequency=%{y}\\u003cbr\\u003ecomposition=%{customdata[0]}\\u003cextra\\u003e\\u003c\\u002fextra\\u003e\",\"legendgroup\":\"journal article\",\"marker\":{\"color\":\"#B6E880\",\"pattern\":{\"shape\":\"\"}},\"name\":\"journal article (140426)\",\"offsetgroup\":\"journal article\",\"orientation\":\"v\",\"showlegend\":true,\"textposition\":\"auto\",\"x\":[2,3,4,5,6,7,8,9,10,11,12,13,14,15,16,17,18,19,20,21,22,23,24,25,26,28,29,30,31,32,33,34,35,40,41,42,43,44,45,46,47,48,49,50,52,53,57,59,60,65,67,69,73,74,76,77,78,80,83,94,96,97,98,100,106,111,112,115,123,130,135,160,197,1051],\"xaxis\":\"x\",\"y\":[130280,7471,1601,506,201,83,39,13,27,18,12,11,10,10,4,13,14,5,3,4,5,8,5,4,4,5,1,1,6,2,2,2,2,2,1,2,4,1,1,2,1,1,1,1,1,1,1,2,2,1,1,1,1,1,1,1,1,1,2,2,1,1,1,1,2,2,2,1,1,1,1,1,1,1],\"yaxis\":\"y\",\"type\":\"bar\"},{\"alignmentgroup\":\"True\",\"customdata\":[[\"works\"],[\"works\"],[\"works\"],[\"works\"],[\"works\"]],\"hovertemplate\":\"type=proceedings\\u003cbr\\u003eoaid_count=%{x}\\u003cbr\\u003efrequency=%{y}\\u003cbr\\u003ecomposition=%{customdata[0]}\\u003cextra\\u003e\\u003c\\u002fextra\\u003e\",\"legendgroup\":\"proceedings\",\"marker\":{\"color\":\"#FF97FF\",\"pattern\":{\"shape\":\"\"}},\"name\":\"proceedings (783)\",\"offsetgroup\":\"proceedings\",\"orientation\":\"v\",\"showlegend\":true,\"textposition\":\"auto\",\"x\":[2,3,4,5,7],\"xaxis\":\"x\",\"y\":[554,193,29,6,1],\"yaxis\":\"y\",\"type\":\"bar\"},{\"alignmentgroup\":\"True\",\"customdata\":[[\"works\"],[\"works\"],[\"works\"],[\"works\"]],\"hovertemplate\":\"type=proceedings article\\u003cbr\\u003eoaid_count=%{x}\\u003cbr\\u003efrequency=%{y}\\u003cbr\\u003ecomposition=%{customdata[0]}\\u003cextra\\u003e\\u003c\\u002fextra\\u003e\",\"legendgroup\":\"proceedings article\",\"marker\":{\"color\":\"#FECB52\",\"pattern\":{\"shape\":\"\"}},\"name\":\"proceedings article (1424)\",\"offsetgroup\":\"proceedings article\",\"orientation\":\"v\",\"showlegend\":true,\"textposition\":\"auto\",\"x\":[2,3,4,5],\"xaxis\":\"x\",\"y\":[1374,44,5,1],\"yaxis\":\"y\",\"type\":\"bar\"},{\"alignmentgroup\":\"True\",\"customdata\":[[\"works\"],[\"works\"]],\"hovertemplate\":\"type=reference book\\u003cbr\\u003eoaid_count=%{x}\\u003cbr\\u003efrequency=%{y}\\u003cbr\\u003ecomposition=%{customdata[0]}\\u003cextra\\u003e\\u003c\\u002fextra\\u003e\",\"legendgroup\":\"reference book\",\"marker\":{\"color\":\"#636efa\",\"pattern\":{\"shape\":\"\"}},\"name\":\"reference book (80)\",\"offsetgroup\":\"reference book\",\"orientation\":\"v\",\"showlegend\":true,\"textposition\":\"auto\",\"x\":[2,3],\"xaxis\":\"x\",\"y\":[77,3],\"yaxis\":\"y\",\"type\":\"bar\"},{\"alignmentgroup\":\"True\",\"customdata\":[[\"works\"],[\"works\"]],\"hovertemplate\":\"type=reference entry\\u003cbr\\u003eoaid_count=%{x}\\u003cbr\\u003efrequency=%{y}\\u003cbr\\u003ecomposition=%{customdata[0]}\\u003cextra\\u003e\\u003c\\u002fextra\\u003e\",\"legendgroup\":\"reference entry\",\"marker\":{\"color\":\"#EF553B\",\"pattern\":{\"shape\":\"\"}},\"name\":\"reference entry (200)\",\"offsetgroup\":\"reference entry\",\"orientation\":\"v\",\"showlegend\":true,\"textposition\":\"auto\",\"x\":[2,3],\"xaxis\":\"x\",\"y\":[197,3],\"yaxis\":\"y\",\"type\":\"bar\"},{\"alignmentgroup\":\"True\",\"customdata\":[[\"works\"],[\"works\"],[\"works\"],[\"works\"],[\"works\"],[\"works\"],[\"works\"],[\"works\"],[\"works\"],[\"works\"]],\"hovertemplate\":\"type=report\\u003cbr\\u003eoaid_count=%{x}\\u003cbr\\u003efrequency=%{y}\\u003cbr\\u003ecomposition=%{customdata[0]}\\u003cextra\\u003e\\u003c\\u002fextra\\u003e\",\"legendgroup\":\"report\",\"marker\":{\"color\":\"#00cc96\",\"pattern\":{\"shape\":\"\"}},\"name\":\"report (336)\",\"offsetgroup\":\"report\",\"orientation\":\"v\",\"showlegend\":true,\"textposition\":\"auto\",\"x\":[2,3,4,5,6,7,8,9,10,17],\"xaxis\":\"x\",\"y\":[264,47,11,5,1,2,1,2,1,2],\"yaxis\":\"y\",\"type\":\"bar\"},{\"alignmentgroup\":\"True\",\"customdata\":[[\"sources\"],[\"works\"],[\"works\"],[\"works\"]],\"hovertemplate\":\"type=series\\u003cbr\\u003eoaid_count=%{x}\\u003cbr\\u003efrequency=%{y}\\u003cbr\\u003ecomposition=%{customdata[0]}\\u003cextra\\u003e\\u003c\\u002fextra\\u003e\",\"legendgroup\":\"series\",\"marker\":{\"color\":\"#ab63fa\",\"pattern\":{\"shape\":\"\"}},\"name\":\"series (9)\",\"offsetgroup\":\"series\",\"orientation\":\"v\",\"showlegend\":true,\"textposition\":\"auto\",\"x\":[2,2,3,4],\"xaxis\":\"x\",\"y\":[2,5,1,1],\"yaxis\":\"y\",\"type\":\"bar\"},{\"alignmentgroup\":\"True\",\"customdata\":[[\"works\"],[\"works\"]],\"hovertemplate\":\"type=standard\\u003cbr\\u003eoaid_count=%{x}\\u003cbr\\u003efrequency=%{y}\\u003cbr\\u003ecomposition=%{customdata[0]}\\u003cextra\\u003e\\u003c\\u002fextra\\u003e\",\"legendgroup\":\"standard\",\"marker\":{\"color\":\"#FFA15A\",\"pattern\":{\"shape\":\"\"}},\"name\":\"standard (7)\",\"offsetgroup\":\"standard\",\"orientation\":\"v\",\"showlegend\":true,\"textposition\":\"auto\",\"x\":[2,4],\"xaxis\":\"x\",\"y\":[6,1],\"yaxis\":\"y\",\"type\":\"bar\"},{\"alignmentgroup\":\"True\",\"customdata\":[[\"works\"],[\"works\"],[\"works\"],[\"works\"],[\"works\"],[\"works\"],[\"works\"],[\"works\"],[\"works\"],[\"works\"],[\"works\"],[\"works\"],[\"works\"],[\"works\"],[\"works\"],[\"works\"],[\"works\"],[\"works\"],[\"works\"],[\"works\"],[\"works\"],[\"works\"],[\"works\"],[\"works\"],[\"works\"],[\"works\"],[\"works\"]],\"hovertemplate\":\"type=unspecified\\u003cbr\\u003eoaid_count=%{x}\\u003cbr\\u003efrequency=%{y}\\u003cbr\\u003ecomposition=%{customdata[0]}\\u003cextra\\u003e\\u003c\\u002fextra\\u003e\",\"legendgroup\":\"unspecified\",\"marker\":{\"color\":\"#19d3f3\",\"pattern\":{\"shape\":\"\"}},\"name\":\"unspecified (5094)\",\"offsetgroup\":\"unspecified\",\"orientation\":\"v\",\"showlegend\":true,\"textposition\":\"auto\",\"x\":[2,3,4,5,6,7,8,9,10,11,12,13,14,15,16,17,18,19,24,32,36,38,45,52,75,80,154],\"xaxis\":\"x\",\"y\":[3444,1023,370,137,59,16,9,8,3,1,1,3,1,1,1,3,2,1,2,1,1,1,1,2,1,1,1],\"yaxis\":\"y\",\"type\":\"bar\"},{\"alignmentgroup\":\"True\",\"customdata\":[[\"works\"],[\"works\"],[\"works\"],[\"works\"],[\"works\"],[\"works\"]],\"hovertemplate\":\"type=web content\\u003cbr\\u003eoaid_count=%{x}\\u003cbr\\u003efrequency=%{y}\\u003cbr\\u003ecomposition=%{customdata[0]}\\u003cextra\\u003e\\u003c\\u002fextra\\u003e\",\"legendgroup\":\"web content\",\"marker\":{\"color\":\"#FF6692\",\"pattern\":{\"shape\":\"\"}},\"name\":\"web content (599)\",\"offsetgroup\":\"web content\",\"orientation\":\"v\",\"showlegend\":true,\"textposition\":\"auto\",\"x\":[2,3,4,5,6,7],\"xaxis\":\"x\",\"y\":[523,55,16,3,1,1],\"yaxis\":\"y\",\"type\":\"bar\"}],                        {\"template\":{\"data\":{\"histogram2dcontour\":[{\"type\":\"histogram2dcontour\",\"colorbar\":{\"outlinewidth\":0,\"ticks\":\"\"},\"colorscale\":[[0.0,\"#0d0887\"],[0.1111111111111111,\"#46039f\"],[0.2222222222222222,\"#7201a8\"],[0.3333333333333333,\"#9c179e\"],[0.4444444444444444,\"#bd3786\"],[0.5555555555555556,\"#d8576b\"],[0.6666666666666666,\"#ed7953\"],[0.7777777777777778,\"#fb9f3a\"],[0.8888888888888888,\"#fdca26\"],[1.0,\"#f0f921\"]]}],\"choropleth\":[{\"type\":\"choropleth\",\"colorbar\":{\"outlinewidth\":0,\"ticks\":\"\"}}],\"histogram2d\":[{\"type\":\"histogram2d\",\"colorbar\":{\"outlinewidth\":0,\"ticks\":\"\"},\"colorscale\":[[0.0,\"#0d0887\"],[0.1111111111111111,\"#46039f\"],[0.2222222222222222,\"#7201a8\"],[0.3333333333333333,\"#9c179e\"],[0.4444444444444444,\"#bd3786\"],[0.5555555555555556,\"#d8576b\"],[0.6666666666666666,\"#ed7953\"],[0.7777777777777778,\"#fb9f3a\"],[0.8888888888888888,\"#fdca26\"],[1.0,\"#f0f921\"]]}],\"heatmap\":[{\"type\":\"heatmap\",\"colorbar\":{\"outlinewidth\":0,\"ticks\":\"\"},\"colorscale\":[[0.0,\"#0d0887\"],[0.1111111111111111,\"#46039f\"],[0.2222222222222222,\"#7201a8\"],[0.3333333333333333,\"#9c179e\"],[0.4444444444444444,\"#bd3786\"],[0.5555555555555556,\"#d8576b\"],[0.6666666666666666,\"#ed7953\"],[0.7777777777777778,\"#fb9f3a\"],[0.8888888888888888,\"#fdca26\"],[1.0,\"#f0f921\"]]}],\"heatmapgl\":[{\"type\":\"heatmapgl\",\"colorbar\":{\"outlinewidth\":0,\"ticks\":\"\"},\"colorscale\":[[0.0,\"#0d0887\"],[0.1111111111111111,\"#46039f\"],[0.2222222222222222,\"#7201a8\"],[0.3333333333333333,\"#9c179e\"],[0.4444444444444444,\"#bd3786\"],[0.5555555555555556,\"#d8576b\"],[0.6666666666666666,\"#ed7953\"],[0.7777777777777778,\"#fb9f3a\"],[0.8888888888888888,\"#fdca26\"],[1.0,\"#f0f921\"]]}],\"contourcarpet\":[{\"type\":\"contourcarpet\",\"colorbar\":{\"outlinewidth\":0,\"ticks\":\"\"}}],\"contour\":[{\"type\":\"contour\",\"colorbar\":{\"outlinewidth\":0,\"ticks\":\"\"},\"colorscale\":[[0.0,\"#0d0887\"],[0.1111111111111111,\"#46039f\"],[0.2222222222222222,\"#7201a8\"],[0.3333333333333333,\"#9c179e\"],[0.4444444444444444,\"#bd3786\"],[0.5555555555555556,\"#d8576b\"],[0.6666666666666666,\"#ed7953\"],[0.7777777777777778,\"#fb9f3a\"],[0.8888888888888888,\"#fdca26\"],[1.0,\"#f0f921\"]]}],\"surface\":[{\"type\":\"surface\",\"colorbar\":{\"outlinewidth\":0,\"ticks\":\"\"},\"colorscale\":[[0.0,\"#0d0887\"],[0.1111111111111111,\"#46039f\"],[0.2222222222222222,\"#7201a8\"],[0.3333333333333333,\"#9c179e\"],[0.4444444444444444,\"#bd3786\"],[0.5555555555555556,\"#d8576b\"],[0.6666666666666666,\"#ed7953\"],[0.7777777777777778,\"#fb9f3a\"],[0.8888888888888888,\"#fdca26\"],[1.0,\"#f0f921\"]]}],\"mesh3d\":[{\"type\":\"mesh3d\",\"colorbar\":{\"outlinewidth\":0,\"ticks\":\"\"}}],\"scatter\":[{\"marker\":{\"line\":{\"color\":\"#283442\"}},\"type\":\"scatter\"}],\"parcoords\":[{\"type\":\"parcoords\",\"line\":{\"colorbar\":{\"outlinewidth\":0,\"ticks\":\"\"}}}],\"scatterpolargl\":[{\"type\":\"scatterpolargl\",\"marker\":{\"colorbar\":{\"outlinewidth\":0,\"ticks\":\"\"}}}],\"bar\":[{\"error_x\":{\"color\":\"#f2f5fa\"},\"error_y\":{\"color\":\"#f2f5fa\"},\"marker\":{\"line\":{\"color\":\"rgb(17,17,17)\",\"width\":0.5},\"pattern\":{\"fillmode\":\"overlay\",\"size\":10,\"solidity\":0.2}},\"type\":\"bar\"}],\"scattergeo\":[{\"type\":\"scattergeo\",\"marker\":{\"colorbar\":{\"outlinewidth\":0,\"ticks\":\"\"}}}],\"scatterpolar\":[{\"type\":\"scatterpolar\",\"marker\":{\"colorbar\":{\"outlinewidth\":0,\"ticks\":\"\"}}}],\"histogram\":[{\"marker\":{\"pattern\":{\"fillmode\":\"overlay\",\"size\":10,\"solidity\":0.2}},\"type\":\"histogram\"}],\"scattergl\":[{\"marker\":{\"line\":{\"color\":\"#283442\"}},\"type\":\"scattergl\"}],\"scatter3d\":[{\"type\":\"scatter3d\",\"line\":{\"colorbar\":{\"outlinewidth\":0,\"ticks\":\"\"}},\"marker\":{\"colorbar\":{\"outlinewidth\":0,\"ticks\":\"\"}}}],\"scattermapbox\":[{\"type\":\"scattermapbox\",\"marker\":{\"colorbar\":{\"outlinewidth\":0,\"ticks\":\"\"}}}],\"scatterternary\":[{\"type\":\"scatterternary\",\"marker\":{\"colorbar\":{\"outlinewidth\":0,\"ticks\":\"\"}}}],\"scattercarpet\":[{\"type\":\"scattercarpet\",\"marker\":{\"colorbar\":{\"outlinewidth\":0,\"ticks\":\"\"}}}],\"carpet\":[{\"aaxis\":{\"endlinecolor\":\"#A2B1C6\",\"gridcolor\":\"#506784\",\"linecolor\":\"#506784\",\"minorgridcolor\":\"#506784\",\"startlinecolor\":\"#A2B1C6\"},\"baxis\":{\"endlinecolor\":\"#A2B1C6\",\"gridcolor\":\"#506784\",\"linecolor\":\"#506784\",\"minorgridcolor\":\"#506784\",\"startlinecolor\":\"#A2B1C6\"},\"type\":\"carpet\"}],\"table\":[{\"cells\":{\"fill\":{\"color\":\"#506784\"},\"line\":{\"color\":\"rgb(17,17,17)\"}},\"header\":{\"fill\":{\"color\":\"#2a3f5f\"},\"line\":{\"color\":\"rgb(17,17,17)\"}},\"type\":\"table\"}],\"barpolar\":[{\"marker\":{\"line\":{\"color\":\"rgb(17,17,17)\",\"width\":0.5},\"pattern\":{\"fillmode\":\"overlay\",\"size\":10,\"solidity\":0.2}},\"type\":\"barpolar\"}],\"pie\":[{\"automargin\":true,\"type\":\"pie\"}]},\"layout\":{\"autotypenumbers\":\"strict\",\"colorway\":[\"#636efa\",\"#EF553B\",\"#00cc96\",\"#ab63fa\",\"#FFA15A\",\"#19d3f3\",\"#FF6692\",\"#B6E880\",\"#FF97FF\",\"#FECB52\"],\"font\":{\"color\":\"#f2f5fa\"},\"hovermode\":\"closest\",\"hoverlabel\":{\"align\":\"left\"},\"paper_bgcolor\":\"rgb(17,17,17)\",\"plot_bgcolor\":\"rgb(17,17,17)\",\"polar\":{\"bgcolor\":\"rgb(17,17,17)\",\"angularaxis\":{\"gridcolor\":\"#506784\",\"linecolor\":\"#506784\",\"ticks\":\"\"},\"radialaxis\":{\"gridcolor\":\"#506784\",\"linecolor\":\"#506784\",\"ticks\":\"\"}},\"ternary\":{\"bgcolor\":\"rgb(17,17,17)\",\"aaxis\":{\"gridcolor\":\"#506784\",\"linecolor\":\"#506784\",\"ticks\":\"\"},\"baxis\":{\"gridcolor\":\"#506784\",\"linecolor\":\"#506784\",\"ticks\":\"\"},\"caxis\":{\"gridcolor\":\"#506784\",\"linecolor\":\"#506784\",\"ticks\":\"\"}},\"coloraxis\":{\"colorbar\":{\"outlinewidth\":0,\"ticks\":\"\"}},\"colorscale\":{\"sequential\":[[0.0,\"#0d0887\"],[0.1111111111111111,\"#46039f\"],[0.2222222222222222,\"#7201a8\"],[0.3333333333333333,\"#9c179e\"],[0.4444444444444444,\"#bd3786\"],[0.5555555555555556,\"#d8576b\"],[0.6666666666666666,\"#ed7953\"],[0.7777777777777778,\"#fb9f3a\"],[0.8888888888888888,\"#fdca26\"],[1.0,\"#f0f921\"]],\"sequentialminus\":[[0.0,\"#0d0887\"],[0.1111111111111111,\"#46039f\"],[0.2222222222222222,\"#7201a8\"],[0.3333333333333333,\"#9c179e\"],[0.4444444444444444,\"#bd3786\"],[0.5555555555555556,\"#d8576b\"],[0.6666666666666666,\"#ed7953\"],[0.7777777777777778,\"#fb9f3a\"],[0.8888888888888888,\"#fdca26\"],[1.0,\"#f0f921\"]],\"diverging\":[[0,\"#8e0152\"],[0.1,\"#c51b7d\"],[0.2,\"#de77ae\"],[0.3,\"#f1b6da\"],[0.4,\"#fde0ef\"],[0.5,\"#f7f7f7\"],[0.6,\"#e6f5d0\"],[0.7,\"#b8e186\"],[0.8,\"#7fbc41\"],[0.9,\"#4d9221\"],[1,\"#276419\"]]},\"xaxis\":{\"gridcolor\":\"#283442\",\"linecolor\":\"#506784\",\"ticks\":\"\",\"title\":{\"standoff\":15},\"zerolinecolor\":\"#283442\",\"automargin\":true,\"zerolinewidth\":2},\"yaxis\":{\"gridcolor\":\"#283442\",\"linecolor\":\"#506784\",\"ticks\":\"\",\"title\":{\"standoff\":15},\"zerolinecolor\":\"#283442\",\"automargin\":true,\"zerolinewidth\":2},\"scene\":{\"xaxis\":{\"backgroundcolor\":\"rgb(17,17,17)\",\"gridcolor\":\"#506784\",\"linecolor\":\"#506784\",\"showbackground\":true,\"ticks\":\"\",\"zerolinecolor\":\"#C8D4E3\",\"gridwidth\":2},\"yaxis\":{\"backgroundcolor\":\"rgb(17,17,17)\",\"gridcolor\":\"#506784\",\"linecolor\":\"#506784\",\"showbackground\":true,\"ticks\":\"\",\"zerolinecolor\":\"#C8D4E3\",\"gridwidth\":2},\"zaxis\":{\"backgroundcolor\":\"rgb(17,17,17)\",\"gridcolor\":\"#506784\",\"linecolor\":\"#506784\",\"showbackground\":true,\"ticks\":\"\",\"zerolinecolor\":\"#C8D4E3\",\"gridwidth\":2}},\"shapedefaults\":{\"line\":{\"color\":\"#f2f5fa\"}},\"annotationdefaults\":{\"arrowcolor\":\"#f2f5fa\",\"arrowhead\":0,\"arrowwidth\":1},\"geo\":{\"bgcolor\":\"rgb(17,17,17)\",\"landcolor\":\"rgb(17,17,17)\",\"subunitcolor\":\"#506784\",\"showland\":true,\"showlakes\":true,\"lakecolor\":\"rgb(17,17,17)\"},\"title\":{\"x\":0.05},\"updatemenudefaults\":{\"bgcolor\":\"#506784\",\"borderwidth\":0},\"sliderdefaults\":{\"bgcolor\":\"#C8D4E3\",\"borderwidth\":1,\"bordercolor\":\"rgb(17,17,17)\",\"tickwidth\":0},\"mapbox\":{\"style\":\"dark\"}}},\"xaxis\":{\"anchor\":\"y\",\"domain\":[0.0,1.0],\"title\":{\"text\":\"Number of OpenAlex IDs for a single OMID\"}},\"yaxis\":{\"anchor\":\"x\",\"domain\":[0.0,1.0],\"title\":{\"text\":\"Frequency (log)\"},\"type\":\"log\"},\"legend\":{\"title\":{\"text\":\"type\"},\"tracegroupgap\":0},\"margin\":{\"t\":60},\"barmode\":\"relative\",\"title\":{\"text\":\"Distribution of OpenAlex ID per OMID over number of multi-mapped OMIDs (grouped by type)\"}},                        {\"responsive\": true}                    ).then(function(){\n                            \nvar gd = document.getElementById('be576934-b0e6-4964-a4e8-76b57d32a7bc');\nvar x = new MutationObserver(function (mutations, observer) {{\n        var display = window.getComputedStyle(gd).display;\n        if (!display || display === 'none') {{\n            console.log([gd, 'removed!']);\n            Plotly.purge(gd);\n            observer.disconnect();\n        }}\n}});\n\n// Listen for the removal of the full notebook cells\nvar notebookContainer = gd.closest('#notebook-container');\nif (notebookContainer) {{\n    x.observe(notebookContainer, {childList: true});\n}}\n\n// Listen for the clearing of the current output cell\nvar outputEl = gd.closest('.output');\nif (outputEl) {{\n    x.observe(outputEl, {childList: true});\n}}\n\n                        })                };                });            </script>        </div>"
     },
     "metadata": {},
     "output_type": "display_data"
    }
   ],
   "source": [
    "import plotly.express as px\n",
    "from omid_openalex.analytics.helper import add_columns_to_df\n",
    "\n",
    "\n",
    "viz_df = add_columns_to_df(df)\n",
    "viz_df['type'].fillna('unspecified', inplace=True)\n",
    "\n",
    "hist_data_df = viz_df.groupby(['oaid_count', 'type', 'composition']).size().reset_index(name='frequency')\n",
    "\n",
    "# define new custom legend names (including the total number of occurrences for each type)    \n",
    "legend_names = {brtype: f\"{brtype} ({viz_df['type'].value_counts(dropna=False).get(brtype)})\" for brtype in viz_df['type'].unique()}\n",
    "\n",
    "fig = px.bar(hist_data_df, x='oaid_count', y='frequency', color='type', hover_data=['composition'], log_y=True)\n",
    "\n",
    "fig.for_each_trace(lambda t: t.update(name = legend_names[t.name]))\n",
    "\n",
    "fig.update_layout(title='Distribution of OpenAlex ID per OMID over number of multi-mapped OMIDs (grouped by type)',\n",
    "                  xaxis_title='Number of OpenAlex IDs for a single OMID',\n",
    "                  yaxis_title='Frequency (log)', yaxis_type='log')\n",
    "\n",
    "# write html file of the log scale histogram\n",
    "# fig.write_html('graphs/multi_mapped_dist.html')\n",
    "\n",
    "fig.show()"
   ],
   "metadata": {
    "collapsed": false,
    "ExecuteTime": {
     "end_time": "2024-01-09T19:11:14.876372800Z",
     "start_time": "2024-01-09T19:11:12.918582100Z"
    }
   },
   "id": "7ec00c46c1df1db8"
  },
  {
   "cell_type": "markdown",
   "source": [
    "### Multi-mapped BRs categorisation\n",
    "\n",
    "To try and delve deeper into the causes of the multi-mapping, we can attempt to categorise the involved BRs. This can be done by running the process in `mm_categ.py`. Once we obtain the results of the categorisation, stored in a JSON file, we can load them into two pandas DataFrames for ease of use. The categories labels are explained as follows:\n",
    "\n",
    "Categories for Works: \n",
    "- __*A*__: Multiple OpenAlex Works share the same DOI, PMID or PMCID.\n",
    "- __*B*__: DOI(s) for preprint/postprint/version hosted in repository. Instances of this categories are determined based on the DOI prefix, which is associated with the publisher. For example, the \"10.22541\" prefix is associated with Authorea publishing company, which manages a large preprint server; the \"10.17615\" prefix is associated with the University of North Carolina at Chapel Hill, which curates/publishes the articles in the Carolina Digital Repository.\n",
    "- __*C*__: Error in data source or 2 entities linked together by mistake (e.g. duplicated DOI).\n",
    "- __*D*__: Version-marked DOI(s). This category includes preprint versions and detects them by checking for version number (e.g. \"/v1\") in the DOI value.\n",
    "- __*E*__: DOI(s) coming from preprint servers (based on the presence of semantic indicators in the DOI suffix, e.g. \"/arxiv\" or \"zenodo\").\n",
    "- __*F*__: Multiple DOIs all from the same publisher/DOI issuer: errata, letters, editorials, other.\n",
    "- __*non classified*__: Non classified.\n",
    "\n",
    "Categories for Sources: \n",
    "- __*A*__: Multiple OpenAlex Sources share the same ISSN/ISSN-L. Wikidata IDs are not considered\n",
    "- __*non classified*__: Non classified"
   ],
   "metadata": {
    "collapsed": false
   },
   "id": "c653adfa8d86bc31"
  },
  {
   "cell_type": "code",
   "execution_count": 152,
   "outputs": [],
   "source": [
    "import pandas as pd\n",
    "import json\n",
    "\n",
    "json_file = 'tmp/mm_categories.json'  # replace with the JSON file storing the output of mm_categ.py\n",
    "data = json.load(open(json_file, 'r', encoding='utf-8'))\n",
    "\n",
    "# Create a DataFrame for \"works\"\n",
    "works_data = {}\n",
    "for work_type, work_values in data[\"works\"].items():\n",
    "    works_data[work_type] = work_values\n",
    "\n",
    "works_df = pd.DataFrame(works_data).T.fillna(0).astype(int)\n",
    "\n",
    "# Create a DataFrame for \"sources\"\n",
    "sources_data = {}\n",
    "for source_type, source_values in data[\"sources\"].items():\n",
    "    sources_data[source_type] = source_values\n",
    "\n",
    "sources_df = pd.DataFrame(sources_data).T.fillna(0).astype(int)"
   ],
   "metadata": {
    "collapsed": false,
    "ExecuteTime": {
     "end_time": "2024-01-09T19:11:14.878371100Z",
     "start_time": "2024-01-09T19:11:14.845374200Z"
    }
   },
   "id": "dd01bea2ce571b07"
  },
  {
   "cell_type": "code",
   "execution_count": 153,
   "outputs": [
    {
     "data": {
      "text/plain": "                         A     B      C  non classified      D     E    F\nproceedings article    477    10    452             666    108    16    0\njournal article      38179  8722  35744           50579  10196  1030  805\n                       607   502    609            1503   1753   265   29\nbook chapter           341     8   1112            2002     21     4   36\nbook                    27     1    581            8511     31     0    4",
      "text/html": "<div>\n<style scoped>\n    .dataframe tbody tr th:only-of-type {\n        vertical-align: middle;\n    }\n\n    .dataframe tbody tr th {\n        vertical-align: top;\n    }\n\n    .dataframe thead th {\n        text-align: right;\n    }\n</style>\n<table border=\"1\" class=\"dataframe\">\n  <thead>\n    <tr style=\"text-align: right;\">\n      <th></th>\n      <th>A</th>\n      <th>B</th>\n      <th>C</th>\n      <th>non classified</th>\n      <th>D</th>\n      <th>E</th>\n      <th>F</th>\n    </tr>\n  </thead>\n  <tbody>\n    <tr>\n      <th>proceedings article</th>\n      <td>477</td>\n      <td>10</td>\n      <td>452</td>\n      <td>666</td>\n      <td>108</td>\n      <td>16</td>\n      <td>0</td>\n    </tr>\n    <tr>\n      <th>journal article</th>\n      <td>38179</td>\n      <td>8722</td>\n      <td>35744</td>\n      <td>50579</td>\n      <td>10196</td>\n      <td>1030</td>\n      <td>805</td>\n    </tr>\n    <tr>\n      <th></th>\n      <td>607</td>\n      <td>502</td>\n      <td>609</td>\n      <td>1503</td>\n      <td>1753</td>\n      <td>265</td>\n      <td>29</td>\n    </tr>\n    <tr>\n      <th>book chapter</th>\n      <td>341</td>\n      <td>8</td>\n      <td>1112</td>\n      <td>2002</td>\n      <td>21</td>\n      <td>4</td>\n      <td>36</td>\n    </tr>\n    <tr>\n      <th>book</th>\n      <td>27</td>\n      <td>1</td>\n      <td>581</td>\n      <td>8511</td>\n      <td>31</td>\n      <td>0</td>\n      <td>4</td>\n    </tr>\n  </tbody>\n</table>\n</div>"
     },
     "execution_count": 153,
     "metadata": {},
     "output_type": "execute_result"
    }
   ],
   "source": [
    "works_df.head()"
   ],
   "metadata": {
    "collapsed": false,
    "ExecuteTime": {
     "end_time": "2024-01-09T19:11:14.986904900Z",
     "start_time": "2024-01-09T19:11:14.870372600Z"
    }
   },
   "id": "b6a2144880b10d03"
  },
  {
   "cell_type": "code",
   "execution_count": 154,
   "outputs": [
    {
     "data": {
      "text/plain": "                A  non classified\njournal      4057            2345\nbook series    17              38\nseries          2               0",
      "text/html": "<div>\n<style scoped>\n    .dataframe tbody tr th:only-of-type {\n        vertical-align: middle;\n    }\n\n    .dataframe tbody tr th {\n        vertical-align: top;\n    }\n\n    .dataframe thead th {\n        text-align: right;\n    }\n</style>\n<table border=\"1\" class=\"dataframe\">\n  <thead>\n    <tr style=\"text-align: right;\">\n      <th></th>\n      <th>A</th>\n      <th>non classified</th>\n    </tr>\n  </thead>\n  <tbody>\n    <tr>\n      <th>journal</th>\n      <td>4057</td>\n      <td>2345</td>\n    </tr>\n    <tr>\n      <th>book series</th>\n      <td>17</td>\n      <td>38</td>\n    </tr>\n    <tr>\n      <th>series</th>\n      <td>2</td>\n      <td>0</td>\n    </tr>\n  </tbody>\n</table>\n</div>"
     },
     "execution_count": 154,
     "metadata": {},
     "output_type": "execute_result"
    }
   ],
   "source": [
    "sources_df.head()"
   ],
   "metadata": {
    "collapsed": false,
    "ExecuteTime": {
     "end_time": "2024-01-09T19:11:14.988904200Z",
     "start_time": "2024-01-09T19:11:14.902383300Z"
    }
   },
   "id": "9ec34a97b90a238"
  },
  {
   "cell_type": "markdown",
   "source": [
    "## Provenance analysis of unmapped resources\n",
    "\n",
    "OC Meta BRs that have not been mapped to any BR in OpenAlex are also worth investigating. In particular, we are interested in observing the provenance of these resources, i.e. understand which data sources among the ones used by OC Meta (e.g. Crossref, Datacite) provide data that is solely stored in OC Meta and not in OpenAlex.\n",
    "We can perform this analysis by running the process in `prov_analysis.py`. The results of this analysis will be stored in a JSON file at the path specified in the configuration file for this process.\n",
    "\n",
    "First we load the results in a Dataframe."
   ],
   "metadata": {
    "collapsed": false
   },
   "id": "745ecde8a297ea17"
  },
  {
   "cell_type": "code",
   "execution_count": 155,
   "outputs": [
    {
     "data": {
      "text/plain": "                                                                                 proceedings  \\\nhttps://api.crossref.org/                           {'omid_only': 5046154, 'other_pids': 31}   \nhttps://api.crossref.org/snapshots/monthly/2023...    {'omid_only': 324639, 'other_pids': 0}   \nhttps://doi.org/10.5281/zenodo.7845968                 {'omid_only': 0, 'other_pids': 11487}   \nhttps://nih.figshare.com/collections/iCite_Data...       {'omid_only': 786, 'other_pids': 0}   \nhttps://doi.org/10.5281/zenodo.7845968 https://...        {'omid_only': 0, 'other_pids': 17}   \n\n                                                                                  journal issue  \\\nhttps://api.crossref.org/                           {'omid_only': 4667606, 'other_pids': 79827}   \nhttps://api.crossref.org/snapshots/monthly/2023...      {'omid_only': 202652, 'other_pids': 15}   \nhttps://doi.org/10.5281/zenodo.7845968                     {'omid_only': 1075, 'other_pids': 0}   \nhttps://nih.figshare.com/collections/iCite_Data...       {'omid_only': 102115, 'other_pids': 0}   \nhttps://doi.org/10.5281/zenodo.7845968 https://...        {'omid_only': 2830, 'other_pids': 37}   \n\n                                                                                           book  \\\nhttps://api.crossref.org/                           {'omid_only': 2405267, 'other_pids': 91797}   \nhttps://api.crossref.org/snapshots/monthly/2023...     {'omid_only': 2626, 'other_pids': 16272}   \nhttps://doi.org/10.5281/zenodo.7845968                     {'omid_only': 0, 'other_pids': 1247}   \nhttps://nih.figshare.com/collections/iCite_Data...         {'omid_only': 3757, 'other_pids': 0}   \nhttps://doi.org/10.5281/zenodo.7845968 https://...            {'omid_only': 0, 'other_pids': 2}   \n\n                                                                              journal volume  \\\nhttps://api.crossref.org/                           {'omid_only': 1440942, 'other_pids': 95}   \nhttps://api.crossref.org/snapshots/monthly/2023...    {'omid_only': 106965, 'other_pids': 0}   \nhttps://doi.org/10.5281/zenodo.7845968                                                   NaN   \nhttps://nih.figshare.com/collections/iCite_Data...     {'omid_only': 22602, 'other_pids': 0}   \nhttps://doi.org/10.5281/zenodo.7845968 https://...      {'omid_only': 1730, 'other_pids': 0}   \n\n                                                                                   dataset  \\\nhttps://api.crossref.org/                               {'omid_only': 0, 'other_pids': 46}   \nhttps://api.crossref.org/snapshots/monthly/2023...                                     NaN   \nhttps://doi.org/10.5281/zenodo.7845968              {'omid_only': 0, 'other_pids': 203240}   \nhttps://nih.figshare.com/collections/iCite_Data...                                     NaN   \nhttps://doi.org/10.5281/zenodo.7845968 https://...     {'omid_only': 0, 'other_pids': 190}   \n\n                                                                                                 \\\nhttps://api.crossref.org/                           {'omid_only': 356955, 'other_pids': 324066}   \nhttps://api.crossref.org/snapshots/monthly/2023...   {'omid_only': 71227, 'other_pids': 149362}   \nhttps://doi.org/10.5281/zenodo.7845968                   {'omid_only': 0, 'other_pids': 355075}   \nhttps://nih.figshare.com/collections/iCite_Data...          {'omid_only': 1, 'other_pids': 153}   \nhttps://doi.org/10.5281/zenodo.7845968 https://...           {'omid_only': 0, 'other_pids': 16}   \n\n                                                                           journal article  \\\nhttps://api.crossref.org/                             {'omid_only': 0, 'other_pids': 4983}   \nhttps://api.crossref.org/snapshots/monthly/2023...     {'omid_only': 0, 'other_pids': 484}   \nhttps://doi.org/10.5281/zenodo.7845968              {'omid_only': 0, 'other_pids': 202018}   \nhttps://nih.figshare.com/collections/iCite_Data...   {'omid_only': 0, 'other_pids': 42009}   \nhttps://doi.org/10.5281/zenodo.7845968 https://...      {'omid_only': 0, 'other_pids': 57}   \n\n                                                                             reference book  \\\nhttps://api.crossref.org/                           {'omid_only': 186140, 'other_pids': 25}   \nhttps://api.crossref.org/snapshots/monthly/2023...     {'omid_only': 2286, 'other_pids': 1}   \nhttps://doi.org/10.5281/zenodo.7845968                                                  NaN   \nhttps://nih.figshare.com/collections/iCite_Data...        {'omid_only': 1, 'other_pids': 0}   \nhttps://doi.org/10.5281/zenodo.7845968 https://...                                      NaN   \n\n                                                                                  report  \\\nhttps://api.crossref.org/                             {'omid_only': 0, 'other_pids': 15}   \nhttps://api.crossref.org/snapshots/monthly/2023...                                   NaN   \nhttps://doi.org/10.5281/zenodo.7845968              {'omid_only': 0, 'other_pids': 1993}   \nhttps://nih.figshare.com/collections/iCite_Data...                                   NaN   \nhttps://doi.org/10.5281/zenodo.7845968 https://...                                   NaN   \n\n                                                                                     journal  \\\nhttps://api.crossref.org/                             {'omid_only': 56561, 'other_pids': 52}   \nhttps://api.crossref.org/snapshots/monthly/2023...      {'omid_only': 5000, 'other_pids': 3}   \nhttps://doi.org/10.5281/zenodo.7845968                    {'omid_only': 0, 'other_pids': 19}   \nhttps://nih.figshare.com/collections/iCite_Data...  {'omid_only': 40080, 'other_pids': 1499}   \nhttps://doi.org/10.5281/zenodo.7845968 https://...         {'omid_only': 5, 'other_pids': 0}   \n\n                                                    ...  \\\nhttps://api.crossref.org/                           ...   \nhttps://api.crossref.org/snapshots/monthly/2023...  ...   \nhttps://doi.org/10.5281/zenodo.7845968              ...   \nhttps://nih.figshare.com/collections/iCite_Data...  ...   \nhttps://doi.org/10.5281/zenodo.7845968 https://...  ...   \n\n                                                                            dissertation  \\\nhttps://api.crossref.org/                                                            NaN   \nhttps://api.crossref.org/snapshots/monthly/2023...                                   NaN   \nhttps://doi.org/10.5281/zenodo.7845968              {'omid_only': 0, 'other_pids': 7983}   \nhttps://nih.figshare.com/collections/iCite_Data...                                   NaN   \nhttps://doi.org/10.5281/zenodo.7845968 https://...     {'omid_only': 0, 'other_pids': 5}   \n\n                                                                            book chapter  \\\nhttps://api.crossref.org/                           {'omid_only': 0, 'other_pids': 1230}   \nhttps://api.crossref.org/snapshots/monthly/2023...  {'omid_only': 0, 'other_pids': 1197}   \nhttps://doi.org/10.5281/zenodo.7845968               {'omid_only': 0, 'other_pids': 690}   \nhttps://nih.figshare.com/collections/iCite_Data...                                   NaN   \nhttps://doi.org/10.5281/zenodo.7845968 https://...                                   NaN   \n\n                                                                        computer program  \\\nhttps://api.crossref.org/                                                            NaN   \nhttps://api.crossref.org/snapshots/monthly/2023...                                   NaN   \nhttps://doi.org/10.5281/zenodo.7845968              {'omid_only': 0, 'other_pids': 1992}   \nhttps://nih.figshare.com/collections/iCite_Data...                                   NaN   \nhttps://doi.org/10.5281/zenodo.7845968 https://...     {'omid_only': 0, 'other_pids': 5}   \n\n                                                                    proceedings article  \\\nhttps://api.crossref.org/                            {'omid_only': 0, 'other_pids': 84}   \nhttps://api.crossref.org/snapshots/monthly/2023...  {'omid_only': 0, 'other_pids': 778}   \nhttps://doi.org/10.5281/zenodo.7845968                                              NaN   \nhttps://nih.figshare.com/collections/iCite_Data...                                  NaN   \nhttps://doi.org/10.5281/zenodo.7845968 https://...                                  NaN   \n\n                                                                       reference entry  \\\nhttps://api.crossref.org/                           {'omid_only': 0, 'other_pids': 87}   \nhttps://api.crossref.org/snapshots/monthly/2023...                                 NaN   \nhttps://doi.org/10.5281/zenodo.7845968                                             NaN   \nhttps://nih.figshare.com/collections/iCite_Data...                                 NaN   \nhttps://doi.org/10.5281/zenodo.7845968 https://...                                 NaN   \n\n                                                                                series  \\\nhttps://api.crossref.org/                           {'omid_only': 9, 'other_pids': 17}   \nhttps://api.crossref.org/snapshots/monthly/2023...   {'omid_only': 0, 'other_pids': 1}   \nhttps://doi.org/10.5281/zenodo.7845968                                             NaN   \nhttps://nih.figshare.com/collections/iCite_Data...  {'omid_only': 14, 'other_pids': 2}   \nhttps://doi.org/10.5281/zenodo.7845968 https://...                                 NaN   \n\n                                                                           web content  \\\nhttps://api.crossref.org/                            {'omid_only': 0, 'other_pids': 3}   \nhttps://api.crossref.org/snapshots/monthly/2023...  {'omid_only': 0, 'other_pids': 26}   \nhttps://doi.org/10.5281/zenodo.7845968                                             NaN   \nhttps://nih.figshare.com/collections/iCite_Data...                                 NaN   \nhttps://doi.org/10.5281/zenodo.7845968 https://...                                 NaN   \n\n                                                                             standard  \\\nhttps://api.crossref.org/                           {'omid_only': 0, 'other_pids': 4}   \nhttps://api.crossref.org/snapshots/monthly/2023...                                NaN   \nhttps://doi.org/10.5281/zenodo.7845968                                            NaN   \nhttps://nih.figshare.com/collections/iCite_Data...                                NaN   \nhttps://doi.org/10.5281/zenodo.7845968 https://...                                NaN   \n\n                                                                 data management plan  \\\nhttps://api.crossref.org/                                                         NaN   \nhttps://api.crossref.org/snapshots/monthly/2023...                                NaN   \nhttps://doi.org/10.5281/zenodo.7845968              {'omid_only': 0, 'other_pids': 4}   \nhttps://nih.figshare.com/collections/iCite_Data...                                NaN   \nhttps://doi.org/10.5281/zenodo.7845968 https://...                                NaN   \n\n                                                                         book section  \nhttps://api.crossref.org/                           {'omid_only': 0, 'other_pids': 3}  \nhttps://api.crossref.org/snapshots/monthly/2023...                                NaN  \nhttps://doi.org/10.5281/zenodo.7845968                                            NaN  \nhttps://nih.figshare.com/collections/iCite_Data...                                NaN  \nhttps://doi.org/10.5281/zenodo.7845968 https://...                                NaN  \n\n[5 rows x 21 columns]",
      "text/html": "<div>\n<style scoped>\n    .dataframe tbody tr th:only-of-type {\n        vertical-align: middle;\n    }\n\n    .dataframe tbody tr th {\n        vertical-align: top;\n    }\n\n    .dataframe thead th {\n        text-align: right;\n    }\n</style>\n<table border=\"1\" class=\"dataframe\">\n  <thead>\n    <tr style=\"text-align: right;\">\n      <th></th>\n      <th>proceedings</th>\n      <th>journal issue</th>\n      <th>book</th>\n      <th>journal volume</th>\n      <th>dataset</th>\n      <th></th>\n      <th>journal article</th>\n      <th>reference book</th>\n      <th>report</th>\n      <th>journal</th>\n      <th>...</th>\n      <th>dissertation</th>\n      <th>book chapter</th>\n      <th>computer program</th>\n      <th>proceedings article</th>\n      <th>reference entry</th>\n      <th>series</th>\n      <th>web content</th>\n      <th>standard</th>\n      <th>data management plan</th>\n      <th>book section</th>\n    </tr>\n  </thead>\n  <tbody>\n    <tr>\n      <th>https://api.crossref.org/</th>\n      <td>{'omid_only': 5046154, 'other_pids': 31}</td>\n      <td>{'omid_only': 4667606, 'other_pids': 79827}</td>\n      <td>{'omid_only': 2405267, 'other_pids': 91797}</td>\n      <td>{'omid_only': 1440942, 'other_pids': 95}</td>\n      <td>{'omid_only': 0, 'other_pids': 46}</td>\n      <td>{'omid_only': 356955, 'other_pids': 324066}</td>\n      <td>{'omid_only': 0, 'other_pids': 4983}</td>\n      <td>{'omid_only': 186140, 'other_pids': 25}</td>\n      <td>{'omid_only': 0, 'other_pids': 15}</td>\n      <td>{'omid_only': 56561, 'other_pids': 52}</td>\n      <td>...</td>\n      <td>NaN</td>\n      <td>{'omid_only': 0, 'other_pids': 1230}</td>\n      <td>NaN</td>\n      <td>{'omid_only': 0, 'other_pids': 84}</td>\n      <td>{'omid_only': 0, 'other_pids': 87}</td>\n      <td>{'omid_only': 9, 'other_pids': 17}</td>\n      <td>{'omid_only': 0, 'other_pids': 3}</td>\n      <td>{'omid_only': 0, 'other_pids': 4}</td>\n      <td>NaN</td>\n      <td>{'omid_only': 0, 'other_pids': 3}</td>\n    </tr>\n    <tr>\n      <th>https://api.crossref.org/snapshots/monthly/2023/09/all.json.tar.gz</th>\n      <td>{'omid_only': 324639, 'other_pids': 0}</td>\n      <td>{'omid_only': 202652, 'other_pids': 15}</td>\n      <td>{'omid_only': 2626, 'other_pids': 16272}</td>\n      <td>{'omid_only': 106965, 'other_pids': 0}</td>\n      <td>NaN</td>\n      <td>{'omid_only': 71227, 'other_pids': 149362}</td>\n      <td>{'omid_only': 0, 'other_pids': 484}</td>\n      <td>{'omid_only': 2286, 'other_pids': 1}</td>\n      <td>NaN</td>\n      <td>{'omid_only': 5000, 'other_pids': 3}</td>\n      <td>...</td>\n      <td>NaN</td>\n      <td>{'omid_only': 0, 'other_pids': 1197}</td>\n      <td>NaN</td>\n      <td>{'omid_only': 0, 'other_pids': 778}</td>\n      <td>NaN</td>\n      <td>{'omid_only': 0, 'other_pids': 1}</td>\n      <td>{'omid_only': 0, 'other_pids': 26}</td>\n      <td>NaN</td>\n      <td>NaN</td>\n      <td>NaN</td>\n    </tr>\n    <tr>\n      <th>https://doi.org/10.5281/zenodo.7845968</th>\n      <td>{'omid_only': 0, 'other_pids': 11487}</td>\n      <td>{'omid_only': 1075, 'other_pids': 0}</td>\n      <td>{'omid_only': 0, 'other_pids': 1247}</td>\n      <td>NaN</td>\n      <td>{'omid_only': 0, 'other_pids': 203240}</td>\n      <td>{'omid_only': 0, 'other_pids': 355075}</td>\n      <td>{'omid_only': 0, 'other_pids': 202018}</td>\n      <td>NaN</td>\n      <td>{'omid_only': 0, 'other_pids': 1993}</td>\n      <td>{'omid_only': 0, 'other_pids': 19}</td>\n      <td>...</td>\n      <td>{'omid_only': 0, 'other_pids': 7983}</td>\n      <td>{'omid_only': 0, 'other_pids': 690}</td>\n      <td>{'omid_only': 0, 'other_pids': 1992}</td>\n      <td>NaN</td>\n      <td>NaN</td>\n      <td>NaN</td>\n      <td>NaN</td>\n      <td>NaN</td>\n      <td>{'omid_only': 0, 'other_pids': 4}</td>\n      <td>NaN</td>\n    </tr>\n    <tr>\n      <th>https://nih.figshare.com/collections/iCite_Database_Snapshots_NIH_Open_Citation_Collection_/4586573/42</th>\n      <td>{'omid_only': 786, 'other_pids': 0}</td>\n      <td>{'omid_only': 102115, 'other_pids': 0}</td>\n      <td>{'omid_only': 3757, 'other_pids': 0}</td>\n      <td>{'omid_only': 22602, 'other_pids': 0}</td>\n      <td>NaN</td>\n      <td>{'omid_only': 1, 'other_pids': 153}</td>\n      <td>{'omid_only': 0, 'other_pids': 42009}</td>\n      <td>{'omid_only': 1, 'other_pids': 0}</td>\n      <td>NaN</td>\n      <td>{'omid_only': 40080, 'other_pids': 1499}</td>\n      <td>...</td>\n      <td>NaN</td>\n      <td>NaN</td>\n      <td>NaN</td>\n      <td>NaN</td>\n      <td>NaN</td>\n      <td>{'omid_only': 14, 'other_pids': 2}</td>\n      <td>NaN</td>\n      <td>NaN</td>\n      <td>NaN</td>\n      <td>NaN</td>\n    </tr>\n    <tr>\n      <th>https://doi.org/10.5281/zenodo.7845968 https://api.crossref.org/</th>\n      <td>{'omid_only': 0, 'other_pids': 17}</td>\n      <td>{'omid_only': 2830, 'other_pids': 37}</td>\n      <td>{'omid_only': 0, 'other_pids': 2}</td>\n      <td>{'omid_only': 1730, 'other_pids': 0}</td>\n      <td>{'omid_only': 0, 'other_pids': 190}</td>\n      <td>{'omid_only': 0, 'other_pids': 16}</td>\n      <td>{'omid_only': 0, 'other_pids': 57}</td>\n      <td>NaN</td>\n      <td>NaN</td>\n      <td>{'omid_only': 5, 'other_pids': 0}</td>\n      <td>...</td>\n      <td>{'omid_only': 0, 'other_pids': 5}</td>\n      <td>NaN</td>\n      <td>{'omid_only': 0, 'other_pids': 5}</td>\n      <td>NaN</td>\n      <td>NaN</td>\n      <td>NaN</td>\n      <td>NaN</td>\n      <td>NaN</td>\n      <td>NaN</td>\n      <td>NaN</td>\n    </tr>\n  </tbody>\n</table>\n<p>5 rows × 21 columns</p>\n</div>"
     },
     "execution_count": 155,
     "metadata": {},
     "output_type": "execute_result"
    }
   ],
   "source": [
    "import json\n",
    "import pandas as pd\n",
    "\n",
    "prov_results_json = 'tmp/provenance_analysis_results.json'  # replace with path of JSON file storing results of provenance analysis process\n",
    "\n",
    "prov_analysis_results = json.load(open(prov_results_json, 'r', encoding='utf-8'))\n",
    "prov_df = pd.DataFrame(prov_analysis_results)\n",
    "\n",
    "prov_df.head()"
   ],
   "metadata": {
    "collapsed": false,
    "ExecuteTime": {
     "end_time": "2024-01-09T19:11:15.129969900Z",
     "start_time": "2024-01-09T19:11:14.937905800Z"
    }
   },
   "id": "e3b4b2c17b840b2a"
  },
  {
   "cell_type": "markdown",
   "source": [
    "We can create a simpler copy of the dataframe, where the dictionaries are replaced with the sum of the values."
   ],
   "metadata": {
    "collapsed": false
   },
   "id": "a0b09b1f7c1f1b8a"
  },
  {
   "cell_type": "code",
   "execution_count": 156,
   "outputs": [
    {
     "data": {
      "text/plain": "                                                    proceedings  \\\nhttps://api.crossref.org/                               5046185   \nhttps://api.crossref.org/snapshots/monthly/2023...       324639   \nhttps://doi.org/10.5281/zenodo.7845968                    11487   \nhttps://nih.figshare.com/collections/iCite_Data...          786   \nhttps://doi.org/10.5281/zenodo.7845968 https://...           17   \n\n                                                    journal issue     book  \\\nhttps://api.crossref.org/                                 4747433  2497064   \nhttps://api.crossref.org/snapshots/monthly/2023...         202667    18898   \nhttps://doi.org/10.5281/zenodo.7845968                       1075     1247   \nhttps://nih.figshare.com/collections/iCite_Data...         102115     3757   \nhttps://doi.org/10.5281/zenodo.7845968 https://...           2867        2   \n\n                                                    journal volume  dataset  \\\nhttps://api.crossref.org/                                  1441037       46   \nhttps://api.crossref.org/snapshots/monthly/2023...          106965        0   \nhttps://doi.org/10.5281/zenodo.7845968                           0   203240   \nhttps://nih.figshare.com/collections/iCite_Data...           22602        0   \nhttps://doi.org/10.5281/zenodo.7845968 https://...            1730      190   \n\n                                                            journal article  \\\nhttps://api.crossref.org/                           681021             4983   \nhttps://api.crossref.org/snapshots/monthly/2023...  220589              484   \nhttps://doi.org/10.5281/zenodo.7845968              355075           202018   \nhttps://nih.figshare.com/collections/iCite_Data...     154            42009   \nhttps://doi.org/10.5281/zenodo.7845968 https://...      16               57   \n\n                                                    reference book  report  \\\nhttps://api.crossref.org/                                   186165      15   \nhttps://api.crossref.org/snapshots/monthly/2023...            2287       0   \nhttps://doi.org/10.5281/zenodo.7845968                           0    1993   \nhttps://nih.figshare.com/collections/iCite_Data...               1       0   \nhttps://doi.org/10.5281/zenodo.7845968 https://...               0       0   \n\n                                                    journal  ...  \\\nhttps://api.crossref.org/                             56613  ...   \nhttps://api.crossref.org/snapshots/monthly/2023...     5003  ...   \nhttps://doi.org/10.5281/zenodo.7845968                   19  ...   \nhttps://nih.figshare.com/collections/iCite_Data...    41579  ...   \nhttps://doi.org/10.5281/zenodo.7845968 https://...        5  ...   \n\n                                                    dissertation  \\\nhttps://api.crossref.org/                                      0   \nhttps://api.crossref.org/snapshots/monthly/2023...             0   \nhttps://doi.org/10.5281/zenodo.7845968                      7983   \nhttps://nih.figshare.com/collections/iCite_Data...             0   \nhttps://doi.org/10.5281/zenodo.7845968 https://...             5   \n\n                                                    book chapter  \\\nhttps://api.crossref.org/                                   1230   \nhttps://api.crossref.org/snapshots/monthly/2023...          1197   \nhttps://doi.org/10.5281/zenodo.7845968                       690   \nhttps://nih.figshare.com/collections/iCite_Data...             0   \nhttps://doi.org/10.5281/zenodo.7845968 https://...             0   \n\n                                                    computer program  \\\nhttps://api.crossref.org/                                          0   \nhttps://api.crossref.org/snapshots/monthly/2023...                 0   \nhttps://doi.org/10.5281/zenodo.7845968                          1992   \nhttps://nih.figshare.com/collections/iCite_Data...                 0   \nhttps://doi.org/10.5281/zenodo.7845968 https://...                 5   \n\n                                                    proceedings article  \\\nhttps://api.crossref.org/                                            84   \nhttps://api.crossref.org/snapshots/monthly/2023...                  778   \nhttps://doi.org/10.5281/zenodo.7845968                                0   \nhttps://nih.figshare.com/collections/iCite_Data...                    0   \nhttps://doi.org/10.5281/zenodo.7845968 https://...                    0   \n\n                                                    reference entry  series  \\\nhttps://api.crossref.org/                                        87      26   \nhttps://api.crossref.org/snapshots/monthly/2023...                0       1   \nhttps://doi.org/10.5281/zenodo.7845968                            0       0   \nhttps://nih.figshare.com/collections/iCite_Data...                0      16   \nhttps://doi.org/10.5281/zenodo.7845968 https://...                0       0   \n\n                                                    web content  standard  \\\nhttps://api.crossref.org/                                     3         4   \nhttps://api.crossref.org/snapshots/monthly/2023...           26         0   \nhttps://doi.org/10.5281/zenodo.7845968                        0         0   \nhttps://nih.figshare.com/collections/iCite_Data...            0         0   \nhttps://doi.org/10.5281/zenodo.7845968 https://...            0         0   \n\n                                                    data management plan  \\\nhttps://api.crossref.org/                                              0   \nhttps://api.crossref.org/snapshots/monthly/2023...                     0   \nhttps://doi.org/10.5281/zenodo.7845968                                 4   \nhttps://nih.figshare.com/collections/iCite_Data...                     0   \nhttps://doi.org/10.5281/zenodo.7845968 https://...                     0   \n\n                                                    book section  \nhttps://api.crossref.org/                                      3  \nhttps://api.crossref.org/snapshots/monthly/2023...             0  \nhttps://doi.org/10.5281/zenodo.7845968                         0  \nhttps://nih.figshare.com/collections/iCite_Data...             0  \nhttps://doi.org/10.5281/zenodo.7845968 https://...             0  \n\n[5 rows x 21 columns]",
      "text/html": "<div>\n<style scoped>\n    .dataframe tbody tr th:only-of-type {\n        vertical-align: middle;\n    }\n\n    .dataframe tbody tr th {\n        vertical-align: top;\n    }\n\n    .dataframe thead th {\n        text-align: right;\n    }\n</style>\n<table border=\"1\" class=\"dataframe\">\n  <thead>\n    <tr style=\"text-align: right;\">\n      <th></th>\n      <th>proceedings</th>\n      <th>journal issue</th>\n      <th>book</th>\n      <th>journal volume</th>\n      <th>dataset</th>\n      <th></th>\n      <th>journal article</th>\n      <th>reference book</th>\n      <th>report</th>\n      <th>journal</th>\n      <th>...</th>\n      <th>dissertation</th>\n      <th>book chapter</th>\n      <th>computer program</th>\n      <th>proceedings article</th>\n      <th>reference entry</th>\n      <th>series</th>\n      <th>web content</th>\n      <th>standard</th>\n      <th>data management plan</th>\n      <th>book section</th>\n    </tr>\n  </thead>\n  <tbody>\n    <tr>\n      <th>https://api.crossref.org/</th>\n      <td>5046185</td>\n      <td>4747433</td>\n      <td>2497064</td>\n      <td>1441037</td>\n      <td>46</td>\n      <td>681021</td>\n      <td>4983</td>\n      <td>186165</td>\n      <td>15</td>\n      <td>56613</td>\n      <td>...</td>\n      <td>0</td>\n      <td>1230</td>\n      <td>0</td>\n      <td>84</td>\n      <td>87</td>\n      <td>26</td>\n      <td>3</td>\n      <td>4</td>\n      <td>0</td>\n      <td>3</td>\n    </tr>\n    <tr>\n      <th>https://api.crossref.org/snapshots/monthly/2023/09/all.json.tar.gz</th>\n      <td>324639</td>\n      <td>202667</td>\n      <td>18898</td>\n      <td>106965</td>\n      <td>0</td>\n      <td>220589</td>\n      <td>484</td>\n      <td>2287</td>\n      <td>0</td>\n      <td>5003</td>\n      <td>...</td>\n      <td>0</td>\n      <td>1197</td>\n      <td>0</td>\n      <td>778</td>\n      <td>0</td>\n      <td>1</td>\n      <td>26</td>\n      <td>0</td>\n      <td>0</td>\n      <td>0</td>\n    </tr>\n    <tr>\n      <th>https://doi.org/10.5281/zenodo.7845968</th>\n      <td>11487</td>\n      <td>1075</td>\n      <td>1247</td>\n      <td>0</td>\n      <td>203240</td>\n      <td>355075</td>\n      <td>202018</td>\n      <td>0</td>\n      <td>1993</td>\n      <td>19</td>\n      <td>...</td>\n      <td>7983</td>\n      <td>690</td>\n      <td>1992</td>\n      <td>0</td>\n      <td>0</td>\n      <td>0</td>\n      <td>0</td>\n      <td>0</td>\n      <td>4</td>\n      <td>0</td>\n    </tr>\n    <tr>\n      <th>https://nih.figshare.com/collections/iCite_Database_Snapshots_NIH_Open_Citation_Collection_/4586573/42</th>\n      <td>786</td>\n      <td>102115</td>\n      <td>3757</td>\n      <td>22602</td>\n      <td>0</td>\n      <td>154</td>\n      <td>42009</td>\n      <td>1</td>\n      <td>0</td>\n      <td>41579</td>\n      <td>...</td>\n      <td>0</td>\n      <td>0</td>\n      <td>0</td>\n      <td>0</td>\n      <td>0</td>\n      <td>16</td>\n      <td>0</td>\n      <td>0</td>\n      <td>0</td>\n      <td>0</td>\n    </tr>\n    <tr>\n      <th>https://doi.org/10.5281/zenodo.7845968 https://api.crossref.org/</th>\n      <td>17</td>\n      <td>2867</td>\n      <td>2</td>\n      <td>1730</td>\n      <td>190</td>\n      <td>16</td>\n      <td>57</td>\n      <td>0</td>\n      <td>0</td>\n      <td>5</td>\n      <td>...</td>\n      <td>5</td>\n      <td>0</td>\n      <td>5</td>\n      <td>0</td>\n      <td>0</td>\n      <td>0</td>\n      <td>0</td>\n      <td>0</td>\n      <td>0</td>\n      <td>0</td>\n    </tr>\n  </tbody>\n</table>\n<p>5 rows × 21 columns</p>\n</div>"
     },
     "execution_count": 156,
     "metadata": {},
     "output_type": "execute_result"
    }
   ],
   "source": [
    "prov_df_copy = prov_df.copy()\n",
    "prov_df_copy.fillna(0, inplace=True)\n",
    "\n",
    "for col in prov_df_copy.columns:\n",
    "    prov_df_copy[col] = prov_df_copy[col].apply(lambda x: sum(x.values()) if isinstance(x, dict) else x)\n",
    "\n",
    "prov_df_copy.head()"
   ],
   "metadata": {
    "collapsed": false,
    "ExecuteTime": {
     "end_time": "2024-01-09T19:11:15.260503800Z",
     "start_time": "2024-01-09T19:11:15.028432700Z"
    }
   },
   "id": "37a1bee68931b14a"
  },
  {
   "cell_type": "markdown",
   "source": [
    "We can visualize the results in a histogram showing only the number of unmapped OC Meta BRs for every BR type."
   ],
   "metadata": {
    "collapsed": false
   },
   "id": "a967d655e42ea476"
  },
  {
   "cell_type": "code",
   "execution_count": 157,
   "outputs": [
    {
     "data": {
      "application/vnd.plotly.v1+json": {
       "data": [
        {
         "alignmentgroup": "True",
         "customdata": [
          [
           5371580,
           11535
          ]
         ],
         "hovertemplate": "<b>%{hovertext}</b><br><br>Legend Label=proceedings (5383115)<br>BR Type=%{x}<br>Number of BRs=%{text}<br>omid_only_sum=%{customdata[0]}<br>other_pids_sum=%{customdata[1]}<extra></extra>",
         "hovertext": [
          "proceedings (5383115)"
         ],
         "legendgroup": "proceedings (5383115)",
         "marker": {
          "color": "#636efa",
          "pattern": {
           "shape": ""
          }
         },
         "name": "proceedings (5383115)",
         "offsetgroup": "proceedings (5383115)",
         "orientation": "v",
         "showlegend": true,
         "text": [
          5383115.0
         ],
         "textposition": "auto",
         "x": [
          "proceedings"
         ],
         "xaxis": "x",
         "y": [
          5383115
         ],
         "yaxis": "y",
         "type": "bar"
        },
        {
         "alignmentgroup": "True",
         "customdata": [
          [
           4983903,
           80127
          ]
         ],
         "hovertemplate": "<b>%{hovertext}</b><br><br>Legend Label=journal issue (5064030)<br>BR Type=%{x}<br>Number of BRs=%{text}<br>omid_only_sum=%{customdata[0]}<br>other_pids_sum=%{customdata[1]}<extra></extra>",
         "hovertext": [
          "journal issue (5064030)"
         ],
         "legendgroup": "journal issue (5064030)",
         "marker": {
          "color": "#EF553B",
          "pattern": {
           "shape": ""
          }
         },
         "name": "journal issue (5064030)",
         "offsetgroup": "journal issue (5064030)",
         "orientation": "v",
         "showlegend": true,
         "text": [
          5064030.0
         ],
         "textposition": "auto",
         "x": [
          "journal issue"
         ],
         "xaxis": "x",
         "y": [
          5064030
         ],
         "yaxis": "y",
         "type": "bar"
        },
        {
         "alignmentgroup": "True",
         "customdata": [
          [
           2411651,
           110235
          ]
         ],
         "hovertemplate": "<b>%{hovertext}</b><br><br>Legend Label=book (2521886)<br>BR Type=%{x}<br>Number of BRs=%{text}<br>omid_only_sum=%{customdata[0]}<br>other_pids_sum=%{customdata[1]}<extra></extra>",
         "hovertext": [
          "book (2521886)"
         ],
         "legendgroup": "book (2521886)",
         "marker": {
          "color": "#00cc96",
          "pattern": {
           "shape": ""
          }
         },
         "name": "book (2521886)",
         "offsetgroup": "book (2521886)",
         "orientation": "v",
         "showlegend": true,
         "text": [
          2521886.0
         ],
         "textposition": "auto",
         "x": [
          "book"
         ],
         "xaxis": "x",
         "y": [
          2521886
         ],
         "yaxis": "y",
         "type": "bar"
        },
        {
         "alignmentgroup": "True",
         "customdata": [
          [
           1575739,
           95
          ]
         ],
         "hovertemplate": "<b>%{hovertext}</b><br><br>Legend Label=journal volume (1575834)<br>BR Type=%{x}<br>Number of BRs=%{text}<br>omid_only_sum=%{customdata[0]}<br>other_pids_sum=%{customdata[1]}<extra></extra>",
         "hovertext": [
          "journal volume (1575834)"
         ],
         "legendgroup": "journal volume (1575834)",
         "marker": {
          "color": "#ab63fa",
          "pattern": {
           "shape": ""
          }
         },
         "name": "journal volume (1575834)",
         "offsetgroup": "journal volume (1575834)",
         "orientation": "v",
         "showlegend": true,
         "text": [
          1575834.0
         ],
         "textposition": "auto",
         "x": [
          "journal volume"
         ],
         "xaxis": "x",
         "y": [
          1575834
         ],
         "yaxis": "y",
         "type": "bar"
        },
        {
         "alignmentgroup": "True",
         "customdata": [
          [
           0,
           1445341
          ]
         ],
         "hovertemplate": "<b>%{hovertext}</b><br><br>Legend Label=dataset (1445341)<br>BR Type=%{x}<br>Number of BRs=%{text}<br>omid_only_sum=%{customdata[0]}<br>other_pids_sum=%{customdata[1]}<extra></extra>",
         "hovertext": [
          "dataset (1445341)"
         ],
         "legendgroup": "dataset (1445341)",
         "marker": {
          "color": "#FFA15A",
          "pattern": {
           "shape": ""
          }
         },
         "name": "dataset (1445341)",
         "offsetgroup": "dataset (1445341)",
         "orientation": "v",
         "showlegend": true,
         "text": [
          1445341.0
         ],
         "textposition": "auto",
         "x": [
          "dataset"
         ],
         "xaxis": "x",
         "y": [
          1445341
         ],
         "yaxis": "y",
         "type": "bar"
        },
        {
         "alignmentgroup": "True",
         "customdata": [
          [
           428192,
           991020
          ]
         ],
         "hovertemplate": "<b>%{hovertext}</b><br><br>Legend Label=Unspecified (1419212)<br>BR Type=%{x}<br>Number of BRs=%{text}<br>omid_only_sum=%{customdata[0]}<br>other_pids_sum=%{customdata[1]}<extra></extra>",
         "hovertext": [
          "Unspecified (1419212)"
         ],
         "legendgroup": "Unspecified (1419212)",
         "marker": {
          "color": "#19d3f3",
          "pattern": {
           "shape": ""
          }
         },
         "name": "Unspecified (1419212)",
         "offsetgroup": "Unspecified (1419212)",
         "orientation": "v",
         "showlegend": true,
         "text": [
          1419212.0
         ],
         "textposition": "auto",
         "x": [
          "Unspecified"
         ],
         "xaxis": "x",
         "y": [
          1419212
         ],
         "yaxis": "y",
         "type": "bar"
        },
        {
         "alignmentgroup": "True",
         "customdata": [
          [
           0,
           253284
          ]
         ],
         "hovertemplate": "<b>%{hovertext}</b><br><br>Legend Label=journal article (253284)<br>BR Type=%{x}<br>Number of BRs=%{text}<br>omid_only_sum=%{customdata[0]}<br>other_pids_sum=%{customdata[1]}<extra></extra>",
         "hovertext": [
          "journal article (253284)"
         ],
         "legendgroup": "journal article (253284)",
         "marker": {
          "color": "#FF6692",
          "pattern": {
           "shape": ""
          }
         },
         "name": "journal article (253284)",
         "offsetgroup": "journal article (253284)",
         "orientation": "v",
         "showlegend": true,
         "text": [
          253284.0
         ],
         "textposition": "auto",
         "x": [
          "journal article"
         ],
         "xaxis": "x",
         "y": [
          253284
         ],
         "yaxis": "y",
         "type": "bar"
        },
        {
         "alignmentgroup": "True",
         "customdata": [
          [
           188427,
           26
          ]
         ],
         "hovertemplate": "<b>%{hovertext}</b><br><br>Legend Label=reference book (188453)<br>BR Type=%{x}<br>Number of BRs=%{text}<br>omid_only_sum=%{customdata[0]}<br>other_pids_sum=%{customdata[1]}<extra></extra>",
         "hovertext": [
          "reference book (188453)"
         ],
         "legendgroup": "reference book (188453)",
         "marker": {
          "color": "#B6E880",
          "pattern": {
           "shape": ""
          }
         },
         "name": "reference book (188453)",
         "offsetgroup": "reference book (188453)",
         "orientation": "v",
         "showlegend": true,
         "text": [
          188453.0
         ],
         "textposition": "auto",
         "x": [
          "reference book"
         ],
         "xaxis": "x",
         "y": [
          188453
         ],
         "yaxis": "y",
         "type": "bar"
        },
        {
         "alignmentgroup": "True",
         "customdata": [
          [
           0,
           135997
          ]
         ],
         "hovertemplate": "<b>%{hovertext}</b><br><br>Legend Label=report (135997)<br>BR Type=%{x}<br>Number of BRs=%{text}<br>omid_only_sum=%{customdata[0]}<br>other_pids_sum=%{customdata[1]}<extra></extra>",
         "hovertext": [
          "report (135997)"
         ],
         "legendgroup": "report (135997)",
         "marker": {
          "color": "#FF97FF",
          "pattern": {
           "shape": ""
          }
         },
         "name": "report (135997)",
         "offsetgroup": "report (135997)",
         "orientation": "v",
         "showlegend": true,
         "text": [
          135997.0
         ],
         "textposition": "auto",
         "x": [
          "report"
         ],
         "xaxis": "x",
         "y": [
          135997
         ],
         "yaxis": "y",
         "type": "bar"
        },
        {
         "alignmentgroup": "True",
         "customdata": [
          [
           101660,
           1603
          ]
         ],
         "hovertemplate": "<b>%{hovertext}</b><br><br>Legend Label=journal (103263)<br>BR Type=%{x}<br>Number of BRs=%{text}<br>omid_only_sum=%{customdata[0]}<br>other_pids_sum=%{customdata[1]}<extra></extra>",
         "hovertext": [
          "journal (103263)"
         ],
         "legendgroup": "journal (103263)",
         "marker": {
          "color": "#FECB52",
          "pattern": {
           "shape": ""
          }
         },
         "name": "journal (103263)",
         "offsetgroup": "journal (103263)",
         "orientation": "v",
         "showlegend": true,
         "text": [
          103263.0
         ],
         "textposition": "auto",
         "x": [
          "journal"
         ],
         "xaxis": "x",
         "y": [
          103263
         ],
         "yaxis": "y",
         "type": "bar"
        },
        {
         "alignmentgroup": "True",
         "customdata": [
          [
           26685,
           173
          ]
         ],
         "hovertemplate": "<b>%{hovertext}</b><br><br>Legend Label=book series (26858)<br>BR Type=%{x}<br>Number of BRs=%{text}<br>omid_only_sum=%{customdata[0]}<br>other_pids_sum=%{customdata[1]}<extra></extra>",
         "hovertext": [
          "book series (26858)"
         ],
         "legendgroup": "book series (26858)",
         "marker": {
          "color": "#636efa",
          "pattern": {
           "shape": ""
          }
         },
         "name": "book series (26858)",
         "offsetgroup": "book series (26858)",
         "orientation": "v",
         "showlegend": true,
         "text": [
          26858.0
         ],
         "textposition": "auto",
         "x": [
          "book series"
         ],
         "xaxis": "x",
         "y": [
          26858
         ],
         "yaxis": "y",
         "type": "bar"
        },
        {
         "alignmentgroup": "True",
         "customdata": [
          [
           0,
           7991
          ]
         ],
         "hovertemplate": "<b>%{hovertext}</b><br><br>Legend Label=dissertation (7991)<br>BR Type=%{x}<br>Number of BRs=%{text}<br>omid_only_sum=%{customdata[0]}<br>other_pids_sum=%{customdata[1]}<extra></extra>",
         "hovertext": [
          "dissertation (7991)"
         ],
         "legendgroup": "dissertation (7991)",
         "marker": {
          "color": "#EF553B",
          "pattern": {
           "shape": ""
          }
         },
         "name": "dissertation (7991)",
         "offsetgroup": "dissertation (7991)",
         "orientation": "v",
         "showlegend": true,
         "text": [
          7991.0
         ],
         "textposition": "auto",
         "x": [
          "dissertation"
         ],
         "xaxis": "x",
         "y": [
          7991
         ],
         "yaxis": "y",
         "type": "bar"
        },
        {
         "alignmentgroup": "True",
         "customdata": [
          [
           0,
           3294
          ]
         ],
         "hovertemplate": "<b>%{hovertext}</b><br><br>Legend Label=book chapter (3294)<br>BR Type=%{x}<br>Number of BRs=%{text}<br>omid_only_sum=%{customdata[0]}<br>other_pids_sum=%{customdata[1]}<extra></extra>",
         "hovertext": [
          "book chapter (3294)"
         ],
         "legendgroup": "book chapter (3294)",
         "marker": {
          "color": "#00cc96",
          "pattern": {
           "shape": ""
          }
         },
         "name": "book chapter (3294)",
         "offsetgroup": "book chapter (3294)",
         "orientation": "v",
         "showlegend": true,
         "text": [
          3294.0
         ],
         "textposition": "auto",
         "x": [
          "book chapter"
         ],
         "xaxis": "x",
         "y": [
          3294
         ],
         "yaxis": "y",
         "type": "bar"
        },
        {
         "alignmentgroup": "True",
         "customdata": [
          [
           0,
           2000
          ]
         ],
         "hovertemplate": "<b>%{hovertext}</b><br><br>Legend Label=computer program (2000)<br>BR Type=%{x}<br>Number of BRs=%{text}<br>omid_only_sum=%{customdata[0]}<br>other_pids_sum=%{customdata[1]}<extra></extra>",
         "hovertext": [
          "computer program (2000)"
         ],
         "legendgroup": "computer program (2000)",
         "marker": {
          "color": "#ab63fa",
          "pattern": {
           "shape": ""
          }
         },
         "name": "computer program (2000)",
         "offsetgroup": "computer program (2000)",
         "orientation": "v",
         "showlegend": true,
         "text": [
          2000.0
         ],
         "textposition": "auto",
         "x": [
          "computer program"
         ],
         "xaxis": "x",
         "y": [
          2000
         ],
         "yaxis": "y",
         "type": "bar"
        },
        {
         "alignmentgroup": "True",
         "customdata": [
          [
           0,
           868
          ]
         ],
         "hovertemplate": "<b>%{hovertext}</b><br><br>Legend Label=proceedings article (868)<br>BR Type=%{x}<br>Number of BRs=%{text}<br>omid_only_sum=%{customdata[0]}<br>other_pids_sum=%{customdata[1]}<extra></extra>",
         "hovertext": [
          "proceedings article (868)"
         ],
         "legendgroup": "proceedings article (868)",
         "marker": {
          "color": "#FFA15A",
          "pattern": {
           "shape": ""
          }
         },
         "name": "proceedings article (868)",
         "offsetgroup": "proceedings article (868)",
         "orientation": "v",
         "showlegend": true,
         "text": [
          868.0
         ],
         "textposition": "auto",
         "x": [
          "proceedings article"
         ],
         "xaxis": "x",
         "y": [
          868
         ],
         "yaxis": "y",
         "type": "bar"
        },
        {
         "alignmentgroup": "True",
         "customdata": [
          [
           0,
           89
          ]
         ],
         "hovertemplate": "<b>%{hovertext}</b><br><br>Legend Label=reference entry (89)<br>BR Type=%{x}<br>Number of BRs=%{text}<br>omid_only_sum=%{customdata[0]}<br>other_pids_sum=%{customdata[1]}<extra></extra>",
         "hovertext": [
          "reference entry (89)"
         ],
         "legendgroup": "reference entry (89)",
         "marker": {
          "color": "#19d3f3",
          "pattern": {
           "shape": ""
          }
         },
         "name": "reference entry (89)",
         "offsetgroup": "reference entry (89)",
         "orientation": "v",
         "showlegend": true,
         "text": [
          89.0
         ],
         "textposition": "auto",
         "x": [
          "reference entry"
         ],
         "xaxis": "x",
         "y": [
          89
         ],
         "yaxis": "y",
         "type": "bar"
        },
        {
         "alignmentgroup": "True",
         "customdata": [
          [
           38,
           25
          ]
         ],
         "hovertemplate": "<b>%{hovertext}</b><br><br>Legend Label=series (63)<br>BR Type=%{x}<br>Number of BRs=%{text}<br>omid_only_sum=%{customdata[0]}<br>other_pids_sum=%{customdata[1]}<extra></extra>",
         "hovertext": [
          "series (63)"
         ],
         "legendgroup": "series (63)",
         "marker": {
          "color": "#FF6692",
          "pattern": {
           "shape": ""
          }
         },
         "name": "series (63)",
         "offsetgroup": "series (63)",
         "orientation": "v",
         "showlegend": true,
         "text": [
          63.0
         ],
         "textposition": "auto",
         "x": [
          "series"
         ],
         "xaxis": "x",
         "y": [
          63
         ],
         "yaxis": "y",
         "type": "bar"
        },
        {
         "alignmentgroup": "True",
         "customdata": [
          [
           0,
           29
          ]
         ],
         "hovertemplate": "<b>%{hovertext}</b><br><br>Legend Label=web content (29)<br>BR Type=%{x}<br>Number of BRs=%{text}<br>omid_only_sum=%{customdata[0]}<br>other_pids_sum=%{customdata[1]}<extra></extra>",
         "hovertext": [
          "web content (29)"
         ],
         "legendgroup": "web content (29)",
         "marker": {
          "color": "#B6E880",
          "pattern": {
           "shape": ""
          }
         },
         "name": "web content (29)",
         "offsetgroup": "web content (29)",
         "orientation": "v",
         "showlegend": true,
         "text": [
          29.0
         ],
         "textposition": "auto",
         "x": [
          "web content"
         ],
         "xaxis": "x",
         "y": [
          29
         ],
         "yaxis": "y",
         "type": "bar"
        },
        {
         "alignmentgroup": "True",
         "customdata": [
          [
           0,
           4
          ]
         ],
         "hovertemplate": "<b>%{hovertext}</b><br><br>Legend Label=standard (4)<br>BR Type=%{x}<br>Number of BRs=%{text}<br>omid_only_sum=%{customdata[0]}<br>other_pids_sum=%{customdata[1]}<extra></extra>",
         "hovertext": [
          "standard (4)"
         ],
         "legendgroup": "standard (4)",
         "marker": {
          "color": "#FF97FF",
          "pattern": {
           "shape": ""
          }
         },
         "name": "standard (4)",
         "offsetgroup": "standard (4)",
         "orientation": "v",
         "showlegend": true,
         "text": [
          4.0
         ],
         "textposition": "auto",
         "x": [
          "standard"
         ],
         "xaxis": "x",
         "y": [
          4
         ],
         "yaxis": "y",
         "type": "bar"
        },
        {
         "alignmentgroup": "True",
         "customdata": [
          [
           0,
           4
          ]
         ],
         "hovertemplate": "<b>%{hovertext}</b><br><br>Legend Label=data management plan (4)<br>BR Type=%{x}<br>Number of BRs=%{text}<br>omid_only_sum=%{customdata[0]}<br>other_pids_sum=%{customdata[1]}<extra></extra>",
         "hovertext": [
          "data management plan (4)"
         ],
         "legendgroup": "data management plan (4)",
         "marker": {
          "color": "#FECB52",
          "pattern": {
           "shape": ""
          }
         },
         "name": "data management plan (4)",
         "offsetgroup": "data management plan (4)",
         "orientation": "v",
         "showlegend": true,
         "text": [
          4.0
         ],
         "textposition": "auto",
         "x": [
          "data management plan"
         ],
         "xaxis": "x",
         "y": [
          4
         ],
         "yaxis": "y",
         "type": "bar"
        },
        {
         "alignmentgroup": "True",
         "customdata": [
          [
           0,
           3
          ]
         ],
         "hovertemplate": "<b>%{hovertext}</b><br><br>Legend Label=book section (3)<br>BR Type=%{x}<br>Number of BRs=%{text}<br>omid_only_sum=%{customdata[0]}<br>other_pids_sum=%{customdata[1]}<extra></extra>",
         "hovertext": [
          "book section (3)"
         ],
         "legendgroup": "book section (3)",
         "marker": {
          "color": "#636efa",
          "pattern": {
           "shape": ""
          }
         },
         "name": "book section (3)",
         "offsetgroup": "book section (3)",
         "orientation": "v",
         "showlegend": true,
         "text": [
          3.0
         ],
         "textposition": "auto",
         "x": [
          "book section"
         ],
         "xaxis": "x",
         "y": [
          3
         ],
         "yaxis": "y",
         "type": "bar"
        }
       ],
       "layout": {
        "template": {
         "data": {
          "histogram2dcontour": [
           {
            "type": "histogram2dcontour",
            "colorbar": {
             "outlinewidth": 0,
             "ticks": ""
            },
            "colorscale": [
             [
              0.0,
              "#0d0887"
             ],
             [
              0.1111111111111111,
              "#46039f"
             ],
             [
              0.2222222222222222,
              "#7201a8"
             ],
             [
              0.3333333333333333,
              "#9c179e"
             ],
             [
              0.4444444444444444,
              "#bd3786"
             ],
             [
              0.5555555555555556,
              "#d8576b"
             ],
             [
              0.6666666666666666,
              "#ed7953"
             ],
             [
              0.7777777777777778,
              "#fb9f3a"
             ],
             [
              0.8888888888888888,
              "#fdca26"
             ],
             [
              1.0,
              "#f0f921"
             ]
            ]
           }
          ],
          "choropleth": [
           {
            "type": "choropleth",
            "colorbar": {
             "outlinewidth": 0,
             "ticks": ""
            }
           }
          ],
          "histogram2d": [
           {
            "type": "histogram2d",
            "colorbar": {
             "outlinewidth": 0,
             "ticks": ""
            },
            "colorscale": [
             [
              0.0,
              "#0d0887"
             ],
             [
              0.1111111111111111,
              "#46039f"
             ],
             [
              0.2222222222222222,
              "#7201a8"
             ],
             [
              0.3333333333333333,
              "#9c179e"
             ],
             [
              0.4444444444444444,
              "#bd3786"
             ],
             [
              0.5555555555555556,
              "#d8576b"
             ],
             [
              0.6666666666666666,
              "#ed7953"
             ],
             [
              0.7777777777777778,
              "#fb9f3a"
             ],
             [
              0.8888888888888888,
              "#fdca26"
             ],
             [
              1.0,
              "#f0f921"
             ]
            ]
           }
          ],
          "heatmap": [
           {
            "type": "heatmap",
            "colorbar": {
             "outlinewidth": 0,
             "ticks": ""
            },
            "colorscale": [
             [
              0.0,
              "#0d0887"
             ],
             [
              0.1111111111111111,
              "#46039f"
             ],
             [
              0.2222222222222222,
              "#7201a8"
             ],
             [
              0.3333333333333333,
              "#9c179e"
             ],
             [
              0.4444444444444444,
              "#bd3786"
             ],
             [
              0.5555555555555556,
              "#d8576b"
             ],
             [
              0.6666666666666666,
              "#ed7953"
             ],
             [
              0.7777777777777778,
              "#fb9f3a"
             ],
             [
              0.8888888888888888,
              "#fdca26"
             ],
             [
              1.0,
              "#f0f921"
             ]
            ]
           }
          ],
          "heatmapgl": [
           {
            "type": "heatmapgl",
            "colorbar": {
             "outlinewidth": 0,
             "ticks": ""
            },
            "colorscale": [
             [
              0.0,
              "#0d0887"
             ],
             [
              0.1111111111111111,
              "#46039f"
             ],
             [
              0.2222222222222222,
              "#7201a8"
             ],
             [
              0.3333333333333333,
              "#9c179e"
             ],
             [
              0.4444444444444444,
              "#bd3786"
             ],
             [
              0.5555555555555556,
              "#d8576b"
             ],
             [
              0.6666666666666666,
              "#ed7953"
             ],
             [
              0.7777777777777778,
              "#fb9f3a"
             ],
             [
              0.8888888888888888,
              "#fdca26"
             ],
             [
              1.0,
              "#f0f921"
             ]
            ]
           }
          ],
          "contourcarpet": [
           {
            "type": "contourcarpet",
            "colorbar": {
             "outlinewidth": 0,
             "ticks": ""
            }
           }
          ],
          "contour": [
           {
            "type": "contour",
            "colorbar": {
             "outlinewidth": 0,
             "ticks": ""
            },
            "colorscale": [
             [
              0.0,
              "#0d0887"
             ],
             [
              0.1111111111111111,
              "#46039f"
             ],
             [
              0.2222222222222222,
              "#7201a8"
             ],
             [
              0.3333333333333333,
              "#9c179e"
             ],
             [
              0.4444444444444444,
              "#bd3786"
             ],
             [
              0.5555555555555556,
              "#d8576b"
             ],
             [
              0.6666666666666666,
              "#ed7953"
             ],
             [
              0.7777777777777778,
              "#fb9f3a"
             ],
             [
              0.8888888888888888,
              "#fdca26"
             ],
             [
              1.0,
              "#f0f921"
             ]
            ]
           }
          ],
          "surface": [
           {
            "type": "surface",
            "colorbar": {
             "outlinewidth": 0,
             "ticks": ""
            },
            "colorscale": [
             [
              0.0,
              "#0d0887"
             ],
             [
              0.1111111111111111,
              "#46039f"
             ],
             [
              0.2222222222222222,
              "#7201a8"
             ],
             [
              0.3333333333333333,
              "#9c179e"
             ],
             [
              0.4444444444444444,
              "#bd3786"
             ],
             [
              0.5555555555555556,
              "#d8576b"
             ],
             [
              0.6666666666666666,
              "#ed7953"
             ],
             [
              0.7777777777777778,
              "#fb9f3a"
             ],
             [
              0.8888888888888888,
              "#fdca26"
             ],
             [
              1.0,
              "#f0f921"
             ]
            ]
           }
          ],
          "mesh3d": [
           {
            "type": "mesh3d",
            "colorbar": {
             "outlinewidth": 0,
             "ticks": ""
            }
           }
          ],
          "scatter": [
           {
            "marker": {
             "line": {
              "color": "#283442"
             }
            },
            "type": "scatter"
           }
          ],
          "parcoords": [
           {
            "type": "parcoords",
            "line": {
             "colorbar": {
              "outlinewidth": 0,
              "ticks": ""
             }
            }
           }
          ],
          "scatterpolargl": [
           {
            "type": "scatterpolargl",
            "marker": {
             "colorbar": {
              "outlinewidth": 0,
              "ticks": ""
             }
            }
           }
          ],
          "bar": [
           {
            "error_x": {
             "color": "#f2f5fa"
            },
            "error_y": {
             "color": "#f2f5fa"
            },
            "marker": {
             "line": {
              "color": "rgb(17,17,17)",
              "width": 0.5
             },
             "pattern": {
              "fillmode": "overlay",
              "size": 10,
              "solidity": 0.2
             }
            },
            "type": "bar"
           }
          ],
          "scattergeo": [
           {
            "type": "scattergeo",
            "marker": {
             "colorbar": {
              "outlinewidth": 0,
              "ticks": ""
             }
            }
           }
          ],
          "scatterpolar": [
           {
            "type": "scatterpolar",
            "marker": {
             "colorbar": {
              "outlinewidth": 0,
              "ticks": ""
             }
            }
           }
          ],
          "histogram": [
           {
            "marker": {
             "pattern": {
              "fillmode": "overlay",
              "size": 10,
              "solidity": 0.2
             }
            },
            "type": "histogram"
           }
          ],
          "scattergl": [
           {
            "marker": {
             "line": {
              "color": "#283442"
             }
            },
            "type": "scattergl"
           }
          ],
          "scatter3d": [
           {
            "type": "scatter3d",
            "line": {
             "colorbar": {
              "outlinewidth": 0,
              "ticks": ""
             }
            },
            "marker": {
             "colorbar": {
              "outlinewidth": 0,
              "ticks": ""
             }
            }
           }
          ],
          "scattermapbox": [
           {
            "type": "scattermapbox",
            "marker": {
             "colorbar": {
              "outlinewidth": 0,
              "ticks": ""
             }
            }
           }
          ],
          "scatterternary": [
           {
            "type": "scatterternary",
            "marker": {
             "colorbar": {
              "outlinewidth": 0,
              "ticks": ""
             }
            }
           }
          ],
          "scattercarpet": [
           {
            "type": "scattercarpet",
            "marker": {
             "colorbar": {
              "outlinewidth": 0,
              "ticks": ""
             }
            }
           }
          ],
          "carpet": [
           {
            "aaxis": {
             "endlinecolor": "#A2B1C6",
             "gridcolor": "#506784",
             "linecolor": "#506784",
             "minorgridcolor": "#506784",
             "startlinecolor": "#A2B1C6"
            },
            "baxis": {
             "endlinecolor": "#A2B1C6",
             "gridcolor": "#506784",
             "linecolor": "#506784",
             "minorgridcolor": "#506784",
             "startlinecolor": "#A2B1C6"
            },
            "type": "carpet"
           }
          ],
          "table": [
           {
            "cells": {
             "fill": {
              "color": "#506784"
             },
             "line": {
              "color": "rgb(17,17,17)"
             }
            },
            "header": {
             "fill": {
              "color": "#2a3f5f"
             },
             "line": {
              "color": "rgb(17,17,17)"
             }
            },
            "type": "table"
           }
          ],
          "barpolar": [
           {
            "marker": {
             "line": {
              "color": "rgb(17,17,17)",
              "width": 0.5
             },
             "pattern": {
              "fillmode": "overlay",
              "size": 10,
              "solidity": 0.2
             }
            },
            "type": "barpolar"
           }
          ],
          "pie": [
           {
            "automargin": true,
            "type": "pie"
           }
          ]
         },
         "layout": {
          "autotypenumbers": "strict",
          "colorway": [
           "#636efa",
           "#EF553B",
           "#00cc96",
           "#ab63fa",
           "#FFA15A",
           "#19d3f3",
           "#FF6692",
           "#B6E880",
           "#FF97FF",
           "#FECB52"
          ],
          "font": {
           "color": "#f2f5fa"
          },
          "hovermode": "closest",
          "hoverlabel": {
           "align": "left"
          },
          "paper_bgcolor": "rgb(17,17,17)",
          "plot_bgcolor": "rgb(17,17,17)",
          "polar": {
           "bgcolor": "rgb(17,17,17)",
           "angularaxis": {
            "gridcolor": "#506784",
            "linecolor": "#506784",
            "ticks": ""
           },
           "radialaxis": {
            "gridcolor": "#506784",
            "linecolor": "#506784",
            "ticks": ""
           }
          },
          "ternary": {
           "bgcolor": "rgb(17,17,17)",
           "aaxis": {
            "gridcolor": "#506784",
            "linecolor": "#506784",
            "ticks": ""
           },
           "baxis": {
            "gridcolor": "#506784",
            "linecolor": "#506784",
            "ticks": ""
           },
           "caxis": {
            "gridcolor": "#506784",
            "linecolor": "#506784",
            "ticks": ""
           }
          },
          "coloraxis": {
           "colorbar": {
            "outlinewidth": 0,
            "ticks": ""
           }
          },
          "colorscale": {
           "sequential": [
            [
             0.0,
             "#0d0887"
            ],
            [
             0.1111111111111111,
             "#46039f"
            ],
            [
             0.2222222222222222,
             "#7201a8"
            ],
            [
             0.3333333333333333,
             "#9c179e"
            ],
            [
             0.4444444444444444,
             "#bd3786"
            ],
            [
             0.5555555555555556,
             "#d8576b"
            ],
            [
             0.6666666666666666,
             "#ed7953"
            ],
            [
             0.7777777777777778,
             "#fb9f3a"
            ],
            [
             0.8888888888888888,
             "#fdca26"
            ],
            [
             1.0,
             "#f0f921"
            ]
           ],
           "sequentialminus": [
            [
             0.0,
             "#0d0887"
            ],
            [
             0.1111111111111111,
             "#46039f"
            ],
            [
             0.2222222222222222,
             "#7201a8"
            ],
            [
             0.3333333333333333,
             "#9c179e"
            ],
            [
             0.4444444444444444,
             "#bd3786"
            ],
            [
             0.5555555555555556,
             "#d8576b"
            ],
            [
             0.6666666666666666,
             "#ed7953"
            ],
            [
             0.7777777777777778,
             "#fb9f3a"
            ],
            [
             0.8888888888888888,
             "#fdca26"
            ],
            [
             1.0,
             "#f0f921"
            ]
           ],
           "diverging": [
            [
             0,
             "#8e0152"
            ],
            [
             0.1,
             "#c51b7d"
            ],
            [
             0.2,
             "#de77ae"
            ],
            [
             0.3,
             "#f1b6da"
            ],
            [
             0.4,
             "#fde0ef"
            ],
            [
             0.5,
             "#f7f7f7"
            ],
            [
             0.6,
             "#e6f5d0"
            ],
            [
             0.7,
             "#b8e186"
            ],
            [
             0.8,
             "#7fbc41"
            ],
            [
             0.9,
             "#4d9221"
            ],
            [
             1,
             "#276419"
            ]
           ]
          },
          "xaxis": {
           "gridcolor": "#283442",
           "linecolor": "#506784",
           "ticks": "",
           "title": {
            "standoff": 15
           },
           "zerolinecolor": "#283442",
           "automargin": true,
           "zerolinewidth": 2
          },
          "yaxis": {
           "gridcolor": "#283442",
           "linecolor": "#506784",
           "ticks": "",
           "title": {
            "standoff": 15
           },
           "zerolinecolor": "#283442",
           "automargin": true,
           "zerolinewidth": 2
          },
          "scene": {
           "xaxis": {
            "backgroundcolor": "rgb(17,17,17)",
            "gridcolor": "#506784",
            "linecolor": "#506784",
            "showbackground": true,
            "ticks": "",
            "zerolinecolor": "#C8D4E3",
            "gridwidth": 2
           },
           "yaxis": {
            "backgroundcolor": "rgb(17,17,17)",
            "gridcolor": "#506784",
            "linecolor": "#506784",
            "showbackground": true,
            "ticks": "",
            "zerolinecolor": "#C8D4E3",
            "gridwidth": 2
           },
           "zaxis": {
            "backgroundcolor": "rgb(17,17,17)",
            "gridcolor": "#506784",
            "linecolor": "#506784",
            "showbackground": true,
            "ticks": "",
            "zerolinecolor": "#C8D4E3",
            "gridwidth": 2
           }
          },
          "shapedefaults": {
           "line": {
            "color": "#f2f5fa"
           }
          },
          "annotationdefaults": {
           "arrowcolor": "#f2f5fa",
           "arrowhead": 0,
           "arrowwidth": 1
          },
          "geo": {
           "bgcolor": "rgb(17,17,17)",
           "landcolor": "rgb(17,17,17)",
           "subunitcolor": "#506784",
           "showland": true,
           "showlakes": true,
           "lakecolor": "rgb(17,17,17)"
          },
          "title": {
           "x": 0.05
          },
          "updatemenudefaults": {
           "bgcolor": "#506784",
           "borderwidth": 0
          },
          "sliderdefaults": {
           "bgcolor": "#C8D4E3",
           "borderwidth": 1,
           "bordercolor": "rgb(17,17,17)",
           "tickwidth": 0
          },
          "mapbox": {
           "style": "dark"
          }
         }
        },
        "xaxis": {
         "anchor": "y",
         "domain": [
          0.0,
          1.0
         ],
         "title": {
          "text": "BR Type"
         }
        },
        "yaxis": {
         "anchor": "x",
         "domain": [
          0.0,
          1.0
         ],
         "title": {
          "text": "Number of BRs"
         }
        },
        "legend": {
         "title": {
          "text": "Legend Label"
         },
         "tracegroupgap": 0
        },
        "title": {
         "text": "Number of non-mapped BRs per BR Type"
        },
        "barmode": "relative"
       },
       "config": {
        "plotlyServerURL": "https://plotly.com"
       }
      },
      "text/html": "<div>                            <div id=\"4957da7f-2bab-48b0-a8b1-c8b58fa179a2\" class=\"plotly-graph-div\" style=\"height:525px; width:100%;\"></div>            <script type=\"text/javascript\">                require([\"plotly\"], function(Plotly) {                    window.PLOTLYENV=window.PLOTLYENV || {};                                    if (document.getElementById(\"4957da7f-2bab-48b0-a8b1-c8b58fa179a2\")) {                    Plotly.newPlot(                        \"4957da7f-2bab-48b0-a8b1-c8b58fa179a2\",                        [{\"alignmentgroup\":\"True\",\"customdata\":[[5371580,11535]],\"hovertemplate\":\"\\u003cb\\u003e%{hovertext}\\u003c\\u002fb\\u003e\\u003cbr\\u003e\\u003cbr\\u003eLegend Label=proceedings (5383115)\\u003cbr\\u003eBR Type=%{x}\\u003cbr\\u003eNumber of BRs=%{text}\\u003cbr\\u003eomid_only_sum=%{customdata[0]}\\u003cbr\\u003eother_pids_sum=%{customdata[1]}\\u003cextra\\u003e\\u003c\\u002fextra\\u003e\",\"hovertext\":[\"proceedings (5383115)\"],\"legendgroup\":\"proceedings (5383115)\",\"marker\":{\"color\":\"#636efa\",\"pattern\":{\"shape\":\"\"}},\"name\":\"proceedings (5383115)\",\"offsetgroup\":\"proceedings (5383115)\",\"orientation\":\"v\",\"showlegend\":true,\"text\":[5383115.0],\"textposition\":\"auto\",\"x\":[\"proceedings\"],\"xaxis\":\"x\",\"y\":[5383115],\"yaxis\":\"y\",\"type\":\"bar\"},{\"alignmentgroup\":\"True\",\"customdata\":[[4983903,80127]],\"hovertemplate\":\"\\u003cb\\u003e%{hovertext}\\u003c\\u002fb\\u003e\\u003cbr\\u003e\\u003cbr\\u003eLegend Label=journal issue (5064030)\\u003cbr\\u003eBR Type=%{x}\\u003cbr\\u003eNumber of BRs=%{text}\\u003cbr\\u003eomid_only_sum=%{customdata[0]}\\u003cbr\\u003eother_pids_sum=%{customdata[1]}\\u003cextra\\u003e\\u003c\\u002fextra\\u003e\",\"hovertext\":[\"journal issue (5064030)\"],\"legendgroup\":\"journal issue (5064030)\",\"marker\":{\"color\":\"#EF553B\",\"pattern\":{\"shape\":\"\"}},\"name\":\"journal issue (5064030)\",\"offsetgroup\":\"journal issue (5064030)\",\"orientation\":\"v\",\"showlegend\":true,\"text\":[5064030.0],\"textposition\":\"auto\",\"x\":[\"journal issue\"],\"xaxis\":\"x\",\"y\":[5064030],\"yaxis\":\"y\",\"type\":\"bar\"},{\"alignmentgroup\":\"True\",\"customdata\":[[2411651,110235]],\"hovertemplate\":\"\\u003cb\\u003e%{hovertext}\\u003c\\u002fb\\u003e\\u003cbr\\u003e\\u003cbr\\u003eLegend Label=book (2521886)\\u003cbr\\u003eBR Type=%{x}\\u003cbr\\u003eNumber of BRs=%{text}\\u003cbr\\u003eomid_only_sum=%{customdata[0]}\\u003cbr\\u003eother_pids_sum=%{customdata[1]}\\u003cextra\\u003e\\u003c\\u002fextra\\u003e\",\"hovertext\":[\"book (2521886)\"],\"legendgroup\":\"book (2521886)\",\"marker\":{\"color\":\"#00cc96\",\"pattern\":{\"shape\":\"\"}},\"name\":\"book (2521886)\",\"offsetgroup\":\"book (2521886)\",\"orientation\":\"v\",\"showlegend\":true,\"text\":[2521886.0],\"textposition\":\"auto\",\"x\":[\"book\"],\"xaxis\":\"x\",\"y\":[2521886],\"yaxis\":\"y\",\"type\":\"bar\"},{\"alignmentgroup\":\"True\",\"customdata\":[[1575739,95]],\"hovertemplate\":\"\\u003cb\\u003e%{hovertext}\\u003c\\u002fb\\u003e\\u003cbr\\u003e\\u003cbr\\u003eLegend Label=journal volume (1575834)\\u003cbr\\u003eBR Type=%{x}\\u003cbr\\u003eNumber of BRs=%{text}\\u003cbr\\u003eomid_only_sum=%{customdata[0]}\\u003cbr\\u003eother_pids_sum=%{customdata[1]}\\u003cextra\\u003e\\u003c\\u002fextra\\u003e\",\"hovertext\":[\"journal volume (1575834)\"],\"legendgroup\":\"journal volume (1575834)\",\"marker\":{\"color\":\"#ab63fa\",\"pattern\":{\"shape\":\"\"}},\"name\":\"journal volume (1575834)\",\"offsetgroup\":\"journal volume (1575834)\",\"orientation\":\"v\",\"showlegend\":true,\"text\":[1575834.0],\"textposition\":\"auto\",\"x\":[\"journal volume\"],\"xaxis\":\"x\",\"y\":[1575834],\"yaxis\":\"y\",\"type\":\"bar\"},{\"alignmentgroup\":\"True\",\"customdata\":[[0,1445341]],\"hovertemplate\":\"\\u003cb\\u003e%{hovertext}\\u003c\\u002fb\\u003e\\u003cbr\\u003e\\u003cbr\\u003eLegend Label=dataset (1445341)\\u003cbr\\u003eBR Type=%{x}\\u003cbr\\u003eNumber of BRs=%{text}\\u003cbr\\u003eomid_only_sum=%{customdata[0]}\\u003cbr\\u003eother_pids_sum=%{customdata[1]}\\u003cextra\\u003e\\u003c\\u002fextra\\u003e\",\"hovertext\":[\"dataset (1445341)\"],\"legendgroup\":\"dataset (1445341)\",\"marker\":{\"color\":\"#FFA15A\",\"pattern\":{\"shape\":\"\"}},\"name\":\"dataset (1445341)\",\"offsetgroup\":\"dataset (1445341)\",\"orientation\":\"v\",\"showlegend\":true,\"text\":[1445341.0],\"textposition\":\"auto\",\"x\":[\"dataset\"],\"xaxis\":\"x\",\"y\":[1445341],\"yaxis\":\"y\",\"type\":\"bar\"},{\"alignmentgroup\":\"True\",\"customdata\":[[428192,991020]],\"hovertemplate\":\"\\u003cb\\u003e%{hovertext}\\u003c\\u002fb\\u003e\\u003cbr\\u003e\\u003cbr\\u003eLegend Label=Unspecified (1419212)\\u003cbr\\u003eBR Type=%{x}\\u003cbr\\u003eNumber of BRs=%{text}\\u003cbr\\u003eomid_only_sum=%{customdata[0]}\\u003cbr\\u003eother_pids_sum=%{customdata[1]}\\u003cextra\\u003e\\u003c\\u002fextra\\u003e\",\"hovertext\":[\"Unspecified (1419212)\"],\"legendgroup\":\"Unspecified (1419212)\",\"marker\":{\"color\":\"#19d3f3\",\"pattern\":{\"shape\":\"\"}},\"name\":\"Unspecified (1419212)\",\"offsetgroup\":\"Unspecified (1419212)\",\"orientation\":\"v\",\"showlegend\":true,\"text\":[1419212.0],\"textposition\":\"auto\",\"x\":[\"Unspecified\"],\"xaxis\":\"x\",\"y\":[1419212],\"yaxis\":\"y\",\"type\":\"bar\"},{\"alignmentgroup\":\"True\",\"customdata\":[[0,253284]],\"hovertemplate\":\"\\u003cb\\u003e%{hovertext}\\u003c\\u002fb\\u003e\\u003cbr\\u003e\\u003cbr\\u003eLegend Label=journal article (253284)\\u003cbr\\u003eBR Type=%{x}\\u003cbr\\u003eNumber of BRs=%{text}\\u003cbr\\u003eomid_only_sum=%{customdata[0]}\\u003cbr\\u003eother_pids_sum=%{customdata[1]}\\u003cextra\\u003e\\u003c\\u002fextra\\u003e\",\"hovertext\":[\"journal article (253284)\"],\"legendgroup\":\"journal article (253284)\",\"marker\":{\"color\":\"#FF6692\",\"pattern\":{\"shape\":\"\"}},\"name\":\"journal article (253284)\",\"offsetgroup\":\"journal article (253284)\",\"orientation\":\"v\",\"showlegend\":true,\"text\":[253284.0],\"textposition\":\"auto\",\"x\":[\"journal article\"],\"xaxis\":\"x\",\"y\":[253284],\"yaxis\":\"y\",\"type\":\"bar\"},{\"alignmentgroup\":\"True\",\"customdata\":[[188427,26]],\"hovertemplate\":\"\\u003cb\\u003e%{hovertext}\\u003c\\u002fb\\u003e\\u003cbr\\u003e\\u003cbr\\u003eLegend Label=reference book (188453)\\u003cbr\\u003eBR Type=%{x}\\u003cbr\\u003eNumber of BRs=%{text}\\u003cbr\\u003eomid_only_sum=%{customdata[0]}\\u003cbr\\u003eother_pids_sum=%{customdata[1]}\\u003cextra\\u003e\\u003c\\u002fextra\\u003e\",\"hovertext\":[\"reference book (188453)\"],\"legendgroup\":\"reference book (188453)\",\"marker\":{\"color\":\"#B6E880\",\"pattern\":{\"shape\":\"\"}},\"name\":\"reference book (188453)\",\"offsetgroup\":\"reference book (188453)\",\"orientation\":\"v\",\"showlegend\":true,\"text\":[188453.0],\"textposition\":\"auto\",\"x\":[\"reference book\"],\"xaxis\":\"x\",\"y\":[188453],\"yaxis\":\"y\",\"type\":\"bar\"},{\"alignmentgroup\":\"True\",\"customdata\":[[0,135997]],\"hovertemplate\":\"\\u003cb\\u003e%{hovertext}\\u003c\\u002fb\\u003e\\u003cbr\\u003e\\u003cbr\\u003eLegend Label=report (135997)\\u003cbr\\u003eBR Type=%{x}\\u003cbr\\u003eNumber of BRs=%{text}\\u003cbr\\u003eomid_only_sum=%{customdata[0]}\\u003cbr\\u003eother_pids_sum=%{customdata[1]}\\u003cextra\\u003e\\u003c\\u002fextra\\u003e\",\"hovertext\":[\"report (135997)\"],\"legendgroup\":\"report (135997)\",\"marker\":{\"color\":\"#FF97FF\",\"pattern\":{\"shape\":\"\"}},\"name\":\"report (135997)\",\"offsetgroup\":\"report (135997)\",\"orientation\":\"v\",\"showlegend\":true,\"text\":[135997.0],\"textposition\":\"auto\",\"x\":[\"report\"],\"xaxis\":\"x\",\"y\":[135997],\"yaxis\":\"y\",\"type\":\"bar\"},{\"alignmentgroup\":\"True\",\"customdata\":[[101660,1603]],\"hovertemplate\":\"\\u003cb\\u003e%{hovertext}\\u003c\\u002fb\\u003e\\u003cbr\\u003e\\u003cbr\\u003eLegend Label=journal (103263)\\u003cbr\\u003eBR Type=%{x}\\u003cbr\\u003eNumber of BRs=%{text}\\u003cbr\\u003eomid_only_sum=%{customdata[0]}\\u003cbr\\u003eother_pids_sum=%{customdata[1]}\\u003cextra\\u003e\\u003c\\u002fextra\\u003e\",\"hovertext\":[\"journal (103263)\"],\"legendgroup\":\"journal (103263)\",\"marker\":{\"color\":\"#FECB52\",\"pattern\":{\"shape\":\"\"}},\"name\":\"journal (103263)\",\"offsetgroup\":\"journal (103263)\",\"orientation\":\"v\",\"showlegend\":true,\"text\":[103263.0],\"textposition\":\"auto\",\"x\":[\"journal\"],\"xaxis\":\"x\",\"y\":[103263],\"yaxis\":\"y\",\"type\":\"bar\"},{\"alignmentgroup\":\"True\",\"customdata\":[[26685,173]],\"hovertemplate\":\"\\u003cb\\u003e%{hovertext}\\u003c\\u002fb\\u003e\\u003cbr\\u003e\\u003cbr\\u003eLegend Label=book series (26858)\\u003cbr\\u003eBR Type=%{x}\\u003cbr\\u003eNumber of BRs=%{text}\\u003cbr\\u003eomid_only_sum=%{customdata[0]}\\u003cbr\\u003eother_pids_sum=%{customdata[1]}\\u003cextra\\u003e\\u003c\\u002fextra\\u003e\",\"hovertext\":[\"book series (26858)\"],\"legendgroup\":\"book series (26858)\",\"marker\":{\"color\":\"#636efa\",\"pattern\":{\"shape\":\"\"}},\"name\":\"book series (26858)\",\"offsetgroup\":\"book series (26858)\",\"orientation\":\"v\",\"showlegend\":true,\"text\":[26858.0],\"textposition\":\"auto\",\"x\":[\"book series\"],\"xaxis\":\"x\",\"y\":[26858],\"yaxis\":\"y\",\"type\":\"bar\"},{\"alignmentgroup\":\"True\",\"customdata\":[[0,7991]],\"hovertemplate\":\"\\u003cb\\u003e%{hovertext}\\u003c\\u002fb\\u003e\\u003cbr\\u003e\\u003cbr\\u003eLegend Label=dissertation (7991)\\u003cbr\\u003eBR Type=%{x}\\u003cbr\\u003eNumber of BRs=%{text}\\u003cbr\\u003eomid_only_sum=%{customdata[0]}\\u003cbr\\u003eother_pids_sum=%{customdata[1]}\\u003cextra\\u003e\\u003c\\u002fextra\\u003e\",\"hovertext\":[\"dissertation (7991)\"],\"legendgroup\":\"dissertation (7991)\",\"marker\":{\"color\":\"#EF553B\",\"pattern\":{\"shape\":\"\"}},\"name\":\"dissertation (7991)\",\"offsetgroup\":\"dissertation (7991)\",\"orientation\":\"v\",\"showlegend\":true,\"text\":[7991.0],\"textposition\":\"auto\",\"x\":[\"dissertation\"],\"xaxis\":\"x\",\"y\":[7991],\"yaxis\":\"y\",\"type\":\"bar\"},{\"alignmentgroup\":\"True\",\"customdata\":[[0,3294]],\"hovertemplate\":\"\\u003cb\\u003e%{hovertext}\\u003c\\u002fb\\u003e\\u003cbr\\u003e\\u003cbr\\u003eLegend Label=book chapter (3294)\\u003cbr\\u003eBR Type=%{x}\\u003cbr\\u003eNumber of BRs=%{text}\\u003cbr\\u003eomid_only_sum=%{customdata[0]}\\u003cbr\\u003eother_pids_sum=%{customdata[1]}\\u003cextra\\u003e\\u003c\\u002fextra\\u003e\",\"hovertext\":[\"book chapter (3294)\"],\"legendgroup\":\"book chapter (3294)\",\"marker\":{\"color\":\"#00cc96\",\"pattern\":{\"shape\":\"\"}},\"name\":\"book chapter (3294)\",\"offsetgroup\":\"book chapter (3294)\",\"orientation\":\"v\",\"showlegend\":true,\"text\":[3294.0],\"textposition\":\"auto\",\"x\":[\"book chapter\"],\"xaxis\":\"x\",\"y\":[3294],\"yaxis\":\"y\",\"type\":\"bar\"},{\"alignmentgroup\":\"True\",\"customdata\":[[0,2000]],\"hovertemplate\":\"\\u003cb\\u003e%{hovertext}\\u003c\\u002fb\\u003e\\u003cbr\\u003e\\u003cbr\\u003eLegend Label=computer program (2000)\\u003cbr\\u003eBR Type=%{x}\\u003cbr\\u003eNumber of BRs=%{text}\\u003cbr\\u003eomid_only_sum=%{customdata[0]}\\u003cbr\\u003eother_pids_sum=%{customdata[1]}\\u003cextra\\u003e\\u003c\\u002fextra\\u003e\",\"hovertext\":[\"computer program (2000)\"],\"legendgroup\":\"computer program (2000)\",\"marker\":{\"color\":\"#ab63fa\",\"pattern\":{\"shape\":\"\"}},\"name\":\"computer program (2000)\",\"offsetgroup\":\"computer program (2000)\",\"orientation\":\"v\",\"showlegend\":true,\"text\":[2000.0],\"textposition\":\"auto\",\"x\":[\"computer program\"],\"xaxis\":\"x\",\"y\":[2000],\"yaxis\":\"y\",\"type\":\"bar\"},{\"alignmentgroup\":\"True\",\"customdata\":[[0,868]],\"hovertemplate\":\"\\u003cb\\u003e%{hovertext}\\u003c\\u002fb\\u003e\\u003cbr\\u003e\\u003cbr\\u003eLegend Label=proceedings article (868)\\u003cbr\\u003eBR Type=%{x}\\u003cbr\\u003eNumber of BRs=%{text}\\u003cbr\\u003eomid_only_sum=%{customdata[0]}\\u003cbr\\u003eother_pids_sum=%{customdata[1]}\\u003cextra\\u003e\\u003c\\u002fextra\\u003e\",\"hovertext\":[\"proceedings article (868)\"],\"legendgroup\":\"proceedings article (868)\",\"marker\":{\"color\":\"#FFA15A\",\"pattern\":{\"shape\":\"\"}},\"name\":\"proceedings article (868)\",\"offsetgroup\":\"proceedings article (868)\",\"orientation\":\"v\",\"showlegend\":true,\"text\":[868.0],\"textposition\":\"auto\",\"x\":[\"proceedings article\"],\"xaxis\":\"x\",\"y\":[868],\"yaxis\":\"y\",\"type\":\"bar\"},{\"alignmentgroup\":\"True\",\"customdata\":[[0,89]],\"hovertemplate\":\"\\u003cb\\u003e%{hovertext}\\u003c\\u002fb\\u003e\\u003cbr\\u003e\\u003cbr\\u003eLegend Label=reference entry (89)\\u003cbr\\u003eBR Type=%{x}\\u003cbr\\u003eNumber of BRs=%{text}\\u003cbr\\u003eomid_only_sum=%{customdata[0]}\\u003cbr\\u003eother_pids_sum=%{customdata[1]}\\u003cextra\\u003e\\u003c\\u002fextra\\u003e\",\"hovertext\":[\"reference entry (89)\"],\"legendgroup\":\"reference entry (89)\",\"marker\":{\"color\":\"#19d3f3\",\"pattern\":{\"shape\":\"\"}},\"name\":\"reference entry (89)\",\"offsetgroup\":\"reference entry (89)\",\"orientation\":\"v\",\"showlegend\":true,\"text\":[89.0],\"textposition\":\"auto\",\"x\":[\"reference entry\"],\"xaxis\":\"x\",\"y\":[89],\"yaxis\":\"y\",\"type\":\"bar\"},{\"alignmentgroup\":\"True\",\"customdata\":[[38,25]],\"hovertemplate\":\"\\u003cb\\u003e%{hovertext}\\u003c\\u002fb\\u003e\\u003cbr\\u003e\\u003cbr\\u003eLegend Label=series (63)\\u003cbr\\u003eBR Type=%{x}\\u003cbr\\u003eNumber of BRs=%{text}\\u003cbr\\u003eomid_only_sum=%{customdata[0]}\\u003cbr\\u003eother_pids_sum=%{customdata[1]}\\u003cextra\\u003e\\u003c\\u002fextra\\u003e\",\"hovertext\":[\"series (63)\"],\"legendgroup\":\"series (63)\",\"marker\":{\"color\":\"#FF6692\",\"pattern\":{\"shape\":\"\"}},\"name\":\"series (63)\",\"offsetgroup\":\"series (63)\",\"orientation\":\"v\",\"showlegend\":true,\"text\":[63.0],\"textposition\":\"auto\",\"x\":[\"series\"],\"xaxis\":\"x\",\"y\":[63],\"yaxis\":\"y\",\"type\":\"bar\"},{\"alignmentgroup\":\"True\",\"customdata\":[[0,29]],\"hovertemplate\":\"\\u003cb\\u003e%{hovertext}\\u003c\\u002fb\\u003e\\u003cbr\\u003e\\u003cbr\\u003eLegend Label=web content (29)\\u003cbr\\u003eBR Type=%{x}\\u003cbr\\u003eNumber of BRs=%{text}\\u003cbr\\u003eomid_only_sum=%{customdata[0]}\\u003cbr\\u003eother_pids_sum=%{customdata[1]}\\u003cextra\\u003e\\u003c\\u002fextra\\u003e\",\"hovertext\":[\"web content (29)\"],\"legendgroup\":\"web content (29)\",\"marker\":{\"color\":\"#B6E880\",\"pattern\":{\"shape\":\"\"}},\"name\":\"web content (29)\",\"offsetgroup\":\"web content (29)\",\"orientation\":\"v\",\"showlegend\":true,\"text\":[29.0],\"textposition\":\"auto\",\"x\":[\"web content\"],\"xaxis\":\"x\",\"y\":[29],\"yaxis\":\"y\",\"type\":\"bar\"},{\"alignmentgroup\":\"True\",\"customdata\":[[0,4]],\"hovertemplate\":\"\\u003cb\\u003e%{hovertext}\\u003c\\u002fb\\u003e\\u003cbr\\u003e\\u003cbr\\u003eLegend Label=standard (4)\\u003cbr\\u003eBR Type=%{x}\\u003cbr\\u003eNumber of BRs=%{text}\\u003cbr\\u003eomid_only_sum=%{customdata[0]}\\u003cbr\\u003eother_pids_sum=%{customdata[1]}\\u003cextra\\u003e\\u003c\\u002fextra\\u003e\",\"hovertext\":[\"standard (4)\"],\"legendgroup\":\"standard (4)\",\"marker\":{\"color\":\"#FF97FF\",\"pattern\":{\"shape\":\"\"}},\"name\":\"standard (4)\",\"offsetgroup\":\"standard (4)\",\"orientation\":\"v\",\"showlegend\":true,\"text\":[4.0],\"textposition\":\"auto\",\"x\":[\"standard\"],\"xaxis\":\"x\",\"y\":[4],\"yaxis\":\"y\",\"type\":\"bar\"},{\"alignmentgroup\":\"True\",\"customdata\":[[0,4]],\"hovertemplate\":\"\\u003cb\\u003e%{hovertext}\\u003c\\u002fb\\u003e\\u003cbr\\u003e\\u003cbr\\u003eLegend Label=data management plan (4)\\u003cbr\\u003eBR Type=%{x}\\u003cbr\\u003eNumber of BRs=%{text}\\u003cbr\\u003eomid_only_sum=%{customdata[0]}\\u003cbr\\u003eother_pids_sum=%{customdata[1]}\\u003cextra\\u003e\\u003c\\u002fextra\\u003e\",\"hovertext\":[\"data management plan (4)\"],\"legendgroup\":\"data management plan (4)\",\"marker\":{\"color\":\"#FECB52\",\"pattern\":{\"shape\":\"\"}},\"name\":\"data management plan (4)\",\"offsetgroup\":\"data management plan (4)\",\"orientation\":\"v\",\"showlegend\":true,\"text\":[4.0],\"textposition\":\"auto\",\"x\":[\"data management plan\"],\"xaxis\":\"x\",\"y\":[4],\"yaxis\":\"y\",\"type\":\"bar\"},{\"alignmentgroup\":\"True\",\"customdata\":[[0,3]],\"hovertemplate\":\"\\u003cb\\u003e%{hovertext}\\u003c\\u002fb\\u003e\\u003cbr\\u003e\\u003cbr\\u003eLegend Label=book section (3)\\u003cbr\\u003eBR Type=%{x}\\u003cbr\\u003eNumber of BRs=%{text}\\u003cbr\\u003eomid_only_sum=%{customdata[0]}\\u003cbr\\u003eother_pids_sum=%{customdata[1]}\\u003cextra\\u003e\\u003c\\u002fextra\\u003e\",\"hovertext\":[\"book section (3)\"],\"legendgroup\":\"book section (3)\",\"marker\":{\"color\":\"#636efa\",\"pattern\":{\"shape\":\"\"}},\"name\":\"book section (3)\",\"offsetgroup\":\"book section (3)\",\"orientation\":\"v\",\"showlegend\":true,\"text\":[3.0],\"textposition\":\"auto\",\"x\":[\"book section\"],\"xaxis\":\"x\",\"y\":[3],\"yaxis\":\"y\",\"type\":\"bar\"}],                        {\"template\":{\"data\":{\"histogram2dcontour\":[{\"type\":\"histogram2dcontour\",\"colorbar\":{\"outlinewidth\":0,\"ticks\":\"\"},\"colorscale\":[[0.0,\"#0d0887\"],[0.1111111111111111,\"#46039f\"],[0.2222222222222222,\"#7201a8\"],[0.3333333333333333,\"#9c179e\"],[0.4444444444444444,\"#bd3786\"],[0.5555555555555556,\"#d8576b\"],[0.6666666666666666,\"#ed7953\"],[0.7777777777777778,\"#fb9f3a\"],[0.8888888888888888,\"#fdca26\"],[1.0,\"#f0f921\"]]}],\"choropleth\":[{\"type\":\"choropleth\",\"colorbar\":{\"outlinewidth\":0,\"ticks\":\"\"}}],\"histogram2d\":[{\"type\":\"histogram2d\",\"colorbar\":{\"outlinewidth\":0,\"ticks\":\"\"},\"colorscale\":[[0.0,\"#0d0887\"],[0.1111111111111111,\"#46039f\"],[0.2222222222222222,\"#7201a8\"],[0.3333333333333333,\"#9c179e\"],[0.4444444444444444,\"#bd3786\"],[0.5555555555555556,\"#d8576b\"],[0.6666666666666666,\"#ed7953\"],[0.7777777777777778,\"#fb9f3a\"],[0.8888888888888888,\"#fdca26\"],[1.0,\"#f0f921\"]]}],\"heatmap\":[{\"type\":\"heatmap\",\"colorbar\":{\"outlinewidth\":0,\"ticks\":\"\"},\"colorscale\":[[0.0,\"#0d0887\"],[0.1111111111111111,\"#46039f\"],[0.2222222222222222,\"#7201a8\"],[0.3333333333333333,\"#9c179e\"],[0.4444444444444444,\"#bd3786\"],[0.5555555555555556,\"#d8576b\"],[0.6666666666666666,\"#ed7953\"],[0.7777777777777778,\"#fb9f3a\"],[0.8888888888888888,\"#fdca26\"],[1.0,\"#f0f921\"]]}],\"heatmapgl\":[{\"type\":\"heatmapgl\",\"colorbar\":{\"outlinewidth\":0,\"ticks\":\"\"},\"colorscale\":[[0.0,\"#0d0887\"],[0.1111111111111111,\"#46039f\"],[0.2222222222222222,\"#7201a8\"],[0.3333333333333333,\"#9c179e\"],[0.4444444444444444,\"#bd3786\"],[0.5555555555555556,\"#d8576b\"],[0.6666666666666666,\"#ed7953\"],[0.7777777777777778,\"#fb9f3a\"],[0.8888888888888888,\"#fdca26\"],[1.0,\"#f0f921\"]]}],\"contourcarpet\":[{\"type\":\"contourcarpet\",\"colorbar\":{\"outlinewidth\":0,\"ticks\":\"\"}}],\"contour\":[{\"type\":\"contour\",\"colorbar\":{\"outlinewidth\":0,\"ticks\":\"\"},\"colorscale\":[[0.0,\"#0d0887\"],[0.1111111111111111,\"#46039f\"],[0.2222222222222222,\"#7201a8\"],[0.3333333333333333,\"#9c179e\"],[0.4444444444444444,\"#bd3786\"],[0.5555555555555556,\"#d8576b\"],[0.6666666666666666,\"#ed7953\"],[0.7777777777777778,\"#fb9f3a\"],[0.8888888888888888,\"#fdca26\"],[1.0,\"#f0f921\"]]}],\"surface\":[{\"type\":\"surface\",\"colorbar\":{\"outlinewidth\":0,\"ticks\":\"\"},\"colorscale\":[[0.0,\"#0d0887\"],[0.1111111111111111,\"#46039f\"],[0.2222222222222222,\"#7201a8\"],[0.3333333333333333,\"#9c179e\"],[0.4444444444444444,\"#bd3786\"],[0.5555555555555556,\"#d8576b\"],[0.6666666666666666,\"#ed7953\"],[0.7777777777777778,\"#fb9f3a\"],[0.8888888888888888,\"#fdca26\"],[1.0,\"#f0f921\"]]}],\"mesh3d\":[{\"type\":\"mesh3d\",\"colorbar\":{\"outlinewidth\":0,\"ticks\":\"\"}}],\"scatter\":[{\"marker\":{\"line\":{\"color\":\"#283442\"}},\"type\":\"scatter\"}],\"parcoords\":[{\"type\":\"parcoords\",\"line\":{\"colorbar\":{\"outlinewidth\":0,\"ticks\":\"\"}}}],\"scatterpolargl\":[{\"type\":\"scatterpolargl\",\"marker\":{\"colorbar\":{\"outlinewidth\":0,\"ticks\":\"\"}}}],\"bar\":[{\"error_x\":{\"color\":\"#f2f5fa\"},\"error_y\":{\"color\":\"#f2f5fa\"},\"marker\":{\"line\":{\"color\":\"rgb(17,17,17)\",\"width\":0.5},\"pattern\":{\"fillmode\":\"overlay\",\"size\":10,\"solidity\":0.2}},\"type\":\"bar\"}],\"scattergeo\":[{\"type\":\"scattergeo\",\"marker\":{\"colorbar\":{\"outlinewidth\":0,\"ticks\":\"\"}}}],\"scatterpolar\":[{\"type\":\"scatterpolar\",\"marker\":{\"colorbar\":{\"outlinewidth\":0,\"ticks\":\"\"}}}],\"histogram\":[{\"marker\":{\"pattern\":{\"fillmode\":\"overlay\",\"size\":10,\"solidity\":0.2}},\"type\":\"histogram\"}],\"scattergl\":[{\"marker\":{\"line\":{\"color\":\"#283442\"}},\"type\":\"scattergl\"}],\"scatter3d\":[{\"type\":\"scatter3d\",\"line\":{\"colorbar\":{\"outlinewidth\":0,\"ticks\":\"\"}},\"marker\":{\"colorbar\":{\"outlinewidth\":0,\"ticks\":\"\"}}}],\"scattermapbox\":[{\"type\":\"scattermapbox\",\"marker\":{\"colorbar\":{\"outlinewidth\":0,\"ticks\":\"\"}}}],\"scatterternary\":[{\"type\":\"scatterternary\",\"marker\":{\"colorbar\":{\"outlinewidth\":0,\"ticks\":\"\"}}}],\"scattercarpet\":[{\"type\":\"scattercarpet\",\"marker\":{\"colorbar\":{\"outlinewidth\":0,\"ticks\":\"\"}}}],\"carpet\":[{\"aaxis\":{\"endlinecolor\":\"#A2B1C6\",\"gridcolor\":\"#506784\",\"linecolor\":\"#506784\",\"minorgridcolor\":\"#506784\",\"startlinecolor\":\"#A2B1C6\"},\"baxis\":{\"endlinecolor\":\"#A2B1C6\",\"gridcolor\":\"#506784\",\"linecolor\":\"#506784\",\"minorgridcolor\":\"#506784\",\"startlinecolor\":\"#A2B1C6\"},\"type\":\"carpet\"}],\"table\":[{\"cells\":{\"fill\":{\"color\":\"#506784\"},\"line\":{\"color\":\"rgb(17,17,17)\"}},\"header\":{\"fill\":{\"color\":\"#2a3f5f\"},\"line\":{\"color\":\"rgb(17,17,17)\"}},\"type\":\"table\"}],\"barpolar\":[{\"marker\":{\"line\":{\"color\":\"rgb(17,17,17)\",\"width\":0.5},\"pattern\":{\"fillmode\":\"overlay\",\"size\":10,\"solidity\":0.2}},\"type\":\"barpolar\"}],\"pie\":[{\"automargin\":true,\"type\":\"pie\"}]},\"layout\":{\"autotypenumbers\":\"strict\",\"colorway\":[\"#636efa\",\"#EF553B\",\"#00cc96\",\"#ab63fa\",\"#FFA15A\",\"#19d3f3\",\"#FF6692\",\"#B6E880\",\"#FF97FF\",\"#FECB52\"],\"font\":{\"color\":\"#f2f5fa\"},\"hovermode\":\"closest\",\"hoverlabel\":{\"align\":\"left\"},\"paper_bgcolor\":\"rgb(17,17,17)\",\"plot_bgcolor\":\"rgb(17,17,17)\",\"polar\":{\"bgcolor\":\"rgb(17,17,17)\",\"angularaxis\":{\"gridcolor\":\"#506784\",\"linecolor\":\"#506784\",\"ticks\":\"\"},\"radialaxis\":{\"gridcolor\":\"#506784\",\"linecolor\":\"#506784\",\"ticks\":\"\"}},\"ternary\":{\"bgcolor\":\"rgb(17,17,17)\",\"aaxis\":{\"gridcolor\":\"#506784\",\"linecolor\":\"#506784\",\"ticks\":\"\"},\"baxis\":{\"gridcolor\":\"#506784\",\"linecolor\":\"#506784\",\"ticks\":\"\"},\"caxis\":{\"gridcolor\":\"#506784\",\"linecolor\":\"#506784\",\"ticks\":\"\"}},\"coloraxis\":{\"colorbar\":{\"outlinewidth\":0,\"ticks\":\"\"}},\"colorscale\":{\"sequential\":[[0.0,\"#0d0887\"],[0.1111111111111111,\"#46039f\"],[0.2222222222222222,\"#7201a8\"],[0.3333333333333333,\"#9c179e\"],[0.4444444444444444,\"#bd3786\"],[0.5555555555555556,\"#d8576b\"],[0.6666666666666666,\"#ed7953\"],[0.7777777777777778,\"#fb9f3a\"],[0.8888888888888888,\"#fdca26\"],[1.0,\"#f0f921\"]],\"sequentialminus\":[[0.0,\"#0d0887\"],[0.1111111111111111,\"#46039f\"],[0.2222222222222222,\"#7201a8\"],[0.3333333333333333,\"#9c179e\"],[0.4444444444444444,\"#bd3786\"],[0.5555555555555556,\"#d8576b\"],[0.6666666666666666,\"#ed7953\"],[0.7777777777777778,\"#fb9f3a\"],[0.8888888888888888,\"#fdca26\"],[1.0,\"#f0f921\"]],\"diverging\":[[0,\"#8e0152\"],[0.1,\"#c51b7d\"],[0.2,\"#de77ae\"],[0.3,\"#f1b6da\"],[0.4,\"#fde0ef\"],[0.5,\"#f7f7f7\"],[0.6,\"#e6f5d0\"],[0.7,\"#b8e186\"],[0.8,\"#7fbc41\"],[0.9,\"#4d9221\"],[1,\"#276419\"]]},\"xaxis\":{\"gridcolor\":\"#283442\",\"linecolor\":\"#506784\",\"ticks\":\"\",\"title\":{\"standoff\":15},\"zerolinecolor\":\"#283442\",\"automargin\":true,\"zerolinewidth\":2},\"yaxis\":{\"gridcolor\":\"#283442\",\"linecolor\":\"#506784\",\"ticks\":\"\",\"title\":{\"standoff\":15},\"zerolinecolor\":\"#283442\",\"automargin\":true,\"zerolinewidth\":2},\"scene\":{\"xaxis\":{\"backgroundcolor\":\"rgb(17,17,17)\",\"gridcolor\":\"#506784\",\"linecolor\":\"#506784\",\"showbackground\":true,\"ticks\":\"\",\"zerolinecolor\":\"#C8D4E3\",\"gridwidth\":2},\"yaxis\":{\"backgroundcolor\":\"rgb(17,17,17)\",\"gridcolor\":\"#506784\",\"linecolor\":\"#506784\",\"showbackground\":true,\"ticks\":\"\",\"zerolinecolor\":\"#C8D4E3\",\"gridwidth\":2},\"zaxis\":{\"backgroundcolor\":\"rgb(17,17,17)\",\"gridcolor\":\"#506784\",\"linecolor\":\"#506784\",\"showbackground\":true,\"ticks\":\"\",\"zerolinecolor\":\"#C8D4E3\",\"gridwidth\":2}},\"shapedefaults\":{\"line\":{\"color\":\"#f2f5fa\"}},\"annotationdefaults\":{\"arrowcolor\":\"#f2f5fa\",\"arrowhead\":0,\"arrowwidth\":1},\"geo\":{\"bgcolor\":\"rgb(17,17,17)\",\"landcolor\":\"rgb(17,17,17)\",\"subunitcolor\":\"#506784\",\"showland\":true,\"showlakes\":true,\"lakecolor\":\"rgb(17,17,17)\"},\"title\":{\"x\":0.05},\"updatemenudefaults\":{\"bgcolor\":\"#506784\",\"borderwidth\":0},\"sliderdefaults\":{\"bgcolor\":\"#C8D4E3\",\"borderwidth\":1,\"bordercolor\":\"rgb(17,17,17)\",\"tickwidth\":0},\"mapbox\":{\"style\":\"dark\"}}},\"xaxis\":{\"anchor\":\"y\",\"domain\":[0.0,1.0],\"title\":{\"text\":\"BR Type\"}},\"yaxis\":{\"anchor\":\"x\",\"domain\":[0.0,1.0],\"title\":{\"text\":\"Number of BRs\"}},\"legend\":{\"title\":{\"text\":\"Legend Label\"},\"tracegroupgap\":0},\"title\":{\"text\":\"Number of non-mapped BRs per BR Type\"},\"barmode\":\"relative\"},                        {\"responsive\": true}                    ).then(function(){\n                            \nvar gd = document.getElementById('4957da7f-2bab-48b0-a8b1-c8b58fa179a2');\nvar x = new MutationObserver(function (mutations, observer) {{\n        var display = window.getComputedStyle(gd).display;\n        if (!display || display === 'none') {{\n            console.log([gd, 'removed!']);\n            Plotly.purge(gd);\n            observer.disconnect();\n        }}\n}});\n\n// Listen for the removal of the full notebook cells\nvar notebookContainer = gd.closest('#notebook-container');\nif (notebookContainer) {{\n    x.observe(notebookContainer, {childList: true});\n}}\n\n// Listen for the clearing of the current output cell\nvar outputEl = gd.closest('.output');\nif (outputEl) {{\n    x.observe(outputEl, {childList: true});\n}}\n\n                        })                };                });            </script>        </div>"
     },
     "metadata": {},
     "output_type": "display_data"
    }
   ],
   "source": [
    "# --------- PREPARE THE DATA ----------\n",
    "\n",
    "# Create a DataFrame to make it easier to work with the data\n",
    "prov_vis_df = prov_df.T  # Transpose the DataFrame to have 'br types' as columns\n",
    "\n",
    "# Add new columns for sum of 'omid_only' and 'other_pids'\n",
    "prov_vis_df['omid_only_sum'] = prov_vis_df.apply(lambda row: sum(item.get('omid_only', 0) if isinstance(item, dict) else 0 for item in row), axis=1)\n",
    "prov_vis_df['other_pids_sum'] = prov_vis_df.apply(lambda row: sum(item.get('other_pids', 0) if isinstance(item, dict) else 0 for item in row), axis=1)\n",
    "# Add new column for sum of all values\n",
    "prov_vis_df['Number of BRs'] = prov_vis_df['omid_only_sum'] + prov_vis_df['other_pids_sum']\n",
    "\n",
    "# Reset the index to have 'br types' as a regular column\n",
    "prov_vis_df.reset_index(inplace=True)\n",
    "prov_vis_df.rename(columns={'index': 'BR Type'}, inplace=True)\n",
    "prov_vis_df['BR Type'].replace('', 'Unspecified', inplace=True)  # Replace empty type string with 'Unknown'\n",
    "\n",
    "\n",
    "# ----------- VISUALISATION -------------\n",
    "\n",
    "# Create a new column for the legend labels\n",
    "prov_vis_df['Legend Label'] = prov_vis_df['BR Type'] + ' (' + prov_vis_df['Number of BRs'].astype(str) + ')'\n",
    "\n",
    "# Create the bar chart\n",
    "fig = px.bar(prov_vis_df, x='BR Type', y='Number of BRs', text='Number of BRs', color='Legend Label',\n",
    "             # labels={'Number of BRs': 'Number of BRs', 'omid_only_sum': 'Omid Only', 'With other PIDs': 'other_pids_sum'},\n",
    "             title='Number of non-mapped BRs per BR Type',\n",
    "             hover_name='Legend Label',\n",
    "             hover_data=['omid_only_sum', 'other_pids_sum'],\n",
    "             )\n",
    "fig.update_layout(xaxis_title='BR Type', yaxis_title='Number of BRs')\n",
    "\n",
    "# print to html file\n",
    "# fig.write_html('graphs/non_mapped_brs_per_br_type.html')\n",
    "\n",
    "fig.show()"
   ],
   "metadata": {
    "collapsed": false,
    "ExecuteTime": {
     "end_time": "2024-01-09T19:11:15.758417500Z",
     "start_time": "2024-01-09T19:11:15.096434700Z"
    }
   },
   "id": "880d32b8afd4fb10"
  },
  {
   "cell_type": "markdown",
   "source": [
    "Or we can visualize the proportion of the contribution of each data source for a given type of bibliographic resource."
   ],
   "metadata": {
    "collapsed": false
   },
   "id": "554fd60eeb19ab3a"
  },
  {
   "cell_type": "code",
   "execution_count": 158,
   "outputs": [
    {
     "data": {
      "application/vnd.plotly.v1+json": {
       "data": [
        {
         "domain": {
          "x": [
           0.0,
           1.0
          ],
          "y": [
           0.0,
           1.0
          ]
         },
         "hovertemplate": "label=%{label}<br>value=%{value}<extra></extra>",
         "labels": [
          "https://api.datacite.org/",
          "https://doi.org/10.5281/zenodo.7845968",
          "https://api.crossref.org/"
         ],
         "legendgroup": "",
         "name": "",
         "showlegend": true,
         "values": [
          1241865,
          203601,
          3763
         ],
         "type": "pie"
        }
       ],
       "layout": {
        "template": {
         "data": {
          "histogram2dcontour": [
           {
            "type": "histogram2dcontour",
            "colorbar": {
             "outlinewidth": 0,
             "ticks": ""
            },
            "colorscale": [
             [
              0.0,
              "#0d0887"
             ],
             [
              0.1111111111111111,
              "#46039f"
             ],
             [
              0.2222222222222222,
              "#7201a8"
             ],
             [
              0.3333333333333333,
              "#9c179e"
             ],
             [
              0.4444444444444444,
              "#bd3786"
             ],
             [
              0.5555555555555556,
              "#d8576b"
             ],
             [
              0.6666666666666666,
              "#ed7953"
             ],
             [
              0.7777777777777778,
              "#fb9f3a"
             ],
             [
              0.8888888888888888,
              "#fdca26"
             ],
             [
              1.0,
              "#f0f921"
             ]
            ]
           }
          ],
          "choropleth": [
           {
            "type": "choropleth",
            "colorbar": {
             "outlinewidth": 0,
             "ticks": ""
            }
           }
          ],
          "histogram2d": [
           {
            "type": "histogram2d",
            "colorbar": {
             "outlinewidth": 0,
             "ticks": ""
            },
            "colorscale": [
             [
              0.0,
              "#0d0887"
             ],
             [
              0.1111111111111111,
              "#46039f"
             ],
             [
              0.2222222222222222,
              "#7201a8"
             ],
             [
              0.3333333333333333,
              "#9c179e"
             ],
             [
              0.4444444444444444,
              "#bd3786"
             ],
             [
              0.5555555555555556,
              "#d8576b"
             ],
             [
              0.6666666666666666,
              "#ed7953"
             ],
             [
              0.7777777777777778,
              "#fb9f3a"
             ],
             [
              0.8888888888888888,
              "#fdca26"
             ],
             [
              1.0,
              "#f0f921"
             ]
            ]
           }
          ],
          "heatmap": [
           {
            "type": "heatmap",
            "colorbar": {
             "outlinewidth": 0,
             "ticks": ""
            },
            "colorscale": [
             [
              0.0,
              "#0d0887"
             ],
             [
              0.1111111111111111,
              "#46039f"
             ],
             [
              0.2222222222222222,
              "#7201a8"
             ],
             [
              0.3333333333333333,
              "#9c179e"
             ],
             [
              0.4444444444444444,
              "#bd3786"
             ],
             [
              0.5555555555555556,
              "#d8576b"
             ],
             [
              0.6666666666666666,
              "#ed7953"
             ],
             [
              0.7777777777777778,
              "#fb9f3a"
             ],
             [
              0.8888888888888888,
              "#fdca26"
             ],
             [
              1.0,
              "#f0f921"
             ]
            ]
           }
          ],
          "heatmapgl": [
           {
            "type": "heatmapgl",
            "colorbar": {
             "outlinewidth": 0,
             "ticks": ""
            },
            "colorscale": [
             [
              0.0,
              "#0d0887"
             ],
             [
              0.1111111111111111,
              "#46039f"
             ],
             [
              0.2222222222222222,
              "#7201a8"
             ],
             [
              0.3333333333333333,
              "#9c179e"
             ],
             [
              0.4444444444444444,
              "#bd3786"
             ],
             [
              0.5555555555555556,
              "#d8576b"
             ],
             [
              0.6666666666666666,
              "#ed7953"
             ],
             [
              0.7777777777777778,
              "#fb9f3a"
             ],
             [
              0.8888888888888888,
              "#fdca26"
             ],
             [
              1.0,
              "#f0f921"
             ]
            ]
           }
          ],
          "contourcarpet": [
           {
            "type": "contourcarpet",
            "colorbar": {
             "outlinewidth": 0,
             "ticks": ""
            }
           }
          ],
          "contour": [
           {
            "type": "contour",
            "colorbar": {
             "outlinewidth": 0,
             "ticks": ""
            },
            "colorscale": [
             [
              0.0,
              "#0d0887"
             ],
             [
              0.1111111111111111,
              "#46039f"
             ],
             [
              0.2222222222222222,
              "#7201a8"
             ],
             [
              0.3333333333333333,
              "#9c179e"
             ],
             [
              0.4444444444444444,
              "#bd3786"
             ],
             [
              0.5555555555555556,
              "#d8576b"
             ],
             [
              0.6666666666666666,
              "#ed7953"
             ],
             [
              0.7777777777777778,
              "#fb9f3a"
             ],
             [
              0.8888888888888888,
              "#fdca26"
             ],
             [
              1.0,
              "#f0f921"
             ]
            ]
           }
          ],
          "surface": [
           {
            "type": "surface",
            "colorbar": {
             "outlinewidth": 0,
             "ticks": ""
            },
            "colorscale": [
             [
              0.0,
              "#0d0887"
             ],
             [
              0.1111111111111111,
              "#46039f"
             ],
             [
              0.2222222222222222,
              "#7201a8"
             ],
             [
              0.3333333333333333,
              "#9c179e"
             ],
             [
              0.4444444444444444,
              "#bd3786"
             ],
             [
              0.5555555555555556,
              "#d8576b"
             ],
             [
              0.6666666666666666,
              "#ed7953"
             ],
             [
              0.7777777777777778,
              "#fb9f3a"
             ],
             [
              0.8888888888888888,
              "#fdca26"
             ],
             [
              1.0,
              "#f0f921"
             ]
            ]
           }
          ],
          "mesh3d": [
           {
            "type": "mesh3d",
            "colorbar": {
             "outlinewidth": 0,
             "ticks": ""
            }
           }
          ],
          "scatter": [
           {
            "marker": {
             "line": {
              "color": "#283442"
             }
            },
            "type": "scatter"
           }
          ],
          "parcoords": [
           {
            "type": "parcoords",
            "line": {
             "colorbar": {
              "outlinewidth": 0,
              "ticks": ""
             }
            }
           }
          ],
          "scatterpolargl": [
           {
            "type": "scatterpolargl",
            "marker": {
             "colorbar": {
              "outlinewidth": 0,
              "ticks": ""
             }
            }
           }
          ],
          "bar": [
           {
            "error_x": {
             "color": "#f2f5fa"
            },
            "error_y": {
             "color": "#f2f5fa"
            },
            "marker": {
             "line": {
              "color": "rgb(17,17,17)",
              "width": 0.5
             },
             "pattern": {
              "fillmode": "overlay",
              "size": 10,
              "solidity": 0.2
             }
            },
            "type": "bar"
           }
          ],
          "scattergeo": [
           {
            "type": "scattergeo",
            "marker": {
             "colorbar": {
              "outlinewidth": 0,
              "ticks": ""
             }
            }
           }
          ],
          "scatterpolar": [
           {
            "type": "scatterpolar",
            "marker": {
             "colorbar": {
              "outlinewidth": 0,
              "ticks": ""
             }
            }
           }
          ],
          "histogram": [
           {
            "marker": {
             "pattern": {
              "fillmode": "overlay",
              "size": 10,
              "solidity": 0.2
             }
            },
            "type": "histogram"
           }
          ],
          "scattergl": [
           {
            "marker": {
             "line": {
              "color": "#283442"
             }
            },
            "type": "scattergl"
           }
          ],
          "scatter3d": [
           {
            "type": "scatter3d",
            "line": {
             "colorbar": {
              "outlinewidth": 0,
              "ticks": ""
             }
            },
            "marker": {
             "colorbar": {
              "outlinewidth": 0,
              "ticks": ""
             }
            }
           }
          ],
          "scattermapbox": [
           {
            "type": "scattermapbox",
            "marker": {
             "colorbar": {
              "outlinewidth": 0,
              "ticks": ""
             }
            }
           }
          ],
          "scatterternary": [
           {
            "type": "scatterternary",
            "marker": {
             "colorbar": {
              "outlinewidth": 0,
              "ticks": ""
             }
            }
           }
          ],
          "scattercarpet": [
           {
            "type": "scattercarpet",
            "marker": {
             "colorbar": {
              "outlinewidth": 0,
              "ticks": ""
             }
            }
           }
          ],
          "carpet": [
           {
            "aaxis": {
             "endlinecolor": "#A2B1C6",
             "gridcolor": "#506784",
             "linecolor": "#506784",
             "minorgridcolor": "#506784",
             "startlinecolor": "#A2B1C6"
            },
            "baxis": {
             "endlinecolor": "#A2B1C6",
             "gridcolor": "#506784",
             "linecolor": "#506784",
             "minorgridcolor": "#506784",
             "startlinecolor": "#A2B1C6"
            },
            "type": "carpet"
           }
          ],
          "table": [
           {
            "cells": {
             "fill": {
              "color": "#506784"
             },
             "line": {
              "color": "rgb(17,17,17)"
             }
            },
            "header": {
             "fill": {
              "color": "#2a3f5f"
             },
             "line": {
              "color": "rgb(17,17,17)"
             }
            },
            "type": "table"
           }
          ],
          "barpolar": [
           {
            "marker": {
             "line": {
              "color": "rgb(17,17,17)",
              "width": 0.5
             },
             "pattern": {
              "fillmode": "overlay",
              "size": 10,
              "solidity": 0.2
             }
            },
            "type": "barpolar"
           }
          ],
          "pie": [
           {
            "automargin": true,
            "type": "pie"
           }
          ]
         },
         "layout": {
          "autotypenumbers": "strict",
          "colorway": [
           "#636efa",
           "#EF553B",
           "#00cc96",
           "#ab63fa",
           "#FFA15A",
           "#19d3f3",
           "#FF6692",
           "#B6E880",
           "#FF97FF",
           "#FECB52"
          ],
          "font": {
           "color": "#f2f5fa"
          },
          "hovermode": "closest",
          "hoverlabel": {
           "align": "left"
          },
          "paper_bgcolor": "rgb(17,17,17)",
          "plot_bgcolor": "rgb(17,17,17)",
          "polar": {
           "bgcolor": "rgb(17,17,17)",
           "angularaxis": {
            "gridcolor": "#506784",
            "linecolor": "#506784",
            "ticks": ""
           },
           "radialaxis": {
            "gridcolor": "#506784",
            "linecolor": "#506784",
            "ticks": ""
           }
          },
          "ternary": {
           "bgcolor": "rgb(17,17,17)",
           "aaxis": {
            "gridcolor": "#506784",
            "linecolor": "#506784",
            "ticks": ""
           },
           "baxis": {
            "gridcolor": "#506784",
            "linecolor": "#506784",
            "ticks": ""
           },
           "caxis": {
            "gridcolor": "#506784",
            "linecolor": "#506784",
            "ticks": ""
           }
          },
          "coloraxis": {
           "colorbar": {
            "outlinewidth": 0,
            "ticks": ""
           }
          },
          "colorscale": {
           "sequential": [
            [
             0.0,
             "#0d0887"
            ],
            [
             0.1111111111111111,
             "#46039f"
            ],
            [
             0.2222222222222222,
             "#7201a8"
            ],
            [
             0.3333333333333333,
             "#9c179e"
            ],
            [
             0.4444444444444444,
             "#bd3786"
            ],
            [
             0.5555555555555556,
             "#d8576b"
            ],
            [
             0.6666666666666666,
             "#ed7953"
            ],
            [
             0.7777777777777778,
             "#fb9f3a"
            ],
            [
             0.8888888888888888,
             "#fdca26"
            ],
            [
             1.0,
             "#f0f921"
            ]
           ],
           "sequentialminus": [
            [
             0.0,
             "#0d0887"
            ],
            [
             0.1111111111111111,
             "#46039f"
            ],
            [
             0.2222222222222222,
             "#7201a8"
            ],
            [
             0.3333333333333333,
             "#9c179e"
            ],
            [
             0.4444444444444444,
             "#bd3786"
            ],
            [
             0.5555555555555556,
             "#d8576b"
            ],
            [
             0.6666666666666666,
             "#ed7953"
            ],
            [
             0.7777777777777778,
             "#fb9f3a"
            ],
            [
             0.8888888888888888,
             "#fdca26"
            ],
            [
             1.0,
             "#f0f921"
            ]
           ],
           "diverging": [
            [
             0,
             "#8e0152"
            ],
            [
             0.1,
             "#c51b7d"
            ],
            [
             0.2,
             "#de77ae"
            ],
            [
             0.3,
             "#f1b6da"
            ],
            [
             0.4,
             "#fde0ef"
            ],
            [
             0.5,
             "#f7f7f7"
            ],
            [
             0.6,
             "#e6f5d0"
            ],
            [
             0.7,
             "#b8e186"
            ],
            [
             0.8,
             "#7fbc41"
            ],
            [
             0.9,
             "#4d9221"
            ],
            [
             1,
             "#276419"
            ]
           ]
          },
          "xaxis": {
           "gridcolor": "#283442",
           "linecolor": "#506784",
           "ticks": "",
           "title": {
            "standoff": 15
           },
           "zerolinecolor": "#283442",
           "automargin": true,
           "zerolinewidth": 2
          },
          "yaxis": {
           "gridcolor": "#283442",
           "linecolor": "#506784",
           "ticks": "",
           "title": {
            "standoff": 15
           },
           "zerolinecolor": "#283442",
           "automargin": true,
           "zerolinewidth": 2
          },
          "scene": {
           "xaxis": {
            "backgroundcolor": "rgb(17,17,17)",
            "gridcolor": "#506784",
            "linecolor": "#506784",
            "showbackground": true,
            "ticks": "",
            "zerolinecolor": "#C8D4E3",
            "gridwidth": 2
           },
           "yaxis": {
            "backgroundcolor": "rgb(17,17,17)",
            "gridcolor": "#506784",
            "linecolor": "#506784",
            "showbackground": true,
            "ticks": "",
            "zerolinecolor": "#C8D4E3",
            "gridwidth": 2
           },
           "zaxis": {
            "backgroundcolor": "rgb(17,17,17)",
            "gridcolor": "#506784",
            "linecolor": "#506784",
            "showbackground": true,
            "ticks": "",
            "zerolinecolor": "#C8D4E3",
            "gridwidth": 2
           }
          },
          "shapedefaults": {
           "line": {
            "color": "#f2f5fa"
           }
          },
          "annotationdefaults": {
           "arrowcolor": "#f2f5fa",
           "arrowhead": 0,
           "arrowwidth": 1
          },
          "geo": {
           "bgcolor": "rgb(17,17,17)",
           "landcolor": "rgb(17,17,17)",
           "subunitcolor": "#506784",
           "showland": true,
           "showlakes": true,
           "lakecolor": "rgb(17,17,17)"
          },
          "title": {
           "x": 0.05
          },
          "updatemenudefaults": {
           "bgcolor": "#506784",
           "borderwidth": 0
          },
          "sliderdefaults": {
           "bgcolor": "#C8D4E3",
           "borderwidth": 1,
           "bordercolor": "rgb(17,17,17)",
           "tickwidth": 0
          },
          "mapbox": {
           "style": "dark"
          }
         }
        },
        "legend": {
         "tracegroupgap": 0
        },
        "title": {
         "text": "Dataset"
        }
       },
       "config": {
        "plotlyServerURL": "https://plotly.com"
       }
      },
      "text/html": "<div>                            <div id=\"6943c859-99ed-4c18-9362-a968764ec657\" class=\"plotly-graph-div\" style=\"height:525px; width:100%;\"></div>            <script type=\"text/javascript\">                require([\"plotly\"], function(Plotly) {                    window.PLOTLYENV=window.PLOTLYENV || {};                                    if (document.getElementById(\"6943c859-99ed-4c18-9362-a968764ec657\")) {                    Plotly.newPlot(                        \"6943c859-99ed-4c18-9362-a968764ec657\",                        [{\"domain\":{\"x\":[0.0,1.0],\"y\":[0.0,1.0]},\"hovertemplate\":\"label=%{label}\\u003cbr\\u003evalue=%{value}\\u003cextra\\u003e\\u003c\\u002fextra\\u003e\",\"labels\":[\"https:\\u002f\\u002fapi.datacite.org\\u002f\",\"https:\\u002f\\u002fdoi.org\\u002f10.5281\\u002fzenodo.7845968\",\"https:\\u002f\\u002fapi.crossref.org\\u002f\"],\"legendgroup\":\"\",\"name\":\"\",\"showlegend\":true,\"values\":[1241865,203601,3763],\"type\":\"pie\"}],                        {\"template\":{\"data\":{\"histogram2dcontour\":[{\"type\":\"histogram2dcontour\",\"colorbar\":{\"outlinewidth\":0,\"ticks\":\"\"},\"colorscale\":[[0.0,\"#0d0887\"],[0.1111111111111111,\"#46039f\"],[0.2222222222222222,\"#7201a8\"],[0.3333333333333333,\"#9c179e\"],[0.4444444444444444,\"#bd3786\"],[0.5555555555555556,\"#d8576b\"],[0.6666666666666666,\"#ed7953\"],[0.7777777777777778,\"#fb9f3a\"],[0.8888888888888888,\"#fdca26\"],[1.0,\"#f0f921\"]]}],\"choropleth\":[{\"type\":\"choropleth\",\"colorbar\":{\"outlinewidth\":0,\"ticks\":\"\"}}],\"histogram2d\":[{\"type\":\"histogram2d\",\"colorbar\":{\"outlinewidth\":0,\"ticks\":\"\"},\"colorscale\":[[0.0,\"#0d0887\"],[0.1111111111111111,\"#46039f\"],[0.2222222222222222,\"#7201a8\"],[0.3333333333333333,\"#9c179e\"],[0.4444444444444444,\"#bd3786\"],[0.5555555555555556,\"#d8576b\"],[0.6666666666666666,\"#ed7953\"],[0.7777777777777778,\"#fb9f3a\"],[0.8888888888888888,\"#fdca26\"],[1.0,\"#f0f921\"]]}],\"heatmap\":[{\"type\":\"heatmap\",\"colorbar\":{\"outlinewidth\":0,\"ticks\":\"\"},\"colorscale\":[[0.0,\"#0d0887\"],[0.1111111111111111,\"#46039f\"],[0.2222222222222222,\"#7201a8\"],[0.3333333333333333,\"#9c179e\"],[0.4444444444444444,\"#bd3786\"],[0.5555555555555556,\"#d8576b\"],[0.6666666666666666,\"#ed7953\"],[0.7777777777777778,\"#fb9f3a\"],[0.8888888888888888,\"#fdca26\"],[1.0,\"#f0f921\"]]}],\"heatmapgl\":[{\"type\":\"heatmapgl\",\"colorbar\":{\"outlinewidth\":0,\"ticks\":\"\"},\"colorscale\":[[0.0,\"#0d0887\"],[0.1111111111111111,\"#46039f\"],[0.2222222222222222,\"#7201a8\"],[0.3333333333333333,\"#9c179e\"],[0.4444444444444444,\"#bd3786\"],[0.5555555555555556,\"#d8576b\"],[0.6666666666666666,\"#ed7953\"],[0.7777777777777778,\"#fb9f3a\"],[0.8888888888888888,\"#fdca26\"],[1.0,\"#f0f921\"]]}],\"contourcarpet\":[{\"type\":\"contourcarpet\",\"colorbar\":{\"outlinewidth\":0,\"ticks\":\"\"}}],\"contour\":[{\"type\":\"contour\",\"colorbar\":{\"outlinewidth\":0,\"ticks\":\"\"},\"colorscale\":[[0.0,\"#0d0887\"],[0.1111111111111111,\"#46039f\"],[0.2222222222222222,\"#7201a8\"],[0.3333333333333333,\"#9c179e\"],[0.4444444444444444,\"#bd3786\"],[0.5555555555555556,\"#d8576b\"],[0.6666666666666666,\"#ed7953\"],[0.7777777777777778,\"#fb9f3a\"],[0.8888888888888888,\"#fdca26\"],[1.0,\"#f0f921\"]]}],\"surface\":[{\"type\":\"surface\",\"colorbar\":{\"outlinewidth\":0,\"ticks\":\"\"},\"colorscale\":[[0.0,\"#0d0887\"],[0.1111111111111111,\"#46039f\"],[0.2222222222222222,\"#7201a8\"],[0.3333333333333333,\"#9c179e\"],[0.4444444444444444,\"#bd3786\"],[0.5555555555555556,\"#d8576b\"],[0.6666666666666666,\"#ed7953\"],[0.7777777777777778,\"#fb9f3a\"],[0.8888888888888888,\"#fdca26\"],[1.0,\"#f0f921\"]]}],\"mesh3d\":[{\"type\":\"mesh3d\",\"colorbar\":{\"outlinewidth\":0,\"ticks\":\"\"}}],\"scatter\":[{\"marker\":{\"line\":{\"color\":\"#283442\"}},\"type\":\"scatter\"}],\"parcoords\":[{\"type\":\"parcoords\",\"line\":{\"colorbar\":{\"outlinewidth\":0,\"ticks\":\"\"}}}],\"scatterpolargl\":[{\"type\":\"scatterpolargl\",\"marker\":{\"colorbar\":{\"outlinewidth\":0,\"ticks\":\"\"}}}],\"bar\":[{\"error_x\":{\"color\":\"#f2f5fa\"},\"error_y\":{\"color\":\"#f2f5fa\"},\"marker\":{\"line\":{\"color\":\"rgb(17,17,17)\",\"width\":0.5},\"pattern\":{\"fillmode\":\"overlay\",\"size\":10,\"solidity\":0.2}},\"type\":\"bar\"}],\"scattergeo\":[{\"type\":\"scattergeo\",\"marker\":{\"colorbar\":{\"outlinewidth\":0,\"ticks\":\"\"}}}],\"scatterpolar\":[{\"type\":\"scatterpolar\",\"marker\":{\"colorbar\":{\"outlinewidth\":0,\"ticks\":\"\"}}}],\"histogram\":[{\"marker\":{\"pattern\":{\"fillmode\":\"overlay\",\"size\":10,\"solidity\":0.2}},\"type\":\"histogram\"}],\"scattergl\":[{\"marker\":{\"line\":{\"color\":\"#283442\"}},\"type\":\"scattergl\"}],\"scatter3d\":[{\"type\":\"scatter3d\",\"line\":{\"colorbar\":{\"outlinewidth\":0,\"ticks\":\"\"}},\"marker\":{\"colorbar\":{\"outlinewidth\":0,\"ticks\":\"\"}}}],\"scattermapbox\":[{\"type\":\"scattermapbox\",\"marker\":{\"colorbar\":{\"outlinewidth\":0,\"ticks\":\"\"}}}],\"scatterternary\":[{\"type\":\"scatterternary\",\"marker\":{\"colorbar\":{\"outlinewidth\":0,\"ticks\":\"\"}}}],\"scattercarpet\":[{\"type\":\"scattercarpet\",\"marker\":{\"colorbar\":{\"outlinewidth\":0,\"ticks\":\"\"}}}],\"carpet\":[{\"aaxis\":{\"endlinecolor\":\"#A2B1C6\",\"gridcolor\":\"#506784\",\"linecolor\":\"#506784\",\"minorgridcolor\":\"#506784\",\"startlinecolor\":\"#A2B1C6\"},\"baxis\":{\"endlinecolor\":\"#A2B1C6\",\"gridcolor\":\"#506784\",\"linecolor\":\"#506784\",\"minorgridcolor\":\"#506784\",\"startlinecolor\":\"#A2B1C6\"},\"type\":\"carpet\"}],\"table\":[{\"cells\":{\"fill\":{\"color\":\"#506784\"},\"line\":{\"color\":\"rgb(17,17,17)\"}},\"header\":{\"fill\":{\"color\":\"#2a3f5f\"},\"line\":{\"color\":\"rgb(17,17,17)\"}},\"type\":\"table\"}],\"barpolar\":[{\"marker\":{\"line\":{\"color\":\"rgb(17,17,17)\",\"width\":0.5},\"pattern\":{\"fillmode\":\"overlay\",\"size\":10,\"solidity\":0.2}},\"type\":\"barpolar\"}],\"pie\":[{\"automargin\":true,\"type\":\"pie\"}]},\"layout\":{\"autotypenumbers\":\"strict\",\"colorway\":[\"#636efa\",\"#EF553B\",\"#00cc96\",\"#ab63fa\",\"#FFA15A\",\"#19d3f3\",\"#FF6692\",\"#B6E880\",\"#FF97FF\",\"#FECB52\"],\"font\":{\"color\":\"#f2f5fa\"},\"hovermode\":\"closest\",\"hoverlabel\":{\"align\":\"left\"},\"paper_bgcolor\":\"rgb(17,17,17)\",\"plot_bgcolor\":\"rgb(17,17,17)\",\"polar\":{\"bgcolor\":\"rgb(17,17,17)\",\"angularaxis\":{\"gridcolor\":\"#506784\",\"linecolor\":\"#506784\",\"ticks\":\"\"},\"radialaxis\":{\"gridcolor\":\"#506784\",\"linecolor\":\"#506784\",\"ticks\":\"\"}},\"ternary\":{\"bgcolor\":\"rgb(17,17,17)\",\"aaxis\":{\"gridcolor\":\"#506784\",\"linecolor\":\"#506784\",\"ticks\":\"\"},\"baxis\":{\"gridcolor\":\"#506784\",\"linecolor\":\"#506784\",\"ticks\":\"\"},\"caxis\":{\"gridcolor\":\"#506784\",\"linecolor\":\"#506784\",\"ticks\":\"\"}},\"coloraxis\":{\"colorbar\":{\"outlinewidth\":0,\"ticks\":\"\"}},\"colorscale\":{\"sequential\":[[0.0,\"#0d0887\"],[0.1111111111111111,\"#46039f\"],[0.2222222222222222,\"#7201a8\"],[0.3333333333333333,\"#9c179e\"],[0.4444444444444444,\"#bd3786\"],[0.5555555555555556,\"#d8576b\"],[0.6666666666666666,\"#ed7953\"],[0.7777777777777778,\"#fb9f3a\"],[0.8888888888888888,\"#fdca26\"],[1.0,\"#f0f921\"]],\"sequentialminus\":[[0.0,\"#0d0887\"],[0.1111111111111111,\"#46039f\"],[0.2222222222222222,\"#7201a8\"],[0.3333333333333333,\"#9c179e\"],[0.4444444444444444,\"#bd3786\"],[0.5555555555555556,\"#d8576b\"],[0.6666666666666666,\"#ed7953\"],[0.7777777777777778,\"#fb9f3a\"],[0.8888888888888888,\"#fdca26\"],[1.0,\"#f0f921\"]],\"diverging\":[[0,\"#8e0152\"],[0.1,\"#c51b7d\"],[0.2,\"#de77ae\"],[0.3,\"#f1b6da\"],[0.4,\"#fde0ef\"],[0.5,\"#f7f7f7\"],[0.6,\"#e6f5d0\"],[0.7,\"#b8e186\"],[0.8,\"#7fbc41\"],[0.9,\"#4d9221\"],[1,\"#276419\"]]},\"xaxis\":{\"gridcolor\":\"#283442\",\"linecolor\":\"#506784\",\"ticks\":\"\",\"title\":{\"standoff\":15},\"zerolinecolor\":\"#283442\",\"automargin\":true,\"zerolinewidth\":2},\"yaxis\":{\"gridcolor\":\"#283442\",\"linecolor\":\"#506784\",\"ticks\":\"\",\"title\":{\"standoff\":15},\"zerolinecolor\":\"#283442\",\"automargin\":true,\"zerolinewidth\":2},\"scene\":{\"xaxis\":{\"backgroundcolor\":\"rgb(17,17,17)\",\"gridcolor\":\"#506784\",\"linecolor\":\"#506784\",\"showbackground\":true,\"ticks\":\"\",\"zerolinecolor\":\"#C8D4E3\",\"gridwidth\":2},\"yaxis\":{\"backgroundcolor\":\"rgb(17,17,17)\",\"gridcolor\":\"#506784\",\"linecolor\":\"#506784\",\"showbackground\":true,\"ticks\":\"\",\"zerolinecolor\":\"#C8D4E3\",\"gridwidth\":2},\"zaxis\":{\"backgroundcolor\":\"rgb(17,17,17)\",\"gridcolor\":\"#506784\",\"linecolor\":\"#506784\",\"showbackground\":true,\"ticks\":\"\",\"zerolinecolor\":\"#C8D4E3\",\"gridwidth\":2}},\"shapedefaults\":{\"line\":{\"color\":\"#f2f5fa\"}},\"annotationdefaults\":{\"arrowcolor\":\"#f2f5fa\",\"arrowhead\":0,\"arrowwidth\":1},\"geo\":{\"bgcolor\":\"rgb(17,17,17)\",\"landcolor\":\"rgb(17,17,17)\",\"subunitcolor\":\"#506784\",\"showland\":true,\"showlakes\":true,\"lakecolor\":\"rgb(17,17,17)\"},\"title\":{\"x\":0.05},\"updatemenudefaults\":{\"bgcolor\":\"#506784\",\"borderwidth\":0},\"sliderdefaults\":{\"bgcolor\":\"#C8D4E3\",\"borderwidth\":1,\"bordercolor\":\"rgb(17,17,17)\",\"tickwidth\":0},\"mapbox\":{\"style\":\"dark\"}}},\"legend\":{\"tracegroupgap\":0},\"title\":{\"text\":\"Dataset\"}},                        {\"responsive\": true}                    ).then(function(){\n                            \nvar gd = document.getElementById('6943c859-99ed-4c18-9362-a968764ec657');\nvar x = new MutationObserver(function (mutations, observer) {{\n        var display = window.getComputedStyle(gd).display;\n        if (!display || display === 'none') {{\n            console.log([gd, 'removed!']);\n            Plotly.purge(gd);\n            observer.disconnect();\n        }}\n}});\n\n// Listen for the removal of the full notebook cells\nvar notebookContainer = gd.closest('#notebook-container');\nif (notebookContainer) {{\n    x.observe(notebookContainer, {childList: true});\n}}\n\n// Listen for the clearing of the current output cell\nvar outputEl = gd.closest('.output');\nif (outputEl) {{\n    x.observe(outputEl, {childList: true});\n}}\n\n                        })                };                });            </script>        </div>"
     },
     "metadata": {},
     "output_type": "display_data"
    }
   ],
   "source": [
    "def get_tot_contribution_by_source(sources_for_type:dict):\n",
    "    \n",
    "    res = dict()\n",
    "    for k, v in sources_for_type.items():\n",
    "        if ' ' not in k:\n",
    "            if k in res:\n",
    "                res[k] += sum(v.values())\n",
    "            else:\n",
    "                res[k] = sum(v.values())\n",
    "        else:\n",
    "            for single_source in k.split():\n",
    "                if single_source in res:\n",
    "                    res[single_source] += sum(v.values())\n",
    "                else:\n",
    "                    res[single_source] = sum(v.values())\n",
    "    return res\n",
    "\n",
    "def visualize_sources_proportion(sources_for_type:dict, title:str):\n",
    "    data = get_tot_contribution_by_source(sources_for_type)\n",
    "    labels = list(data.keys())\n",
    "    values = list(data.values())\n",
    "\n",
    "    fig = px.pie(values=values, names=labels, title=title)\n",
    "    fig.show()\n",
    "    \n",
    "\n",
    "# visualize sources for unmapped datasets and the proportion of each source\n",
    "visualize_sources_proportion(prov_analysis_results['dataset'], 'Dataset')"
   ],
   "metadata": {
    "collapsed": false,
    "ExecuteTime": {
     "end_time": "2024-01-09T19:11:15.834891800Z",
     "start_time": "2024-01-09T19:11:15.727416500Z"
    }
   },
   "id": "7bc949a7ac421fff"
  }
 ],
 "metadata": {
  "kernelspec": {
   "display_name": "Python 3 (ipykernel)",
   "language": "python",
   "name": "python3"
  },
  "language_info": {
   "codemirror_mode": {
    "name": "ipython",
    "version": 3
   },
   "file_extension": ".py",
   "mimetype": "text/x-python",
   "name": "python",
   "nbconvert_exporter": "python",
   "pygments_lexer": "ipython3",
   "version": "3.9.0"
  }
 },
 "nbformat": 4,
 "nbformat_minor": 5
}
