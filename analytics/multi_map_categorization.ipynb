{
 "cells": [
  {
   "cell_type": "code",
   "execution_count": 1,
   "outputs": [],
   "source": [
    "import csv\n",
    "import os\n",
    "from pprint import pprint\n",
    "from collections import defaultdict\n",
    "import pandas as pd\n",
    "import json\n",
    "import yaml\n",
    "from omid_openalex.utils import read_csv_tables\n",
    "from pprint import pprint\n",
    "import re \n",
    "from tqdm import tqdm\n",
    "import psycopg2 as pg\n",
    "import logging"
   ],
   "metadata": {
    "collapsed": false,
    "ExecuteTime": {
     "end_time": "2023-12-07T13:12:30.133468800Z",
     "start_time": "2023-12-07T13:12:28.756152800Z"
    }
   },
   "id": "5d4e2940156999c"
  },
  {
   "cell_type": "code",
   "execution_count": 2,
   "outputs": [
    {
     "name": "stdout",
     "output_type": "stream",
     "text": [
      "173513\n"
     ]
    }
   ],
   "source": [
    "# load multi mapped works into a dataframe\n",
    "\n",
    "df = pd.read_csv('../mm_latest/multi_mapped_omids.csv')\n",
    "print(len(df))"
   ],
   "metadata": {
    "collapsed": false,
    "ExecuteTime": {
     "end_time": "2023-12-07T13:12:30.324420200Z",
     "start_time": "2023-12-07T13:12:30.110459600Z"
    }
   },
   "id": "d306bbe32c359248"
  },
  {
   "cell_type": "code",
   "execution_count": 3,
   "outputs": [
    {
     "data": {
      "text/plain": "                        omid  \\\n274     omid:br/062103847820   \n298     omid:br/062103847576   \n908       omid:br/0603911303   \n912       omid:br/0603911552   \n988      omid:br/06304276376   \n...                      ...   \n171068   omid:br/06901893692   \n171145    omid:br/0690328261   \n171694  omid:br/062403872516   \n172603  omid:br/062403814971   \n173408   omid:br/06601734290   \n\n                                              openalex_id             type  \n274     W3130231903 W2768614374 W4246116802 W274183670...  journal article  \n298     W4245034526 W4281560519 W4247988456 W424078887...  journal article  \n908     W3130231903 W2768614374 W4246116802 W274183670...  journal article  \n912     W2063068873 W2071233178 W2036143407 W207647548...  journal article  \n988     W4285365171 W4285449806 W4214771627 W428055392...  journal article  \n...                                                   ...              ...  \n171068  W4240898236 W4237384995 W2987261353 W423160785...  journal article  \n171145  W2436631477 W2400069297 W2471123172 W241805949...  journal article  \n171694  W4210489458 W4256466849 W4239045377 W425157145...  journal article  \n172603  W2116316296 W4243035123 W4241622834 W425597291...  journal article  \n173408  W4254715633 W4232960405 W4253790885 W213021965...  journal article  \n\n[370 rows x 3 columns]",
      "text/html": "<div>\n<style scoped>\n    .dataframe tbody tr th:only-of-type {\n        vertical-align: middle;\n    }\n\n    .dataframe tbody tr th {\n        vertical-align: top;\n    }\n\n    .dataframe thead th {\n        text-align: right;\n    }\n</style>\n<table border=\"1\" class=\"dataframe\">\n  <thead>\n    <tr style=\"text-align: right;\">\n      <th></th>\n      <th>omid</th>\n      <th>openalex_id</th>\n      <th>type</th>\n    </tr>\n  </thead>\n  <tbody>\n    <tr>\n      <th>274</th>\n      <td>omid:br/062103847820</td>\n      <td>W3130231903 W2768614374 W4246116802 W274183670...</td>\n      <td>journal article</td>\n    </tr>\n    <tr>\n      <th>298</th>\n      <td>omid:br/062103847576</td>\n      <td>W4245034526 W4281560519 W4247988456 W424078887...</td>\n      <td>journal article</td>\n    </tr>\n    <tr>\n      <th>908</th>\n      <td>omid:br/0603911303</td>\n      <td>W3130231903 W2768614374 W4246116802 W274183670...</td>\n      <td>journal article</td>\n    </tr>\n    <tr>\n      <th>912</th>\n      <td>omid:br/0603911552</td>\n      <td>W2063068873 W2071233178 W2036143407 W207647548...</td>\n      <td>journal article</td>\n    </tr>\n    <tr>\n      <th>988</th>\n      <td>omid:br/06304276376</td>\n      <td>W4285365171 W4285449806 W4214771627 W428055392...</td>\n      <td>journal article</td>\n    </tr>\n    <tr>\n      <th>...</th>\n      <td>...</td>\n      <td>...</td>\n      <td>...</td>\n    </tr>\n    <tr>\n      <th>171068</th>\n      <td>omid:br/06901893692</td>\n      <td>W4240898236 W4237384995 W2987261353 W423160785...</td>\n      <td>journal article</td>\n    </tr>\n    <tr>\n      <th>171145</th>\n      <td>omid:br/0690328261</td>\n      <td>W2436631477 W2400069297 W2471123172 W241805949...</td>\n      <td>journal article</td>\n    </tr>\n    <tr>\n      <th>171694</th>\n      <td>omid:br/062403872516</td>\n      <td>W4210489458 W4256466849 W4239045377 W425157145...</td>\n      <td>journal article</td>\n    </tr>\n    <tr>\n      <th>172603</th>\n      <td>omid:br/062403814971</td>\n      <td>W2116316296 W4243035123 W4241622834 W425597291...</td>\n      <td>journal article</td>\n    </tr>\n    <tr>\n      <th>173408</th>\n      <td>omid:br/06601734290</td>\n      <td>W4254715633 W4232960405 W4253790885 W213021965...</td>\n      <td>journal article</td>\n    </tr>\n  </tbody>\n</table>\n<p>370 rows × 3 columns</p>\n</div>"
     },
     "execution_count": 3,
     "metadata": {},
     "output_type": "execute_result"
    }
   ],
   "source": [
    "# get df rows with S in openalex_id\n",
    "# df[~(df['type'].isin(['book', 'journal article', 'journal']))]\n",
    "df[df['type'].isin(['journal article'])]\n",
    "df[df.apply(lambda x: x['type'] == 'journal article' and len(x['openalex_id'].split()) > 6, axis=1)]\n"
   ],
   "metadata": {
    "collapsed": false,
    "ExecuteTime": {
     "end_time": "2023-12-07T13:12:31.427496400Z",
     "start_time": "2023-12-07T13:12:30.326421Z"
    }
   },
   "id": "549a2a7ea47da3fc"
  },
  {
   "cell_type": "code",
   "execution_count": 13,
   "outputs": [
    {
     "data": {
      "text/plain": "                        omid  \\\n32178   omid:br/062203870150   \n32573    omid:br/06204240853   \n41773   omid:br/061103879754   \n48559   omid:br/062203824897   \n54273    omid:br/06204301305   \n59005   omid:br/062203816111   \n72967   omid:br/062203853413   \n83889    omid:br/06403991825   \n105255   omid:br/06604256663   \n105945  omid:br/062403894698   \n110120   omid:br/06903884623   \n134092  omid:br/061803849089   \n144334   omid:br/06604284317   \n145994  omid:br/061903839807   \n157789  omid:br/061803884440   \n\n                                              openalex_id             type  \n32178   W4242283090 W4249901303 W4235738792 W424136144...  journal article  \n32573   W4250798890 W4251225402 W4252304688 W423364421...              NaN  \n41773   W4245489163 W4244176929 W4206190721 W424556542...  journal article  \n48559   W4255349642 W4241759242 W4247867634 W423246104...  journal article  \n54273   W4241252030 W4241417271 W4237657838 W424592378...          dataset  \n59005   W4253849139 W4241372305 W4232032533 W424948290...  journal article  \n72967   W4241249508 W4235012619 W4250727406 W425267605...  journal article  \n83889   W2120959236 W1970692848 W4234280043 W199837802...  journal article  \n105255  W4252444989 W4239333056 W2432954410 W425640327...  journal article  \n105945  W4225531517 W4237431566 W4241824966 W430187245...  journal article  \n110120  W4244877813 W4205878412 W4250675808 W425325167...  journal article  \n134092  W4205224537 W4240665178 W4233493173 W420671046...  journal article  \n144334  W4252091761 W4248796436 W4251596127 W425112726...  journal article  \n145994  W4252668215 W4253409675 W4256672697 W424716470...  journal article  \n157789  W146404353 W4300131152 W2767387324 W2618922295...  journal article  ",
      "text/html": "<div>\n<style scoped>\n    .dataframe tbody tr th:only-of-type {\n        vertical-align: middle;\n    }\n\n    .dataframe tbody tr th {\n        vertical-align: top;\n    }\n\n    .dataframe thead th {\n        text-align: right;\n    }\n</style>\n<table border=\"1\" class=\"dataframe\">\n  <thead>\n    <tr style=\"text-align: right;\">\n      <th></th>\n      <th>omid</th>\n      <th>openalex_id</th>\n      <th>type</th>\n    </tr>\n  </thead>\n  <tbody>\n    <tr>\n      <th>32178</th>\n      <td>omid:br/062203870150</td>\n      <td>W4242283090 W4249901303 W4235738792 W424136144...</td>\n      <td>journal article</td>\n    </tr>\n    <tr>\n      <th>32573</th>\n      <td>omid:br/06204240853</td>\n      <td>W4250798890 W4251225402 W4252304688 W423364421...</td>\n      <td>NaN</td>\n    </tr>\n    <tr>\n      <th>41773</th>\n      <td>omid:br/061103879754</td>\n      <td>W4245489163 W4244176929 W4206190721 W424556542...</td>\n      <td>journal article</td>\n    </tr>\n    <tr>\n      <th>48559</th>\n      <td>omid:br/062203824897</td>\n      <td>W4255349642 W4241759242 W4247867634 W423246104...</td>\n      <td>journal article</td>\n    </tr>\n    <tr>\n      <th>54273</th>\n      <td>omid:br/06204301305</td>\n      <td>W4241252030 W4241417271 W4237657838 W424592378...</td>\n      <td>dataset</td>\n    </tr>\n    <tr>\n      <th>59005</th>\n      <td>omid:br/062203816111</td>\n      <td>W4253849139 W4241372305 W4232032533 W424948290...</td>\n      <td>journal article</td>\n    </tr>\n    <tr>\n      <th>72967</th>\n      <td>omid:br/062203853413</td>\n      <td>W4241249508 W4235012619 W4250727406 W425267605...</td>\n      <td>journal article</td>\n    </tr>\n    <tr>\n      <th>83889</th>\n      <td>omid:br/06403991825</td>\n      <td>W2120959236 W1970692848 W4234280043 W199837802...</td>\n      <td>journal article</td>\n    </tr>\n    <tr>\n      <th>105255</th>\n      <td>omid:br/06604256663</td>\n      <td>W4252444989 W4239333056 W2432954410 W425640327...</td>\n      <td>journal article</td>\n    </tr>\n    <tr>\n      <th>105945</th>\n      <td>omid:br/062403894698</td>\n      <td>W4225531517 W4237431566 W4241824966 W430187245...</td>\n      <td>journal article</td>\n    </tr>\n    <tr>\n      <th>110120</th>\n      <td>omid:br/06903884623</td>\n      <td>W4244877813 W4205878412 W4250675808 W425325167...</td>\n      <td>journal article</td>\n    </tr>\n    <tr>\n      <th>134092</th>\n      <td>omid:br/061803849089</td>\n      <td>W4205224537 W4240665178 W4233493173 W420671046...</td>\n      <td>journal article</td>\n    </tr>\n    <tr>\n      <th>144334</th>\n      <td>omid:br/06604284317</td>\n      <td>W4252091761 W4248796436 W4251596127 W425112726...</td>\n      <td>journal article</td>\n    </tr>\n    <tr>\n      <th>145994</th>\n      <td>omid:br/061903839807</td>\n      <td>W4252668215 W4253409675 W4256672697 W424716470...</td>\n      <td>journal article</td>\n    </tr>\n    <tr>\n      <th>157789</th>\n      <td>omid:br/061803884440</td>\n      <td>W146404353 W4300131152 W2767387324 W2618922295...</td>\n      <td>journal article</td>\n    </tr>\n  </tbody>\n</table>\n</div>"
     },
     "execution_count": 13,
     "metadata": {},
     "output_type": "execute_result"
    }
   ],
   "source": [
    "# print rows with more than 100 openalex ids\n",
    "df[df.apply(lambda x: len(x['openalex_id'].split()) > 100, axis=1)]\n",
    "    "
   ],
   "metadata": {
    "collapsed": false,
    "ExecuteTime": {
     "end_time": "2023-12-07T13:36:32.339897700Z",
     "start_time": "2023-12-07T13:36:30.753311900Z"
    }
   },
   "id": "18f811766b53b470"
  },
  {
   "cell_type": "code",
   "execution_count": 10,
   "outputs": [
    {
     "name": "stdout",
     "output_type": "stream",
     "text": [
      "['/v2']\n"
     ]
    }
   ],
   "source": [
    "test = 'https://doi.org/10.21203/rs.2.488/v2'\n",
    "test2 = 'https://doi.org/10.21203/rs.2.488.v14.1'\n",
    "test3 = 'https://doi.org/10.21203/rs.2.488v14'\n",
    "\n",
    "version_pattern = re.compile(r'(?:[\\.\\/]v\\d{1,2}[\\./])|(?:[\\.\\/]v\\d{1,2}$)|(?:\\/\\d{1,2}$)|(?:[^a-zA-Z]v\\d{1,2}$)')\n",
    "\n",
    "print(re.findall(version_pattern, test))"
   ],
   "metadata": {
    "collapsed": false,
    "ExecuteTime": {
     "end_time": "2023-12-07T13:22:20.125807500Z",
     "start_time": "2023-12-07T13:22:20.093290500Z"
    }
   },
   "id": "a31b7ed7bc0d246a"
  },
  {
   "cell_type": "code",
   "execution_count": 47,
   "outputs": [],
   "source": [
    "import pandas as pd\n",
    "\n",
    "data = {\n",
    "    \"works\": {\n",
    "        \"proceedings article\": {\"D\": 477, \"ABC\": 10, \"non classified\": 1118, \"A\": 108, \"possible_preprints\": 16},\n",
    "        \"journal article\": {\"non classified\": 86323, \"A\": 10196, \"ABC\": 8721, \"D\": 38179, \"possible_preprints\": 1031, \"EFG\": 805},\n",
    "        \"\": {\"A\": 1753, \"D\": 607, \"non classified\": 2112, \"ABC\": 502, \"possible_preprints\": 265, \"EFG\": 29},\n",
    "        \"book chapter\": {\"non classified\": 3114, \"EFG\": 36, \"D\": 341, \"A\": 21, \"ABC\": 8, \"possible_preprints\": 4},\n",
    "        \"book\": {\"non classified\": 9092, \"A\": 31, \"D\": 27, \"ABC\": 1, \"EFG\": 4},\n",
    "        \"proceedings\": {\"non classified\": 738, \"A\": 13, \"D\": 8, \"ABC\": 24, \"possible_preprints\": 1},\n",
    "        \"report\": {\"non classified\": 322, \"ABC\": 1, \"D\": 13, \"A\": 1},\n",
    "        \"web content\": {\"ABC\": 146, \"A\": 335, \"non classified\": 61, \"possible_preprints\": 58, \"D\": 2},\n",
    "        \"reference entry\": {\"D\": 99, \"non classified\": 79, \"ABC\": 7, \"EFG\": 13, \"possible_preprints\": 1},\n",
    "        \"reference book\": {\"non classified\": 76},\n",
    "        \"dataset\": {\"non classified\": 48, \"A\": 37, \"D\": 1},\n",
    "        \"dissertation\": {\"non classified\": 18, \"possible_preprints\": 1, \"A\": 1},\n",
    "        \"standard\": {\"non classified\": 7},\n",
    "        \"series\": {\"non classified\": 7},\n",
    "        \"journal\": {\"D\": 4},\n",
    "        \"book section\": {\"non classified\": 1},\n",
    "    },\n",
    "    \"sources\": {\n",
    "        \"journal\": {\"A\": 4057, \"non classified\": 2345},\n",
    "        \"book series\": {\"non classified\": 38, \"A\": 17},\n",
    "        \"series\": {\"A\": 2},\n",
    "    },\n",
    "}\n",
    "\n",
    "# Create a DataFrame for \"works\"\n",
    "works_data = {}\n",
    "for work_type, work_values in data[\"works\"].items():\n",
    "    works_data[work_type] = work_values\n",
    "\n",
    "works_df = pd.DataFrame(works_data).T.fillna(0).astype(int)\n",
    "\n",
    "\n",
    "\n",
    "# Create a DataFrame for \"sources\"\n",
    "sources_data = {}\n",
    "for source_type, source_values in data[\"sources\"].items():\n",
    "    sources_data[source_type] = source_values\n",
    "\n",
    "sources_df = pd.DataFrame(sources_data).T.fillna(0).astype(int)"
   ],
   "metadata": {
    "collapsed": false,
    "ExecuteTime": {
     "end_time": "2023-12-07T15:04:13.035218Z",
     "start_time": "2023-12-07T15:04:13.011217Z"
    }
   },
   "id": "a8e03dbcd532899a"
  },
  {
   "cell_type": "code",
   "execution_count": 48,
   "outputs": [
    {
     "name": "stdout",
     "output_type": "stream",
     "text": [
      "Works DataFrame:\n"
     ]
    },
    {
     "data": {
      "text/plain": "                         D   ABC  non classified      A  possible_preprints  \\\nproceedings article    477    10            1118    108                  16   \njournal article      38179  8721           86323  10196                1031   \n                       607   502            2112   1753                 265   \nbook chapter           341     8            3114     21                   4   \nbook                    27     1            9092     31                   0   \nproceedings              8    24             738     13                   1   \nreport                  13     1             322      1                   0   \nweb content              2   146              61    335                  58   \nreference entry         99     7              79      0                   1   \nreference book           0     0              76      0                   0   \ndataset                  1     0              48     37                   0   \ndissertation             0     0              18      1                   1   \nstandard                 0     0               7      0                   0   \nseries                   0     0               7      0                   0   \njournal                  4     0               0      0                   0   \nbook section             0     0               1      0                   0   \n\n                     EFG  \nproceedings article    0  \njournal article      805  \n                      29  \nbook chapter          36  \nbook                   4  \nproceedings            0  \nreport                 0  \nweb content            0  \nreference entry       13  \nreference book         0  \ndataset                0  \ndissertation           0  \nstandard               0  \nseries                 0  \njournal                0  \nbook section           0  ",
      "text/html": "<div>\n<style scoped>\n    .dataframe tbody tr th:only-of-type {\n        vertical-align: middle;\n    }\n\n    .dataframe tbody tr th {\n        vertical-align: top;\n    }\n\n    .dataframe thead th {\n        text-align: right;\n    }\n</style>\n<table border=\"1\" class=\"dataframe\">\n  <thead>\n    <tr style=\"text-align: right;\">\n      <th></th>\n      <th>D</th>\n      <th>ABC</th>\n      <th>non classified</th>\n      <th>A</th>\n      <th>possible_preprints</th>\n      <th>EFG</th>\n    </tr>\n  </thead>\n  <tbody>\n    <tr>\n      <th>proceedings article</th>\n      <td>477</td>\n      <td>10</td>\n      <td>1118</td>\n      <td>108</td>\n      <td>16</td>\n      <td>0</td>\n    </tr>\n    <tr>\n      <th>journal article</th>\n      <td>38179</td>\n      <td>8721</td>\n      <td>86323</td>\n      <td>10196</td>\n      <td>1031</td>\n      <td>805</td>\n    </tr>\n    <tr>\n      <th></th>\n      <td>607</td>\n      <td>502</td>\n      <td>2112</td>\n      <td>1753</td>\n      <td>265</td>\n      <td>29</td>\n    </tr>\n    <tr>\n      <th>book chapter</th>\n      <td>341</td>\n      <td>8</td>\n      <td>3114</td>\n      <td>21</td>\n      <td>4</td>\n      <td>36</td>\n    </tr>\n    <tr>\n      <th>book</th>\n      <td>27</td>\n      <td>1</td>\n      <td>9092</td>\n      <td>31</td>\n      <td>0</td>\n      <td>4</td>\n    </tr>\n    <tr>\n      <th>proceedings</th>\n      <td>8</td>\n      <td>24</td>\n      <td>738</td>\n      <td>13</td>\n      <td>1</td>\n      <td>0</td>\n    </tr>\n    <tr>\n      <th>report</th>\n      <td>13</td>\n      <td>1</td>\n      <td>322</td>\n      <td>1</td>\n      <td>0</td>\n      <td>0</td>\n    </tr>\n    <tr>\n      <th>web content</th>\n      <td>2</td>\n      <td>146</td>\n      <td>61</td>\n      <td>335</td>\n      <td>58</td>\n      <td>0</td>\n    </tr>\n    <tr>\n      <th>reference entry</th>\n      <td>99</td>\n      <td>7</td>\n      <td>79</td>\n      <td>0</td>\n      <td>1</td>\n      <td>13</td>\n    </tr>\n    <tr>\n      <th>reference book</th>\n      <td>0</td>\n      <td>0</td>\n      <td>76</td>\n      <td>0</td>\n      <td>0</td>\n      <td>0</td>\n    </tr>\n    <tr>\n      <th>dataset</th>\n      <td>1</td>\n      <td>0</td>\n      <td>48</td>\n      <td>37</td>\n      <td>0</td>\n      <td>0</td>\n    </tr>\n    <tr>\n      <th>dissertation</th>\n      <td>0</td>\n      <td>0</td>\n      <td>18</td>\n      <td>1</td>\n      <td>1</td>\n      <td>0</td>\n    </tr>\n    <tr>\n      <th>standard</th>\n      <td>0</td>\n      <td>0</td>\n      <td>7</td>\n      <td>0</td>\n      <td>0</td>\n      <td>0</td>\n    </tr>\n    <tr>\n      <th>series</th>\n      <td>0</td>\n      <td>0</td>\n      <td>7</td>\n      <td>0</td>\n      <td>0</td>\n      <td>0</td>\n    </tr>\n    <tr>\n      <th>journal</th>\n      <td>4</td>\n      <td>0</td>\n      <td>0</td>\n      <td>0</td>\n      <td>0</td>\n      <td>0</td>\n    </tr>\n    <tr>\n      <th>book section</th>\n      <td>0</td>\n      <td>0</td>\n      <td>1</td>\n      <td>0</td>\n      <td>0</td>\n      <td>0</td>\n    </tr>\n  </tbody>\n</table>\n</div>"
     },
     "execution_count": 48,
     "metadata": {},
     "output_type": "execute_result"
    }
   ],
   "source": [
    "# Display the resulting DataFrames\n",
    "print(\"Works DataFrame:\")\n",
    "works_df\n",
    "\n"
   ],
   "metadata": {
    "collapsed": false,
    "ExecuteTime": {
     "end_time": "2023-12-07T15:04:13.703104200Z",
     "start_time": "2023-12-07T15:04:13.640557100Z"
    }
   },
   "id": "4b990a9e46944a2b"
  },
  {
   "cell_type": "code",
   "execution_count": 41,
   "outputs": [
    {
     "name": "stdout",
     "output_type": "stream",
     "text": [
      "\n",
      "Sources DataFrame:\n"
     ]
    },
    {
     "data": {
      "text/plain": "                A  non classified\njournal      4057            2345\nbook series    17              38\nseries          2               0",
      "text/html": "<div>\n<style scoped>\n    .dataframe tbody tr th:only-of-type {\n        vertical-align: middle;\n    }\n\n    .dataframe tbody tr th {\n        vertical-align: top;\n    }\n\n    .dataframe thead th {\n        text-align: right;\n    }\n</style>\n<table border=\"1\" class=\"dataframe\">\n  <thead>\n    <tr style=\"text-align: right;\">\n      <th></th>\n      <th>A</th>\n      <th>non classified</th>\n    </tr>\n  </thead>\n  <tbody>\n    <tr>\n      <th>journal</th>\n      <td>4057</td>\n      <td>2345</td>\n    </tr>\n    <tr>\n      <th>book series</th>\n      <td>17</td>\n      <td>38</td>\n    </tr>\n    <tr>\n      <th>series</th>\n      <td>2</td>\n      <td>0</td>\n    </tr>\n  </tbody>\n</table>\n</div>"
     },
     "execution_count": 41,
     "metadata": {},
     "output_type": "execute_result"
    }
   ],
   "source": [
    "print(\"\\nSources DataFrame:\")\n",
    "sources_df"
   ],
   "metadata": {
    "collapsed": false,
    "ExecuteTime": {
     "end_time": "2023-12-07T15:00:38.322744500Z",
     "start_time": "2023-12-07T15:00:38.299740800Z"
    }
   },
   "id": "8194a0fc57495029"
  },
  {
   "cell_type": "code",
   "execution_count": null,
   "outputs": [],
   "source": [],
   "metadata": {
    "collapsed": false
   },
   "id": "825315e44521211e"
  }
 ],
 "metadata": {
  "kernelspec": {
   "display_name": "Python 3",
   "language": "python",
   "name": "python3"
  },
  "language_info": {
   "codemirror_mode": {
    "name": "ipython",
    "version": 2
   },
   "file_extension": ".py",
   "mimetype": "text/x-python",
   "name": "python",
   "nbconvert_exporter": "python",
   "pygments_lexer": "ipython2",
   "version": "2.7.6"
  }
 },
 "nbformat": 4,
 "nbformat_minor": 5
}
