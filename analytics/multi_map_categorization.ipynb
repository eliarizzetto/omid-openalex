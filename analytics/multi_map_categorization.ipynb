{
 "cells": [
  {
   "cell_type": "code",
   "execution_count": null,
   "outputs": [],
   "source": [
    "import pandas as pd\n",
    "import json\n",
    "\n",
    "from adodbapi.examples import db_table_names\n",
    "from debugpy._vendored.pydevd.stubs._django_manager_body import db\n",
    "from tqdm import tqdm"
   ],
   "metadata": {
    "collapsed": false
   },
   "id": "5d4e2940156999c"
  },
  {
   "cell_type": "code",
   "execution_count": null,
   "outputs": [],
   "source": [
    "# load multi mapped works into a dataframe\n",
    "\n",
    "mm_csv_path = \"E:/mapping_oct_23/multi_map/multi_mapped_omids.csv\"\n",
    "\n",
    "df = pd.read_csv(mm_csv_path)"
   ],
   "metadata": {
    "collapsed": false
   },
   "id": "d306bbe32c359248"
  },
  {
   "cell_type": "code",
   "execution_count": null,
   "outputs": [],
   "source": [
    "df"
   ],
   "metadata": {
    "collapsed": false
   },
   "id": "549a2a7ea47da3fc"
  },
  {
   "cell_type": "code",
   "execution_count": null,
   "outputs": [],
   "source": [
    "def read_full_metadata(jsonl_file):\n",
    "    with open(jsonl_file) as f:\n",
    "        for line in f:\n",
    "            data = json.loads(line)\n",
    "            yield data"
   ],
   "metadata": {
    "collapsed": false
   },
   "id": "b57e7e69540a1c57"
  },
  {
   "cell_type": "code",
   "execution_count": null,
   "outputs": [],
   "source": [
    "from pprint import pprint\n",
    "\n",
    "for ent in tqdm(read_full_metadata(\"E:/multi_mapped_full_metadata/works.json\")):\n",
    "    # oaid = ent['id'].removeprefix('https://openalex.org/')\n",
    "    pprint(ent)\n",
    "    break\n",
    "\n",
    "    "
   ],
   "metadata": {
    "collapsed": false
   },
   "id": "9e53e7e26f701042"
  },
  {
   "cell_type": "code",
   "execution_count": 7,
   "outputs": [
    {
     "name": "stdout",
     "output_type": "stream",
     "text": [
      "('https://openalex.org/W2157612734',)\n"
     ]
    }
   ],
   "source": [
    "import psycopg2 as pg\n",
    "\n",
    "dbname = 'mm_openalex'\n",
    "postgres_user = 'postgres'\n",
    "postgres_password = input(f'Insert password for user {postgres_user}')\n",
    "# connect to the database\n",
    "conn = pg.connect(dbname=dbname, host='localhost', user= postgres_user, password = postgres_password, port='5432')\n",
    "cur = conn.cursor()\n",
    "query = \"SELECT w.work_id FROM openalex.works_ids w WHERE w.pmid = %s;\"\n",
    "cur.execute(query, ('https://pubmed.ncbi.nlm.nih.gov/21793740',))\n",
    "rows = cur.fetchall()\n",
    "for row in rows:\n",
    "    print(row)\n",
    "cur.close()\n",
    "conn.close()"
   ],
   "metadata": {
    "collapsed": false,
    "ExecuteTime": {
     "end_time": "2023-11-21T18:47:43.041672700Z",
     "start_time": "2023-11-21T18:47:41.434325200Z"
    }
   },
   "id": "d36133c8c1f03d01"
  },
  {
   "cell_type": "code",
   "execution_count": 48,
   "outputs": [
    {
     "name": "stderr",
     "output_type": "stream",
     "text": [
      "347717it [6:38:51, 14.53it/s]\n"
     ]
    },
    {
     "data": {
      "text/plain": "                                      id  \\\n0       https://openalex.org/W2093406744   \n1       https://openalex.org/W2074493785   \n2       https://openalex.org/W2147314816   \n3       https://openalex.org/W2016627268   \n4       https://openalex.org/W2161822684   \n...                                  ...   \n347712  https://openalex.org/W4306253068   \n347713  https://openalex.org/W4306254261   \n347714  https://openalex.org/W4306254484   \n347715  https://openalex.org/W4306409695   \n347716  https://openalex.org/W4306632679   \n\n                                                    title  \\\n0       The processing and representation of fractions...   \n1       Are gram-negative bacteria a contraindication ...   \n2       Automated diffraction tomography for the struc...   \n3       Percutaneous transluminal renal angioplasty ve...   \n4       Simple physical model of collagen fibrillogene...   \n...                                                   ...   \n347712  Observation of <mml:math xmlns:mml=\"http://www...   \n347713  Quantifying groundwater phosphorus flux to riv...   \n347714  Comparison of hypoxia among four river-dominat...   \n347715  Effect of micromotion and local stress in quan...   \n347716  On some questions related to the Krichever cor...   \n\n                                                     doi  \\\n0       https://doi.org/10.1016/j.neuroimage.2009.03.041   \n1                 https://doi.org/10.1067/mva.1992.38625   \n2                 https://doi.org/10.1002/anie.201204963   \n3                 https://doi.org/10.1067/mva.1993.45062   \n4                 https://doi.org/10.1006/jmbi.1994.0182   \n...                                                  ...   \n347712       https://doi.org/10.1103/physrevd.106.072004   \n347713        https://doi.org/10.1007/s11356-022-23574-9   \n347714                https://doi.org/10.17615/h920-vv92   \n347715       https://doi.org/10.1103/physreva.106.042612   \n347716         https://doi.org/10.1134/s0001434607030236   \n\n                                            pmid pmcid         mag     type  \\\n0       https://pubmed.ncbi.nlm.nih.gov/19328235  None  2093406744  article   \n1        https://pubmed.ncbi.nlm.nih.gov/1522635  None  2074493785  article   \n2       https://pubmed.ncbi.nlm.nih.gov/22976879  None  2147314816  article   \n3        https://pubmed.ncbi.nlm.nih.gov/8230572  None  2016627268  article   \n4        https://pubmed.ncbi.nlm.nih.gov/7723033  None  2161822684  article   \n...                                          ...   ...         ...      ...   \n347712                                      None  None        None  article   \n347713  https://pubmed.ncbi.nlm.nih.gov/36242662  None        None  article   \n347714                                      None  None        None  article   \n347715                                      None  None        None  article   \n347716                                      None  None        None  article   \n\n          type_crossref               primary_location_id  \\\n0       journal-article  https://openalex.org/S4306525036   \n1       journal-article  https://openalex.org/S4306525036   \n2       journal-article  https://openalex.org/S4306525036   \n3       journal-article  https://openalex.org/S4306525036   \n4       journal-article  https://openalex.org/S4306525036   \n...                 ...                               ...   \n347712  journal-article  https://openalex.org/S4210238307   \n347713  journal-article    https://openalex.org/S87561820   \n347714  journal-article  https://openalex.org/S4306401075   \n347715  journal-article  https://openalex.org/S4210182288   \n347716   posted-content  https://openalex.org/S4306400194   \n\n       primary_location_type  \\\n0                 repository   \n1                 repository   \n2                 repository   \n3                 repository   \n4                 repository   \n...                      ...   \n347712               journal   \n347713               journal   \n347714            repository   \n347715               journal   \n347716            repository   \n\n                                                locations  \n0       [{'license': None, 'pdf_url': None, 'is_oa': F...  \n1       [{'license': None, 'pdf_url': None, 'is_oa': F...  \n2       [{'license': None, 'pdf_url': None, 'is_oa': F...  \n3       [{'license': None, 'pdf_url': None, 'is_oa': F...  \n4       [{'license': None, 'pdf_url': None, 'is_oa': F...  \n...                                                   ...  \n347712  [{'license': 'cc-by', 'is_accepted': True, 'is...  \n347713  [{'license': None, 'is_accepted': False, 'is_p...  \n347714  [{'license': None, 'is_accepted': False, 'is_p...  \n347715  [{'license': None, 'is_accepted': False, 'is_p...  \n347716  [{'license': None, 'is_accepted': False, 'is_p...  \n\n[347717 rows x 11 columns]",
      "text/html": "<div>\n<style scoped>\n    .dataframe tbody tr th:only-of-type {\n        vertical-align: middle;\n    }\n\n    .dataframe tbody tr th {\n        vertical-align: top;\n    }\n\n    .dataframe thead th {\n        text-align: right;\n    }\n</style>\n<table border=\"1\" class=\"dataframe\">\n  <thead>\n    <tr style=\"text-align: right;\">\n      <th></th>\n      <th>id</th>\n      <th>title</th>\n      <th>doi</th>\n      <th>pmid</th>\n      <th>pmcid</th>\n      <th>mag</th>\n      <th>type</th>\n      <th>type_crossref</th>\n      <th>primary_location_id</th>\n      <th>primary_location_type</th>\n      <th>locations</th>\n    </tr>\n  </thead>\n  <tbody>\n    <tr>\n      <th>0</th>\n      <td>https://openalex.org/W2093406744</td>\n      <td>The processing and representation of fractions...</td>\n      <td>https://doi.org/10.1016/j.neuroimage.2009.03.041</td>\n      <td>https://pubmed.ncbi.nlm.nih.gov/19328235</td>\n      <td>None</td>\n      <td>2093406744</td>\n      <td>article</td>\n      <td>journal-article</td>\n      <td>https://openalex.org/S4306525036</td>\n      <td>repository</td>\n      <td>[{'license': None, 'pdf_url': None, 'is_oa': F...</td>\n    </tr>\n    <tr>\n      <th>1</th>\n      <td>https://openalex.org/W2074493785</td>\n      <td>Are gram-negative bacteria a contraindication ...</td>\n      <td>https://doi.org/10.1067/mva.1992.38625</td>\n      <td>https://pubmed.ncbi.nlm.nih.gov/1522635</td>\n      <td>None</td>\n      <td>2074493785</td>\n      <td>article</td>\n      <td>journal-article</td>\n      <td>https://openalex.org/S4306525036</td>\n      <td>repository</td>\n      <td>[{'license': None, 'pdf_url': None, 'is_oa': F...</td>\n    </tr>\n    <tr>\n      <th>2</th>\n      <td>https://openalex.org/W2147314816</td>\n      <td>Automated diffraction tomography for the struc...</td>\n      <td>https://doi.org/10.1002/anie.201204963</td>\n      <td>https://pubmed.ncbi.nlm.nih.gov/22976879</td>\n      <td>None</td>\n      <td>2147314816</td>\n      <td>article</td>\n      <td>journal-article</td>\n      <td>https://openalex.org/S4306525036</td>\n      <td>repository</td>\n      <td>[{'license': None, 'pdf_url': None, 'is_oa': F...</td>\n    </tr>\n    <tr>\n      <th>3</th>\n      <td>https://openalex.org/W2016627268</td>\n      <td>Percutaneous transluminal renal angioplasty ve...</td>\n      <td>https://doi.org/10.1067/mva.1993.45062</td>\n      <td>https://pubmed.ncbi.nlm.nih.gov/8230572</td>\n      <td>None</td>\n      <td>2016627268</td>\n      <td>article</td>\n      <td>journal-article</td>\n      <td>https://openalex.org/S4306525036</td>\n      <td>repository</td>\n      <td>[{'license': None, 'pdf_url': None, 'is_oa': F...</td>\n    </tr>\n    <tr>\n      <th>4</th>\n      <td>https://openalex.org/W2161822684</td>\n      <td>Simple physical model of collagen fibrillogene...</td>\n      <td>https://doi.org/10.1006/jmbi.1994.0182</td>\n      <td>https://pubmed.ncbi.nlm.nih.gov/7723033</td>\n      <td>None</td>\n      <td>2161822684</td>\n      <td>article</td>\n      <td>journal-article</td>\n      <td>https://openalex.org/S4306525036</td>\n      <td>repository</td>\n      <td>[{'license': None, 'pdf_url': None, 'is_oa': F...</td>\n    </tr>\n    <tr>\n      <th>...</th>\n      <td>...</td>\n      <td>...</td>\n      <td>...</td>\n      <td>...</td>\n      <td>...</td>\n      <td>...</td>\n      <td>...</td>\n      <td>...</td>\n      <td>...</td>\n      <td>...</td>\n      <td>...</td>\n    </tr>\n    <tr>\n      <th>347712</th>\n      <td>https://openalex.org/W4306253068</td>\n      <td>Observation of &lt;mml:math xmlns:mml=\"http://www...</td>\n      <td>https://doi.org/10.1103/physrevd.106.072004</td>\n      <td>None</td>\n      <td>None</td>\n      <td>None</td>\n      <td>article</td>\n      <td>journal-article</td>\n      <td>https://openalex.org/S4210238307</td>\n      <td>journal</td>\n      <td>[{'license': 'cc-by', 'is_accepted': True, 'is...</td>\n    </tr>\n    <tr>\n      <th>347713</th>\n      <td>https://openalex.org/W4306254261</td>\n      <td>Quantifying groundwater phosphorus flux to riv...</td>\n      <td>https://doi.org/10.1007/s11356-022-23574-9</td>\n      <td>https://pubmed.ncbi.nlm.nih.gov/36242662</td>\n      <td>None</td>\n      <td>None</td>\n      <td>article</td>\n      <td>journal-article</td>\n      <td>https://openalex.org/S87561820</td>\n      <td>journal</td>\n      <td>[{'license': None, 'is_accepted': False, 'is_p...</td>\n    </tr>\n    <tr>\n      <th>347714</th>\n      <td>https://openalex.org/W4306254484</td>\n      <td>Comparison of hypoxia among four river-dominat...</td>\n      <td>https://doi.org/10.17615/h920-vv92</td>\n      <td>None</td>\n      <td>None</td>\n      <td>None</td>\n      <td>article</td>\n      <td>journal-article</td>\n      <td>https://openalex.org/S4306401075</td>\n      <td>repository</td>\n      <td>[{'license': None, 'is_accepted': False, 'is_p...</td>\n    </tr>\n    <tr>\n      <th>347715</th>\n      <td>https://openalex.org/W4306409695</td>\n      <td>Effect of micromotion and local stress in quan...</td>\n      <td>https://doi.org/10.1103/physreva.106.042612</td>\n      <td>None</td>\n      <td>None</td>\n      <td>None</td>\n      <td>article</td>\n      <td>journal-article</td>\n      <td>https://openalex.org/S4210182288</td>\n      <td>journal</td>\n      <td>[{'license': None, 'is_accepted': False, 'is_p...</td>\n    </tr>\n    <tr>\n      <th>347716</th>\n      <td>https://openalex.org/W4306632679</td>\n      <td>On some questions related to the Krichever cor...</td>\n      <td>https://doi.org/10.1134/s0001434607030236</td>\n      <td>None</td>\n      <td>None</td>\n      <td>None</td>\n      <td>article</td>\n      <td>posted-content</td>\n      <td>https://openalex.org/S4306400194</td>\n      <td>repository</td>\n      <td>[{'license': None, 'is_accepted': False, 'is_p...</td>\n    </tr>\n  </tbody>\n</table>\n<p>347717 rows × 11 columns</p>\n</div>"
     },
     "execution_count": 48,
     "metadata": {},
     "output_type": "execute_result"
    }
   ],
   "source": [
    "# # from pprint import pprint\n",
    "# import pandas as pd\n",
    "# from collections import defaultdict\n",
    "# \n",
    "# \n",
    "# mm_works_json_path = \"E:/multi_mapped_full_metadata/works.json\"\n",
    "# \n",
    "# \n",
    "# df = pd.DataFrame()\n",
    "# for ent in tqdm(read_full_metadata(mm_works_json_path)):\n",
    "#     out = {}\n",
    "#     out['id'] = ent['id']\n",
    "#     out['title'] = ent['title']\n",
    "#     out['doi'] = ent['doi']\n",
    "#     out['pmid'] = ent['ids'].get('pmid')\n",
    "#     out['pmcid'] = ent['ids'].get('pmcid')\n",
    "#     out['mag'] = ent['ids'].get('mag')\n",
    "#     out['type'] = ent['type']\n",
    "#     out['type_crossref'] = ent['type_crossref']\n",
    "#     if ent.get('primary_location'):\n",
    "#         if ent['primary_location'].get('source'):\n",
    "#             out['primary_location_id'] = ent['primary_location']['source'].get('id')\n",
    "#             out['primary_location_type'] = ent['primary_location']['source'].get('type')\n",
    "#         else:\n",
    "#             out['primary_location_id'] = None\n",
    "#             out['primary_location_type'] = None\n",
    "#     else:\n",
    "#         out['primary_location_id'] = None\n",
    "#         out['primary_location_type'] = None\n",
    "# \n",
    "#     out['locations']:list = ent['locations']\n",
    "# \n",
    "#     \n",
    "#     row_df = pd.json_normalize(out)\n",
    "#     \n",
    "#     df = pd.concat([df, row_df], ignore_index=True)\n",
    "# \n",
    "# \n",
    "# df\n",
    "#     \n",
    "#     \n",
    "#     \n",
    "#     "
   ],
   "metadata": {
    "collapsed": false,
    "ExecuteTime": {
     "end_time": "2023-11-17T08:22:14.925122Z",
     "start_time": "2023-11-17T01:43:23.394360400Z"
    }
   },
   "id": "123e1ac2cd4fcbea"
  },
  {
   "cell_type": "code",
   "execution_count": null,
   "outputs": [],
   "source": [],
   "metadata": {
    "collapsed": false
   },
   "id": "b7fb2369bd23307d"
  },
  {
   "cell_type": "code",
   "execution_count": null,
   "outputs": [],
   "source": [],
   "metadata": {
    "collapsed": false
   },
   "id": "f334dd64043cf798"
  }
 ],
 "metadata": {
  "kernelspec": {
   "display_name": "Python 3",
   "language": "python",
   "name": "python3"
  },
  "language_info": {
   "codemirror_mode": {
    "name": "ipython",
    "version": 2
   },
   "file_extension": ".py",
   "mimetype": "text/x-python",
   "name": "python",
   "nbconvert_exporter": "python",
   "pygments_lexer": "ipython2",
   "version": "2.7.6"
  }
 },
 "nbformat": 4,
 "nbformat_minor": 5
}
