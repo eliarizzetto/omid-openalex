{
 "cells": [
  {
   "cell_type": "code",
   "execution_count": 1,
   "outputs": [],
   "source": [
    "import csv\n",
    "import os\n",
    "from pprint import pprint\n",
    "from collections import defaultdict\n",
    "import pandas as pd\n",
    "import json\n",
    "import yaml\n",
    "from omid_openalex.utils import read_csv_tables\n",
    "from pprint import pprint\n",
    "import re \n",
    "from tqdm import tqdm\n",
    "import psycopg2 as pg\n",
    "import logging"
   ],
   "metadata": {
    "collapsed": false,
    "ExecuteTime": {
     "end_time": "2023-12-07T13:12:30.133468800Z",
     "start_time": "2023-12-07T13:12:28.756152800Z"
    }
   },
   "id": "5d4e2940156999c"
  },
  {
   "cell_type": "code",
   "execution_count": 2,
   "outputs": [
    {
     "name": "stdout",
     "output_type": "stream",
     "text": [
      "173513\n"
     ]
    }
   ],
   "source": [
    "# load multi mapped works into a dataframe\n",
    "\n",
    "df = pd.read_csv('../mm_latest/multi_mapped_omids.csv')\n",
    "print(len(df))"
   ],
   "metadata": {
    "collapsed": false,
    "ExecuteTime": {
     "end_time": "2023-12-07T13:12:30.324420200Z",
     "start_time": "2023-12-07T13:12:30.110459600Z"
    }
   },
   "id": "d306bbe32c359248"
  },
  {
   "cell_type": "code",
   "execution_count": 3,
   "outputs": [
    {
     "data": {
      "text/plain": "                        omid  \\\n274     omid:br/062103847820   \n298     omid:br/062103847576   \n908       omid:br/0603911303   \n912       omid:br/0603911552   \n988      omid:br/06304276376   \n...                      ...   \n171068   omid:br/06901893692   \n171145    omid:br/0690328261   \n171694  omid:br/062403872516   \n172603  omid:br/062403814971   \n173408   omid:br/06601734290   \n\n                                              openalex_id             type  \n274     W3130231903 W2768614374 W4246116802 W274183670...  journal article  \n298     W4245034526 W4281560519 W4247988456 W424078887...  journal article  \n908     W3130231903 W2768614374 W4246116802 W274183670...  journal article  \n912     W2063068873 W2071233178 W2036143407 W207647548...  journal article  \n988     W4285365171 W4285449806 W4214771627 W428055392...  journal article  \n...                                                   ...              ...  \n171068  W4240898236 W4237384995 W2987261353 W423160785...  journal article  \n171145  W2436631477 W2400069297 W2471123172 W241805949...  journal article  \n171694  W4210489458 W4256466849 W4239045377 W425157145...  journal article  \n172603  W2116316296 W4243035123 W4241622834 W425597291...  journal article  \n173408  W4254715633 W4232960405 W4253790885 W213021965...  journal article  \n\n[370 rows x 3 columns]",
      "text/html": "<div>\n<style scoped>\n    .dataframe tbody tr th:only-of-type {\n        vertical-align: middle;\n    }\n\n    .dataframe tbody tr th {\n        vertical-align: top;\n    }\n\n    .dataframe thead th {\n        text-align: right;\n    }\n</style>\n<table border=\"1\" class=\"dataframe\">\n  <thead>\n    <tr style=\"text-align: right;\">\n      <th></th>\n      <th>omid</th>\n      <th>openalex_id</th>\n      <th>type</th>\n    </tr>\n  </thead>\n  <tbody>\n    <tr>\n      <th>274</th>\n      <td>omid:br/062103847820</td>\n      <td>W3130231903 W2768614374 W4246116802 W274183670...</td>\n      <td>journal article</td>\n    </tr>\n    <tr>\n      <th>298</th>\n      <td>omid:br/062103847576</td>\n      <td>W4245034526 W4281560519 W4247988456 W424078887...</td>\n      <td>journal article</td>\n    </tr>\n    <tr>\n      <th>908</th>\n      <td>omid:br/0603911303</td>\n      <td>W3130231903 W2768614374 W4246116802 W274183670...</td>\n      <td>journal article</td>\n    </tr>\n    <tr>\n      <th>912</th>\n      <td>omid:br/0603911552</td>\n      <td>W2063068873 W2071233178 W2036143407 W207647548...</td>\n      <td>journal article</td>\n    </tr>\n    <tr>\n      <th>988</th>\n      <td>omid:br/06304276376</td>\n      <td>W4285365171 W4285449806 W4214771627 W428055392...</td>\n      <td>journal article</td>\n    </tr>\n    <tr>\n      <th>...</th>\n      <td>...</td>\n      <td>...</td>\n      <td>...</td>\n    </tr>\n    <tr>\n      <th>171068</th>\n      <td>omid:br/06901893692</td>\n      <td>W4240898236 W4237384995 W2987261353 W423160785...</td>\n      <td>journal article</td>\n    </tr>\n    <tr>\n      <th>171145</th>\n      <td>omid:br/0690328261</td>\n      <td>W2436631477 W2400069297 W2471123172 W241805949...</td>\n      <td>journal article</td>\n    </tr>\n    <tr>\n      <th>171694</th>\n      <td>omid:br/062403872516</td>\n      <td>W4210489458 W4256466849 W4239045377 W425157145...</td>\n      <td>journal article</td>\n    </tr>\n    <tr>\n      <th>172603</th>\n      <td>omid:br/062403814971</td>\n      <td>W2116316296 W4243035123 W4241622834 W425597291...</td>\n      <td>journal article</td>\n    </tr>\n    <tr>\n      <th>173408</th>\n      <td>omid:br/06601734290</td>\n      <td>W4254715633 W4232960405 W4253790885 W213021965...</td>\n      <td>journal article</td>\n    </tr>\n  </tbody>\n</table>\n<p>370 rows × 3 columns</p>\n</div>"
     },
     "execution_count": 3,
     "metadata": {},
     "output_type": "execute_result"
    }
   ],
   "source": [
    "# get df rows with S in openalex_id\n",
    "# df[~(df['type'].isin(['book', 'journal article', 'journal']))]\n",
    "df[df['type'].isin(['journal article'])]\n",
    "df[df.apply(lambda x: x['type'] == 'journal article' and len(x['openalex_id'].split()) > 6, axis=1)]\n"
   ],
   "metadata": {
    "collapsed": false,
    "ExecuteTime": {
     "end_time": "2023-12-07T13:12:31.427496400Z",
     "start_time": "2023-12-07T13:12:30.326421Z"
    }
   },
   "id": "549a2a7ea47da3fc"
  },
  {
   "cell_type": "code",
   "execution_count": 10,
   "outputs": [
    {
     "name": "stdout",
     "output_type": "stream",
     "text": [
      "['/v2']\n"
     ]
    }
   ],
   "source": [
    "test = 'https://doi.org/10.21203/rs.2.488/v2'\n",
    "test2 = 'https://doi.org/10.21203/rs.2.488.v14.1'\n",
    "test3 = 'https://doi.org/10.21203/rs.2.488v14'\n",
    "\n",
    "version_pattern = re.compile(r'(?:[\\.\\/]v\\d{1,2}[\\./])|(?:[\\.\\/]v\\d{1,2}$)|(?:\\/\\d{1,2}$)|(?:[^a-zA-Z]v\\d{1,2}$)')\n",
    "\n",
    "print(re.findall(version_pattern, test))"
   ],
   "metadata": {
    "collapsed": false,
    "ExecuteTime": {
     "end_time": "2023-12-07T13:22:20.125807500Z",
     "start_time": "2023-12-07T13:22:20.093290500Z"
    }
   },
   "id": "a31b7ed7bc0d246a"
  },
  {
   "cell_type": "code",
   "execution_count": null,
   "outputs": [],
   "source": [],
   "metadata": {
    "collapsed": false
   },
   "id": "a8e03dbcd532899a"
  }
 ],
 "metadata": {
  "kernelspec": {
   "display_name": "Python 3",
   "language": "python",
   "name": "python3"
  },
  "language_info": {
   "codemirror_mode": {
    "name": "ipython",
    "version": 2
   },
   "file_extension": ".py",
   "mimetype": "text/x-python",
   "name": "python",
   "nbconvert_exporter": "python",
   "pygments_lexer": "ipython2",
   "version": "2.7.6"
  }
 },
 "nbformat": 4,
 "nbformat_minor": 5
}
