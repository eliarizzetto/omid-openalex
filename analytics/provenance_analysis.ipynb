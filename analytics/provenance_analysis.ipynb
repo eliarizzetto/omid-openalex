{
 "cells": [
  {
   "cell_type": "code",
   "execution_count": 1,
   "id": "initial_id",
   "metadata": {
    "collapsed": true,
    "ExecuteTime": {
     "end_time": "2023-11-24T18:15:29.612315Z",
     "start_time": "2023-11-24T18:15:29.541791400Z"
    }
   },
   "outputs": [],
   "source": [
    "# import sqlite3 as sql\n",
    "# import json \n",
    "# \n",
    "# db_path = 'E:/provenance.db'\n",
    "# lookup_br = 'https://w3id.org/oc/meta/br/06201134857'\n",
    "# \n",
    "# with sql.connect(db_path) as conn:\n",
    "#     c = conn.cursor()\n",
    "#     query = 'SELECT source_uri FROM Provenance WHERE br_uri = ?'\n",
    "#     c.execute(query, (lookup_br, ))\n",
    "#     \n",
    "#     rows = c.fetchall()\n",
    "# \n",
    "#     for row in rows:\n",
    "#         res = json.loads(row[0])\n",
    "#         print(res)\n",
    "    "
   ]
  },
  {
   "cell_type": "code",
   "execution_count": 2,
   "outputs": [],
   "source": [
    "import json\n",
    "analysis_results = json.load(open('provenance_analysis_results_11nov.json', 'r', encoding='utf-8'))\n"
   ],
   "metadata": {
    "collapsed": false,
    "ExecuteTime": {
     "end_time": "2023-11-24T18:15:29.656314600Z",
     "start_time": "2023-11-24T18:15:29.555790300Z"
    }
   },
   "id": "7a7224639313aee3"
  },
  {
   "cell_type": "code",
   "execution_count": 15,
   "outputs": [],
   "source": [
    "def sort_prov_analysis_results(provenance_data:dict):\n",
    "    \"\"\"\n",
    "    Sort the results of the analysis on provenance data by the sum of values in nested dictionaries in descending order. Each nested dictionary is also sorted by values in descending order.\n",
    "    :param provenance_data: \n",
    "    :return: \n",
    "    \"\"\"\n",
    "    for key in provenance_data:\n",
    "        provenance_data[key] = dict(sorted(provenance_data[key].items(), key=lambda x: x[1], reverse=True))\n",
    "\n",
    "    # Sort the outer dictionary by the sum of values in nested dictionaries in descending order\n",
    "    result = dict(sorted(provenance_data.items(), key=lambda x: sum(x[1].values()), reverse=True))\n",
    "\n",
    "    return result"
   ],
   "metadata": {
    "collapsed": false,
    "ExecuteTime": {
     "end_time": "2023-11-25T01:38:45.033350400Z",
     "start_time": "2023-11-25T01:38:45.009745200Z"
    }
   },
   "id": "d86bd84a1fafef4a"
  },
  {
   "cell_type": "code",
   "execution_count": 17,
   "outputs": [
    {
     "ename": "TypeError",
     "evalue": "'<' not supported between instances of 'dict' and 'dict'",
     "output_type": "error",
     "traceback": [
      "\u001B[1;31m---------------------------------------------------------------------------\u001B[0m",
      "\u001B[1;31mTypeError\u001B[0m                                 Traceback (most recent call last)",
      "Cell \u001B[1;32mIn[17], line 4\u001B[0m\n\u001B[0;32m      1\u001B[0m \u001B[38;5;28;01mfrom\u001B[39;00m \u001B[38;5;21;01mpprint\u001B[39;00m \u001B[38;5;28;01mimport\u001B[39;00m pprint\n\u001B[0;32m      3\u001B[0m other_results \u001B[38;5;241m=\u001B[39m json\u001B[38;5;241m.\u001B[39mload(\u001B[38;5;28mopen\u001B[39m(\u001B[38;5;124m'\u001B[39m\u001B[38;5;124mprovenance_analysis_results_11nov_id_info.json\u001B[39m\u001B[38;5;124m'\u001B[39m, \u001B[38;5;124m'\u001B[39m\u001B[38;5;124mr\u001B[39m\u001B[38;5;124m'\u001B[39m, encoding\u001B[38;5;241m=\u001B[39m\u001B[38;5;124m'\u001B[39m\u001B[38;5;124mutf-8\u001B[39m\u001B[38;5;124m'\u001B[39m))\n\u001B[1;32m----> 4\u001B[0m pprint(\u001B[43msort_provenance_data\u001B[49m\u001B[43m(\u001B[49m\u001B[43mother_results\u001B[49m\u001B[43m)\u001B[49m)\n",
      "Cell \u001B[1;32mIn[15], line 8\u001B[0m, in \u001B[0;36msort_provenance_data\u001B[1;34m(provenance_data)\u001B[0m\n\u001B[0;32m      2\u001B[0m \u001B[38;5;250m\u001B[39m\u001B[38;5;124;03m\"\"\"\u001B[39;00m\n\u001B[0;32m      3\u001B[0m \u001B[38;5;124;03mSort the results of the analysis on provenance data by the sum of values in nested dictionaries in descending order. Each nested dictionary is also sorted by values in descending order.\u001B[39;00m\n\u001B[0;32m      4\u001B[0m \u001B[38;5;124;03m:param provenance_data: \u001B[39;00m\n\u001B[0;32m      5\u001B[0m \u001B[38;5;124;03m:return: \u001B[39;00m\n\u001B[0;32m      6\u001B[0m \u001B[38;5;124;03m\"\"\"\u001B[39;00m\n\u001B[0;32m      7\u001B[0m \u001B[38;5;28;01mfor\u001B[39;00m key \u001B[38;5;129;01min\u001B[39;00m provenance_data:\n\u001B[1;32m----> 8\u001B[0m     provenance_data[key] \u001B[38;5;241m=\u001B[39m \u001B[38;5;28mdict\u001B[39m(\u001B[38;5;28;43msorted\u001B[39;49m\u001B[43m(\u001B[49m\u001B[43mprovenance_data\u001B[49m\u001B[43m[\u001B[49m\u001B[43mkey\u001B[49m\u001B[43m]\u001B[49m\u001B[38;5;241;43m.\u001B[39;49m\u001B[43mitems\u001B[49m\u001B[43m(\u001B[49m\u001B[43m)\u001B[49m\u001B[43m,\u001B[49m\u001B[43m \u001B[49m\u001B[43mkey\u001B[49m\u001B[38;5;241;43m=\u001B[39;49m\u001B[38;5;28;43;01mlambda\u001B[39;49;00m\u001B[43m \u001B[49m\u001B[43mx\u001B[49m\u001B[43m:\u001B[49m\u001B[43m \u001B[49m\u001B[43mx\u001B[49m\u001B[43m[\u001B[49m\u001B[38;5;241;43m1\u001B[39;49m\u001B[43m]\u001B[49m\u001B[43m,\u001B[49m\u001B[43m \u001B[49m\u001B[43mreverse\u001B[49m\u001B[38;5;241;43m=\u001B[39;49m\u001B[38;5;28;43;01mTrue\u001B[39;49;00m\u001B[43m)\u001B[49m)\n\u001B[0;32m     10\u001B[0m \u001B[38;5;66;03m# Sort the outer dictionary by the sum of values in nested dictionaries in descending order\u001B[39;00m\n\u001B[0;32m     11\u001B[0m result \u001B[38;5;241m=\u001B[39m \u001B[38;5;28mdict\u001B[39m(\u001B[38;5;28msorted\u001B[39m(provenance_data\u001B[38;5;241m.\u001B[39mitems(), key\u001B[38;5;241m=\u001B[39m\u001B[38;5;28;01mlambda\u001B[39;00m x: \u001B[38;5;28msum\u001B[39m(x[\u001B[38;5;241m1\u001B[39m]\u001B[38;5;241m.\u001B[39mvalues()), reverse\u001B[38;5;241m=\u001B[39m\u001B[38;5;28;01mTrue\u001B[39;00m))\n",
      "\u001B[1;31mTypeError\u001B[0m: '<' not supported between instances of 'dict' and 'dict'"
     ]
    }
   ],
   "source": [
    "from pprint import pprint\n",
    "\n",
    "other_results = json.load(open('provenance_analysis_results_11nov_id_info.json', 'r', encoding='utf-8'))\n",
    "pprint(sort_prov_analysis_results(other_results))\n"
   ],
   "metadata": {
    "collapsed": false,
    "ExecuteTime": {
     "end_time": "2023-11-25T01:39:06.564742100Z",
     "start_time": "2023-11-25T01:39:06.476491700Z"
    }
   },
   "id": "dedec040b89da691"
  },
  {
   "cell_type": "code",
   "execution_count": null,
   "outputs": [],
   "source": [
    "sorted_res = sort_prov_analysis_results(analysis_results)\n",
    "# count all the values in the nested dictionaries\n",
    "total = 0\n",
    "for k, v in sorted_res.items():\n",
    "    total += sum(v.values())\n",
    "print(total)\n",
    "\n",
    "sorted_res"
   ],
   "metadata": {
    "collapsed": false,
    "ExecuteTime": {
     "start_time": "2023-11-24T18:15:30.421203800Z"
    }
   },
   "id": "e036923912ad7f0d"
  },
  {
   "cell_type": "code",
   "execution_count": null,
   "outputs": [],
   "source": [
    "import plotly.express as px\n",
    "import pandas as pd\n",
    "import chart_studio.plotly as csp\n",
    "\n",
    "\n",
    "\n",
    "# Create a DataFrame to make it easier to work with the data\n",
    "df = pd.DataFrame(sorted_res).T  # Transpose the DataFrame to have 'br types' as columns\n",
    "\n",
    "# Sum the values for each 'br type'\n",
    "df['Number of BRs'] = df.sum(axis=1)\n",
    "\n",
    "# Reset the index to have 'br types' as a regular column\n",
    "df.reset_index(inplace=True)\n",
    "df.rename(columns={'index': 'BR Type'}, inplace=True)\n",
    "df['BR Type'].replace('', 'Unknown', inplace=True)  # Replace empty type string with 'Unknown'\n",
    "\n",
    "# Create a new column for the legend labels\n",
    "df['Legend Label'] = df['BR Type'] + ' (' + df['Number of BRs'].astype(str) + ')'\n",
    "\n",
    "\n",
    "# Create the bar chart\n",
    "fig = px.bar(df, x='BR Type', y='Number of BRs', text='Number of BRs', color='Legend Label',\n",
    "             labels={'Number of BRs': 'Number of BRs'},\n",
    "             title='Number of non-mapped BRs per BR Type (with provenance information)',\n",
    "             hover_name='Legend Label',\n",
    "             # hover_data=df[df.columns[1:13]].fillna('0'),\n",
    "             custom_data=df[df.columns[1:13]].fillna('0')\n",
    "             )\n",
    "\n",
    "# Customize the layout\n",
    "fig.update_layout(xaxis_title='BR Type', yaxis_title='Number of BRs')\n",
    "\n",
    "# display hover info for the sum of values in nested dictionaries\n",
    "\n",
    "hover_template = '<b>%{hovertext}</b><br><br>' + \\\n",
    "                 'Number of BRs: %{y}<br><br>' + \\\n",
    "                 '<b>Provenance Data</b><br>' + \\\n",
    "                 'Crossref: %{customdata[0]}<br>' + \\\n",
    "                 'Zenodo: %{customdata[1]}<br>' + \\\n",
    "                 'Pubmed: %{customdata[2]}<br>' + \\\n",
    "                 'Zenodo + Crossref: %{customdata[3]}<br>' + \\\n",
    "                 'Datacite + Crossref: %{customdata[4]}<br>' + \\\n",
    "                 'Zenodo + Pubmed: %{customdata[5]}<br>' + \\\n",
    "                 'Pubmed + Crossref: %{customdata[6]}<br>' + \\\n",
    "                 'Zenodo + Crossref + PubMed: %{customdata[7]}<br>' + \\\n",
    "                    'Datacite: %{customdata[8]}<br>' + \\\n",
    "                    'Crossref + Zenodo + Datacite: %{customdata[9]}<br>' + \\\n",
    "                    'Datacite + Zenodo: %{customdata[10]}<br>' + \\\n",
    "                    'Zenodo + Datacite + PubMed: %{customdata[11]}<br>'\n",
    "\n",
    "fig.update_traces(hovertemplate=hover_template)\n",
    "\n",
    "\n",
    "\n",
    "\n",
    "fig.show()\n",
    "csp.plot(fig, filename='non_mapped_brs_provenance', auto_open=False, sharing='public')#, fileopt='new')\n"
   ],
   "metadata": {
    "collapsed": false,
    "ExecuteTime": {
     "start_time": "2023-11-24T18:15:30.427210700Z"
    }
   },
   "id": "6e98ff3c202978fa"
  },
  {
   "cell_type": "code",
   "execution_count": null,
   "outputs": [],
   "source": [
    "from pprint import pprint"
   ],
   "metadata": {
    "collapsed": false,
    "ExecuteTime": {
     "start_time": "2023-11-24T18:15:30.432241300Z"
    }
   },
   "id": "dbf4318c5e7e2719"
  },
  {
   "cell_type": "code",
   "execution_count": null,
   "outputs": [],
   "source": [
    "\n",
    "def get_tot_contribution_by_source(sources_for_type:dict):\n",
    "    \"\"\"\n",
    "    \n",
    "    :param sources_for_type: \n",
    "    :return: \n",
    "    \"\"\"\n",
    "    \n",
    "    res = dict()\n",
    "    for k, v in sources_for_type.items():\n",
    "        if ' ' not in k:\n",
    "            if k in res:\n",
    "                res[k] += v\n",
    "            else:\n",
    "                res[k] = v\n",
    "        else:\n",
    "            for single_source in k.split():\n",
    "                if single_source in res:\n",
    "                    res[single_source] += v\n",
    "                else:\n",
    "                    res[single_source] = v\n",
    "    return res\n"
   ],
   "metadata": {
    "collapsed": false,
    "ExecuteTime": {
     "start_time": "2023-11-24T18:15:30.436205100Z"
    }
   },
   "id": "faea1ac26510edb3"
  },
  {
   "cell_type": "code",
   "execution_count": null,
   "outputs": [],
   "source": [
    "ji = sorted_res['journal issue']\n",
    "ji_by_source = get_tot_contribution_by_source(sorted_res['journal issue'])\n",
    "pprint(ji)\n",
    "print('\\n')\n",
    "pprint(ji_by_source)"
   ],
   "metadata": {
    "collapsed": false,
    "ExecuteTime": {
     "end_time": "2023-11-24T18:15:30.442210600Z",
     "start_time": "2023-11-24T18:15:30.439208600Z"
    }
   },
   "id": "a5a57e28ed21fa92"
  },
  {
   "cell_type": "code",
   "execution_count": null,
   "outputs": [],
   "source": [
    "import plotly.express as px\n",
    "\n",
    "\n",
    "def visualize_sources_proportion(sources_for_type:dict, title:str):\n",
    "    \"\"\"\n",
    "    Shows a pie chart of the proportion of contributions from each single source for a given type of bibliographic resource. Each single source's contribution is the results from the sum of all the bibliographic entities that have the source in their provenance data, therefore it is not necessarily a unique contribution, but rather it includes both the number of resources that are provided exclusively by the source and the number of resources that are provided by the source and other sources.\n",
    "    :param sources_for_type: \n",
    "    :param title: \n",
    "    :return: \n",
    "    \"\"\"\n",
    "    data = get_tot_contribution_by_source(sources_for_type)\n",
    "    labels = list(data.keys())\n",
    "    values = list(data.values())\n",
    "\n",
    "    fig = px.pie(values=values, names=labels, title=title)\n",
    "    fig.show()\n",
    "    csp.plot(fig, filename=title, auto_open=False, sharing='public')"
   ],
   "metadata": {
    "collapsed": false,
    "ExecuteTime": {
     "end_time": "2023-11-24T18:15:30.443235700Z",
     "start_time": "2023-11-24T18:15:30.442210600Z"
    }
   },
   "id": "386e57f694abbab6"
  },
  {
   "cell_type": "code",
   "execution_count": null,
   "outputs": [],
   "source": [
    "visualize_sources_proportion(sorted_res['journal issue'], 'Journal Issue')\n",
    "visualize_sources_proportion(sorted_res['journal volume'], 'Journal Volume')\n",
    "visualize_sources_proportion(sorted_res['dataset'], 'Dataset')\n",
    "visualize_sources_proportion(sorted_res[''], 'Unknown')\n",
    "visualize_sources_proportion(sorted_res['journal article'], 'Journal Article')"
   ],
   "metadata": {
    "collapsed": false,
    "ExecuteTime": {
     "start_time": "2023-11-24T18:15:30.446204800Z"
    }
   },
   "id": "987ecfb6f9c1b3d5"
  },
  {
   "cell_type": "code",
   "execution_count": null,
   "outputs": [],
   "source": [
    "visualize_sources_proportion(sorted_res['journal'], 'Journal')"
   ],
   "metadata": {
    "collapsed": false,
    "ExecuteTime": {
     "start_time": "2023-11-24T18:15:30.449203600Z"
    }
   },
   "id": "bd4048ba67f1d060"
  },
  {
   "cell_type": "code",
   "execution_count": null,
   "outputs": [],
   "source": [
    "assert False\n",
    "for k, v in sorted_res.items():\n",
    "    visualize_sources_proportion(v, k)"
   ],
   "metadata": {
    "collapsed": false,
    "ExecuteTime": {
     "start_time": "2023-11-24T18:15:30.453206700Z"
    }
   },
   "id": "57aeffc73f5c6441"
  }
 ],
 "metadata": {
  "kernelspec": {
   "name": "python3",
   "language": "python",
   "display_name": "Python 3 (ipykernel)"
  },
  "language_info": {
   "codemirror_mode": {
    "name": "ipython",
    "version": 2
   },
   "file_extension": ".py",
   "mimetype": "text/x-python",
   "name": "python",
   "nbconvert_exporter": "python",
   "pygments_lexer": "ipython2",
   "version": "2.7.6"
  }
 },
 "nbformat": 4,
 "nbformat_minor": 5
}
