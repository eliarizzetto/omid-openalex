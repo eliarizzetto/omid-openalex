{
 "cells": [
  {
   "cell_type": "code",
   "execution_count": 72,
   "id": "initial_id",
   "metadata": {
    "collapsed": true,
    "ExecuteTime": {
     "end_time": "2023-11-25T23:35:42.249952Z",
     "start_time": "2023-11-25T23:35:42.203533800Z"
    }
   },
   "outputs": [],
   "source": [
    "from analytics.helper import *\n",
    "import chart_studio.plotly as csp\n",
    "import pandas as pd\n",
    "import plotly.express as px"
   ]
  },
  {
   "cell_type": "code",
   "execution_count": 73,
   "outputs": [],
   "source": [
    "csv_file = 'multi_mapped_omids.csv'\n",
    "\n",
    "df = pd.read_csv(csv_file, sep=',', header=None, names=['omid', 'openalex_id', 'type'])"
   ],
   "metadata": {
    "collapsed": false,
    "ExecuteTime": {
     "end_time": "2023-11-25T23:35:42.455385Z",
     "start_time": "2023-11-25T23:35:42.221944300Z"
    }
   },
   "id": "2b2de028204257df"
  },
  {
   "cell_type": "code",
   "execution_count": 74,
   "outputs": [
    {
     "data": {
      "text/plain": "                        omid              openalex_id                 type\n0                       omid              openalex_id                 type\n1       omid:br/061202342190  W4300573357 W3121236676  proceedings article\n2       omid:br/061501314700  W3103430593 W4231214420      journal article\n3       omid:br/061501311841  W3209174425 W3200094642      journal article\n4       omid:br/061501311942  W3201195150 W4293777174      journal article\n...                      ...                      ...                  ...\n173509   omid:br/06190311441  W2197031826 W2172190194      journal article\n173510   omid:br/06190311461  W1581076644 W4210857697      journal article\n173511   omid:br/06190311043  W1594173748 W4298838588      journal article\n173512   omid:br/06190311543  W3123497509 W4298115774      journal article\n173513   omid:br/06190311660    W93025401 W4236893092      journal article\n\n[173514 rows x 3 columns]",
      "text/html": "<div>\n<style scoped>\n    .dataframe tbody tr th:only-of-type {\n        vertical-align: middle;\n    }\n\n    .dataframe tbody tr th {\n        vertical-align: top;\n    }\n\n    .dataframe thead th {\n        text-align: right;\n    }\n</style>\n<table border=\"1\" class=\"dataframe\">\n  <thead>\n    <tr style=\"text-align: right;\">\n      <th></th>\n      <th>omid</th>\n      <th>openalex_id</th>\n      <th>type</th>\n    </tr>\n  </thead>\n  <tbody>\n    <tr>\n      <th>0</th>\n      <td>omid</td>\n      <td>openalex_id</td>\n      <td>type</td>\n    </tr>\n    <tr>\n      <th>1</th>\n      <td>omid:br/061202342190</td>\n      <td>W4300573357 W3121236676</td>\n      <td>proceedings article</td>\n    </tr>\n    <tr>\n      <th>2</th>\n      <td>omid:br/061501314700</td>\n      <td>W3103430593 W4231214420</td>\n      <td>journal article</td>\n    </tr>\n    <tr>\n      <th>3</th>\n      <td>omid:br/061501311841</td>\n      <td>W3209174425 W3200094642</td>\n      <td>journal article</td>\n    </tr>\n    <tr>\n      <th>4</th>\n      <td>omid:br/061501311942</td>\n      <td>W3201195150 W4293777174</td>\n      <td>journal article</td>\n    </tr>\n    <tr>\n      <th>...</th>\n      <td>...</td>\n      <td>...</td>\n      <td>...</td>\n    </tr>\n    <tr>\n      <th>173509</th>\n      <td>omid:br/06190311441</td>\n      <td>W2197031826 W2172190194</td>\n      <td>journal article</td>\n    </tr>\n    <tr>\n      <th>173510</th>\n      <td>omid:br/06190311461</td>\n      <td>W1581076644 W4210857697</td>\n      <td>journal article</td>\n    </tr>\n    <tr>\n      <th>173511</th>\n      <td>omid:br/06190311043</td>\n      <td>W1594173748 W4298838588</td>\n      <td>journal article</td>\n    </tr>\n    <tr>\n      <th>173512</th>\n      <td>omid:br/06190311543</td>\n      <td>W3123497509 W4298115774</td>\n      <td>journal article</td>\n    </tr>\n    <tr>\n      <th>173513</th>\n      <td>omid:br/06190311660</td>\n      <td>W93025401 W4236893092</td>\n      <td>journal article</td>\n    </tr>\n  </tbody>\n</table>\n<p>173514 rows × 3 columns</p>\n</div>"
     },
     "execution_count": 74,
     "metadata": {},
     "output_type": "execute_result"
    }
   ],
   "source": [
    "df"
   ],
   "metadata": {
    "collapsed": false,
    "ExecuteTime": {
     "end_time": "2023-11-25T23:35:42.469914800Z",
     "start_time": "2023-11-25T23:35:42.456389900Z"
    }
   },
   "id": "e828f80c5b5d3111"
  },
  {
   "cell_type": "code",
   "execution_count": 75,
   "outputs": [
    {
     "data": {
      "application/vnd.plotly.v1+json": {
       "data": [
        {
         "alignmentgroup": "True",
         "customdata": [
          [
           "works"
          ],
          [
           "works"
          ],
          [
           "works"
          ],
          [
           "works"
          ],
          [
           "works"
          ],
          [
           "works"
          ],
          [
           "works"
          ],
          [
           "works"
          ],
          [
           "works"
          ],
          [
           "works"
          ],
          [
           "works"
          ],
          [
           "works"
          ],
          [
           "works"
          ],
          [
           "works"
          ],
          [
           "works"
          ],
          [
           "works"
          ],
          [
           "works"
          ],
          [
           "works"
          ],
          [
           "works"
          ],
          [
           "works"
          ],
          [
           "works"
          ],
          [
           "works"
          ],
          [
           "works"
          ],
          [
           "works"
          ],
          [
           "works"
          ],
          [
           "works"
          ],
          [
           "works"
          ]
         ],
         "hovertemplate": "type=Unspecified<br>oaid_count=%{x}<br>frequency=%{y}<br>composition=%{customdata[0]}<extra></extra>",
         "legendgroup": "Unspecified",
         "marker": {
          "color": "#636efa",
          "pattern": {
           "shape": ""
          }
         },
         "name": "Unspecified (5268)",
         "offsetgroup": "Unspecified",
         "orientation": "v",
         "showlegend": true,
         "textposition": "auto",
         "x": [
          2,
          3,
          4,
          5,
          6,
          7,
          8,
          9,
          10,
          11,
          12,
          13,
          14,
          15,
          16,
          17,
          18,
          19,
          24,
          32,
          36,
          38,
          45,
          52,
          75,
          80,
          154
         ],
         "xaxis": "x",
         "y": [
          3618,
          1023,
          370,
          137,
          59,
          16,
          9,
          8,
          3,
          1,
          1,
          2,
          2,
          1,
          1,
          3,
          2,
          1,
          2,
          1,
          1,
          1,
          1,
          2,
          1,
          1,
          1
         ],
         "yaxis": "y",
         "type": "bar"
        },
        {
         "alignmentgroup": "True",
         "customdata": [
          [
           "works"
          ],
          [
           "works"
          ],
          [
           "works"
          ],
          [
           "works"
          ],
          [
           "works"
          ],
          [
           "works"
          ],
          [
           "works"
          ],
          [
           "works"
          ],
          [
           "works"
          ],
          [
           "works"
          ],
          [
           "works"
          ],
          [
           "works"
          ],
          [
           "works"
          ],
          [
           "works"
          ],
          [
           "works"
          ],
          [
           "works"
          ]
         ],
         "hovertemplate": "type=book<br>oaid_count=%{x}<br>frequency=%{y}<br>composition=%{customdata[0]}<extra></extra>",
         "legendgroup": "book",
         "marker": {
          "color": "#EF553B",
          "pattern": {
           "shape": ""
          }
         },
         "name": "book (9155)",
         "offsetgroup": "book",
         "orientation": "v",
         "showlegend": true,
         "textposition": "auto",
         "x": [
          2,
          3,
          4,
          5,
          6,
          7,
          8,
          9,
          10,
          11,
          12,
          13,
          14,
          16,
          20,
          35
         ],
         "xaxis": "x",
         "y": [
          7734,
          1288,
          79,
          22,
          8,
          8,
          2,
          2,
          4,
          2,
          1,
          1,
          1,
          1,
          1,
          1
         ],
         "yaxis": "y",
         "type": "bar"
        },
        {
         "alignmentgroup": "True",
         "customdata": [
          [
           "works"
          ],
          [
           "works"
          ],
          [
           "works"
          ],
          [
           "works"
          ],
          [
           "works"
          ],
          [
           "works"
          ],
          [
           "works"
          ],
          [
           "works"
          ],
          [
           "works"
          ],
          [
           "works"
          ],
          [
           "works"
          ]
         ],
         "hovertemplate": "type=book chapter<br>oaid_count=%{x}<br>frequency=%{y}<br>composition=%{customdata[0]}<extra></extra>",
         "legendgroup": "book chapter",
         "marker": {
          "color": "#00cc96",
          "pattern": {
           "shape": ""
          }
         },
         "name": "book chapter (3524)",
         "offsetgroup": "book chapter",
         "orientation": "v",
         "showlegend": true,
         "textposition": "auto",
         "x": [
          2,
          3,
          4,
          5,
          6,
          7,
          8,
          9,
          10,
          12,
          24
         ],
         "xaxis": "x",
         "y": [
          2788,
          480,
          172,
          41,
          24,
          8,
          3,
          3,
          2,
          2,
          1
         ],
         "yaxis": "y",
         "type": "bar"
        },
        {
         "alignmentgroup": "True",
         "customdata": [
          [
           "works"
          ]
         ],
         "hovertemplate": "type=book section<br>oaid_count=%{x}<br>frequency=%{y}<br>composition=%{customdata[0]}<extra></extra>",
         "legendgroup": "book section",
         "marker": {
          "color": "#ab63fa",
          "pattern": {
           "shape": ""
          }
         },
         "name": "book section (1)",
         "offsetgroup": "book section",
         "orientation": "v",
         "showlegend": true,
         "textposition": "auto",
         "x": [
          2
         ],
         "xaxis": "x",
         "y": [
          1
         ],
         "yaxis": "y",
         "type": "bar"
        },
        {
         "alignmentgroup": "True",
         "customdata": [
          [
           "sources"
          ],
          [
           "sources"
          ],
          [
           "sources"
          ]
         ],
         "hovertemplate": "type=book series<br>oaid_count=%{x}<br>frequency=%{y}<br>composition=%{customdata[0]}<extra></extra>",
         "legendgroup": "book series",
         "marker": {
          "color": "#FFA15A",
          "pattern": {
           "shape": ""
          }
         },
         "name": "book series (55)",
         "offsetgroup": "book series",
         "orientation": "v",
         "showlegend": true,
         "textposition": "auto",
         "x": [
          2,
          3,
          5
         ],
         "xaxis": "x",
         "y": [
          52,
          2,
          1
         ],
         "yaxis": "y",
         "type": "bar"
        },
        {
         "alignmentgroup": "True",
         "customdata": [
          [
           "works"
          ],
          [
           "works"
          ],
          [
           "works"
          ],
          [
           "works"
          ],
          [
           "works"
          ]
         ],
         "hovertemplate": "type=dataset<br>oaid_count=%{x}<br>frequency=%{y}<br>composition=%{customdata[0]}<extra></extra>",
         "legendgroup": "dataset",
         "marker": {
          "color": "#19d3f3",
          "pattern": {
           "shape": ""
          }
         },
         "name": "dataset (86)",
         "offsetgroup": "dataset",
         "orientation": "v",
         "showlegend": true,
         "textposition": "auto",
         "x": [
          2,
          3,
          4,
          14,
          132
         ],
         "xaxis": "x",
         "y": [
          77,
          5,
          2,
          1,
          1
         ],
         "yaxis": "y",
         "type": "bar"
        },
        {
         "alignmentgroup": "True",
         "customdata": [
          [
           "works"
          ]
         ],
         "hovertemplate": "type=dissertation<br>oaid_count=%{x}<br>frequency=%{y}<br>composition=%{customdata[0]}<extra></extra>",
         "legendgroup": "dissertation",
         "marker": {
          "color": "#FF6692",
          "pattern": {
           "shape": ""
          }
         },
         "name": "dissertation (20)",
         "offsetgroup": "dissertation",
         "orientation": "v",
         "showlegend": true,
         "textposition": "auto",
         "x": [
          2
         ],
         "xaxis": "x",
         "y": [
          20
         ],
         "yaxis": "y",
         "type": "bar"
        },
        {
         "alignmentgroup": "True",
         "customdata": [
          [
           "sources"
          ],
          [
           "works"
          ],
          [
           "sources"
          ],
          [
           "sources"
          ],
          [
           "sources"
          ]
         ],
         "hovertemplate": "type=journal<br>oaid_count=%{x}<br>frequency=%{y}<br>composition=%{customdata[0]}<extra></extra>",
         "legendgroup": "journal",
         "marker": {
          "color": "#B6E880",
          "pattern": {
           "shape": ""
          }
         },
         "name": "journal (6406)",
         "offsetgroup": "journal",
         "orientation": "v",
         "showlegend": true,
         "textposition": "auto",
         "x": [
          2,
          2,
          3,
          4,
          5
         ],
         "xaxis": "x",
         "y": [
          6172,
          4,
          194,
          28,
          8
         ],
         "yaxis": "y",
         "type": "bar"
        },
        {
         "alignmentgroup": "True",
         "customdata": [
          [
           "works"
          ],
          [
           "works"
          ],
          [
           "works"
          ],
          [
           "works"
          ],
          [
           "works"
          ],
          [
           "works"
          ],
          [
           "works"
          ],
          [
           "works"
          ],
          [
           "works"
          ],
          [
           "works"
          ],
          [
           "works"
          ],
          [
           "works"
          ],
          [
           "works"
          ],
          [
           "works"
          ],
          [
           "works"
          ],
          [
           "works"
          ],
          [
           "works"
          ],
          [
           "works"
          ],
          [
           "works"
          ],
          [
           "works"
          ],
          [
           "works"
          ],
          [
           "works"
          ],
          [
           "works"
          ],
          [
           "works"
          ],
          [
           "works"
          ],
          [
           "works"
          ],
          [
           "works"
          ],
          [
           "works"
          ],
          [
           "works"
          ],
          [
           "works"
          ],
          [
           "works"
          ],
          [
           "works"
          ],
          [
           "works"
          ],
          [
           "works"
          ],
          [
           "works"
          ],
          [
           "works"
          ],
          [
           "works"
          ],
          [
           "works"
          ],
          [
           "works"
          ],
          [
           "works"
          ],
          [
           "works"
          ],
          [
           "works"
          ],
          [
           "works"
          ],
          [
           "works"
          ],
          [
           "works"
          ],
          [
           "works"
          ],
          [
           "works"
          ],
          [
           "works"
          ],
          [
           "works"
          ],
          [
           "works"
          ],
          [
           "works"
          ],
          [
           "works"
          ],
          [
           "works"
          ],
          [
           "works"
          ],
          [
           "works"
          ],
          [
           "works"
          ],
          [
           "works"
          ],
          [
           "works"
          ],
          [
           "works"
          ],
          [
           "works"
          ],
          [
           "works"
          ],
          [
           "works"
          ],
          [
           "works"
          ],
          [
           "works"
          ],
          [
           "works"
          ],
          [
           "works"
          ],
          [
           "works"
          ],
          [
           "works"
          ],
          [
           "works"
          ],
          [
           "works"
          ],
          [
           "works"
          ],
          [
           "works"
          ],
          [
           "works"
          ],
          [
           "works"
          ]
         ],
         "hovertemplate": "type=journal article<br>oaid_count=%{x}<br>frequency=%{y}<br>composition=%{customdata[0]}<extra></extra>",
         "legendgroup": "journal article",
         "marker": {
          "color": "#FF97FF",
          "pattern": {
           "shape": ""
          }
         },
         "name": "journal article (145255)",
         "offsetgroup": "journal article",
         "orientation": "v",
         "showlegend": true,
         "textposition": "auto",
         "x": [
          2,
          3,
          4,
          5,
          6,
          7,
          8,
          9,
          10,
          11,
          12,
          13,
          14,
          15,
          16,
          17,
          18,
          19,
          20,
          21,
          22,
          23,
          24,
          25,
          26,
          28,
          29,
          30,
          31,
          32,
          33,
          34,
          35,
          40,
          41,
          42,
          43,
          44,
          45,
          46,
          47,
          48,
          49,
          50,
          52,
          53,
          57,
          59,
          60,
          65,
          67,
          69,
          73,
          74,
          76,
          77,
          78,
          80,
          83,
          94,
          96,
          97,
          98,
          100,
          106,
          111,
          112,
          115,
          123,
          130,
          135,
          160,
          197,
          1051
         ],
         "xaxis": "x",
         "y": [
          135084,
          7490,
          1603,
          507,
          201,
          84,
          40,
          13,
          28,
          18,
          12,
          11,
          10,
          10,
          4,
          13,
          14,
          5,
          3,
          4,
          5,
          8,
          5,
          4,
          4,
          5,
          1,
          1,
          6,
          2,
          2,
          2,
          2,
          2,
          1,
          2,
          4,
          1,
          1,
          2,
          1,
          1,
          1,
          1,
          1,
          1,
          1,
          2,
          2,
          1,
          1,
          1,
          1,
          1,
          1,
          1,
          1,
          1,
          2,
          2,
          1,
          1,
          1,
          1,
          2,
          2,
          2,
          1,
          1,
          1,
          1,
          1,
          1,
          1
         ],
         "yaxis": "y",
         "type": "bar"
        },
        {
         "alignmentgroup": "True",
         "customdata": [
          [
           "works"
          ],
          [
           "works"
          ],
          [
           "works"
          ],
          [
           "works"
          ],
          [
           "works"
          ]
         ],
         "hovertemplate": "type=proceedings<br>oaid_count=%{x}<br>frequency=%{y}<br>composition=%{customdata[0]}<extra></extra>",
         "legendgroup": "proceedings",
         "marker": {
          "color": "#FECB52",
          "pattern": {
           "shape": ""
          }
         },
         "name": "proceedings (784)",
         "offsetgroup": "proceedings",
         "orientation": "v",
         "showlegend": true,
         "textposition": "auto",
         "x": [
          2,
          3,
          4,
          5,
          7
         ],
         "xaxis": "x",
         "y": [
          555,
          193,
          29,
          6,
          1
         ],
         "yaxis": "y",
         "type": "bar"
        },
        {
         "alignmentgroup": "True",
         "customdata": [
          [
           "works"
          ],
          [
           "works"
          ],
          [
           "works"
          ],
          [
           "works"
          ]
         ],
         "hovertemplate": "type=proceedings article<br>oaid_count=%{x}<br>frequency=%{y}<br>composition=%{customdata[0]}<extra></extra>",
         "legendgroup": "proceedings article",
         "marker": {
          "color": "#636efa",
          "pattern": {
           "shape": ""
          }
         },
         "name": "proceedings article (1729)",
         "offsetgroup": "proceedings article",
         "orientation": "v",
         "showlegend": true,
         "textposition": "auto",
         "x": [
          2,
          3,
          4,
          5
         ],
         "xaxis": "x",
         "y": [
          1676,
          47,
          5,
          1
         ],
         "yaxis": "y",
         "type": "bar"
        },
        {
         "alignmentgroup": "True",
         "customdata": [
          [
           "works"
          ],
          [
           "works"
          ]
         ],
         "hovertemplate": "type=reference book<br>oaid_count=%{x}<br>frequency=%{y}<br>composition=%{customdata[0]}<extra></extra>",
         "legendgroup": "reference book",
         "marker": {
          "color": "#EF553B",
          "pattern": {
           "shape": ""
          }
         },
         "name": "reference book (76)",
         "offsetgroup": "reference book",
         "orientation": "v",
         "showlegend": true,
         "textposition": "auto",
         "x": [
          2,
          3
         ],
         "xaxis": "x",
         "y": [
          73,
          3
         ],
         "yaxis": "y",
         "type": "bar"
        },
        {
         "alignmentgroup": "True",
         "customdata": [
          [
           "works"
          ],
          [
           "works"
          ]
         ],
         "hovertemplate": "type=reference entry<br>oaid_count=%{x}<br>frequency=%{y}<br>composition=%{customdata[0]}<extra></extra>",
         "legendgroup": "reference entry",
         "marker": {
          "color": "#00cc96",
          "pattern": {
           "shape": ""
          }
         },
         "name": "reference entry (199)",
         "offsetgroup": "reference entry",
         "orientation": "v",
         "showlegend": true,
         "textposition": "auto",
         "x": [
          2,
          3
         ],
         "xaxis": "x",
         "y": [
          196,
          3
         ],
         "yaxis": "y",
         "type": "bar"
        },
        {
         "alignmentgroup": "True",
         "customdata": [
          [
           "works"
          ],
          [
           "works"
          ],
          [
           "works"
          ],
          [
           "works"
          ],
          [
           "works"
          ],
          [
           "works"
          ],
          [
           "works"
          ],
          [
           "works"
          ],
          [
           "works"
          ],
          [
           "works"
          ]
         ],
         "hovertemplate": "type=report<br>oaid_count=%{x}<br>frequency=%{y}<br>composition=%{customdata[0]}<extra></extra>",
         "legendgroup": "report",
         "marker": {
          "color": "#ab63fa",
          "pattern": {
           "shape": ""
          }
         },
         "name": "report (337)",
         "offsetgroup": "report",
         "orientation": "v",
         "showlegend": true,
         "textposition": "auto",
         "x": [
          2,
          3,
          4,
          5,
          6,
          7,
          8,
          9,
          10,
          17
         ],
         "xaxis": "x",
         "y": [
          265,
          47,
          11,
          5,
          1,
          2,
          1,
          2,
          1,
          2
         ],
         "yaxis": "y",
         "type": "bar"
        },
        {
         "alignmentgroup": "True",
         "customdata": [
          [
           "sources"
          ],
          [
           "works"
          ],
          [
           "works"
          ],
          [
           "works"
          ]
         ],
         "hovertemplate": "type=series<br>oaid_count=%{x}<br>frequency=%{y}<br>composition=%{customdata[0]}<extra></extra>",
         "legendgroup": "series",
         "marker": {
          "color": "#FFA15A",
          "pattern": {
           "shape": ""
          }
         },
         "name": "series (9)",
         "offsetgroup": "series",
         "orientation": "v",
         "showlegend": true,
         "textposition": "auto",
         "x": [
          2,
          2,
          3,
          4
         ],
         "xaxis": "x",
         "y": [
          2,
          5,
          1,
          1
         ],
         "yaxis": "y",
         "type": "bar"
        },
        {
         "alignmentgroup": "True",
         "customdata": [
          [
           "works"
          ],
          [
           "works"
          ]
         ],
         "hovertemplate": "type=standard<br>oaid_count=%{x}<br>frequency=%{y}<br>composition=%{customdata[0]}<extra></extra>",
         "legendgroup": "standard",
         "marker": {
          "color": "#19d3f3",
          "pattern": {
           "shape": ""
          }
         },
         "name": "standard (7)",
         "offsetgroup": "standard",
         "orientation": "v",
         "showlegend": true,
         "textposition": "auto",
         "x": [
          2,
          4
         ],
         "xaxis": "x",
         "y": [
          6,
          1
         ],
         "yaxis": "y",
         "type": "bar"
        },
        {
         "alignmentgroup": "True",
         "customdata": [
          [
           "works"
          ],
          [
           "works"
          ],
          [
           "works"
          ],
          [
           "works"
          ],
          [
           "works"
          ],
          [
           "works"
          ]
         ],
         "hovertemplate": "type=web content<br>oaid_count=%{x}<br>frequency=%{y}<br>composition=%{customdata[0]}<extra></extra>",
         "legendgroup": "web content",
         "marker": {
          "color": "#FF6692",
          "pattern": {
           "shape": ""
          }
         },
         "name": "web content (602)",
         "offsetgroup": "web content",
         "orientation": "v",
         "showlegend": true,
         "textposition": "auto",
         "x": [
          2,
          3,
          4,
          5,
          6,
          7
         ],
         "xaxis": "x",
         "y": [
          526,
          55,
          16,
          3,
          1,
          1
         ],
         "yaxis": "y",
         "type": "bar"
        }
       ],
       "layout": {
        "template": {
         "data": {
          "histogram2dcontour": [
           {
            "type": "histogram2dcontour",
            "colorbar": {
             "outlinewidth": 0,
             "ticks": ""
            },
            "colorscale": [
             [
              0.0,
              "#0d0887"
             ],
             [
              0.1111111111111111,
              "#46039f"
             ],
             [
              0.2222222222222222,
              "#7201a8"
             ],
             [
              0.3333333333333333,
              "#9c179e"
             ],
             [
              0.4444444444444444,
              "#bd3786"
             ],
             [
              0.5555555555555556,
              "#d8576b"
             ],
             [
              0.6666666666666666,
              "#ed7953"
             ],
             [
              0.7777777777777778,
              "#fb9f3a"
             ],
             [
              0.8888888888888888,
              "#fdca26"
             ],
             [
              1.0,
              "#f0f921"
             ]
            ]
           }
          ],
          "choropleth": [
           {
            "type": "choropleth",
            "colorbar": {
             "outlinewidth": 0,
             "ticks": ""
            }
           }
          ],
          "histogram2d": [
           {
            "type": "histogram2d",
            "colorbar": {
             "outlinewidth": 0,
             "ticks": ""
            },
            "colorscale": [
             [
              0.0,
              "#0d0887"
             ],
             [
              0.1111111111111111,
              "#46039f"
             ],
             [
              0.2222222222222222,
              "#7201a8"
             ],
             [
              0.3333333333333333,
              "#9c179e"
             ],
             [
              0.4444444444444444,
              "#bd3786"
             ],
             [
              0.5555555555555556,
              "#d8576b"
             ],
             [
              0.6666666666666666,
              "#ed7953"
             ],
             [
              0.7777777777777778,
              "#fb9f3a"
             ],
             [
              0.8888888888888888,
              "#fdca26"
             ],
             [
              1.0,
              "#f0f921"
             ]
            ]
           }
          ],
          "heatmap": [
           {
            "type": "heatmap",
            "colorbar": {
             "outlinewidth": 0,
             "ticks": ""
            },
            "colorscale": [
             [
              0.0,
              "#0d0887"
             ],
             [
              0.1111111111111111,
              "#46039f"
             ],
             [
              0.2222222222222222,
              "#7201a8"
             ],
             [
              0.3333333333333333,
              "#9c179e"
             ],
             [
              0.4444444444444444,
              "#bd3786"
             ],
             [
              0.5555555555555556,
              "#d8576b"
             ],
             [
              0.6666666666666666,
              "#ed7953"
             ],
             [
              0.7777777777777778,
              "#fb9f3a"
             ],
             [
              0.8888888888888888,
              "#fdca26"
             ],
             [
              1.0,
              "#f0f921"
             ]
            ]
           }
          ],
          "heatmapgl": [
           {
            "type": "heatmapgl",
            "colorbar": {
             "outlinewidth": 0,
             "ticks": ""
            },
            "colorscale": [
             [
              0.0,
              "#0d0887"
             ],
             [
              0.1111111111111111,
              "#46039f"
             ],
             [
              0.2222222222222222,
              "#7201a8"
             ],
             [
              0.3333333333333333,
              "#9c179e"
             ],
             [
              0.4444444444444444,
              "#bd3786"
             ],
             [
              0.5555555555555556,
              "#d8576b"
             ],
             [
              0.6666666666666666,
              "#ed7953"
             ],
             [
              0.7777777777777778,
              "#fb9f3a"
             ],
             [
              0.8888888888888888,
              "#fdca26"
             ],
             [
              1.0,
              "#f0f921"
             ]
            ]
           }
          ],
          "contourcarpet": [
           {
            "type": "contourcarpet",
            "colorbar": {
             "outlinewidth": 0,
             "ticks": ""
            }
           }
          ],
          "contour": [
           {
            "type": "contour",
            "colorbar": {
             "outlinewidth": 0,
             "ticks": ""
            },
            "colorscale": [
             [
              0.0,
              "#0d0887"
             ],
             [
              0.1111111111111111,
              "#46039f"
             ],
             [
              0.2222222222222222,
              "#7201a8"
             ],
             [
              0.3333333333333333,
              "#9c179e"
             ],
             [
              0.4444444444444444,
              "#bd3786"
             ],
             [
              0.5555555555555556,
              "#d8576b"
             ],
             [
              0.6666666666666666,
              "#ed7953"
             ],
             [
              0.7777777777777778,
              "#fb9f3a"
             ],
             [
              0.8888888888888888,
              "#fdca26"
             ],
             [
              1.0,
              "#f0f921"
             ]
            ]
           }
          ],
          "surface": [
           {
            "type": "surface",
            "colorbar": {
             "outlinewidth": 0,
             "ticks": ""
            },
            "colorscale": [
             [
              0.0,
              "#0d0887"
             ],
             [
              0.1111111111111111,
              "#46039f"
             ],
             [
              0.2222222222222222,
              "#7201a8"
             ],
             [
              0.3333333333333333,
              "#9c179e"
             ],
             [
              0.4444444444444444,
              "#bd3786"
             ],
             [
              0.5555555555555556,
              "#d8576b"
             ],
             [
              0.6666666666666666,
              "#ed7953"
             ],
             [
              0.7777777777777778,
              "#fb9f3a"
             ],
             [
              0.8888888888888888,
              "#fdca26"
             ],
             [
              1.0,
              "#f0f921"
             ]
            ]
           }
          ],
          "mesh3d": [
           {
            "type": "mesh3d",
            "colorbar": {
             "outlinewidth": 0,
             "ticks": ""
            }
           }
          ],
          "scatter": [
           {
            "marker": {
             "line": {
              "color": "#283442"
             }
            },
            "type": "scatter"
           }
          ],
          "parcoords": [
           {
            "type": "parcoords",
            "line": {
             "colorbar": {
              "outlinewidth": 0,
              "ticks": ""
             }
            }
           }
          ],
          "scatterpolargl": [
           {
            "type": "scatterpolargl",
            "marker": {
             "colorbar": {
              "outlinewidth": 0,
              "ticks": ""
             }
            }
           }
          ],
          "bar": [
           {
            "error_x": {
             "color": "#f2f5fa"
            },
            "error_y": {
             "color": "#f2f5fa"
            },
            "marker": {
             "line": {
              "color": "rgb(17,17,17)",
              "width": 0.5
             },
             "pattern": {
              "fillmode": "overlay",
              "size": 10,
              "solidity": 0.2
             }
            },
            "type": "bar"
           }
          ],
          "scattergeo": [
           {
            "type": "scattergeo",
            "marker": {
             "colorbar": {
              "outlinewidth": 0,
              "ticks": ""
             }
            }
           }
          ],
          "scatterpolar": [
           {
            "type": "scatterpolar",
            "marker": {
             "colorbar": {
              "outlinewidth": 0,
              "ticks": ""
             }
            }
           }
          ],
          "histogram": [
           {
            "marker": {
             "pattern": {
              "fillmode": "overlay",
              "size": 10,
              "solidity": 0.2
             }
            },
            "type": "histogram"
           }
          ],
          "scattergl": [
           {
            "marker": {
             "line": {
              "color": "#283442"
             }
            },
            "type": "scattergl"
           }
          ],
          "scatter3d": [
           {
            "type": "scatter3d",
            "line": {
             "colorbar": {
              "outlinewidth": 0,
              "ticks": ""
             }
            },
            "marker": {
             "colorbar": {
              "outlinewidth": 0,
              "ticks": ""
             }
            }
           }
          ],
          "scattermapbox": [
           {
            "type": "scattermapbox",
            "marker": {
             "colorbar": {
              "outlinewidth": 0,
              "ticks": ""
             }
            }
           }
          ],
          "scatterternary": [
           {
            "type": "scatterternary",
            "marker": {
             "colorbar": {
              "outlinewidth": 0,
              "ticks": ""
             }
            }
           }
          ],
          "scattercarpet": [
           {
            "type": "scattercarpet",
            "marker": {
             "colorbar": {
              "outlinewidth": 0,
              "ticks": ""
             }
            }
           }
          ],
          "carpet": [
           {
            "aaxis": {
             "endlinecolor": "#A2B1C6",
             "gridcolor": "#506784",
             "linecolor": "#506784",
             "minorgridcolor": "#506784",
             "startlinecolor": "#A2B1C6"
            },
            "baxis": {
             "endlinecolor": "#A2B1C6",
             "gridcolor": "#506784",
             "linecolor": "#506784",
             "minorgridcolor": "#506784",
             "startlinecolor": "#A2B1C6"
            },
            "type": "carpet"
           }
          ],
          "table": [
           {
            "cells": {
             "fill": {
              "color": "#506784"
             },
             "line": {
              "color": "rgb(17,17,17)"
             }
            },
            "header": {
             "fill": {
              "color": "#2a3f5f"
             },
             "line": {
              "color": "rgb(17,17,17)"
             }
            },
            "type": "table"
           }
          ],
          "barpolar": [
           {
            "marker": {
             "line": {
              "color": "rgb(17,17,17)",
              "width": 0.5
             },
             "pattern": {
              "fillmode": "overlay",
              "size": 10,
              "solidity": 0.2
             }
            },
            "type": "barpolar"
           }
          ],
          "pie": [
           {
            "automargin": true,
            "type": "pie"
           }
          ]
         },
         "layout": {
          "autotypenumbers": "strict",
          "colorway": [
           "#636efa",
           "#EF553B",
           "#00cc96",
           "#ab63fa",
           "#FFA15A",
           "#19d3f3",
           "#FF6692",
           "#B6E880",
           "#FF97FF",
           "#FECB52"
          ],
          "font": {
           "color": "#f2f5fa"
          },
          "hovermode": "closest",
          "hoverlabel": {
           "align": "left"
          },
          "paper_bgcolor": "rgb(17,17,17)",
          "plot_bgcolor": "rgb(17,17,17)",
          "polar": {
           "bgcolor": "rgb(17,17,17)",
           "angularaxis": {
            "gridcolor": "#506784",
            "linecolor": "#506784",
            "ticks": ""
           },
           "radialaxis": {
            "gridcolor": "#506784",
            "linecolor": "#506784",
            "ticks": ""
           }
          },
          "ternary": {
           "bgcolor": "rgb(17,17,17)",
           "aaxis": {
            "gridcolor": "#506784",
            "linecolor": "#506784",
            "ticks": ""
           },
           "baxis": {
            "gridcolor": "#506784",
            "linecolor": "#506784",
            "ticks": ""
           },
           "caxis": {
            "gridcolor": "#506784",
            "linecolor": "#506784",
            "ticks": ""
           }
          },
          "coloraxis": {
           "colorbar": {
            "outlinewidth": 0,
            "ticks": ""
           }
          },
          "colorscale": {
           "sequential": [
            [
             0.0,
             "#0d0887"
            ],
            [
             0.1111111111111111,
             "#46039f"
            ],
            [
             0.2222222222222222,
             "#7201a8"
            ],
            [
             0.3333333333333333,
             "#9c179e"
            ],
            [
             0.4444444444444444,
             "#bd3786"
            ],
            [
             0.5555555555555556,
             "#d8576b"
            ],
            [
             0.6666666666666666,
             "#ed7953"
            ],
            [
             0.7777777777777778,
             "#fb9f3a"
            ],
            [
             0.8888888888888888,
             "#fdca26"
            ],
            [
             1.0,
             "#f0f921"
            ]
           ],
           "sequentialminus": [
            [
             0.0,
             "#0d0887"
            ],
            [
             0.1111111111111111,
             "#46039f"
            ],
            [
             0.2222222222222222,
             "#7201a8"
            ],
            [
             0.3333333333333333,
             "#9c179e"
            ],
            [
             0.4444444444444444,
             "#bd3786"
            ],
            [
             0.5555555555555556,
             "#d8576b"
            ],
            [
             0.6666666666666666,
             "#ed7953"
            ],
            [
             0.7777777777777778,
             "#fb9f3a"
            ],
            [
             0.8888888888888888,
             "#fdca26"
            ],
            [
             1.0,
             "#f0f921"
            ]
           ],
           "diverging": [
            [
             0,
             "#8e0152"
            ],
            [
             0.1,
             "#c51b7d"
            ],
            [
             0.2,
             "#de77ae"
            ],
            [
             0.3,
             "#f1b6da"
            ],
            [
             0.4,
             "#fde0ef"
            ],
            [
             0.5,
             "#f7f7f7"
            ],
            [
             0.6,
             "#e6f5d0"
            ],
            [
             0.7,
             "#b8e186"
            ],
            [
             0.8,
             "#7fbc41"
            ],
            [
             0.9,
             "#4d9221"
            ],
            [
             1,
             "#276419"
            ]
           ]
          },
          "xaxis": {
           "gridcolor": "#283442",
           "linecolor": "#506784",
           "ticks": "",
           "title": {
            "standoff": 15
           },
           "zerolinecolor": "#283442",
           "automargin": true,
           "zerolinewidth": 2
          },
          "yaxis": {
           "gridcolor": "#283442",
           "linecolor": "#506784",
           "ticks": "",
           "title": {
            "standoff": 15
           },
           "zerolinecolor": "#283442",
           "automargin": true,
           "zerolinewidth": 2
          },
          "scene": {
           "xaxis": {
            "backgroundcolor": "rgb(17,17,17)",
            "gridcolor": "#506784",
            "linecolor": "#506784",
            "showbackground": true,
            "ticks": "",
            "zerolinecolor": "#C8D4E3",
            "gridwidth": 2
           },
           "yaxis": {
            "backgroundcolor": "rgb(17,17,17)",
            "gridcolor": "#506784",
            "linecolor": "#506784",
            "showbackground": true,
            "ticks": "",
            "zerolinecolor": "#C8D4E3",
            "gridwidth": 2
           },
           "zaxis": {
            "backgroundcolor": "rgb(17,17,17)",
            "gridcolor": "#506784",
            "linecolor": "#506784",
            "showbackground": true,
            "ticks": "",
            "zerolinecolor": "#C8D4E3",
            "gridwidth": 2
           }
          },
          "shapedefaults": {
           "line": {
            "color": "#f2f5fa"
           }
          },
          "annotationdefaults": {
           "arrowcolor": "#f2f5fa",
           "arrowhead": 0,
           "arrowwidth": 1
          },
          "geo": {
           "bgcolor": "rgb(17,17,17)",
           "landcolor": "rgb(17,17,17)",
           "subunitcolor": "#506784",
           "showland": true,
           "showlakes": true,
           "lakecolor": "rgb(17,17,17)"
          },
          "title": {
           "x": 0.05
          },
          "updatemenudefaults": {
           "bgcolor": "#506784",
           "borderwidth": 0
          },
          "sliderdefaults": {
           "bgcolor": "#C8D4E3",
           "borderwidth": 1,
           "bordercolor": "rgb(17,17,17)",
           "tickwidth": 0
          },
          "mapbox": {
           "style": "dark"
          }
         }
        },
        "xaxis": {
         "anchor": "y",
         "domain": [
          0.0,
          1.0
         ],
         "title": {
          "text": "Number of OpenAlex IDs for a single OMID"
         }
        },
        "yaxis": {
         "anchor": "x",
         "domain": [
          0.0,
          1.0
         ],
         "title": {
          "text": "Frequency (log)"
         },
         "type": "log"
        },
        "legend": {
         "title": {
          "text": "type"
         },
         "tracegroupgap": 0
        },
        "margin": {
         "t": 60
        },
        "barmode": "relative",
        "title": {
         "text": "Distribution of OpenAlex ID counts by type"
        }
       },
       "config": {
        "plotlyServerURL": "https://plotly.com"
       }
      },
      "text/html": "<div>                            <div id=\"24a7a199-3239-4840-8328-ba4f512e5f03\" class=\"plotly-graph-div\" style=\"height:525px; width:100%;\"></div>            <script type=\"text/javascript\">                require([\"plotly\"], function(Plotly) {                    window.PLOTLYENV=window.PLOTLYENV || {};                                    if (document.getElementById(\"24a7a199-3239-4840-8328-ba4f512e5f03\")) {                    Plotly.newPlot(                        \"24a7a199-3239-4840-8328-ba4f512e5f03\",                        [{\"alignmentgroup\":\"True\",\"customdata\":[[\"works\"],[\"works\"],[\"works\"],[\"works\"],[\"works\"],[\"works\"],[\"works\"],[\"works\"],[\"works\"],[\"works\"],[\"works\"],[\"works\"],[\"works\"],[\"works\"],[\"works\"],[\"works\"],[\"works\"],[\"works\"],[\"works\"],[\"works\"],[\"works\"],[\"works\"],[\"works\"],[\"works\"],[\"works\"],[\"works\"],[\"works\"]],\"hovertemplate\":\"type=Unspecified\\u003cbr\\u003eoaid_count=%{x}\\u003cbr\\u003efrequency=%{y}\\u003cbr\\u003ecomposition=%{customdata[0]}\\u003cextra\\u003e\\u003c\\u002fextra\\u003e\",\"legendgroup\":\"Unspecified\",\"marker\":{\"color\":\"#636efa\",\"pattern\":{\"shape\":\"\"}},\"name\":\"Unspecified (5268)\",\"offsetgroup\":\"Unspecified\",\"orientation\":\"v\",\"showlegend\":true,\"textposition\":\"auto\",\"x\":[2,3,4,5,6,7,8,9,10,11,12,13,14,15,16,17,18,19,24,32,36,38,45,52,75,80,154],\"xaxis\":\"x\",\"y\":[3618,1023,370,137,59,16,9,8,3,1,1,2,2,1,1,3,2,1,2,1,1,1,1,2,1,1,1],\"yaxis\":\"y\",\"type\":\"bar\"},{\"alignmentgroup\":\"True\",\"customdata\":[[\"works\"],[\"works\"],[\"works\"],[\"works\"],[\"works\"],[\"works\"],[\"works\"],[\"works\"],[\"works\"],[\"works\"],[\"works\"],[\"works\"],[\"works\"],[\"works\"],[\"works\"],[\"works\"]],\"hovertemplate\":\"type=book\\u003cbr\\u003eoaid_count=%{x}\\u003cbr\\u003efrequency=%{y}\\u003cbr\\u003ecomposition=%{customdata[0]}\\u003cextra\\u003e\\u003c\\u002fextra\\u003e\",\"legendgroup\":\"book\",\"marker\":{\"color\":\"#EF553B\",\"pattern\":{\"shape\":\"\"}},\"name\":\"book (9155)\",\"offsetgroup\":\"book\",\"orientation\":\"v\",\"showlegend\":true,\"textposition\":\"auto\",\"x\":[2,3,4,5,6,7,8,9,10,11,12,13,14,16,20,35],\"xaxis\":\"x\",\"y\":[7734,1288,79,22,8,8,2,2,4,2,1,1,1,1,1,1],\"yaxis\":\"y\",\"type\":\"bar\"},{\"alignmentgroup\":\"True\",\"customdata\":[[\"works\"],[\"works\"],[\"works\"],[\"works\"],[\"works\"],[\"works\"],[\"works\"],[\"works\"],[\"works\"],[\"works\"],[\"works\"]],\"hovertemplate\":\"type=book chapter\\u003cbr\\u003eoaid_count=%{x}\\u003cbr\\u003efrequency=%{y}\\u003cbr\\u003ecomposition=%{customdata[0]}\\u003cextra\\u003e\\u003c\\u002fextra\\u003e\",\"legendgroup\":\"book chapter\",\"marker\":{\"color\":\"#00cc96\",\"pattern\":{\"shape\":\"\"}},\"name\":\"book chapter (3524)\",\"offsetgroup\":\"book chapter\",\"orientation\":\"v\",\"showlegend\":true,\"textposition\":\"auto\",\"x\":[2,3,4,5,6,7,8,9,10,12,24],\"xaxis\":\"x\",\"y\":[2788,480,172,41,24,8,3,3,2,2,1],\"yaxis\":\"y\",\"type\":\"bar\"},{\"alignmentgroup\":\"True\",\"customdata\":[[\"works\"]],\"hovertemplate\":\"type=book section\\u003cbr\\u003eoaid_count=%{x}\\u003cbr\\u003efrequency=%{y}\\u003cbr\\u003ecomposition=%{customdata[0]}\\u003cextra\\u003e\\u003c\\u002fextra\\u003e\",\"legendgroup\":\"book section\",\"marker\":{\"color\":\"#ab63fa\",\"pattern\":{\"shape\":\"\"}},\"name\":\"book section (1)\",\"offsetgroup\":\"book section\",\"orientation\":\"v\",\"showlegend\":true,\"textposition\":\"auto\",\"x\":[2],\"xaxis\":\"x\",\"y\":[1],\"yaxis\":\"y\",\"type\":\"bar\"},{\"alignmentgroup\":\"True\",\"customdata\":[[\"sources\"],[\"sources\"],[\"sources\"]],\"hovertemplate\":\"type=book series\\u003cbr\\u003eoaid_count=%{x}\\u003cbr\\u003efrequency=%{y}\\u003cbr\\u003ecomposition=%{customdata[0]}\\u003cextra\\u003e\\u003c\\u002fextra\\u003e\",\"legendgroup\":\"book series\",\"marker\":{\"color\":\"#FFA15A\",\"pattern\":{\"shape\":\"\"}},\"name\":\"book series (55)\",\"offsetgroup\":\"book series\",\"orientation\":\"v\",\"showlegend\":true,\"textposition\":\"auto\",\"x\":[2,3,5],\"xaxis\":\"x\",\"y\":[52,2,1],\"yaxis\":\"y\",\"type\":\"bar\"},{\"alignmentgroup\":\"True\",\"customdata\":[[\"works\"],[\"works\"],[\"works\"],[\"works\"],[\"works\"]],\"hovertemplate\":\"type=dataset\\u003cbr\\u003eoaid_count=%{x}\\u003cbr\\u003efrequency=%{y}\\u003cbr\\u003ecomposition=%{customdata[0]}\\u003cextra\\u003e\\u003c\\u002fextra\\u003e\",\"legendgroup\":\"dataset\",\"marker\":{\"color\":\"#19d3f3\",\"pattern\":{\"shape\":\"\"}},\"name\":\"dataset (86)\",\"offsetgroup\":\"dataset\",\"orientation\":\"v\",\"showlegend\":true,\"textposition\":\"auto\",\"x\":[2,3,4,14,132],\"xaxis\":\"x\",\"y\":[77,5,2,1,1],\"yaxis\":\"y\",\"type\":\"bar\"},{\"alignmentgroup\":\"True\",\"customdata\":[[\"works\"]],\"hovertemplate\":\"type=dissertation\\u003cbr\\u003eoaid_count=%{x}\\u003cbr\\u003efrequency=%{y}\\u003cbr\\u003ecomposition=%{customdata[0]}\\u003cextra\\u003e\\u003c\\u002fextra\\u003e\",\"legendgroup\":\"dissertation\",\"marker\":{\"color\":\"#FF6692\",\"pattern\":{\"shape\":\"\"}},\"name\":\"dissertation (20)\",\"offsetgroup\":\"dissertation\",\"orientation\":\"v\",\"showlegend\":true,\"textposition\":\"auto\",\"x\":[2],\"xaxis\":\"x\",\"y\":[20],\"yaxis\":\"y\",\"type\":\"bar\"},{\"alignmentgroup\":\"True\",\"customdata\":[[\"sources\"],[\"works\"],[\"sources\"],[\"sources\"],[\"sources\"]],\"hovertemplate\":\"type=journal\\u003cbr\\u003eoaid_count=%{x}\\u003cbr\\u003efrequency=%{y}\\u003cbr\\u003ecomposition=%{customdata[0]}\\u003cextra\\u003e\\u003c\\u002fextra\\u003e\",\"legendgroup\":\"journal\",\"marker\":{\"color\":\"#B6E880\",\"pattern\":{\"shape\":\"\"}},\"name\":\"journal (6406)\",\"offsetgroup\":\"journal\",\"orientation\":\"v\",\"showlegend\":true,\"textposition\":\"auto\",\"x\":[2,2,3,4,5],\"xaxis\":\"x\",\"y\":[6172,4,194,28,8],\"yaxis\":\"y\",\"type\":\"bar\"},{\"alignmentgroup\":\"True\",\"customdata\":[[\"works\"],[\"works\"],[\"works\"],[\"works\"],[\"works\"],[\"works\"],[\"works\"],[\"works\"],[\"works\"],[\"works\"],[\"works\"],[\"works\"],[\"works\"],[\"works\"],[\"works\"],[\"works\"],[\"works\"],[\"works\"],[\"works\"],[\"works\"],[\"works\"],[\"works\"],[\"works\"],[\"works\"],[\"works\"],[\"works\"],[\"works\"],[\"works\"],[\"works\"],[\"works\"],[\"works\"],[\"works\"],[\"works\"],[\"works\"],[\"works\"],[\"works\"],[\"works\"],[\"works\"],[\"works\"],[\"works\"],[\"works\"],[\"works\"],[\"works\"],[\"works\"],[\"works\"],[\"works\"],[\"works\"],[\"works\"],[\"works\"],[\"works\"],[\"works\"],[\"works\"],[\"works\"],[\"works\"],[\"works\"],[\"works\"],[\"works\"],[\"works\"],[\"works\"],[\"works\"],[\"works\"],[\"works\"],[\"works\"],[\"works\"],[\"works\"],[\"works\"],[\"works\"],[\"works\"],[\"works\"],[\"works\"],[\"works\"],[\"works\"],[\"works\"],[\"works\"]],\"hovertemplate\":\"type=journal article\\u003cbr\\u003eoaid_count=%{x}\\u003cbr\\u003efrequency=%{y}\\u003cbr\\u003ecomposition=%{customdata[0]}\\u003cextra\\u003e\\u003c\\u002fextra\\u003e\",\"legendgroup\":\"journal article\",\"marker\":{\"color\":\"#FF97FF\",\"pattern\":{\"shape\":\"\"}},\"name\":\"journal article (145255)\",\"offsetgroup\":\"journal article\",\"orientation\":\"v\",\"showlegend\":true,\"textposition\":\"auto\",\"x\":[2,3,4,5,6,7,8,9,10,11,12,13,14,15,16,17,18,19,20,21,22,23,24,25,26,28,29,30,31,32,33,34,35,40,41,42,43,44,45,46,47,48,49,50,52,53,57,59,60,65,67,69,73,74,76,77,78,80,83,94,96,97,98,100,106,111,112,115,123,130,135,160,197,1051],\"xaxis\":\"x\",\"y\":[135084,7490,1603,507,201,84,40,13,28,18,12,11,10,10,4,13,14,5,3,4,5,8,5,4,4,5,1,1,6,2,2,2,2,2,1,2,4,1,1,2,1,1,1,1,1,1,1,2,2,1,1,1,1,1,1,1,1,1,2,2,1,1,1,1,2,2,2,1,1,1,1,1,1,1],\"yaxis\":\"y\",\"type\":\"bar\"},{\"alignmentgroup\":\"True\",\"customdata\":[[\"works\"],[\"works\"],[\"works\"],[\"works\"],[\"works\"]],\"hovertemplate\":\"type=proceedings\\u003cbr\\u003eoaid_count=%{x}\\u003cbr\\u003efrequency=%{y}\\u003cbr\\u003ecomposition=%{customdata[0]}\\u003cextra\\u003e\\u003c\\u002fextra\\u003e\",\"legendgroup\":\"proceedings\",\"marker\":{\"color\":\"#FECB52\",\"pattern\":{\"shape\":\"\"}},\"name\":\"proceedings (784)\",\"offsetgroup\":\"proceedings\",\"orientation\":\"v\",\"showlegend\":true,\"textposition\":\"auto\",\"x\":[2,3,4,5,7],\"xaxis\":\"x\",\"y\":[555,193,29,6,1],\"yaxis\":\"y\",\"type\":\"bar\"},{\"alignmentgroup\":\"True\",\"customdata\":[[\"works\"],[\"works\"],[\"works\"],[\"works\"]],\"hovertemplate\":\"type=proceedings article\\u003cbr\\u003eoaid_count=%{x}\\u003cbr\\u003efrequency=%{y}\\u003cbr\\u003ecomposition=%{customdata[0]}\\u003cextra\\u003e\\u003c\\u002fextra\\u003e\",\"legendgroup\":\"proceedings article\",\"marker\":{\"color\":\"#636efa\",\"pattern\":{\"shape\":\"\"}},\"name\":\"proceedings article (1729)\",\"offsetgroup\":\"proceedings article\",\"orientation\":\"v\",\"showlegend\":true,\"textposition\":\"auto\",\"x\":[2,3,4,5],\"xaxis\":\"x\",\"y\":[1676,47,5,1],\"yaxis\":\"y\",\"type\":\"bar\"},{\"alignmentgroup\":\"True\",\"customdata\":[[\"works\"],[\"works\"]],\"hovertemplate\":\"type=reference book\\u003cbr\\u003eoaid_count=%{x}\\u003cbr\\u003efrequency=%{y}\\u003cbr\\u003ecomposition=%{customdata[0]}\\u003cextra\\u003e\\u003c\\u002fextra\\u003e\",\"legendgroup\":\"reference book\",\"marker\":{\"color\":\"#EF553B\",\"pattern\":{\"shape\":\"\"}},\"name\":\"reference book (76)\",\"offsetgroup\":\"reference book\",\"orientation\":\"v\",\"showlegend\":true,\"textposition\":\"auto\",\"x\":[2,3],\"xaxis\":\"x\",\"y\":[73,3],\"yaxis\":\"y\",\"type\":\"bar\"},{\"alignmentgroup\":\"True\",\"customdata\":[[\"works\"],[\"works\"]],\"hovertemplate\":\"type=reference entry\\u003cbr\\u003eoaid_count=%{x}\\u003cbr\\u003efrequency=%{y}\\u003cbr\\u003ecomposition=%{customdata[0]}\\u003cextra\\u003e\\u003c\\u002fextra\\u003e\",\"legendgroup\":\"reference entry\",\"marker\":{\"color\":\"#00cc96\",\"pattern\":{\"shape\":\"\"}},\"name\":\"reference entry (199)\",\"offsetgroup\":\"reference entry\",\"orientation\":\"v\",\"showlegend\":true,\"textposition\":\"auto\",\"x\":[2,3],\"xaxis\":\"x\",\"y\":[196,3],\"yaxis\":\"y\",\"type\":\"bar\"},{\"alignmentgroup\":\"True\",\"customdata\":[[\"works\"],[\"works\"],[\"works\"],[\"works\"],[\"works\"],[\"works\"],[\"works\"],[\"works\"],[\"works\"],[\"works\"]],\"hovertemplate\":\"type=report\\u003cbr\\u003eoaid_count=%{x}\\u003cbr\\u003efrequency=%{y}\\u003cbr\\u003ecomposition=%{customdata[0]}\\u003cextra\\u003e\\u003c\\u002fextra\\u003e\",\"legendgroup\":\"report\",\"marker\":{\"color\":\"#ab63fa\",\"pattern\":{\"shape\":\"\"}},\"name\":\"report (337)\",\"offsetgroup\":\"report\",\"orientation\":\"v\",\"showlegend\":true,\"textposition\":\"auto\",\"x\":[2,3,4,5,6,7,8,9,10,17],\"xaxis\":\"x\",\"y\":[265,47,11,5,1,2,1,2,1,2],\"yaxis\":\"y\",\"type\":\"bar\"},{\"alignmentgroup\":\"True\",\"customdata\":[[\"sources\"],[\"works\"],[\"works\"],[\"works\"]],\"hovertemplate\":\"type=series\\u003cbr\\u003eoaid_count=%{x}\\u003cbr\\u003efrequency=%{y}\\u003cbr\\u003ecomposition=%{customdata[0]}\\u003cextra\\u003e\\u003c\\u002fextra\\u003e\",\"legendgroup\":\"series\",\"marker\":{\"color\":\"#FFA15A\",\"pattern\":{\"shape\":\"\"}},\"name\":\"series (9)\",\"offsetgroup\":\"series\",\"orientation\":\"v\",\"showlegend\":true,\"textposition\":\"auto\",\"x\":[2,2,3,4],\"xaxis\":\"x\",\"y\":[2,5,1,1],\"yaxis\":\"y\",\"type\":\"bar\"},{\"alignmentgroup\":\"True\",\"customdata\":[[\"works\"],[\"works\"]],\"hovertemplate\":\"type=standard\\u003cbr\\u003eoaid_count=%{x}\\u003cbr\\u003efrequency=%{y}\\u003cbr\\u003ecomposition=%{customdata[0]}\\u003cextra\\u003e\\u003c\\u002fextra\\u003e\",\"legendgroup\":\"standard\",\"marker\":{\"color\":\"#19d3f3\",\"pattern\":{\"shape\":\"\"}},\"name\":\"standard (7)\",\"offsetgroup\":\"standard\",\"orientation\":\"v\",\"showlegend\":true,\"textposition\":\"auto\",\"x\":[2,4],\"xaxis\":\"x\",\"y\":[6,1],\"yaxis\":\"y\",\"type\":\"bar\"},{\"alignmentgroup\":\"True\",\"customdata\":[[\"works\"],[\"works\"],[\"works\"],[\"works\"],[\"works\"],[\"works\"]],\"hovertemplate\":\"type=web content\\u003cbr\\u003eoaid_count=%{x}\\u003cbr\\u003efrequency=%{y}\\u003cbr\\u003ecomposition=%{customdata[0]}\\u003cextra\\u003e\\u003c\\u002fextra\\u003e\",\"legendgroup\":\"web content\",\"marker\":{\"color\":\"#FF6692\",\"pattern\":{\"shape\":\"\"}},\"name\":\"web content (602)\",\"offsetgroup\":\"web content\",\"orientation\":\"v\",\"showlegend\":true,\"textposition\":\"auto\",\"x\":[2,3,4,5,6,7],\"xaxis\":\"x\",\"y\":[526,55,16,3,1,1],\"yaxis\":\"y\",\"type\":\"bar\"}],                        {\"template\":{\"data\":{\"histogram2dcontour\":[{\"type\":\"histogram2dcontour\",\"colorbar\":{\"outlinewidth\":0,\"ticks\":\"\"},\"colorscale\":[[0.0,\"#0d0887\"],[0.1111111111111111,\"#46039f\"],[0.2222222222222222,\"#7201a8\"],[0.3333333333333333,\"#9c179e\"],[0.4444444444444444,\"#bd3786\"],[0.5555555555555556,\"#d8576b\"],[0.6666666666666666,\"#ed7953\"],[0.7777777777777778,\"#fb9f3a\"],[0.8888888888888888,\"#fdca26\"],[1.0,\"#f0f921\"]]}],\"choropleth\":[{\"type\":\"choropleth\",\"colorbar\":{\"outlinewidth\":0,\"ticks\":\"\"}}],\"histogram2d\":[{\"type\":\"histogram2d\",\"colorbar\":{\"outlinewidth\":0,\"ticks\":\"\"},\"colorscale\":[[0.0,\"#0d0887\"],[0.1111111111111111,\"#46039f\"],[0.2222222222222222,\"#7201a8\"],[0.3333333333333333,\"#9c179e\"],[0.4444444444444444,\"#bd3786\"],[0.5555555555555556,\"#d8576b\"],[0.6666666666666666,\"#ed7953\"],[0.7777777777777778,\"#fb9f3a\"],[0.8888888888888888,\"#fdca26\"],[1.0,\"#f0f921\"]]}],\"heatmap\":[{\"type\":\"heatmap\",\"colorbar\":{\"outlinewidth\":0,\"ticks\":\"\"},\"colorscale\":[[0.0,\"#0d0887\"],[0.1111111111111111,\"#46039f\"],[0.2222222222222222,\"#7201a8\"],[0.3333333333333333,\"#9c179e\"],[0.4444444444444444,\"#bd3786\"],[0.5555555555555556,\"#d8576b\"],[0.6666666666666666,\"#ed7953\"],[0.7777777777777778,\"#fb9f3a\"],[0.8888888888888888,\"#fdca26\"],[1.0,\"#f0f921\"]]}],\"heatmapgl\":[{\"type\":\"heatmapgl\",\"colorbar\":{\"outlinewidth\":0,\"ticks\":\"\"},\"colorscale\":[[0.0,\"#0d0887\"],[0.1111111111111111,\"#46039f\"],[0.2222222222222222,\"#7201a8\"],[0.3333333333333333,\"#9c179e\"],[0.4444444444444444,\"#bd3786\"],[0.5555555555555556,\"#d8576b\"],[0.6666666666666666,\"#ed7953\"],[0.7777777777777778,\"#fb9f3a\"],[0.8888888888888888,\"#fdca26\"],[1.0,\"#f0f921\"]]}],\"contourcarpet\":[{\"type\":\"contourcarpet\",\"colorbar\":{\"outlinewidth\":0,\"ticks\":\"\"}}],\"contour\":[{\"type\":\"contour\",\"colorbar\":{\"outlinewidth\":0,\"ticks\":\"\"},\"colorscale\":[[0.0,\"#0d0887\"],[0.1111111111111111,\"#46039f\"],[0.2222222222222222,\"#7201a8\"],[0.3333333333333333,\"#9c179e\"],[0.4444444444444444,\"#bd3786\"],[0.5555555555555556,\"#d8576b\"],[0.6666666666666666,\"#ed7953\"],[0.7777777777777778,\"#fb9f3a\"],[0.8888888888888888,\"#fdca26\"],[1.0,\"#f0f921\"]]}],\"surface\":[{\"type\":\"surface\",\"colorbar\":{\"outlinewidth\":0,\"ticks\":\"\"},\"colorscale\":[[0.0,\"#0d0887\"],[0.1111111111111111,\"#46039f\"],[0.2222222222222222,\"#7201a8\"],[0.3333333333333333,\"#9c179e\"],[0.4444444444444444,\"#bd3786\"],[0.5555555555555556,\"#d8576b\"],[0.6666666666666666,\"#ed7953\"],[0.7777777777777778,\"#fb9f3a\"],[0.8888888888888888,\"#fdca26\"],[1.0,\"#f0f921\"]]}],\"mesh3d\":[{\"type\":\"mesh3d\",\"colorbar\":{\"outlinewidth\":0,\"ticks\":\"\"}}],\"scatter\":[{\"marker\":{\"line\":{\"color\":\"#283442\"}},\"type\":\"scatter\"}],\"parcoords\":[{\"type\":\"parcoords\",\"line\":{\"colorbar\":{\"outlinewidth\":0,\"ticks\":\"\"}}}],\"scatterpolargl\":[{\"type\":\"scatterpolargl\",\"marker\":{\"colorbar\":{\"outlinewidth\":0,\"ticks\":\"\"}}}],\"bar\":[{\"error_x\":{\"color\":\"#f2f5fa\"},\"error_y\":{\"color\":\"#f2f5fa\"},\"marker\":{\"line\":{\"color\":\"rgb(17,17,17)\",\"width\":0.5},\"pattern\":{\"fillmode\":\"overlay\",\"size\":10,\"solidity\":0.2}},\"type\":\"bar\"}],\"scattergeo\":[{\"type\":\"scattergeo\",\"marker\":{\"colorbar\":{\"outlinewidth\":0,\"ticks\":\"\"}}}],\"scatterpolar\":[{\"type\":\"scatterpolar\",\"marker\":{\"colorbar\":{\"outlinewidth\":0,\"ticks\":\"\"}}}],\"histogram\":[{\"marker\":{\"pattern\":{\"fillmode\":\"overlay\",\"size\":10,\"solidity\":0.2}},\"type\":\"histogram\"}],\"scattergl\":[{\"marker\":{\"line\":{\"color\":\"#283442\"}},\"type\":\"scattergl\"}],\"scatter3d\":[{\"type\":\"scatter3d\",\"line\":{\"colorbar\":{\"outlinewidth\":0,\"ticks\":\"\"}},\"marker\":{\"colorbar\":{\"outlinewidth\":0,\"ticks\":\"\"}}}],\"scattermapbox\":[{\"type\":\"scattermapbox\",\"marker\":{\"colorbar\":{\"outlinewidth\":0,\"ticks\":\"\"}}}],\"scatterternary\":[{\"type\":\"scatterternary\",\"marker\":{\"colorbar\":{\"outlinewidth\":0,\"ticks\":\"\"}}}],\"scattercarpet\":[{\"type\":\"scattercarpet\",\"marker\":{\"colorbar\":{\"outlinewidth\":0,\"ticks\":\"\"}}}],\"carpet\":[{\"aaxis\":{\"endlinecolor\":\"#A2B1C6\",\"gridcolor\":\"#506784\",\"linecolor\":\"#506784\",\"minorgridcolor\":\"#506784\",\"startlinecolor\":\"#A2B1C6\"},\"baxis\":{\"endlinecolor\":\"#A2B1C6\",\"gridcolor\":\"#506784\",\"linecolor\":\"#506784\",\"minorgridcolor\":\"#506784\",\"startlinecolor\":\"#A2B1C6\"},\"type\":\"carpet\"}],\"table\":[{\"cells\":{\"fill\":{\"color\":\"#506784\"},\"line\":{\"color\":\"rgb(17,17,17)\"}},\"header\":{\"fill\":{\"color\":\"#2a3f5f\"},\"line\":{\"color\":\"rgb(17,17,17)\"}},\"type\":\"table\"}],\"barpolar\":[{\"marker\":{\"line\":{\"color\":\"rgb(17,17,17)\",\"width\":0.5},\"pattern\":{\"fillmode\":\"overlay\",\"size\":10,\"solidity\":0.2}},\"type\":\"barpolar\"}],\"pie\":[{\"automargin\":true,\"type\":\"pie\"}]},\"layout\":{\"autotypenumbers\":\"strict\",\"colorway\":[\"#636efa\",\"#EF553B\",\"#00cc96\",\"#ab63fa\",\"#FFA15A\",\"#19d3f3\",\"#FF6692\",\"#B6E880\",\"#FF97FF\",\"#FECB52\"],\"font\":{\"color\":\"#f2f5fa\"},\"hovermode\":\"closest\",\"hoverlabel\":{\"align\":\"left\"},\"paper_bgcolor\":\"rgb(17,17,17)\",\"plot_bgcolor\":\"rgb(17,17,17)\",\"polar\":{\"bgcolor\":\"rgb(17,17,17)\",\"angularaxis\":{\"gridcolor\":\"#506784\",\"linecolor\":\"#506784\",\"ticks\":\"\"},\"radialaxis\":{\"gridcolor\":\"#506784\",\"linecolor\":\"#506784\",\"ticks\":\"\"}},\"ternary\":{\"bgcolor\":\"rgb(17,17,17)\",\"aaxis\":{\"gridcolor\":\"#506784\",\"linecolor\":\"#506784\",\"ticks\":\"\"},\"baxis\":{\"gridcolor\":\"#506784\",\"linecolor\":\"#506784\",\"ticks\":\"\"},\"caxis\":{\"gridcolor\":\"#506784\",\"linecolor\":\"#506784\",\"ticks\":\"\"}},\"coloraxis\":{\"colorbar\":{\"outlinewidth\":0,\"ticks\":\"\"}},\"colorscale\":{\"sequential\":[[0.0,\"#0d0887\"],[0.1111111111111111,\"#46039f\"],[0.2222222222222222,\"#7201a8\"],[0.3333333333333333,\"#9c179e\"],[0.4444444444444444,\"#bd3786\"],[0.5555555555555556,\"#d8576b\"],[0.6666666666666666,\"#ed7953\"],[0.7777777777777778,\"#fb9f3a\"],[0.8888888888888888,\"#fdca26\"],[1.0,\"#f0f921\"]],\"sequentialminus\":[[0.0,\"#0d0887\"],[0.1111111111111111,\"#46039f\"],[0.2222222222222222,\"#7201a8\"],[0.3333333333333333,\"#9c179e\"],[0.4444444444444444,\"#bd3786\"],[0.5555555555555556,\"#d8576b\"],[0.6666666666666666,\"#ed7953\"],[0.7777777777777778,\"#fb9f3a\"],[0.8888888888888888,\"#fdca26\"],[1.0,\"#f0f921\"]],\"diverging\":[[0,\"#8e0152\"],[0.1,\"#c51b7d\"],[0.2,\"#de77ae\"],[0.3,\"#f1b6da\"],[0.4,\"#fde0ef\"],[0.5,\"#f7f7f7\"],[0.6,\"#e6f5d0\"],[0.7,\"#b8e186\"],[0.8,\"#7fbc41\"],[0.9,\"#4d9221\"],[1,\"#276419\"]]},\"xaxis\":{\"gridcolor\":\"#283442\",\"linecolor\":\"#506784\",\"ticks\":\"\",\"title\":{\"standoff\":15},\"zerolinecolor\":\"#283442\",\"automargin\":true,\"zerolinewidth\":2},\"yaxis\":{\"gridcolor\":\"#283442\",\"linecolor\":\"#506784\",\"ticks\":\"\",\"title\":{\"standoff\":15},\"zerolinecolor\":\"#283442\",\"automargin\":true,\"zerolinewidth\":2},\"scene\":{\"xaxis\":{\"backgroundcolor\":\"rgb(17,17,17)\",\"gridcolor\":\"#506784\",\"linecolor\":\"#506784\",\"showbackground\":true,\"ticks\":\"\",\"zerolinecolor\":\"#C8D4E3\",\"gridwidth\":2},\"yaxis\":{\"backgroundcolor\":\"rgb(17,17,17)\",\"gridcolor\":\"#506784\",\"linecolor\":\"#506784\",\"showbackground\":true,\"ticks\":\"\",\"zerolinecolor\":\"#C8D4E3\",\"gridwidth\":2},\"zaxis\":{\"backgroundcolor\":\"rgb(17,17,17)\",\"gridcolor\":\"#506784\",\"linecolor\":\"#506784\",\"showbackground\":true,\"ticks\":\"\",\"zerolinecolor\":\"#C8D4E3\",\"gridwidth\":2}},\"shapedefaults\":{\"line\":{\"color\":\"#f2f5fa\"}},\"annotationdefaults\":{\"arrowcolor\":\"#f2f5fa\",\"arrowhead\":0,\"arrowwidth\":1},\"geo\":{\"bgcolor\":\"rgb(17,17,17)\",\"landcolor\":\"rgb(17,17,17)\",\"subunitcolor\":\"#506784\",\"showland\":true,\"showlakes\":true,\"lakecolor\":\"rgb(17,17,17)\"},\"title\":{\"x\":0.05},\"updatemenudefaults\":{\"bgcolor\":\"#506784\",\"borderwidth\":0},\"sliderdefaults\":{\"bgcolor\":\"#C8D4E3\",\"borderwidth\":1,\"bordercolor\":\"rgb(17,17,17)\",\"tickwidth\":0},\"mapbox\":{\"style\":\"dark\"}}},\"xaxis\":{\"anchor\":\"y\",\"domain\":[0.0,1.0],\"title\":{\"text\":\"Number of OpenAlex IDs for a single OMID\"}},\"yaxis\":{\"anchor\":\"x\",\"domain\":[0.0,1.0],\"title\":{\"text\":\"Frequency (log)\"},\"type\":\"log\"},\"legend\":{\"title\":{\"text\":\"type\"},\"tracegroupgap\":0},\"margin\":{\"t\":60},\"barmode\":\"relative\",\"title\":{\"text\":\"Distribution of OpenAlex ID counts by type\"}},                        {\"responsive\": true}                    ).then(function(){\n                            \nvar gd = document.getElementById('24a7a199-3239-4840-8328-ba4f512e5f03');\nvar x = new MutationObserver(function (mutations, observer) {{\n        var display = window.getComputedStyle(gd).display;\n        if (!display || display === 'none') {{\n            console.log([gd, 'removed!']);\n            Plotly.purge(gd);\n            observer.disconnect();\n        }}\n}});\n\n// Listen for the removal of the full notebook cells\nvar notebookContainer = gd.closest('#notebook-container');\nif (notebookContainer) {{\n    x.observe(notebookContainer, {childList: true});\n}}\n\n// Listen for the clearing of the current output cell\nvar outputEl = gd.closest('.output');\nif (outputEl) {{\n    x.observe(outputEl, {childList: true});\n}}\n\n                        })                };                });            </script>        </div>"
     },
     "metadata": {},
     "output_type": "display_data"
    }
   ],
   "source": [
    "# ----------------LOG SCALE HISTOGRAM (PRIMARY ENTITIES)----------------\n",
    "\n",
    "viz_df = add_columns_to_df(df)\n",
    "viz_df['type'].fillna('Unspecified', inplace=True)\n",
    "\n",
    "hist_data_df = viz_df.groupby(['oaid_count', 'type', 'composition']).size().reset_index(name='frequency')\n",
    "\n",
    "\n",
    "# define new custom legend names (including the total number of occurrences for each type)    \n",
    "legend_names = {brtype: f\"{brtype} ({viz_df['type'].value_counts(dropna=False).get(brtype)})\" for brtype in viz_df['type'].unique()}\n",
    "\n",
    "\n",
    "fig = px.bar(hist_data_df, x='oaid_count', y='frequency', color='type', hover_data=['composition'], log_y=True)\n",
    "\n",
    "fig.for_each_trace(lambda t: t.update(name = legend_names[t.name]))\n",
    "\n",
    "fig.update_layout(title='Distribution of OpenAlex ID counts by type',\n",
    "                  xaxis_title='Number of OpenAlex IDs for a single OMID',\n",
    "                  yaxis_title='Frequency (log)', yaxis_type='log')\n",
    "\n",
    "# write html file of the log scale histogram\n",
    "fig.write_html('graphs/multi_mapped_latest.html')\n",
    "\n",
    "fig.show()\n",
    "\n",
    "# upload the log scale histogram to plotly chart studio\n",
    "# csp.plot(pents_fig, filename='multi_mapped_latest', auto_open=False, sharing='public', fileopt='new')#, fileopt='new')"
   ],
   "metadata": {
    "collapsed": false,
    "ExecuteTime": {
     "end_time": "2023-11-25T23:35:43.095260500Z",
     "start_time": "2023-11-25T23:35:42.529958Z"
    }
   },
   "id": "7c1832a29e497f99"
  }
 ],
 "metadata": {
  "kernelspec": {
   "display_name": "Python 3",
   "language": "python",
   "name": "python3"
  },
  "language_info": {
   "codemirror_mode": {
    "name": "ipython",
    "version": 2
   },
   "file_extension": ".py",
   "mimetype": "text/x-python",
   "name": "python",
   "nbconvert_exporter": "python",
   "pygments_lexer": "ipython2",
   "version": "2.7.6"
  }
 },
 "nbformat": 4,
 "nbformat_minor": 5
}
