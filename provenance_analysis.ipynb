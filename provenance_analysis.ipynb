{
 "cells": [
  {
   "cell_type": "code",
   "execution_count": 2,
   "outputs": [],
   "source": [
    "import json\n",
    "from pprint import pprint\n",
    "import plotly.express as px\n",
    "import pandas as pd\n",
    "import chart_studio.plotly as csp\n",
    "from analytics.prov import ProvenanceAnalyser\n"
   ],
   "metadata": {
    "collapsed": false,
    "ExecuteTime": {
     "end_time": "2023-11-26T23:01:09.289858600Z",
     "start_time": "2023-11-26T23:01:07.034375700Z"
    }
   },
   "id": "6eb5a8a7cb04fc80"
  },
  {
   "cell_type": "code",
   "execution_count": 3,
   "outputs": [],
   "source": [
    "import json\n",
    "analysis_results = json.load(open('provenance_analysis_results.json', 'r', encoding='utf-8'))\n",
    "\n",
    "# # If the file's content is not already sorted, sort it as follows (the dictionary must be sorted for the visualization to work properly)\n",
    "# analysis_results = ProvenanceAnalyser.sort_prov_analysis_results(analysis_results)"
   ],
   "metadata": {
    "collapsed": false,
    "ExecuteTime": {
     "end_time": "2023-11-26T23:01:09.304852300Z",
     "start_time": "2023-11-26T23:01:09.293851300Z"
    }
   },
   "id": "7a7224639313aee3"
  },
  {
   "cell_type": "code",
   "execution_count": 4,
   "outputs": [
    {
     "name": "stdout",
     "output_type": "stream",
     "text": [
      "{'': {'https://api.crossref.org/': {'omid_only': 356955, 'other_pids': 324066},\n",
      "      'https://api.crossref.org/snapshots/monthly/2023/09/all.json.tar.gz': {'omid_only': 71227,\n",
      "                                                                             'other_pids': 149362},\n",
      "      'https://api.datacite.org/': {'omid_only': 9, 'other_pids': 162061},\n",
      "      'https://api.datacite.org/ https://api.crossref.org/': {'omid_only': 0,\n",
      "                                                              'other_pids': 287},\n",
      "      'https://doi.org/10.5281/zenodo.7845968': {'omid_only': 0,\n",
      "                                                 'other_pids': 355075},\n",
      "      'https://doi.org/10.5281/zenodo.7845968 https://api.crossref.org/': {'omid_only': 0,\n",
      "                                                                           'other_pids': 16},\n",
      "      'https://nih.figshare.com/collections/iCite_Database_Snapshots_NIH_Open_Citation_Collection_/4586573/42': {'omid_only': 1,\n",
      "                                                                                                                 'other_pids': 153}},\n",
      " 'book': {'https://api.crossref.org/': {'omid_only': 2405267,\n",
      "                                        'other_pids': 91797},\n",
      "          'https://api.crossref.org/snapshots/monthly/2023/09/all.json.tar.gz': {'omid_only': 2626,\n",
      "                                                                                 'other_pids': 16272},\n",
      "          'https://api.crossref.org/snapshots/monthly/2023/09/all.json.tar.gz https://api.crossref.org/': {'omid_only': 0,\n",
      "                                                                                                           'other_pids': 589},\n",
      "          'https://api.datacite.org/': {'omid_only': 0, 'other_pids': 300},\n",
      "          'https://api.datacite.org/ https://api.crossref.org/': {'omid_only': 1,\n",
      "                                                                  'other_pids': 28},\n",
      "          'https://doi.org/10.5281/zenodo.7845968': {'omid_only': 0,\n",
      "                                                     'other_pids': 1247},\n",
      "          'https://doi.org/10.5281/zenodo.7845968 https://api.crossref.org/': {'omid_only': 0,\n",
      "                                                                               'other_pids': 2},\n",
      "          'https://nih.figshare.com/collections/iCite_Database_Snapshots_NIH_Open_Citation_Collection_/4586573/42': {'omid_only': 3757,\n",
      "                                                                                                                     'other_pids': 0}},\n",
      " 'book chapter': {'https://api.crossref.org/': {'omid_only': 0,\n",
      "                                                'other_pids': 1230},\n",
      "                  'https://api.crossref.org/snapshots/monthly/2023/09/all.json.tar.gz': {'omid_only': 0,\n",
      "                                                                                         'other_pids': 1197},\n",
      "                  'https://api.datacite.org/': {'omid_only': 0,\n",
      "                                                'other_pids': 162},\n",
      "                  'https://doi.org/10.5281/zenodo.7845968': {'omid_only': 0,\n",
      "                                                             'other_pids': 690},\n",
      "                  'https://nih.figshare.com/collections/iCite_Database_Snapshots_NIH_Open_Citation_Collection_/4586573/42 https://api.crossref.org/': {'omid_only': 0,\n",
      "                                                                                                                                                       'other_pids': 15}},\n",
      " 'book section': {'https://api.crossref.org/': {'omid_only': 0,\n",
      "                                                'other_pids': 3}},\n",
      " 'book series': {'https://api.crossref.org/': {'omid_only': 26676,\n",
      "                                               'other_pids': 155},\n",
      "                 'https://api.crossref.org/snapshots/monthly/2023/09/all.json.tar.gz': {'omid_only': 7,\n",
      "                                                                                        'other_pids': 14},\n",
      "                 'https://api.crossref.org/snapshots/monthly/2023/09/all.json.tar.gz https://api.crossref.org/': {'omid_only': 0,\n",
      "                                                                                                                  'other_pids': 3},\n",
      "                 'https://api.datacite.org/': {'omid_only': 0, 'other_pids': 1},\n",
      "                 'https://nih.figshare.com/collections/iCite_Database_Snapshots_NIH_Open_Citation_Collection_/4586573/42': {'omid_only': 2,\n",
      "                                                                                                                            'other_pids': 0}},\n",
      " 'computer program': {'https://doi.org/10.5281/zenodo.7845968': {'omid_only': 0,\n",
      "                                                                 'other_pids': 1992},\n",
      "                      'https://doi.org/10.5281/zenodo.7845968 https://api.crossref.org/': {'omid_only': 0,\n",
      "                                                                                           'other_pids': 5},\n",
      "                      'https://doi.org/10.5281/zenodo.7845968 https://api.datacite.org/': {'omid_only': 0,\n",
      "                                                                                           'other_pids': 3}},\n",
      " 'data management plan': {'https://doi.org/10.5281/zenodo.7845968': {'omid_only': 0,\n",
      "                                                                     'other_pids': 4}},\n",
      " 'dataset': {'https://api.crossref.org/': {'omid_only': 0, 'other_pids': 46},\n",
      "             'https://api.datacite.org/': {'omid_only': 0,\n",
      "                                           'other_pids': 1238173},\n",
      "             'https://api.datacite.org/ https://api.crossref.org/': {'omid_only': 0,\n",
      "                                                                     'other_pids': 3521},\n",
      "             'https://doi.org/10.5281/zenodo.7845968': {'omid_only': 0,\n",
      "                                                        'other_pids': 203240},\n",
      "             'https://doi.org/10.5281/zenodo.7845968 https://api.crossref.org/': {'omid_only': 0,\n",
      "                                                                                  'other_pids': 190},\n",
      "             'https://doi.org/10.5281/zenodo.7845968 https://api.datacite.org/': {'omid_only': 0,\n",
      "                                                                                  'other_pids': 165},\n",
      "             'https://doi.org/10.5281/zenodo.7845968 https://api.datacite.org/ https://api.crossref.org/': {'omid_only': 0,\n",
      "                                                                                                            'other_pids': 6}},\n",
      " 'dissertation': {'https://api.datacite.org/': {'omid_only': 0,\n",
      "                                                'other_pids': 3},\n",
      "                  'https://doi.org/10.5281/zenodo.7845968': {'omid_only': 0,\n",
      "                                                             'other_pids': 7983},\n",
      "                  'https://doi.org/10.5281/zenodo.7845968 https://api.crossref.org/': {'omid_only': 0,\n",
      "                                                                                       'other_pids': 5}},\n",
      " 'journal': {'https://api.crossref.org/': {'omid_only': 56561,\n",
      "                                           'other_pids': 52},\n",
      "             'https://api.crossref.org/snapshots/monthly/2023/09/all.json.tar.gz': {'omid_only': 5000,\n",
      "                                                                                    'other_pids': 3},\n",
      "             'https://api.datacite.org/': {'omid_only': 1, 'other_pids': 6},\n",
      "             'https://doi.org/10.5281/zenodo.7845968': {'omid_only': 0,\n",
      "                                                        'other_pids': 19},\n",
      "             'https://doi.org/10.5281/zenodo.7845968 https://api.crossref.org/': {'omid_only': 5,\n",
      "                                                                                  'other_pids': 0},\n",
      "             'https://nih.figshare.com/collections/iCite_Database_Snapshots_NIH_Open_Citation_Collection_/4586573/42': {'omid_only': 40080,\n",
      "                                                                                                                        'other_pids': 1499},\n",
      "             'https://nih.figshare.com/collections/iCite_Database_Snapshots_NIH_Open_Citation_Collection_/4586573/42 https://api.crossref.org/': {'omid_only': 0,\n",
      "                                                                                                                                                  'other_pids': 3},\n",
      "             'https://nih.figshare.com/collections/iCite_Database_Snapshots_NIH_Open_Citation_Collection_/4586573/42 https://doi.org/10.5281/zenodo.7845968': {'omid_only': 13,\n",
      "                                                                                                                                                               'other_pids': 21}},\n",
      " 'journal article': {'https://api.crossref.org/': {'omid_only': 0,\n",
      "                                                   'other_pids': 4983},\n",
      "                     'https://api.crossref.org/snapshots/monthly/2023/09/all.json.tar.gz': {'omid_only': 0,\n",
      "                                                                                            'other_pids': 484},\n",
      "                     'https://api.datacite.org/': {'omid_only': 0,\n",
      "                                                   'other_pids': 1075},\n",
      "                     'https://api.datacite.org/ https://api.crossref.org/': {'omid_only': 0,\n",
      "                                                                             'other_pids': 7},\n",
      "                     'https://doi.org/10.5281/zenodo.7845968': {'omid_only': 0,\n",
      "                                                                'other_pids': 202018},\n",
      "                     'https://doi.org/10.5281/zenodo.7845968 https://api.crossref.org/': {'omid_only': 0,\n",
      "                                                                                          'other_pids': 57},\n",
      "                     'https://nih.figshare.com/collections/iCite_Database_Snapshots_NIH_Open_Citation_Collection_/4586573/42': {'omid_only': 0,\n",
      "                                                                                                                                'other_pids': 42009},\n",
      "                     'https://nih.figshare.com/collections/iCite_Database_Snapshots_NIH_Open_Citation_Collection_/4586573/42 https://api.crossref.org/': {'omid_only': 0,\n",
      "                                                                                                                                                          'other_pids': 2246},\n",
      "                     'https://nih.figshare.com/collections/iCite_Database_Snapshots_NIH_Open_Citation_Collection_/4586573/42 https://doi.org/10.5281/zenodo.7845968': {'omid_only': 0,\n",
      "                                                                                                                                                                       'other_pids': 374},\n",
      "                     'https://nih.figshare.com/collections/iCite_Database_Snapshots_NIH_Open_Citation_Collection_/4586573/42 https://doi.org/10.5281/zenodo.7845968 https://api.crossref.org/': {'omid_only': 0,\n",
      "                                                                                                                                                                                                 'other_pids': 31}},\n",
      " 'journal issue': {'https://api.crossref.org/': {'omid_only': 4667606,\n",
      "                                                 'other_pids': 79827},\n",
      "                   'https://api.crossref.org/snapshots/monthly/2023/09/all.json.tar.gz': {'omid_only': 202652,\n",
      "                                                                                          'other_pids': 15},\n",
      "                   'https://api.crossref.org/snapshots/monthly/2023/09/all.json.tar.gz https://api.crossref.org/': {'omid_only': 0,\n",
      "                                                                                                                    'other_pids': 92},\n",
      "                   'https://api.crossref.org/snapshots/monthly/2023/09/all.json.tar.gz https://nih.figshare.com/collections/iCite_Database_Snapshots_NIH_Open_Citation_Collection_/4586573/42': {'omid_only': 2,\n",
      "                                                                                                                                                                                                 'other_pids': 0},\n",
      "                   'https://api.datacite.org/': {'omid_only': 2,\n",
      "                                                 'other_pids': 0},\n",
      "                   'https://api.datacite.org/ https://api.crossref.org/': {'omid_only': 457,\n",
      "                                                                           'other_pids': 23},\n",
      "                   'https://doi.org/10.5281/zenodo.7845968': {'omid_only': 1075,\n",
      "                                                              'other_pids': 0},\n",
      "                   'https://doi.org/10.5281/zenodo.7845968 https://api.crossref.org/': {'omid_only': 2830,\n",
      "                                                                                        'other_pids': 37},\n",
      "                   'https://nih.figshare.com/collections/iCite_Database_Snapshots_NIH_Open_Citation_Collection_/4586573/42': {'omid_only': 102115,\n",
      "                                                                                                                              'other_pids': 0},\n",
      "                   'https://nih.figshare.com/collections/iCite_Database_Snapshots_NIH_Open_Citation_Collection_/4586573/42 https://api.crossref.org/': {'omid_only': 3305,\n",
      "                                                                                                                                                        'other_pids': 120},\n",
      "                   'https://nih.figshare.com/collections/iCite_Database_Snapshots_NIH_Open_Citation_Collection_/4586573/42 https://doi.org/10.5281/zenodo.7845968': {'omid_only': 3847,\n",
      "                                                                                                                                                                     'other_pids': 0},\n",
      "                   'https://nih.figshare.com/collections/iCite_Database_Snapshots_NIH_Open_Citation_Collection_/4586573/42 https://doi.org/10.5281/zenodo.7845968 https://api.crossref.org/': {'omid_only': 12,\n",
      "                                                                                                                                                                                               'other_pids': 13}},\n",
      " 'journal volume': {'https://api.crossref.org/': {'omid_only': 1440942,\n",
      "                                                  'other_pids': 95},\n",
      "                    'https://api.crossref.org/snapshots/monthly/2023/09/all.json.tar.gz': {'omid_only': 106965,\n",
      "                                                                                           'other_pids': 0},\n",
      "                    'https://api.datacite.org/': {'omid_only': 1,\n",
      "                                                  'other_pids': 0},\n",
      "                    'https://api.datacite.org/ https://api.crossref.org/': {'omid_only': 436,\n",
      "                                                                            'other_pids': 0},\n",
      "                    'https://doi.org/10.5281/zenodo.7845968 https://api.crossref.org/': {'omid_only': 1730,\n",
      "                                                                                         'other_pids': 0},\n",
      "                    'https://doi.org/10.5281/zenodo.7845968 https://api.datacite.org/ https://api.crossref.org/': {'omid_only': 1,\n",
      "                                                                                                                   'other_pids': 0},\n",
      "                    'https://nih.figshare.com/collections/iCite_Database_Snapshots_NIH_Open_Citation_Collection_/4586573/42': {'omid_only': 22602,\n",
      "                                                                                                                               'other_pids': 0},\n",
      "                    'https://nih.figshare.com/collections/iCite_Database_Snapshots_NIH_Open_Citation_Collection_/4586573/42 https://api.crossref.org/': {'omid_only': 2125,\n",
      "                                                                                                                                                         'other_pids': 0},\n",
      "                    'https://nih.figshare.com/collections/iCite_Database_Snapshots_NIH_Open_Citation_Collection_/4586573/42 https://doi.org/10.5281/zenodo.7845968': {'omid_only': 910,\n",
      "                                                                                                                                                                      'other_pids': 0},\n",
      "                    'https://nih.figshare.com/collections/iCite_Database_Snapshots_NIH_Open_Citation_Collection_/4586573/42 https://doi.org/10.5281/zenodo.7845968 https://api.crossref.org/': {'omid_only': 27,\n",
      "                                                                                                                                                                                                'other_pids': 0}},\n",
      " 'proceedings': {'https://api.crossref.org/': {'omid_only': 5046154,\n",
      "                                               'other_pids': 31},\n",
      "                 'https://api.crossref.org/snapshots/monthly/2023/09/all.json.tar.gz': {'omid_only': 324639,\n",
      "                                                                                        'other_pids': 0},\n",
      "                 'https://api.datacite.org/ https://api.crossref.org/': {'omid_only': 1,\n",
      "                                                                         'other_pids': 0},\n",
      "                 'https://doi.org/10.5281/zenodo.7845968': {'omid_only': 0,\n",
      "                                                            'other_pids': 11487},\n",
      "                 'https://doi.org/10.5281/zenodo.7845968 https://api.crossref.org/': {'omid_only': 0,\n",
      "                                                                                      'other_pids': 17},\n",
      "                 'https://nih.figshare.com/collections/iCite_Database_Snapshots_NIH_Open_Citation_Collection_/4586573/42': {'omid_only': 786,\n",
      "                                                                                                                            'other_pids': 0}},\n",
      " 'proceedings article': {'https://api.crossref.org/': {'omid_only': 0,\n",
      "                                                       'other_pids': 84},\n",
      "                         'https://api.crossref.org/snapshots/monthly/2023/09/all.json.tar.gz': {'omid_only': 0,\n",
      "                                                                                                'other_pids': 778},\n",
      "                         'https://api.datacite.org/': {'omid_only': 0,\n",
      "                                                       'other_pids': 6}},\n",
      " 'reference book': {'https://api.crossref.org/': {'omid_only': 186140,\n",
      "                                                  'other_pids': 25},\n",
      "                    'https://api.crossref.org/snapshots/monthly/2023/09/all.json.tar.gz': {'omid_only': 2286,\n",
      "                                                                                           'other_pids': 1},\n",
      "                    'https://nih.figshare.com/collections/iCite_Database_Snapshots_NIH_Open_Citation_Collection_/4586573/42': {'omid_only': 1,\n",
      "                                                                                                                               'other_pids': 0}},\n",
      " 'reference entry': {'https://api.crossref.org/': {'omid_only': 0,\n",
      "                                                   'other_pids': 87},\n",
      "                     'https://nih.figshare.com/collections/iCite_Database_Snapshots_NIH_Open_Citation_Collection_/4586573/42 https://api.crossref.org/': {'omid_only': 0,\n",
      "                                                                                                                                                          'other_pids': 2}},\n",
      " 'report': {'https://api.crossref.org/': {'omid_only': 0, 'other_pids': 15},\n",
      "            'https://api.datacite.org/': {'omid_only': 0, 'other_pids': 133865},\n",
      "            'https://api.datacite.org/ https://api.crossref.org/': {'omid_only': 0,\n",
      "                                                                    'other_pids': 115},\n",
      "            'https://doi.org/10.5281/zenodo.7845968': {'omid_only': 0,\n",
      "                                                       'other_pids': 1993},\n",
      "            'https://doi.org/10.5281/zenodo.7845968 https://api.datacite.org/': {'omid_only': 0,\n",
      "                                                                                 'other_pids': 6},\n",
      "            'https://doi.org/10.5281/zenodo.7845968 https://api.datacite.org/ https://api.crossref.org/': {'omid_only': 0,\n",
      "                                                                                                           'other_pids': 3}},\n",
      " 'series': {'https://api.crossref.org/': {'omid_only': 9, 'other_pids': 17},\n",
      "            'https://api.crossref.org/snapshots/monthly/2023/09/all.json.tar.gz': {'omid_only': 0,\n",
      "                                                                                   'other_pids': 1},\n",
      "            'https://api.datacite.org/': {'omid_only': 15, 'other_pids': 4},\n",
      "            'https://nih.figshare.com/collections/iCite_Database_Snapshots_NIH_Open_Citation_Collection_/4586573/42': {'omid_only': 14,\n",
      "                                                                                                                       'other_pids': 2},\n",
      "            'https://nih.figshare.com/collections/iCite_Database_Snapshots_NIH_Open_Citation_Collection_/4586573/42 https://doi.org/10.5281/zenodo.7845968 https://api.datacite.org/': {'omid_only': 0,\n",
      "                                                                                                                                                                                        'other_pids': 1}},\n",
      " 'standard': {'https://api.crossref.org/': {'omid_only': 0, 'other_pids': 4}},\n",
      " 'web content': {'https://api.crossref.org/': {'omid_only': 0, 'other_pids': 3},\n",
      "                 'https://api.crossref.org/snapshots/monthly/2023/09/all.json.tar.gz': {'omid_only': 0,\n",
      "                                                                                        'other_pids': 26}}}\n"
     ]
    }
   ],
   "source": [
    "pprint(analysis_results)\n"
   ],
   "metadata": {
    "collapsed": false,
    "ExecuteTime": {
     "end_time": "2023-11-26T23:01:09.337866200Z",
     "start_time": "2023-11-26T23:01:09.307857500Z"
    }
   },
   "id": "dedec040b89da691"
  },
  {
   "cell_type": "code",
   "execution_count": 5,
   "outputs": [
    {
     "name": "stdout",
     "output_type": "stream",
     "text": [
      "18131618\n"
     ]
    }
   ],
   "source": [
    "# count all the values in the nested dictionaries\n",
    "total = 0\n",
    "for k_type, v_source in analysis_results.items():\n",
    "    for k1, v1 in v_source.items():\n",
    "        total += sum(v1.values())\n",
    "print(total)\n",
    "\n"
   ],
   "metadata": {
    "collapsed": false,
    "ExecuteTime": {
     "end_time": "2023-11-26T23:01:09.353397400Z",
     "start_time": "2023-11-26T23:01:09.339865500Z"
    }
   },
   "id": "e036923912ad7f0d"
  },
  {
   "cell_type": "code",
   "execution_count": 11,
   "outputs": [
    {
     "data": {
      "application/vnd.plotly.v1+json": {
       "data": [
        {
         "alignmentgroup": "True",
         "customdata": [
          [
           5371580,
           11535
          ]
         ],
         "hovertemplate": "<b>%{hovertext}</b><br><br>Legend Label=proceedings (5383115)<br>BR Type=%{x}<br>Number of BRs=%{text}<br>omid_only_sum=%{customdata[0]}<br>other_pids_sum=%{customdata[1]}<extra></extra>",
         "hovertext": [
          "proceedings (5383115)"
         ],
         "legendgroup": "proceedings (5383115)",
         "marker": {
          "color": "#636efa",
          "pattern": {
           "shape": ""
          }
         },
         "name": "proceedings (5383115)",
         "offsetgroup": "proceedings (5383115)",
         "orientation": "v",
         "showlegend": true,
         "text": [
          5383115.0
         ],
         "textposition": "auto",
         "x": [
          "proceedings"
         ],
         "xaxis": "x",
         "y": [
          5383115
         ],
         "yaxis": "y",
         "type": "bar"
        },
        {
         "alignmentgroup": "True",
         "customdata": [
          [
           4983903,
           80127
          ]
         ],
         "hovertemplate": "<b>%{hovertext}</b><br><br>Legend Label=journal issue (5064030)<br>BR Type=%{x}<br>Number of BRs=%{text}<br>omid_only_sum=%{customdata[0]}<br>other_pids_sum=%{customdata[1]}<extra></extra>",
         "hovertext": [
          "journal issue (5064030)"
         ],
         "legendgroup": "journal issue (5064030)",
         "marker": {
          "color": "#EF553B",
          "pattern": {
           "shape": ""
          }
         },
         "name": "journal issue (5064030)",
         "offsetgroup": "journal issue (5064030)",
         "orientation": "v",
         "showlegend": true,
         "text": [
          5064030.0
         ],
         "textposition": "auto",
         "x": [
          "journal issue"
         ],
         "xaxis": "x",
         "y": [
          5064030
         ],
         "yaxis": "y",
         "type": "bar"
        },
        {
         "alignmentgroup": "True",
         "customdata": [
          [
           2411651,
           110235
          ]
         ],
         "hovertemplate": "<b>%{hovertext}</b><br><br>Legend Label=book (2521886)<br>BR Type=%{x}<br>Number of BRs=%{text}<br>omid_only_sum=%{customdata[0]}<br>other_pids_sum=%{customdata[1]}<extra></extra>",
         "hovertext": [
          "book (2521886)"
         ],
         "legendgroup": "book (2521886)",
         "marker": {
          "color": "#00cc96",
          "pattern": {
           "shape": ""
          }
         },
         "name": "book (2521886)",
         "offsetgroup": "book (2521886)",
         "orientation": "v",
         "showlegend": true,
         "text": [
          2521886.0
         ],
         "textposition": "auto",
         "x": [
          "book"
         ],
         "xaxis": "x",
         "y": [
          2521886
         ],
         "yaxis": "y",
         "type": "bar"
        },
        {
         "alignmentgroup": "True",
         "customdata": [
          [
           1575739,
           95
          ]
         ],
         "hovertemplate": "<b>%{hovertext}</b><br><br>Legend Label=journal volume (1575834)<br>BR Type=%{x}<br>Number of BRs=%{text}<br>omid_only_sum=%{customdata[0]}<br>other_pids_sum=%{customdata[1]}<extra></extra>",
         "hovertext": [
          "journal volume (1575834)"
         ],
         "legendgroup": "journal volume (1575834)",
         "marker": {
          "color": "#ab63fa",
          "pattern": {
           "shape": ""
          }
         },
         "name": "journal volume (1575834)",
         "offsetgroup": "journal volume (1575834)",
         "orientation": "v",
         "showlegend": true,
         "text": [
          1575834.0
         ],
         "textposition": "auto",
         "x": [
          "journal volume"
         ],
         "xaxis": "x",
         "y": [
          1575834
         ],
         "yaxis": "y",
         "type": "bar"
        },
        {
         "alignmentgroup": "True",
         "customdata": [
          [
           0,
           1445341
          ]
         ],
         "hovertemplate": "<b>%{hovertext}</b><br><br>Legend Label=dataset (1445341)<br>BR Type=%{x}<br>Number of BRs=%{text}<br>omid_only_sum=%{customdata[0]}<br>other_pids_sum=%{customdata[1]}<extra></extra>",
         "hovertext": [
          "dataset (1445341)"
         ],
         "legendgroup": "dataset (1445341)",
         "marker": {
          "color": "#FFA15A",
          "pattern": {
           "shape": ""
          }
         },
         "name": "dataset (1445341)",
         "offsetgroup": "dataset (1445341)",
         "orientation": "v",
         "showlegend": true,
         "text": [
          1445341.0
         ],
         "textposition": "auto",
         "x": [
          "dataset"
         ],
         "xaxis": "x",
         "y": [
          1445341
         ],
         "yaxis": "y",
         "type": "bar"
        },
        {
         "alignmentgroup": "True",
         "customdata": [
          [
           428192,
           991020
          ]
         ],
         "hovertemplate": "<b>%{hovertext}</b><br><br>Legend Label=Unknown (1419212)<br>BR Type=%{x}<br>Number of BRs=%{text}<br>omid_only_sum=%{customdata[0]}<br>other_pids_sum=%{customdata[1]}<extra></extra>",
         "hovertext": [
          "Unknown (1419212)"
         ],
         "legendgroup": "Unknown (1419212)",
         "marker": {
          "color": "#19d3f3",
          "pattern": {
           "shape": ""
          }
         },
         "name": "Unknown (1419212)",
         "offsetgroup": "Unknown (1419212)",
         "orientation": "v",
         "showlegend": true,
         "text": [
          1419212.0
         ],
         "textposition": "auto",
         "x": [
          "Unknown"
         ],
         "xaxis": "x",
         "y": [
          1419212
         ],
         "yaxis": "y",
         "type": "bar"
        },
        {
         "alignmentgroup": "True",
         "customdata": [
          [
           0,
           253284
          ]
         ],
         "hovertemplate": "<b>%{hovertext}</b><br><br>Legend Label=journal article (253284)<br>BR Type=%{x}<br>Number of BRs=%{text}<br>omid_only_sum=%{customdata[0]}<br>other_pids_sum=%{customdata[1]}<extra></extra>",
         "hovertext": [
          "journal article (253284)"
         ],
         "legendgroup": "journal article (253284)",
         "marker": {
          "color": "#FF6692",
          "pattern": {
           "shape": ""
          }
         },
         "name": "journal article (253284)",
         "offsetgroup": "journal article (253284)",
         "orientation": "v",
         "showlegend": true,
         "text": [
          253284.0
         ],
         "textposition": "auto",
         "x": [
          "journal article"
         ],
         "xaxis": "x",
         "y": [
          253284
         ],
         "yaxis": "y",
         "type": "bar"
        },
        {
         "alignmentgroup": "True",
         "customdata": [
          [
           188427,
           26
          ]
         ],
         "hovertemplate": "<b>%{hovertext}</b><br><br>Legend Label=reference book (188453)<br>BR Type=%{x}<br>Number of BRs=%{text}<br>omid_only_sum=%{customdata[0]}<br>other_pids_sum=%{customdata[1]}<extra></extra>",
         "hovertext": [
          "reference book (188453)"
         ],
         "legendgroup": "reference book (188453)",
         "marker": {
          "color": "#B6E880",
          "pattern": {
           "shape": ""
          }
         },
         "name": "reference book (188453)",
         "offsetgroup": "reference book (188453)",
         "orientation": "v",
         "showlegend": true,
         "text": [
          188453.0
         ],
         "textposition": "auto",
         "x": [
          "reference book"
         ],
         "xaxis": "x",
         "y": [
          188453
         ],
         "yaxis": "y",
         "type": "bar"
        },
        {
         "alignmentgroup": "True",
         "customdata": [
          [
           0,
           135997
          ]
         ],
         "hovertemplate": "<b>%{hovertext}</b><br><br>Legend Label=report (135997)<br>BR Type=%{x}<br>Number of BRs=%{text}<br>omid_only_sum=%{customdata[0]}<br>other_pids_sum=%{customdata[1]}<extra></extra>",
         "hovertext": [
          "report (135997)"
         ],
         "legendgroup": "report (135997)",
         "marker": {
          "color": "#FF97FF",
          "pattern": {
           "shape": ""
          }
         },
         "name": "report (135997)",
         "offsetgroup": "report (135997)",
         "orientation": "v",
         "showlegend": true,
         "text": [
          135997.0
         ],
         "textposition": "auto",
         "x": [
          "report"
         ],
         "xaxis": "x",
         "y": [
          135997
         ],
         "yaxis": "y",
         "type": "bar"
        },
        {
         "alignmentgroup": "True",
         "customdata": [
          [
           101660,
           1603
          ]
         ],
         "hovertemplate": "<b>%{hovertext}</b><br><br>Legend Label=journal (103263)<br>BR Type=%{x}<br>Number of BRs=%{text}<br>omid_only_sum=%{customdata[0]}<br>other_pids_sum=%{customdata[1]}<extra></extra>",
         "hovertext": [
          "journal (103263)"
         ],
         "legendgroup": "journal (103263)",
         "marker": {
          "color": "#FECB52",
          "pattern": {
           "shape": ""
          }
         },
         "name": "journal (103263)",
         "offsetgroup": "journal (103263)",
         "orientation": "v",
         "showlegend": true,
         "text": [
          103263.0
         ],
         "textposition": "auto",
         "x": [
          "journal"
         ],
         "xaxis": "x",
         "y": [
          103263
         ],
         "yaxis": "y",
         "type": "bar"
        },
        {
         "alignmentgroup": "True",
         "customdata": [
          [
           26685,
           173
          ]
         ],
         "hovertemplate": "<b>%{hovertext}</b><br><br>Legend Label=book series (26858)<br>BR Type=%{x}<br>Number of BRs=%{text}<br>omid_only_sum=%{customdata[0]}<br>other_pids_sum=%{customdata[1]}<extra></extra>",
         "hovertext": [
          "book series (26858)"
         ],
         "legendgroup": "book series (26858)",
         "marker": {
          "color": "#636efa",
          "pattern": {
           "shape": ""
          }
         },
         "name": "book series (26858)",
         "offsetgroup": "book series (26858)",
         "orientation": "v",
         "showlegend": true,
         "text": [
          26858.0
         ],
         "textposition": "auto",
         "x": [
          "book series"
         ],
         "xaxis": "x",
         "y": [
          26858
         ],
         "yaxis": "y",
         "type": "bar"
        },
        {
         "alignmentgroup": "True",
         "customdata": [
          [
           0,
           7991
          ]
         ],
         "hovertemplate": "<b>%{hovertext}</b><br><br>Legend Label=dissertation (7991)<br>BR Type=%{x}<br>Number of BRs=%{text}<br>omid_only_sum=%{customdata[0]}<br>other_pids_sum=%{customdata[1]}<extra></extra>",
         "hovertext": [
          "dissertation (7991)"
         ],
         "legendgroup": "dissertation (7991)",
         "marker": {
          "color": "#EF553B",
          "pattern": {
           "shape": ""
          }
         },
         "name": "dissertation (7991)",
         "offsetgroup": "dissertation (7991)",
         "orientation": "v",
         "showlegend": true,
         "text": [
          7991.0
         ],
         "textposition": "auto",
         "x": [
          "dissertation"
         ],
         "xaxis": "x",
         "y": [
          7991
         ],
         "yaxis": "y",
         "type": "bar"
        },
        {
         "alignmentgroup": "True",
         "customdata": [
          [
           0,
           3294
          ]
         ],
         "hovertemplate": "<b>%{hovertext}</b><br><br>Legend Label=book chapter (3294)<br>BR Type=%{x}<br>Number of BRs=%{text}<br>omid_only_sum=%{customdata[0]}<br>other_pids_sum=%{customdata[1]}<extra></extra>",
         "hovertext": [
          "book chapter (3294)"
         ],
         "legendgroup": "book chapter (3294)",
         "marker": {
          "color": "#00cc96",
          "pattern": {
           "shape": ""
          }
         },
         "name": "book chapter (3294)",
         "offsetgroup": "book chapter (3294)",
         "orientation": "v",
         "showlegend": true,
         "text": [
          3294.0
         ],
         "textposition": "auto",
         "x": [
          "book chapter"
         ],
         "xaxis": "x",
         "y": [
          3294
         ],
         "yaxis": "y",
         "type": "bar"
        },
        {
         "alignmentgroup": "True",
         "customdata": [
          [
           0,
           2000
          ]
         ],
         "hovertemplate": "<b>%{hovertext}</b><br><br>Legend Label=computer program (2000)<br>BR Type=%{x}<br>Number of BRs=%{text}<br>omid_only_sum=%{customdata[0]}<br>other_pids_sum=%{customdata[1]}<extra></extra>",
         "hovertext": [
          "computer program (2000)"
         ],
         "legendgroup": "computer program (2000)",
         "marker": {
          "color": "#ab63fa",
          "pattern": {
           "shape": ""
          }
         },
         "name": "computer program (2000)",
         "offsetgroup": "computer program (2000)",
         "orientation": "v",
         "showlegend": true,
         "text": [
          2000.0
         ],
         "textposition": "auto",
         "x": [
          "computer program"
         ],
         "xaxis": "x",
         "y": [
          2000
         ],
         "yaxis": "y",
         "type": "bar"
        },
        {
         "alignmentgroup": "True",
         "customdata": [
          [
           0,
           868
          ]
         ],
         "hovertemplate": "<b>%{hovertext}</b><br><br>Legend Label=proceedings article (868)<br>BR Type=%{x}<br>Number of BRs=%{text}<br>omid_only_sum=%{customdata[0]}<br>other_pids_sum=%{customdata[1]}<extra></extra>",
         "hovertext": [
          "proceedings article (868)"
         ],
         "legendgroup": "proceedings article (868)",
         "marker": {
          "color": "#FFA15A",
          "pattern": {
           "shape": ""
          }
         },
         "name": "proceedings article (868)",
         "offsetgroup": "proceedings article (868)",
         "orientation": "v",
         "showlegend": true,
         "text": [
          868.0
         ],
         "textposition": "auto",
         "x": [
          "proceedings article"
         ],
         "xaxis": "x",
         "y": [
          868
         ],
         "yaxis": "y",
         "type": "bar"
        },
        {
         "alignmentgroup": "True",
         "customdata": [
          [
           0,
           89
          ]
         ],
         "hovertemplate": "<b>%{hovertext}</b><br><br>Legend Label=reference entry (89)<br>BR Type=%{x}<br>Number of BRs=%{text}<br>omid_only_sum=%{customdata[0]}<br>other_pids_sum=%{customdata[1]}<extra></extra>",
         "hovertext": [
          "reference entry (89)"
         ],
         "legendgroup": "reference entry (89)",
         "marker": {
          "color": "#19d3f3",
          "pattern": {
           "shape": ""
          }
         },
         "name": "reference entry (89)",
         "offsetgroup": "reference entry (89)",
         "orientation": "v",
         "showlegend": true,
         "text": [
          89.0
         ],
         "textposition": "auto",
         "x": [
          "reference entry"
         ],
         "xaxis": "x",
         "y": [
          89
         ],
         "yaxis": "y",
         "type": "bar"
        },
        {
         "alignmentgroup": "True",
         "customdata": [
          [
           38,
           25
          ]
         ],
         "hovertemplate": "<b>%{hovertext}</b><br><br>Legend Label=series (63)<br>BR Type=%{x}<br>Number of BRs=%{text}<br>omid_only_sum=%{customdata[0]}<br>other_pids_sum=%{customdata[1]}<extra></extra>",
         "hovertext": [
          "series (63)"
         ],
         "legendgroup": "series (63)",
         "marker": {
          "color": "#FF6692",
          "pattern": {
           "shape": ""
          }
         },
         "name": "series (63)",
         "offsetgroup": "series (63)",
         "orientation": "v",
         "showlegend": true,
         "text": [
          63.0
         ],
         "textposition": "auto",
         "x": [
          "series"
         ],
         "xaxis": "x",
         "y": [
          63
         ],
         "yaxis": "y",
         "type": "bar"
        },
        {
         "alignmentgroup": "True",
         "customdata": [
          [
           0,
           29
          ]
         ],
         "hovertemplate": "<b>%{hovertext}</b><br><br>Legend Label=web content (29)<br>BR Type=%{x}<br>Number of BRs=%{text}<br>omid_only_sum=%{customdata[0]}<br>other_pids_sum=%{customdata[1]}<extra></extra>",
         "hovertext": [
          "web content (29)"
         ],
         "legendgroup": "web content (29)",
         "marker": {
          "color": "#B6E880",
          "pattern": {
           "shape": ""
          }
         },
         "name": "web content (29)",
         "offsetgroup": "web content (29)",
         "orientation": "v",
         "showlegend": true,
         "text": [
          29.0
         ],
         "textposition": "auto",
         "x": [
          "web content"
         ],
         "xaxis": "x",
         "y": [
          29
         ],
         "yaxis": "y",
         "type": "bar"
        },
        {
         "alignmentgroup": "True",
         "customdata": [
          [
           0,
           4
          ]
         ],
         "hovertemplate": "<b>%{hovertext}</b><br><br>Legend Label=standard (4)<br>BR Type=%{x}<br>Number of BRs=%{text}<br>omid_only_sum=%{customdata[0]}<br>other_pids_sum=%{customdata[1]}<extra></extra>",
         "hovertext": [
          "standard (4)"
         ],
         "legendgroup": "standard (4)",
         "marker": {
          "color": "#FF97FF",
          "pattern": {
           "shape": ""
          }
         },
         "name": "standard (4)",
         "offsetgroup": "standard (4)",
         "orientation": "v",
         "showlegend": true,
         "text": [
          4.0
         ],
         "textposition": "auto",
         "x": [
          "standard"
         ],
         "xaxis": "x",
         "y": [
          4
         ],
         "yaxis": "y",
         "type": "bar"
        },
        {
         "alignmentgroup": "True",
         "customdata": [
          [
           0,
           4
          ]
         ],
         "hovertemplate": "<b>%{hovertext}</b><br><br>Legend Label=data management plan (4)<br>BR Type=%{x}<br>Number of BRs=%{text}<br>omid_only_sum=%{customdata[0]}<br>other_pids_sum=%{customdata[1]}<extra></extra>",
         "hovertext": [
          "data management plan (4)"
         ],
         "legendgroup": "data management plan (4)",
         "marker": {
          "color": "#FECB52",
          "pattern": {
           "shape": ""
          }
         },
         "name": "data management plan (4)",
         "offsetgroup": "data management plan (4)",
         "orientation": "v",
         "showlegend": true,
         "text": [
          4.0
         ],
         "textposition": "auto",
         "x": [
          "data management plan"
         ],
         "xaxis": "x",
         "y": [
          4
         ],
         "yaxis": "y",
         "type": "bar"
        },
        {
         "alignmentgroup": "True",
         "customdata": [
          [
           0,
           3
          ]
         ],
         "hovertemplate": "<b>%{hovertext}</b><br><br>Legend Label=book section (3)<br>BR Type=%{x}<br>Number of BRs=%{text}<br>omid_only_sum=%{customdata[0]}<br>other_pids_sum=%{customdata[1]}<extra></extra>",
         "hovertext": [
          "book section (3)"
         ],
         "legendgroup": "book section (3)",
         "marker": {
          "color": "#636efa",
          "pattern": {
           "shape": ""
          }
         },
         "name": "book section (3)",
         "offsetgroup": "book section (3)",
         "orientation": "v",
         "showlegend": true,
         "text": [
          3.0
         ],
         "textposition": "auto",
         "x": [
          "book section"
         ],
         "xaxis": "x",
         "y": [
          3
         ],
         "yaxis": "y",
         "type": "bar"
        }
       ],
       "layout": {
        "template": {
         "data": {
          "histogram2dcontour": [
           {
            "type": "histogram2dcontour",
            "colorbar": {
             "outlinewidth": 0,
             "ticks": ""
            },
            "colorscale": [
             [
              0.0,
              "#0d0887"
             ],
             [
              0.1111111111111111,
              "#46039f"
             ],
             [
              0.2222222222222222,
              "#7201a8"
             ],
             [
              0.3333333333333333,
              "#9c179e"
             ],
             [
              0.4444444444444444,
              "#bd3786"
             ],
             [
              0.5555555555555556,
              "#d8576b"
             ],
             [
              0.6666666666666666,
              "#ed7953"
             ],
             [
              0.7777777777777778,
              "#fb9f3a"
             ],
             [
              0.8888888888888888,
              "#fdca26"
             ],
             [
              1.0,
              "#f0f921"
             ]
            ]
           }
          ],
          "choropleth": [
           {
            "type": "choropleth",
            "colorbar": {
             "outlinewidth": 0,
             "ticks": ""
            }
           }
          ],
          "histogram2d": [
           {
            "type": "histogram2d",
            "colorbar": {
             "outlinewidth": 0,
             "ticks": ""
            },
            "colorscale": [
             [
              0.0,
              "#0d0887"
             ],
             [
              0.1111111111111111,
              "#46039f"
             ],
             [
              0.2222222222222222,
              "#7201a8"
             ],
             [
              0.3333333333333333,
              "#9c179e"
             ],
             [
              0.4444444444444444,
              "#bd3786"
             ],
             [
              0.5555555555555556,
              "#d8576b"
             ],
             [
              0.6666666666666666,
              "#ed7953"
             ],
             [
              0.7777777777777778,
              "#fb9f3a"
             ],
             [
              0.8888888888888888,
              "#fdca26"
             ],
             [
              1.0,
              "#f0f921"
             ]
            ]
           }
          ],
          "heatmap": [
           {
            "type": "heatmap",
            "colorbar": {
             "outlinewidth": 0,
             "ticks": ""
            },
            "colorscale": [
             [
              0.0,
              "#0d0887"
             ],
             [
              0.1111111111111111,
              "#46039f"
             ],
             [
              0.2222222222222222,
              "#7201a8"
             ],
             [
              0.3333333333333333,
              "#9c179e"
             ],
             [
              0.4444444444444444,
              "#bd3786"
             ],
             [
              0.5555555555555556,
              "#d8576b"
             ],
             [
              0.6666666666666666,
              "#ed7953"
             ],
             [
              0.7777777777777778,
              "#fb9f3a"
             ],
             [
              0.8888888888888888,
              "#fdca26"
             ],
             [
              1.0,
              "#f0f921"
             ]
            ]
           }
          ],
          "heatmapgl": [
           {
            "type": "heatmapgl",
            "colorbar": {
             "outlinewidth": 0,
             "ticks": ""
            },
            "colorscale": [
             [
              0.0,
              "#0d0887"
             ],
             [
              0.1111111111111111,
              "#46039f"
             ],
             [
              0.2222222222222222,
              "#7201a8"
             ],
             [
              0.3333333333333333,
              "#9c179e"
             ],
             [
              0.4444444444444444,
              "#bd3786"
             ],
             [
              0.5555555555555556,
              "#d8576b"
             ],
             [
              0.6666666666666666,
              "#ed7953"
             ],
             [
              0.7777777777777778,
              "#fb9f3a"
             ],
             [
              0.8888888888888888,
              "#fdca26"
             ],
             [
              1.0,
              "#f0f921"
             ]
            ]
           }
          ],
          "contourcarpet": [
           {
            "type": "contourcarpet",
            "colorbar": {
             "outlinewidth": 0,
             "ticks": ""
            }
           }
          ],
          "contour": [
           {
            "type": "contour",
            "colorbar": {
             "outlinewidth": 0,
             "ticks": ""
            },
            "colorscale": [
             [
              0.0,
              "#0d0887"
             ],
             [
              0.1111111111111111,
              "#46039f"
             ],
             [
              0.2222222222222222,
              "#7201a8"
             ],
             [
              0.3333333333333333,
              "#9c179e"
             ],
             [
              0.4444444444444444,
              "#bd3786"
             ],
             [
              0.5555555555555556,
              "#d8576b"
             ],
             [
              0.6666666666666666,
              "#ed7953"
             ],
             [
              0.7777777777777778,
              "#fb9f3a"
             ],
             [
              0.8888888888888888,
              "#fdca26"
             ],
             [
              1.0,
              "#f0f921"
             ]
            ]
           }
          ],
          "surface": [
           {
            "type": "surface",
            "colorbar": {
             "outlinewidth": 0,
             "ticks": ""
            },
            "colorscale": [
             [
              0.0,
              "#0d0887"
             ],
             [
              0.1111111111111111,
              "#46039f"
             ],
             [
              0.2222222222222222,
              "#7201a8"
             ],
             [
              0.3333333333333333,
              "#9c179e"
             ],
             [
              0.4444444444444444,
              "#bd3786"
             ],
             [
              0.5555555555555556,
              "#d8576b"
             ],
             [
              0.6666666666666666,
              "#ed7953"
             ],
             [
              0.7777777777777778,
              "#fb9f3a"
             ],
             [
              0.8888888888888888,
              "#fdca26"
             ],
             [
              1.0,
              "#f0f921"
             ]
            ]
           }
          ],
          "mesh3d": [
           {
            "type": "mesh3d",
            "colorbar": {
             "outlinewidth": 0,
             "ticks": ""
            }
           }
          ],
          "scatter": [
           {
            "marker": {
             "line": {
              "color": "#283442"
             }
            },
            "type": "scatter"
           }
          ],
          "parcoords": [
           {
            "type": "parcoords",
            "line": {
             "colorbar": {
              "outlinewidth": 0,
              "ticks": ""
             }
            }
           }
          ],
          "scatterpolargl": [
           {
            "type": "scatterpolargl",
            "marker": {
             "colorbar": {
              "outlinewidth": 0,
              "ticks": ""
             }
            }
           }
          ],
          "bar": [
           {
            "error_x": {
             "color": "#f2f5fa"
            },
            "error_y": {
             "color": "#f2f5fa"
            },
            "marker": {
             "line": {
              "color": "rgb(17,17,17)",
              "width": 0.5
             },
             "pattern": {
              "fillmode": "overlay",
              "size": 10,
              "solidity": 0.2
             }
            },
            "type": "bar"
           }
          ],
          "scattergeo": [
           {
            "type": "scattergeo",
            "marker": {
             "colorbar": {
              "outlinewidth": 0,
              "ticks": ""
             }
            }
           }
          ],
          "scatterpolar": [
           {
            "type": "scatterpolar",
            "marker": {
             "colorbar": {
              "outlinewidth": 0,
              "ticks": ""
             }
            }
           }
          ],
          "histogram": [
           {
            "marker": {
             "pattern": {
              "fillmode": "overlay",
              "size": 10,
              "solidity": 0.2
             }
            },
            "type": "histogram"
           }
          ],
          "scattergl": [
           {
            "marker": {
             "line": {
              "color": "#283442"
             }
            },
            "type": "scattergl"
           }
          ],
          "scatter3d": [
           {
            "type": "scatter3d",
            "line": {
             "colorbar": {
              "outlinewidth": 0,
              "ticks": ""
             }
            },
            "marker": {
             "colorbar": {
              "outlinewidth": 0,
              "ticks": ""
             }
            }
           }
          ],
          "scattermapbox": [
           {
            "type": "scattermapbox",
            "marker": {
             "colorbar": {
              "outlinewidth": 0,
              "ticks": ""
             }
            }
           }
          ],
          "scatterternary": [
           {
            "type": "scatterternary",
            "marker": {
             "colorbar": {
              "outlinewidth": 0,
              "ticks": ""
             }
            }
           }
          ],
          "scattercarpet": [
           {
            "type": "scattercarpet",
            "marker": {
             "colorbar": {
              "outlinewidth": 0,
              "ticks": ""
             }
            }
           }
          ],
          "carpet": [
           {
            "aaxis": {
             "endlinecolor": "#A2B1C6",
             "gridcolor": "#506784",
             "linecolor": "#506784",
             "minorgridcolor": "#506784",
             "startlinecolor": "#A2B1C6"
            },
            "baxis": {
             "endlinecolor": "#A2B1C6",
             "gridcolor": "#506784",
             "linecolor": "#506784",
             "minorgridcolor": "#506784",
             "startlinecolor": "#A2B1C6"
            },
            "type": "carpet"
           }
          ],
          "table": [
           {
            "cells": {
             "fill": {
              "color": "#506784"
             },
             "line": {
              "color": "rgb(17,17,17)"
             }
            },
            "header": {
             "fill": {
              "color": "#2a3f5f"
             },
             "line": {
              "color": "rgb(17,17,17)"
             }
            },
            "type": "table"
           }
          ],
          "barpolar": [
           {
            "marker": {
             "line": {
              "color": "rgb(17,17,17)",
              "width": 0.5
             },
             "pattern": {
              "fillmode": "overlay",
              "size": 10,
              "solidity": 0.2
             }
            },
            "type": "barpolar"
           }
          ],
          "pie": [
           {
            "automargin": true,
            "type": "pie"
           }
          ]
         },
         "layout": {
          "autotypenumbers": "strict",
          "colorway": [
           "#636efa",
           "#EF553B",
           "#00cc96",
           "#ab63fa",
           "#FFA15A",
           "#19d3f3",
           "#FF6692",
           "#B6E880",
           "#FF97FF",
           "#FECB52"
          ],
          "font": {
           "color": "#f2f5fa"
          },
          "hovermode": "closest",
          "hoverlabel": {
           "align": "left"
          },
          "paper_bgcolor": "rgb(17,17,17)",
          "plot_bgcolor": "rgb(17,17,17)",
          "polar": {
           "bgcolor": "rgb(17,17,17)",
           "angularaxis": {
            "gridcolor": "#506784",
            "linecolor": "#506784",
            "ticks": ""
           },
           "radialaxis": {
            "gridcolor": "#506784",
            "linecolor": "#506784",
            "ticks": ""
           }
          },
          "ternary": {
           "bgcolor": "rgb(17,17,17)",
           "aaxis": {
            "gridcolor": "#506784",
            "linecolor": "#506784",
            "ticks": ""
           },
           "baxis": {
            "gridcolor": "#506784",
            "linecolor": "#506784",
            "ticks": ""
           },
           "caxis": {
            "gridcolor": "#506784",
            "linecolor": "#506784",
            "ticks": ""
           }
          },
          "coloraxis": {
           "colorbar": {
            "outlinewidth": 0,
            "ticks": ""
           }
          },
          "colorscale": {
           "sequential": [
            [
             0.0,
             "#0d0887"
            ],
            [
             0.1111111111111111,
             "#46039f"
            ],
            [
             0.2222222222222222,
             "#7201a8"
            ],
            [
             0.3333333333333333,
             "#9c179e"
            ],
            [
             0.4444444444444444,
             "#bd3786"
            ],
            [
             0.5555555555555556,
             "#d8576b"
            ],
            [
             0.6666666666666666,
             "#ed7953"
            ],
            [
             0.7777777777777778,
             "#fb9f3a"
            ],
            [
             0.8888888888888888,
             "#fdca26"
            ],
            [
             1.0,
             "#f0f921"
            ]
           ],
           "sequentialminus": [
            [
             0.0,
             "#0d0887"
            ],
            [
             0.1111111111111111,
             "#46039f"
            ],
            [
             0.2222222222222222,
             "#7201a8"
            ],
            [
             0.3333333333333333,
             "#9c179e"
            ],
            [
             0.4444444444444444,
             "#bd3786"
            ],
            [
             0.5555555555555556,
             "#d8576b"
            ],
            [
             0.6666666666666666,
             "#ed7953"
            ],
            [
             0.7777777777777778,
             "#fb9f3a"
            ],
            [
             0.8888888888888888,
             "#fdca26"
            ],
            [
             1.0,
             "#f0f921"
            ]
           ],
           "diverging": [
            [
             0,
             "#8e0152"
            ],
            [
             0.1,
             "#c51b7d"
            ],
            [
             0.2,
             "#de77ae"
            ],
            [
             0.3,
             "#f1b6da"
            ],
            [
             0.4,
             "#fde0ef"
            ],
            [
             0.5,
             "#f7f7f7"
            ],
            [
             0.6,
             "#e6f5d0"
            ],
            [
             0.7,
             "#b8e186"
            ],
            [
             0.8,
             "#7fbc41"
            ],
            [
             0.9,
             "#4d9221"
            ],
            [
             1,
             "#276419"
            ]
           ]
          },
          "xaxis": {
           "gridcolor": "#283442",
           "linecolor": "#506784",
           "ticks": "",
           "title": {
            "standoff": 15
           },
           "zerolinecolor": "#283442",
           "automargin": true,
           "zerolinewidth": 2
          },
          "yaxis": {
           "gridcolor": "#283442",
           "linecolor": "#506784",
           "ticks": "",
           "title": {
            "standoff": 15
           },
           "zerolinecolor": "#283442",
           "automargin": true,
           "zerolinewidth": 2
          },
          "scene": {
           "xaxis": {
            "backgroundcolor": "rgb(17,17,17)",
            "gridcolor": "#506784",
            "linecolor": "#506784",
            "showbackground": true,
            "ticks": "",
            "zerolinecolor": "#C8D4E3",
            "gridwidth": 2
           },
           "yaxis": {
            "backgroundcolor": "rgb(17,17,17)",
            "gridcolor": "#506784",
            "linecolor": "#506784",
            "showbackground": true,
            "ticks": "",
            "zerolinecolor": "#C8D4E3",
            "gridwidth": 2
           },
           "zaxis": {
            "backgroundcolor": "rgb(17,17,17)",
            "gridcolor": "#506784",
            "linecolor": "#506784",
            "showbackground": true,
            "ticks": "",
            "zerolinecolor": "#C8D4E3",
            "gridwidth": 2
           }
          },
          "shapedefaults": {
           "line": {
            "color": "#f2f5fa"
           }
          },
          "annotationdefaults": {
           "arrowcolor": "#f2f5fa",
           "arrowhead": 0,
           "arrowwidth": 1
          },
          "geo": {
           "bgcolor": "rgb(17,17,17)",
           "landcolor": "rgb(17,17,17)",
           "subunitcolor": "#506784",
           "showland": true,
           "showlakes": true,
           "lakecolor": "rgb(17,17,17)"
          },
          "title": {
           "x": 0.05
          },
          "updatemenudefaults": {
           "bgcolor": "#506784",
           "borderwidth": 0
          },
          "sliderdefaults": {
           "bgcolor": "#C8D4E3",
           "borderwidth": 1,
           "bordercolor": "rgb(17,17,17)",
           "tickwidth": 0
          },
          "mapbox": {
           "style": "dark"
          }
         }
        },
        "xaxis": {
         "anchor": "y",
         "domain": [
          0.0,
          1.0
         ],
         "title": {
          "text": "BR Type"
         }
        },
        "yaxis": {
         "anchor": "x",
         "domain": [
          0.0,
          1.0
         ],
         "title": {
          "text": "Number of BRs"
         }
        },
        "legend": {
         "title": {
          "text": "Legend Label"
         },
         "tracegroupgap": 0
        },
        "title": {
         "text": "Number of non-mapped BRs per BR Type"
        },
        "barmode": "relative"
       },
       "config": {
        "plotlyServerURL": "https://plotly.com"
       }
      },
      "text/html": "<div>                            <div id=\"a963ac9c-6566-4a89-8aec-0048caff0b34\" class=\"plotly-graph-div\" style=\"height:525px; width:100%;\"></div>            <script type=\"text/javascript\">                require([\"plotly\"], function(Plotly) {                    window.PLOTLYENV=window.PLOTLYENV || {};                                    if (document.getElementById(\"a963ac9c-6566-4a89-8aec-0048caff0b34\")) {                    Plotly.newPlot(                        \"a963ac9c-6566-4a89-8aec-0048caff0b34\",                        [{\"alignmentgroup\":\"True\",\"customdata\":[[5371580,11535]],\"hovertemplate\":\"\\u003cb\\u003e%{hovertext}\\u003c\\u002fb\\u003e\\u003cbr\\u003e\\u003cbr\\u003eLegend Label=proceedings (5383115)\\u003cbr\\u003eBR Type=%{x}\\u003cbr\\u003eNumber of BRs=%{text}\\u003cbr\\u003eomid_only_sum=%{customdata[0]}\\u003cbr\\u003eother_pids_sum=%{customdata[1]}\\u003cextra\\u003e\\u003c\\u002fextra\\u003e\",\"hovertext\":[\"proceedings (5383115)\"],\"legendgroup\":\"proceedings (5383115)\",\"marker\":{\"color\":\"#636efa\",\"pattern\":{\"shape\":\"\"}},\"name\":\"proceedings (5383115)\",\"offsetgroup\":\"proceedings (5383115)\",\"orientation\":\"v\",\"showlegend\":true,\"text\":[5383115.0],\"textposition\":\"auto\",\"x\":[\"proceedings\"],\"xaxis\":\"x\",\"y\":[5383115],\"yaxis\":\"y\",\"type\":\"bar\"},{\"alignmentgroup\":\"True\",\"customdata\":[[4983903,80127]],\"hovertemplate\":\"\\u003cb\\u003e%{hovertext}\\u003c\\u002fb\\u003e\\u003cbr\\u003e\\u003cbr\\u003eLegend Label=journal issue (5064030)\\u003cbr\\u003eBR Type=%{x}\\u003cbr\\u003eNumber of BRs=%{text}\\u003cbr\\u003eomid_only_sum=%{customdata[0]}\\u003cbr\\u003eother_pids_sum=%{customdata[1]}\\u003cextra\\u003e\\u003c\\u002fextra\\u003e\",\"hovertext\":[\"journal issue (5064030)\"],\"legendgroup\":\"journal issue (5064030)\",\"marker\":{\"color\":\"#EF553B\",\"pattern\":{\"shape\":\"\"}},\"name\":\"journal issue (5064030)\",\"offsetgroup\":\"journal issue (5064030)\",\"orientation\":\"v\",\"showlegend\":true,\"text\":[5064030.0],\"textposition\":\"auto\",\"x\":[\"journal issue\"],\"xaxis\":\"x\",\"y\":[5064030],\"yaxis\":\"y\",\"type\":\"bar\"},{\"alignmentgroup\":\"True\",\"customdata\":[[2411651,110235]],\"hovertemplate\":\"\\u003cb\\u003e%{hovertext}\\u003c\\u002fb\\u003e\\u003cbr\\u003e\\u003cbr\\u003eLegend Label=book (2521886)\\u003cbr\\u003eBR Type=%{x}\\u003cbr\\u003eNumber of BRs=%{text}\\u003cbr\\u003eomid_only_sum=%{customdata[0]}\\u003cbr\\u003eother_pids_sum=%{customdata[1]}\\u003cextra\\u003e\\u003c\\u002fextra\\u003e\",\"hovertext\":[\"book (2521886)\"],\"legendgroup\":\"book (2521886)\",\"marker\":{\"color\":\"#00cc96\",\"pattern\":{\"shape\":\"\"}},\"name\":\"book (2521886)\",\"offsetgroup\":\"book (2521886)\",\"orientation\":\"v\",\"showlegend\":true,\"text\":[2521886.0],\"textposition\":\"auto\",\"x\":[\"book\"],\"xaxis\":\"x\",\"y\":[2521886],\"yaxis\":\"y\",\"type\":\"bar\"},{\"alignmentgroup\":\"True\",\"customdata\":[[1575739,95]],\"hovertemplate\":\"\\u003cb\\u003e%{hovertext}\\u003c\\u002fb\\u003e\\u003cbr\\u003e\\u003cbr\\u003eLegend Label=journal volume (1575834)\\u003cbr\\u003eBR Type=%{x}\\u003cbr\\u003eNumber of BRs=%{text}\\u003cbr\\u003eomid_only_sum=%{customdata[0]}\\u003cbr\\u003eother_pids_sum=%{customdata[1]}\\u003cextra\\u003e\\u003c\\u002fextra\\u003e\",\"hovertext\":[\"journal volume (1575834)\"],\"legendgroup\":\"journal volume (1575834)\",\"marker\":{\"color\":\"#ab63fa\",\"pattern\":{\"shape\":\"\"}},\"name\":\"journal volume (1575834)\",\"offsetgroup\":\"journal volume (1575834)\",\"orientation\":\"v\",\"showlegend\":true,\"text\":[1575834.0],\"textposition\":\"auto\",\"x\":[\"journal volume\"],\"xaxis\":\"x\",\"y\":[1575834],\"yaxis\":\"y\",\"type\":\"bar\"},{\"alignmentgroup\":\"True\",\"customdata\":[[0,1445341]],\"hovertemplate\":\"\\u003cb\\u003e%{hovertext}\\u003c\\u002fb\\u003e\\u003cbr\\u003e\\u003cbr\\u003eLegend Label=dataset (1445341)\\u003cbr\\u003eBR Type=%{x}\\u003cbr\\u003eNumber of BRs=%{text}\\u003cbr\\u003eomid_only_sum=%{customdata[0]}\\u003cbr\\u003eother_pids_sum=%{customdata[1]}\\u003cextra\\u003e\\u003c\\u002fextra\\u003e\",\"hovertext\":[\"dataset (1445341)\"],\"legendgroup\":\"dataset (1445341)\",\"marker\":{\"color\":\"#FFA15A\",\"pattern\":{\"shape\":\"\"}},\"name\":\"dataset (1445341)\",\"offsetgroup\":\"dataset (1445341)\",\"orientation\":\"v\",\"showlegend\":true,\"text\":[1445341.0],\"textposition\":\"auto\",\"x\":[\"dataset\"],\"xaxis\":\"x\",\"y\":[1445341],\"yaxis\":\"y\",\"type\":\"bar\"},{\"alignmentgroup\":\"True\",\"customdata\":[[428192,991020]],\"hovertemplate\":\"\\u003cb\\u003e%{hovertext}\\u003c\\u002fb\\u003e\\u003cbr\\u003e\\u003cbr\\u003eLegend Label=Unknown (1419212)\\u003cbr\\u003eBR Type=%{x}\\u003cbr\\u003eNumber of BRs=%{text}\\u003cbr\\u003eomid_only_sum=%{customdata[0]}\\u003cbr\\u003eother_pids_sum=%{customdata[1]}\\u003cextra\\u003e\\u003c\\u002fextra\\u003e\",\"hovertext\":[\"Unknown (1419212)\"],\"legendgroup\":\"Unknown (1419212)\",\"marker\":{\"color\":\"#19d3f3\",\"pattern\":{\"shape\":\"\"}},\"name\":\"Unknown (1419212)\",\"offsetgroup\":\"Unknown (1419212)\",\"orientation\":\"v\",\"showlegend\":true,\"text\":[1419212.0],\"textposition\":\"auto\",\"x\":[\"Unknown\"],\"xaxis\":\"x\",\"y\":[1419212],\"yaxis\":\"y\",\"type\":\"bar\"},{\"alignmentgroup\":\"True\",\"customdata\":[[0,253284]],\"hovertemplate\":\"\\u003cb\\u003e%{hovertext}\\u003c\\u002fb\\u003e\\u003cbr\\u003e\\u003cbr\\u003eLegend Label=journal article (253284)\\u003cbr\\u003eBR Type=%{x}\\u003cbr\\u003eNumber of BRs=%{text}\\u003cbr\\u003eomid_only_sum=%{customdata[0]}\\u003cbr\\u003eother_pids_sum=%{customdata[1]}\\u003cextra\\u003e\\u003c\\u002fextra\\u003e\",\"hovertext\":[\"journal article (253284)\"],\"legendgroup\":\"journal article (253284)\",\"marker\":{\"color\":\"#FF6692\",\"pattern\":{\"shape\":\"\"}},\"name\":\"journal article (253284)\",\"offsetgroup\":\"journal article (253284)\",\"orientation\":\"v\",\"showlegend\":true,\"text\":[253284.0],\"textposition\":\"auto\",\"x\":[\"journal article\"],\"xaxis\":\"x\",\"y\":[253284],\"yaxis\":\"y\",\"type\":\"bar\"},{\"alignmentgroup\":\"True\",\"customdata\":[[188427,26]],\"hovertemplate\":\"\\u003cb\\u003e%{hovertext}\\u003c\\u002fb\\u003e\\u003cbr\\u003e\\u003cbr\\u003eLegend Label=reference book (188453)\\u003cbr\\u003eBR Type=%{x}\\u003cbr\\u003eNumber of BRs=%{text}\\u003cbr\\u003eomid_only_sum=%{customdata[0]}\\u003cbr\\u003eother_pids_sum=%{customdata[1]}\\u003cextra\\u003e\\u003c\\u002fextra\\u003e\",\"hovertext\":[\"reference book (188453)\"],\"legendgroup\":\"reference book (188453)\",\"marker\":{\"color\":\"#B6E880\",\"pattern\":{\"shape\":\"\"}},\"name\":\"reference book (188453)\",\"offsetgroup\":\"reference book (188453)\",\"orientation\":\"v\",\"showlegend\":true,\"text\":[188453.0],\"textposition\":\"auto\",\"x\":[\"reference book\"],\"xaxis\":\"x\",\"y\":[188453],\"yaxis\":\"y\",\"type\":\"bar\"},{\"alignmentgroup\":\"True\",\"customdata\":[[0,135997]],\"hovertemplate\":\"\\u003cb\\u003e%{hovertext}\\u003c\\u002fb\\u003e\\u003cbr\\u003e\\u003cbr\\u003eLegend Label=report (135997)\\u003cbr\\u003eBR Type=%{x}\\u003cbr\\u003eNumber of BRs=%{text}\\u003cbr\\u003eomid_only_sum=%{customdata[0]}\\u003cbr\\u003eother_pids_sum=%{customdata[1]}\\u003cextra\\u003e\\u003c\\u002fextra\\u003e\",\"hovertext\":[\"report (135997)\"],\"legendgroup\":\"report (135997)\",\"marker\":{\"color\":\"#FF97FF\",\"pattern\":{\"shape\":\"\"}},\"name\":\"report (135997)\",\"offsetgroup\":\"report (135997)\",\"orientation\":\"v\",\"showlegend\":true,\"text\":[135997.0],\"textposition\":\"auto\",\"x\":[\"report\"],\"xaxis\":\"x\",\"y\":[135997],\"yaxis\":\"y\",\"type\":\"bar\"},{\"alignmentgroup\":\"True\",\"customdata\":[[101660,1603]],\"hovertemplate\":\"\\u003cb\\u003e%{hovertext}\\u003c\\u002fb\\u003e\\u003cbr\\u003e\\u003cbr\\u003eLegend Label=journal (103263)\\u003cbr\\u003eBR Type=%{x}\\u003cbr\\u003eNumber of BRs=%{text}\\u003cbr\\u003eomid_only_sum=%{customdata[0]}\\u003cbr\\u003eother_pids_sum=%{customdata[1]}\\u003cextra\\u003e\\u003c\\u002fextra\\u003e\",\"hovertext\":[\"journal (103263)\"],\"legendgroup\":\"journal (103263)\",\"marker\":{\"color\":\"#FECB52\",\"pattern\":{\"shape\":\"\"}},\"name\":\"journal (103263)\",\"offsetgroup\":\"journal (103263)\",\"orientation\":\"v\",\"showlegend\":true,\"text\":[103263.0],\"textposition\":\"auto\",\"x\":[\"journal\"],\"xaxis\":\"x\",\"y\":[103263],\"yaxis\":\"y\",\"type\":\"bar\"},{\"alignmentgroup\":\"True\",\"customdata\":[[26685,173]],\"hovertemplate\":\"\\u003cb\\u003e%{hovertext}\\u003c\\u002fb\\u003e\\u003cbr\\u003e\\u003cbr\\u003eLegend Label=book series (26858)\\u003cbr\\u003eBR Type=%{x}\\u003cbr\\u003eNumber of BRs=%{text}\\u003cbr\\u003eomid_only_sum=%{customdata[0]}\\u003cbr\\u003eother_pids_sum=%{customdata[1]}\\u003cextra\\u003e\\u003c\\u002fextra\\u003e\",\"hovertext\":[\"book series (26858)\"],\"legendgroup\":\"book series (26858)\",\"marker\":{\"color\":\"#636efa\",\"pattern\":{\"shape\":\"\"}},\"name\":\"book series (26858)\",\"offsetgroup\":\"book series (26858)\",\"orientation\":\"v\",\"showlegend\":true,\"text\":[26858.0],\"textposition\":\"auto\",\"x\":[\"book series\"],\"xaxis\":\"x\",\"y\":[26858],\"yaxis\":\"y\",\"type\":\"bar\"},{\"alignmentgroup\":\"True\",\"customdata\":[[0,7991]],\"hovertemplate\":\"\\u003cb\\u003e%{hovertext}\\u003c\\u002fb\\u003e\\u003cbr\\u003e\\u003cbr\\u003eLegend Label=dissertation (7991)\\u003cbr\\u003eBR Type=%{x}\\u003cbr\\u003eNumber of BRs=%{text}\\u003cbr\\u003eomid_only_sum=%{customdata[0]}\\u003cbr\\u003eother_pids_sum=%{customdata[1]}\\u003cextra\\u003e\\u003c\\u002fextra\\u003e\",\"hovertext\":[\"dissertation (7991)\"],\"legendgroup\":\"dissertation (7991)\",\"marker\":{\"color\":\"#EF553B\",\"pattern\":{\"shape\":\"\"}},\"name\":\"dissertation (7991)\",\"offsetgroup\":\"dissertation (7991)\",\"orientation\":\"v\",\"showlegend\":true,\"text\":[7991.0],\"textposition\":\"auto\",\"x\":[\"dissertation\"],\"xaxis\":\"x\",\"y\":[7991],\"yaxis\":\"y\",\"type\":\"bar\"},{\"alignmentgroup\":\"True\",\"customdata\":[[0,3294]],\"hovertemplate\":\"\\u003cb\\u003e%{hovertext}\\u003c\\u002fb\\u003e\\u003cbr\\u003e\\u003cbr\\u003eLegend Label=book chapter (3294)\\u003cbr\\u003eBR Type=%{x}\\u003cbr\\u003eNumber of BRs=%{text}\\u003cbr\\u003eomid_only_sum=%{customdata[0]}\\u003cbr\\u003eother_pids_sum=%{customdata[1]}\\u003cextra\\u003e\\u003c\\u002fextra\\u003e\",\"hovertext\":[\"book chapter (3294)\"],\"legendgroup\":\"book chapter (3294)\",\"marker\":{\"color\":\"#00cc96\",\"pattern\":{\"shape\":\"\"}},\"name\":\"book chapter (3294)\",\"offsetgroup\":\"book chapter (3294)\",\"orientation\":\"v\",\"showlegend\":true,\"text\":[3294.0],\"textposition\":\"auto\",\"x\":[\"book chapter\"],\"xaxis\":\"x\",\"y\":[3294],\"yaxis\":\"y\",\"type\":\"bar\"},{\"alignmentgroup\":\"True\",\"customdata\":[[0,2000]],\"hovertemplate\":\"\\u003cb\\u003e%{hovertext}\\u003c\\u002fb\\u003e\\u003cbr\\u003e\\u003cbr\\u003eLegend Label=computer program (2000)\\u003cbr\\u003eBR Type=%{x}\\u003cbr\\u003eNumber of BRs=%{text}\\u003cbr\\u003eomid_only_sum=%{customdata[0]}\\u003cbr\\u003eother_pids_sum=%{customdata[1]}\\u003cextra\\u003e\\u003c\\u002fextra\\u003e\",\"hovertext\":[\"computer program (2000)\"],\"legendgroup\":\"computer program (2000)\",\"marker\":{\"color\":\"#ab63fa\",\"pattern\":{\"shape\":\"\"}},\"name\":\"computer program (2000)\",\"offsetgroup\":\"computer program (2000)\",\"orientation\":\"v\",\"showlegend\":true,\"text\":[2000.0],\"textposition\":\"auto\",\"x\":[\"computer program\"],\"xaxis\":\"x\",\"y\":[2000],\"yaxis\":\"y\",\"type\":\"bar\"},{\"alignmentgroup\":\"True\",\"customdata\":[[0,868]],\"hovertemplate\":\"\\u003cb\\u003e%{hovertext}\\u003c\\u002fb\\u003e\\u003cbr\\u003e\\u003cbr\\u003eLegend Label=proceedings article (868)\\u003cbr\\u003eBR Type=%{x}\\u003cbr\\u003eNumber of BRs=%{text}\\u003cbr\\u003eomid_only_sum=%{customdata[0]}\\u003cbr\\u003eother_pids_sum=%{customdata[1]}\\u003cextra\\u003e\\u003c\\u002fextra\\u003e\",\"hovertext\":[\"proceedings article (868)\"],\"legendgroup\":\"proceedings article (868)\",\"marker\":{\"color\":\"#FFA15A\",\"pattern\":{\"shape\":\"\"}},\"name\":\"proceedings article (868)\",\"offsetgroup\":\"proceedings article (868)\",\"orientation\":\"v\",\"showlegend\":true,\"text\":[868.0],\"textposition\":\"auto\",\"x\":[\"proceedings article\"],\"xaxis\":\"x\",\"y\":[868],\"yaxis\":\"y\",\"type\":\"bar\"},{\"alignmentgroup\":\"True\",\"customdata\":[[0,89]],\"hovertemplate\":\"\\u003cb\\u003e%{hovertext}\\u003c\\u002fb\\u003e\\u003cbr\\u003e\\u003cbr\\u003eLegend Label=reference entry (89)\\u003cbr\\u003eBR Type=%{x}\\u003cbr\\u003eNumber of BRs=%{text}\\u003cbr\\u003eomid_only_sum=%{customdata[0]}\\u003cbr\\u003eother_pids_sum=%{customdata[1]}\\u003cextra\\u003e\\u003c\\u002fextra\\u003e\",\"hovertext\":[\"reference entry (89)\"],\"legendgroup\":\"reference entry (89)\",\"marker\":{\"color\":\"#19d3f3\",\"pattern\":{\"shape\":\"\"}},\"name\":\"reference entry (89)\",\"offsetgroup\":\"reference entry (89)\",\"orientation\":\"v\",\"showlegend\":true,\"text\":[89.0],\"textposition\":\"auto\",\"x\":[\"reference entry\"],\"xaxis\":\"x\",\"y\":[89],\"yaxis\":\"y\",\"type\":\"bar\"},{\"alignmentgroup\":\"True\",\"customdata\":[[38,25]],\"hovertemplate\":\"\\u003cb\\u003e%{hovertext}\\u003c\\u002fb\\u003e\\u003cbr\\u003e\\u003cbr\\u003eLegend Label=series (63)\\u003cbr\\u003eBR Type=%{x}\\u003cbr\\u003eNumber of BRs=%{text}\\u003cbr\\u003eomid_only_sum=%{customdata[0]}\\u003cbr\\u003eother_pids_sum=%{customdata[1]}\\u003cextra\\u003e\\u003c\\u002fextra\\u003e\",\"hovertext\":[\"series (63)\"],\"legendgroup\":\"series (63)\",\"marker\":{\"color\":\"#FF6692\",\"pattern\":{\"shape\":\"\"}},\"name\":\"series (63)\",\"offsetgroup\":\"series (63)\",\"orientation\":\"v\",\"showlegend\":true,\"text\":[63.0],\"textposition\":\"auto\",\"x\":[\"series\"],\"xaxis\":\"x\",\"y\":[63],\"yaxis\":\"y\",\"type\":\"bar\"},{\"alignmentgroup\":\"True\",\"customdata\":[[0,29]],\"hovertemplate\":\"\\u003cb\\u003e%{hovertext}\\u003c\\u002fb\\u003e\\u003cbr\\u003e\\u003cbr\\u003eLegend Label=web content (29)\\u003cbr\\u003eBR Type=%{x}\\u003cbr\\u003eNumber of BRs=%{text}\\u003cbr\\u003eomid_only_sum=%{customdata[0]}\\u003cbr\\u003eother_pids_sum=%{customdata[1]}\\u003cextra\\u003e\\u003c\\u002fextra\\u003e\",\"hovertext\":[\"web content (29)\"],\"legendgroup\":\"web content (29)\",\"marker\":{\"color\":\"#B6E880\",\"pattern\":{\"shape\":\"\"}},\"name\":\"web content (29)\",\"offsetgroup\":\"web content (29)\",\"orientation\":\"v\",\"showlegend\":true,\"text\":[29.0],\"textposition\":\"auto\",\"x\":[\"web content\"],\"xaxis\":\"x\",\"y\":[29],\"yaxis\":\"y\",\"type\":\"bar\"},{\"alignmentgroup\":\"True\",\"customdata\":[[0,4]],\"hovertemplate\":\"\\u003cb\\u003e%{hovertext}\\u003c\\u002fb\\u003e\\u003cbr\\u003e\\u003cbr\\u003eLegend Label=standard (4)\\u003cbr\\u003eBR Type=%{x}\\u003cbr\\u003eNumber of BRs=%{text}\\u003cbr\\u003eomid_only_sum=%{customdata[0]}\\u003cbr\\u003eother_pids_sum=%{customdata[1]}\\u003cextra\\u003e\\u003c\\u002fextra\\u003e\",\"hovertext\":[\"standard (4)\"],\"legendgroup\":\"standard (4)\",\"marker\":{\"color\":\"#FF97FF\",\"pattern\":{\"shape\":\"\"}},\"name\":\"standard (4)\",\"offsetgroup\":\"standard (4)\",\"orientation\":\"v\",\"showlegend\":true,\"text\":[4.0],\"textposition\":\"auto\",\"x\":[\"standard\"],\"xaxis\":\"x\",\"y\":[4],\"yaxis\":\"y\",\"type\":\"bar\"},{\"alignmentgroup\":\"True\",\"customdata\":[[0,4]],\"hovertemplate\":\"\\u003cb\\u003e%{hovertext}\\u003c\\u002fb\\u003e\\u003cbr\\u003e\\u003cbr\\u003eLegend Label=data management plan (4)\\u003cbr\\u003eBR Type=%{x}\\u003cbr\\u003eNumber of BRs=%{text}\\u003cbr\\u003eomid_only_sum=%{customdata[0]}\\u003cbr\\u003eother_pids_sum=%{customdata[1]}\\u003cextra\\u003e\\u003c\\u002fextra\\u003e\",\"hovertext\":[\"data management plan (4)\"],\"legendgroup\":\"data management plan (4)\",\"marker\":{\"color\":\"#FECB52\",\"pattern\":{\"shape\":\"\"}},\"name\":\"data management plan (4)\",\"offsetgroup\":\"data management plan (4)\",\"orientation\":\"v\",\"showlegend\":true,\"text\":[4.0],\"textposition\":\"auto\",\"x\":[\"data management plan\"],\"xaxis\":\"x\",\"y\":[4],\"yaxis\":\"y\",\"type\":\"bar\"},{\"alignmentgroup\":\"True\",\"customdata\":[[0,3]],\"hovertemplate\":\"\\u003cb\\u003e%{hovertext}\\u003c\\u002fb\\u003e\\u003cbr\\u003e\\u003cbr\\u003eLegend Label=book section (3)\\u003cbr\\u003eBR Type=%{x}\\u003cbr\\u003eNumber of BRs=%{text}\\u003cbr\\u003eomid_only_sum=%{customdata[0]}\\u003cbr\\u003eother_pids_sum=%{customdata[1]}\\u003cextra\\u003e\\u003c\\u002fextra\\u003e\",\"hovertext\":[\"book section (3)\"],\"legendgroup\":\"book section (3)\",\"marker\":{\"color\":\"#636efa\",\"pattern\":{\"shape\":\"\"}},\"name\":\"book section (3)\",\"offsetgroup\":\"book section (3)\",\"orientation\":\"v\",\"showlegend\":true,\"text\":[3.0],\"textposition\":\"auto\",\"x\":[\"book section\"],\"xaxis\":\"x\",\"y\":[3],\"yaxis\":\"y\",\"type\":\"bar\"}],                        {\"template\":{\"data\":{\"histogram2dcontour\":[{\"type\":\"histogram2dcontour\",\"colorbar\":{\"outlinewidth\":0,\"ticks\":\"\"},\"colorscale\":[[0.0,\"#0d0887\"],[0.1111111111111111,\"#46039f\"],[0.2222222222222222,\"#7201a8\"],[0.3333333333333333,\"#9c179e\"],[0.4444444444444444,\"#bd3786\"],[0.5555555555555556,\"#d8576b\"],[0.6666666666666666,\"#ed7953\"],[0.7777777777777778,\"#fb9f3a\"],[0.8888888888888888,\"#fdca26\"],[1.0,\"#f0f921\"]]}],\"choropleth\":[{\"type\":\"choropleth\",\"colorbar\":{\"outlinewidth\":0,\"ticks\":\"\"}}],\"histogram2d\":[{\"type\":\"histogram2d\",\"colorbar\":{\"outlinewidth\":0,\"ticks\":\"\"},\"colorscale\":[[0.0,\"#0d0887\"],[0.1111111111111111,\"#46039f\"],[0.2222222222222222,\"#7201a8\"],[0.3333333333333333,\"#9c179e\"],[0.4444444444444444,\"#bd3786\"],[0.5555555555555556,\"#d8576b\"],[0.6666666666666666,\"#ed7953\"],[0.7777777777777778,\"#fb9f3a\"],[0.8888888888888888,\"#fdca26\"],[1.0,\"#f0f921\"]]}],\"heatmap\":[{\"type\":\"heatmap\",\"colorbar\":{\"outlinewidth\":0,\"ticks\":\"\"},\"colorscale\":[[0.0,\"#0d0887\"],[0.1111111111111111,\"#46039f\"],[0.2222222222222222,\"#7201a8\"],[0.3333333333333333,\"#9c179e\"],[0.4444444444444444,\"#bd3786\"],[0.5555555555555556,\"#d8576b\"],[0.6666666666666666,\"#ed7953\"],[0.7777777777777778,\"#fb9f3a\"],[0.8888888888888888,\"#fdca26\"],[1.0,\"#f0f921\"]]}],\"heatmapgl\":[{\"type\":\"heatmapgl\",\"colorbar\":{\"outlinewidth\":0,\"ticks\":\"\"},\"colorscale\":[[0.0,\"#0d0887\"],[0.1111111111111111,\"#46039f\"],[0.2222222222222222,\"#7201a8\"],[0.3333333333333333,\"#9c179e\"],[0.4444444444444444,\"#bd3786\"],[0.5555555555555556,\"#d8576b\"],[0.6666666666666666,\"#ed7953\"],[0.7777777777777778,\"#fb9f3a\"],[0.8888888888888888,\"#fdca26\"],[1.0,\"#f0f921\"]]}],\"contourcarpet\":[{\"type\":\"contourcarpet\",\"colorbar\":{\"outlinewidth\":0,\"ticks\":\"\"}}],\"contour\":[{\"type\":\"contour\",\"colorbar\":{\"outlinewidth\":0,\"ticks\":\"\"},\"colorscale\":[[0.0,\"#0d0887\"],[0.1111111111111111,\"#46039f\"],[0.2222222222222222,\"#7201a8\"],[0.3333333333333333,\"#9c179e\"],[0.4444444444444444,\"#bd3786\"],[0.5555555555555556,\"#d8576b\"],[0.6666666666666666,\"#ed7953\"],[0.7777777777777778,\"#fb9f3a\"],[0.8888888888888888,\"#fdca26\"],[1.0,\"#f0f921\"]]}],\"surface\":[{\"type\":\"surface\",\"colorbar\":{\"outlinewidth\":0,\"ticks\":\"\"},\"colorscale\":[[0.0,\"#0d0887\"],[0.1111111111111111,\"#46039f\"],[0.2222222222222222,\"#7201a8\"],[0.3333333333333333,\"#9c179e\"],[0.4444444444444444,\"#bd3786\"],[0.5555555555555556,\"#d8576b\"],[0.6666666666666666,\"#ed7953\"],[0.7777777777777778,\"#fb9f3a\"],[0.8888888888888888,\"#fdca26\"],[1.0,\"#f0f921\"]]}],\"mesh3d\":[{\"type\":\"mesh3d\",\"colorbar\":{\"outlinewidth\":0,\"ticks\":\"\"}}],\"scatter\":[{\"marker\":{\"line\":{\"color\":\"#283442\"}},\"type\":\"scatter\"}],\"parcoords\":[{\"type\":\"parcoords\",\"line\":{\"colorbar\":{\"outlinewidth\":0,\"ticks\":\"\"}}}],\"scatterpolargl\":[{\"type\":\"scatterpolargl\",\"marker\":{\"colorbar\":{\"outlinewidth\":0,\"ticks\":\"\"}}}],\"bar\":[{\"error_x\":{\"color\":\"#f2f5fa\"},\"error_y\":{\"color\":\"#f2f5fa\"},\"marker\":{\"line\":{\"color\":\"rgb(17,17,17)\",\"width\":0.5},\"pattern\":{\"fillmode\":\"overlay\",\"size\":10,\"solidity\":0.2}},\"type\":\"bar\"}],\"scattergeo\":[{\"type\":\"scattergeo\",\"marker\":{\"colorbar\":{\"outlinewidth\":0,\"ticks\":\"\"}}}],\"scatterpolar\":[{\"type\":\"scatterpolar\",\"marker\":{\"colorbar\":{\"outlinewidth\":0,\"ticks\":\"\"}}}],\"histogram\":[{\"marker\":{\"pattern\":{\"fillmode\":\"overlay\",\"size\":10,\"solidity\":0.2}},\"type\":\"histogram\"}],\"scattergl\":[{\"marker\":{\"line\":{\"color\":\"#283442\"}},\"type\":\"scattergl\"}],\"scatter3d\":[{\"type\":\"scatter3d\",\"line\":{\"colorbar\":{\"outlinewidth\":0,\"ticks\":\"\"}},\"marker\":{\"colorbar\":{\"outlinewidth\":0,\"ticks\":\"\"}}}],\"scattermapbox\":[{\"type\":\"scattermapbox\",\"marker\":{\"colorbar\":{\"outlinewidth\":0,\"ticks\":\"\"}}}],\"scatterternary\":[{\"type\":\"scatterternary\",\"marker\":{\"colorbar\":{\"outlinewidth\":0,\"ticks\":\"\"}}}],\"scattercarpet\":[{\"type\":\"scattercarpet\",\"marker\":{\"colorbar\":{\"outlinewidth\":0,\"ticks\":\"\"}}}],\"carpet\":[{\"aaxis\":{\"endlinecolor\":\"#A2B1C6\",\"gridcolor\":\"#506784\",\"linecolor\":\"#506784\",\"minorgridcolor\":\"#506784\",\"startlinecolor\":\"#A2B1C6\"},\"baxis\":{\"endlinecolor\":\"#A2B1C6\",\"gridcolor\":\"#506784\",\"linecolor\":\"#506784\",\"minorgridcolor\":\"#506784\",\"startlinecolor\":\"#A2B1C6\"},\"type\":\"carpet\"}],\"table\":[{\"cells\":{\"fill\":{\"color\":\"#506784\"},\"line\":{\"color\":\"rgb(17,17,17)\"}},\"header\":{\"fill\":{\"color\":\"#2a3f5f\"},\"line\":{\"color\":\"rgb(17,17,17)\"}},\"type\":\"table\"}],\"barpolar\":[{\"marker\":{\"line\":{\"color\":\"rgb(17,17,17)\",\"width\":0.5},\"pattern\":{\"fillmode\":\"overlay\",\"size\":10,\"solidity\":0.2}},\"type\":\"barpolar\"}],\"pie\":[{\"automargin\":true,\"type\":\"pie\"}]},\"layout\":{\"autotypenumbers\":\"strict\",\"colorway\":[\"#636efa\",\"#EF553B\",\"#00cc96\",\"#ab63fa\",\"#FFA15A\",\"#19d3f3\",\"#FF6692\",\"#B6E880\",\"#FF97FF\",\"#FECB52\"],\"font\":{\"color\":\"#f2f5fa\"},\"hovermode\":\"closest\",\"hoverlabel\":{\"align\":\"left\"},\"paper_bgcolor\":\"rgb(17,17,17)\",\"plot_bgcolor\":\"rgb(17,17,17)\",\"polar\":{\"bgcolor\":\"rgb(17,17,17)\",\"angularaxis\":{\"gridcolor\":\"#506784\",\"linecolor\":\"#506784\",\"ticks\":\"\"},\"radialaxis\":{\"gridcolor\":\"#506784\",\"linecolor\":\"#506784\",\"ticks\":\"\"}},\"ternary\":{\"bgcolor\":\"rgb(17,17,17)\",\"aaxis\":{\"gridcolor\":\"#506784\",\"linecolor\":\"#506784\",\"ticks\":\"\"},\"baxis\":{\"gridcolor\":\"#506784\",\"linecolor\":\"#506784\",\"ticks\":\"\"},\"caxis\":{\"gridcolor\":\"#506784\",\"linecolor\":\"#506784\",\"ticks\":\"\"}},\"coloraxis\":{\"colorbar\":{\"outlinewidth\":0,\"ticks\":\"\"}},\"colorscale\":{\"sequential\":[[0.0,\"#0d0887\"],[0.1111111111111111,\"#46039f\"],[0.2222222222222222,\"#7201a8\"],[0.3333333333333333,\"#9c179e\"],[0.4444444444444444,\"#bd3786\"],[0.5555555555555556,\"#d8576b\"],[0.6666666666666666,\"#ed7953\"],[0.7777777777777778,\"#fb9f3a\"],[0.8888888888888888,\"#fdca26\"],[1.0,\"#f0f921\"]],\"sequentialminus\":[[0.0,\"#0d0887\"],[0.1111111111111111,\"#46039f\"],[0.2222222222222222,\"#7201a8\"],[0.3333333333333333,\"#9c179e\"],[0.4444444444444444,\"#bd3786\"],[0.5555555555555556,\"#d8576b\"],[0.6666666666666666,\"#ed7953\"],[0.7777777777777778,\"#fb9f3a\"],[0.8888888888888888,\"#fdca26\"],[1.0,\"#f0f921\"]],\"diverging\":[[0,\"#8e0152\"],[0.1,\"#c51b7d\"],[0.2,\"#de77ae\"],[0.3,\"#f1b6da\"],[0.4,\"#fde0ef\"],[0.5,\"#f7f7f7\"],[0.6,\"#e6f5d0\"],[0.7,\"#b8e186\"],[0.8,\"#7fbc41\"],[0.9,\"#4d9221\"],[1,\"#276419\"]]},\"xaxis\":{\"gridcolor\":\"#283442\",\"linecolor\":\"#506784\",\"ticks\":\"\",\"title\":{\"standoff\":15},\"zerolinecolor\":\"#283442\",\"automargin\":true,\"zerolinewidth\":2},\"yaxis\":{\"gridcolor\":\"#283442\",\"linecolor\":\"#506784\",\"ticks\":\"\",\"title\":{\"standoff\":15},\"zerolinecolor\":\"#283442\",\"automargin\":true,\"zerolinewidth\":2},\"scene\":{\"xaxis\":{\"backgroundcolor\":\"rgb(17,17,17)\",\"gridcolor\":\"#506784\",\"linecolor\":\"#506784\",\"showbackground\":true,\"ticks\":\"\",\"zerolinecolor\":\"#C8D4E3\",\"gridwidth\":2},\"yaxis\":{\"backgroundcolor\":\"rgb(17,17,17)\",\"gridcolor\":\"#506784\",\"linecolor\":\"#506784\",\"showbackground\":true,\"ticks\":\"\",\"zerolinecolor\":\"#C8D4E3\",\"gridwidth\":2},\"zaxis\":{\"backgroundcolor\":\"rgb(17,17,17)\",\"gridcolor\":\"#506784\",\"linecolor\":\"#506784\",\"showbackground\":true,\"ticks\":\"\",\"zerolinecolor\":\"#C8D4E3\",\"gridwidth\":2}},\"shapedefaults\":{\"line\":{\"color\":\"#f2f5fa\"}},\"annotationdefaults\":{\"arrowcolor\":\"#f2f5fa\",\"arrowhead\":0,\"arrowwidth\":1},\"geo\":{\"bgcolor\":\"rgb(17,17,17)\",\"landcolor\":\"rgb(17,17,17)\",\"subunitcolor\":\"#506784\",\"showland\":true,\"showlakes\":true,\"lakecolor\":\"rgb(17,17,17)\"},\"title\":{\"x\":0.05},\"updatemenudefaults\":{\"bgcolor\":\"#506784\",\"borderwidth\":0},\"sliderdefaults\":{\"bgcolor\":\"#C8D4E3\",\"borderwidth\":1,\"bordercolor\":\"rgb(17,17,17)\",\"tickwidth\":0},\"mapbox\":{\"style\":\"dark\"}}},\"xaxis\":{\"anchor\":\"y\",\"domain\":[0.0,1.0],\"title\":{\"text\":\"BR Type\"}},\"yaxis\":{\"anchor\":\"x\",\"domain\":[0.0,1.0],\"title\":{\"text\":\"Number of BRs\"}},\"legend\":{\"title\":{\"text\":\"Legend Label\"},\"tracegroupgap\":0},\"title\":{\"text\":\"Number of non-mapped BRs per BR Type\"},\"barmode\":\"relative\"},                        {\"responsive\": true}                    ).then(function(){\n                            \nvar gd = document.getElementById('a963ac9c-6566-4a89-8aec-0048caff0b34');\nvar x = new MutationObserver(function (mutations, observer) {{\n        var display = window.getComputedStyle(gd).display;\n        if (!display || display === 'none') {{\n            console.log([gd, 'removed!']);\n            Plotly.purge(gd);\n            observer.disconnect();\n        }}\n}});\n\n// Listen for the removal of the full notebook cells\nvar notebookContainer = gd.closest('#notebook-container');\nif (notebookContainer) {{\n    x.observe(notebookContainer, {childList: true});\n}}\n\n// Listen for the clearing of the current output cell\nvar outputEl = gd.closest('.output');\nif (outputEl) {{\n    x.observe(outputEl, {childList: true});\n}}\n\n                        })                };                });            </script>        </div>"
     },
     "metadata": {},
     "output_type": "display_data"
    }
   ],
   "source": [
    "\n",
    "\n",
    "\n",
    "# Create a DataFrame to make it easier to work with the data\n",
    "df = pd.DataFrame(analysis_results).T  # Transpose the DataFrame to have 'br types' as columns\n",
    "\n",
    "# Add new columns for sum of 'omid_only' and 'other_pids'\n",
    "df['omid_only_sum'] = df.apply(lambda row: sum(item.get('omid_only', 0) if isinstance(item, dict) else 0 for item in row), axis=1)\n",
    "df['other_pids_sum'] = df.apply(lambda row: sum(item.get('other_pids', 0) if isinstance(item, dict) else 0 for item in row), axis=1)\n",
    "# Add new column for sum of all values\n",
    "df['Number of BRs'] = df['omid_only_sum'] + df['other_pids_sum']\n",
    "\n",
    "\n",
    "# Reset the index to have 'br types' as a regular column\n",
    "df.reset_index(inplace=True)\n",
    "df.rename(columns={'index': 'BR Type'}, inplace=True)\n",
    "df['BR Type'].replace('', 'Unknown', inplace=True)  # Replace empty type string with 'Unknown'\n",
    "\n",
    "# Create a new column for the legend labels\n",
    "df['Legend Label'] = df['BR Type'] + ' (' + df['Number of BRs'].astype(str) + ')'\n",
    "\n",
    "\n",
    "# Create the bar chart\n",
    "fig = px.bar(df, x='BR Type', y='Number of BRs', text='Number of BRs', color='Legend Label',\n",
    "             # labels={'Number of BRs': 'Number of BRs', 'omid_only_sum': 'Omid Only', 'With other PIDs': 'other_pids_sum'},\n",
    "             title='Number of non-mapped BRs per BR Type',\n",
    "             hover_name='Legend Label',\n",
    "             hover_data=['omid_only_sum', 'other_pids_sum'],\n",
    "             # custom_data=df[df.columns[1:15]].fillna('0')\n",
    "             )\n",
    "\n",
    "# Customize the layout\n",
    "fig.update_layout(xaxis_title='BR Type', yaxis_title='Number of BRs')\n",
    "\n",
    "\n",
    "# print to html file\n",
    "fig.write_html('graphs/non_mapped_brs_per_br_type.html')\n",
    "\n",
    "fig.show()\n"
   ],
   "metadata": {
    "collapsed": false,
    "ExecuteTime": {
     "end_time": "2023-11-26T23:02:04.305451400Z",
     "start_time": "2023-11-26T23:02:04.058128400Z"
    }
   },
   "id": "6f96862794b8e41c"
  },
  {
   "cell_type": "code",
   "execution_count": 7,
   "outputs": [
    {
     "data": {
      "text/plain": "                                                                                 proceedings  \\\nsource                                                                                         \nhttps://api.crossref.org/                           {'omid_only': 5046154, 'other_pids': 31}   \nhttps://api.crossref.org/snapshots/monthly/2023...    {'omid_only': 324639, 'other_pids': 0}   \nhttps://doi.org/10.5281/zenodo.7845968                 {'omid_only': 0, 'other_pids': 11487}   \nhttps://nih.figshare.com/collections/iCite_Data...       {'omid_only': 786, 'other_pids': 0}   \nhttps://doi.org/10.5281/zenodo.7845968 https://...        {'omid_only': 0, 'other_pids': 17}   \nhttps://api.datacite.org/ https://api.crossref....         {'omid_only': 1, 'other_pids': 0}   \nhttps://nih.figshare.com/collections/iCite_Data...                                       NaN   \nhttps://nih.figshare.com/collections/iCite_Data...                                       NaN   \nhttps://api.crossref.org/snapshots/monthly/2023...                                       NaN   \nhttps://nih.figshare.com/collections/iCite_Data...                                       NaN   \nhttps://api.datacite.org/                                                                NaN   \nhttps://api.crossref.org/snapshots/monthly/2023...                                       NaN   \nhttps://doi.org/10.5281/zenodo.7845968 https://...                                       NaN   \nhttps://doi.org/10.5281/zenodo.7845968 https://...                                       NaN   \nhttps://nih.figshare.com/collections/iCite_Data...                                       NaN   \n\n                                                                                  journal issue  \\\nsource                                                                                            \nhttps://api.crossref.org/                           {'omid_only': 4667606, 'other_pids': 79827}   \nhttps://api.crossref.org/snapshots/monthly/2023...      {'omid_only': 202652, 'other_pids': 15}   \nhttps://doi.org/10.5281/zenodo.7845968                     {'omid_only': 1075, 'other_pids': 0}   \nhttps://nih.figshare.com/collections/iCite_Data...       {'omid_only': 102115, 'other_pids': 0}   \nhttps://doi.org/10.5281/zenodo.7845968 https://...        {'omid_only': 2830, 'other_pids': 37}   \nhttps://api.datacite.org/ https://api.crossref....         {'omid_only': 457, 'other_pids': 23}   \nhttps://nih.figshare.com/collections/iCite_Data...         {'omid_only': 3847, 'other_pids': 0}   \nhttps://nih.figshare.com/collections/iCite_Data...       {'omid_only': 3305, 'other_pids': 120}   \nhttps://api.crossref.org/snapshots/monthly/2023...           {'omid_only': 0, 'other_pids': 92}   \nhttps://nih.figshare.com/collections/iCite_Data...          {'omid_only': 12, 'other_pids': 13}   \nhttps://api.datacite.org/                                     {'omid_only': 2, 'other_pids': 0}   \nhttps://api.crossref.org/snapshots/monthly/2023...            {'omid_only': 2, 'other_pids': 0}   \nhttps://doi.org/10.5281/zenodo.7845968 https://...                                          NaN   \nhttps://doi.org/10.5281/zenodo.7845968 https://...                                          NaN   \nhttps://nih.figshare.com/collections/iCite_Data...                                          NaN   \n\n                                                                                           book  \\\nsource                                                                                            \nhttps://api.crossref.org/                           {'omid_only': 2405267, 'other_pids': 91797}   \nhttps://api.crossref.org/snapshots/monthly/2023...     {'omid_only': 2626, 'other_pids': 16272}   \nhttps://doi.org/10.5281/zenodo.7845968                     {'omid_only': 0, 'other_pids': 1247}   \nhttps://nih.figshare.com/collections/iCite_Data...         {'omid_only': 3757, 'other_pids': 0}   \nhttps://doi.org/10.5281/zenodo.7845968 https://...            {'omid_only': 0, 'other_pids': 2}   \nhttps://api.datacite.org/ https://api.crossref....           {'omid_only': 1, 'other_pids': 28}   \nhttps://nih.figshare.com/collections/iCite_Data...                                          NaN   \nhttps://nih.figshare.com/collections/iCite_Data...                                          NaN   \nhttps://api.crossref.org/snapshots/monthly/2023...          {'omid_only': 0, 'other_pids': 589}   \nhttps://nih.figshare.com/collections/iCite_Data...                                          NaN   \nhttps://api.datacite.org/                                   {'omid_only': 0, 'other_pids': 300}   \nhttps://api.crossref.org/snapshots/monthly/2023...                                          NaN   \nhttps://doi.org/10.5281/zenodo.7845968 https://...                                          NaN   \nhttps://doi.org/10.5281/zenodo.7845968 https://...                                          NaN   \nhttps://nih.figshare.com/collections/iCite_Data...                                          NaN   \n\n                                                                              journal volume  \\\nsource                                                                                         \nhttps://api.crossref.org/                           {'omid_only': 1440942, 'other_pids': 95}   \nhttps://api.crossref.org/snapshots/monthly/2023...    {'omid_only': 106965, 'other_pids': 0}   \nhttps://doi.org/10.5281/zenodo.7845968                                                   NaN   \nhttps://nih.figshare.com/collections/iCite_Data...     {'omid_only': 22602, 'other_pids': 0}   \nhttps://doi.org/10.5281/zenodo.7845968 https://...      {'omid_only': 1730, 'other_pids': 0}   \nhttps://api.datacite.org/ https://api.crossref....       {'omid_only': 436, 'other_pids': 0}   \nhttps://nih.figshare.com/collections/iCite_Data...       {'omid_only': 910, 'other_pids': 0}   \nhttps://nih.figshare.com/collections/iCite_Data...      {'omid_only': 2125, 'other_pids': 0}   \nhttps://api.crossref.org/snapshots/monthly/2023...                                       NaN   \nhttps://nih.figshare.com/collections/iCite_Data...        {'omid_only': 27, 'other_pids': 0}   \nhttps://api.datacite.org/                                  {'omid_only': 1, 'other_pids': 0}   \nhttps://api.crossref.org/snapshots/monthly/2023...                                       NaN   \nhttps://doi.org/10.5281/zenodo.7845968 https://...         {'omid_only': 1, 'other_pids': 0}   \nhttps://doi.org/10.5281/zenodo.7845968 https://...                                       NaN   \nhttps://nih.figshare.com/collections/iCite_Data...                                       NaN   \n\n                                                                                    dataset  \\\nsource                                                                                        \nhttps://api.crossref.org/                                {'omid_only': 0, 'other_pids': 46}   \nhttps://api.crossref.org/snapshots/monthly/2023...                                      NaN   \nhttps://doi.org/10.5281/zenodo.7845968               {'omid_only': 0, 'other_pids': 203240}   \nhttps://nih.figshare.com/collections/iCite_Data...                                      NaN   \nhttps://doi.org/10.5281/zenodo.7845968 https://...      {'omid_only': 0, 'other_pids': 190}   \nhttps://api.datacite.org/ https://api.crossref....     {'omid_only': 0, 'other_pids': 3521}   \nhttps://nih.figshare.com/collections/iCite_Data...                                      NaN   \nhttps://nih.figshare.com/collections/iCite_Data...                                      NaN   \nhttps://api.crossref.org/snapshots/monthly/2023...                                      NaN   \nhttps://nih.figshare.com/collections/iCite_Data...                                      NaN   \nhttps://api.datacite.org/                           {'omid_only': 0, 'other_pids': 1238173}   \nhttps://api.crossref.org/snapshots/monthly/2023...                                      NaN   \nhttps://doi.org/10.5281/zenodo.7845968 https://...        {'omid_only': 0, 'other_pids': 6}   \nhttps://doi.org/10.5281/zenodo.7845968 https://...      {'omid_only': 0, 'other_pids': 165}   \nhttps://nih.figshare.com/collections/iCite_Data...                                      NaN   \n\n                                                                                        Unknown  \\\nsource                                                                                            \nhttps://api.crossref.org/                           {'omid_only': 356955, 'other_pids': 324066}   \nhttps://api.crossref.org/snapshots/monthly/2023...   {'omid_only': 71227, 'other_pids': 149362}   \nhttps://doi.org/10.5281/zenodo.7845968                   {'omid_only': 0, 'other_pids': 355075}   \nhttps://nih.figshare.com/collections/iCite_Data...          {'omid_only': 1, 'other_pids': 153}   \nhttps://doi.org/10.5281/zenodo.7845968 https://...           {'omid_only': 0, 'other_pids': 16}   \nhttps://api.datacite.org/ https://api.crossref....          {'omid_only': 0, 'other_pids': 287}   \nhttps://nih.figshare.com/collections/iCite_Data...                                          NaN   \nhttps://nih.figshare.com/collections/iCite_Data...                                          NaN   \nhttps://api.crossref.org/snapshots/monthly/2023...                                          NaN   \nhttps://nih.figshare.com/collections/iCite_Data...                                          NaN   \nhttps://api.datacite.org/                                {'omid_only': 9, 'other_pids': 162061}   \nhttps://api.crossref.org/snapshots/monthly/2023...                                          NaN   \nhttps://doi.org/10.5281/zenodo.7845968 https://...                                          NaN   \nhttps://doi.org/10.5281/zenodo.7845968 https://...                                          NaN   \nhttps://nih.figshare.com/collections/iCite_Data...                                          NaN   \n\n                                                                           journal article  \\\nsource                                                                                       \nhttps://api.crossref.org/                             {'omid_only': 0, 'other_pids': 4983}   \nhttps://api.crossref.org/snapshots/monthly/2023...     {'omid_only': 0, 'other_pids': 484}   \nhttps://doi.org/10.5281/zenodo.7845968              {'omid_only': 0, 'other_pids': 202018}   \nhttps://nih.figshare.com/collections/iCite_Data...   {'omid_only': 0, 'other_pids': 42009}   \nhttps://doi.org/10.5281/zenodo.7845968 https://...      {'omid_only': 0, 'other_pids': 57}   \nhttps://api.datacite.org/ https://api.crossref....       {'omid_only': 0, 'other_pids': 7}   \nhttps://nih.figshare.com/collections/iCite_Data...     {'omid_only': 0, 'other_pids': 374}   \nhttps://nih.figshare.com/collections/iCite_Data...    {'omid_only': 0, 'other_pids': 2246}   \nhttps://api.crossref.org/snapshots/monthly/2023...                                     NaN   \nhttps://nih.figshare.com/collections/iCite_Data...      {'omid_only': 0, 'other_pids': 31}   \nhttps://api.datacite.org/                             {'omid_only': 0, 'other_pids': 1075}   \nhttps://api.crossref.org/snapshots/monthly/2023...                                     NaN   \nhttps://doi.org/10.5281/zenodo.7845968 https://...                                     NaN   \nhttps://doi.org/10.5281/zenodo.7845968 https://...                                     NaN   \nhttps://nih.figshare.com/collections/iCite_Data...                                     NaN   \n\n                                                                             reference book  \\\nsource                                                                                        \nhttps://api.crossref.org/                           {'omid_only': 186140, 'other_pids': 25}   \nhttps://api.crossref.org/snapshots/monthly/2023...     {'omid_only': 2286, 'other_pids': 1}   \nhttps://doi.org/10.5281/zenodo.7845968                                                  NaN   \nhttps://nih.figshare.com/collections/iCite_Data...        {'omid_only': 1, 'other_pids': 0}   \nhttps://doi.org/10.5281/zenodo.7845968 https://...                                      NaN   \nhttps://api.datacite.org/ https://api.crossref....                                      NaN   \nhttps://nih.figshare.com/collections/iCite_Data...                                      NaN   \nhttps://nih.figshare.com/collections/iCite_Data...                                      NaN   \nhttps://api.crossref.org/snapshots/monthly/2023...                                      NaN   \nhttps://nih.figshare.com/collections/iCite_Data...                                      NaN   \nhttps://api.datacite.org/                                                               NaN   \nhttps://api.crossref.org/snapshots/monthly/2023...                                      NaN   \nhttps://doi.org/10.5281/zenodo.7845968 https://...                                      NaN   \nhttps://doi.org/10.5281/zenodo.7845968 https://...                                      NaN   \nhttps://nih.figshare.com/collections/iCite_Data...                                      NaN   \n\n                                                                                    report  \\\nsource                                                                                       \nhttps://api.crossref.org/                               {'omid_only': 0, 'other_pids': 15}   \nhttps://api.crossref.org/snapshots/monthly/2023...                                     NaN   \nhttps://doi.org/10.5281/zenodo.7845968                {'omid_only': 0, 'other_pids': 1993}   \nhttps://nih.figshare.com/collections/iCite_Data...                                     NaN   \nhttps://doi.org/10.5281/zenodo.7845968 https://...                                     NaN   \nhttps://api.datacite.org/ https://api.crossref....     {'omid_only': 0, 'other_pids': 115}   \nhttps://nih.figshare.com/collections/iCite_Data...                                     NaN   \nhttps://nih.figshare.com/collections/iCite_Data...                                     NaN   \nhttps://api.crossref.org/snapshots/monthly/2023...                                     NaN   \nhttps://nih.figshare.com/collections/iCite_Data...                                     NaN   \nhttps://api.datacite.org/                           {'omid_only': 0, 'other_pids': 133865}   \nhttps://api.crossref.org/snapshots/monthly/2023...                                     NaN   \nhttps://doi.org/10.5281/zenodo.7845968 https://...       {'omid_only': 0, 'other_pids': 3}   \nhttps://doi.org/10.5281/zenodo.7845968 https://...       {'omid_only': 0, 'other_pids': 6}   \nhttps://nih.figshare.com/collections/iCite_Data...                                     NaN   \n\n                                                                                     journal  \nsource                                                                                        \nhttps://api.crossref.org/                             {'omid_only': 56561, 'other_pids': 52}  \nhttps://api.crossref.org/snapshots/monthly/2023...      {'omid_only': 5000, 'other_pids': 3}  \nhttps://doi.org/10.5281/zenodo.7845968                    {'omid_only': 0, 'other_pids': 19}  \nhttps://nih.figshare.com/collections/iCite_Data...  {'omid_only': 40080, 'other_pids': 1499}  \nhttps://doi.org/10.5281/zenodo.7845968 https://...         {'omid_only': 5, 'other_pids': 0}  \nhttps://api.datacite.org/ https://api.crossref....                                       NaN  \nhttps://nih.figshare.com/collections/iCite_Data...       {'omid_only': 13, 'other_pids': 21}  \nhttps://nih.figshare.com/collections/iCite_Data...         {'omid_only': 0, 'other_pids': 3}  \nhttps://api.crossref.org/snapshots/monthly/2023...                                       NaN  \nhttps://nih.figshare.com/collections/iCite_Data...                                       NaN  \nhttps://api.datacite.org/                                  {'omid_only': 1, 'other_pids': 6}  \nhttps://api.crossref.org/snapshots/monthly/2023...                                       NaN  \nhttps://doi.org/10.5281/zenodo.7845968 https://...                                       NaN  \nhttps://doi.org/10.5281/zenodo.7845968 https://...                                       NaN  \nhttps://nih.figshare.com/collections/iCite_Data...                                       NaN  ",
      "text/html": "<div>\n<style scoped>\n    .dataframe tbody tr th:only-of-type {\n        vertical-align: middle;\n    }\n\n    .dataframe tbody tr th {\n        vertical-align: top;\n    }\n\n    .dataframe thead th {\n        text-align: right;\n    }\n</style>\n<table border=\"1\" class=\"dataframe\">\n  <thead>\n    <tr style=\"text-align: right;\">\n      <th></th>\n      <th>proceedings</th>\n      <th>journal issue</th>\n      <th>book</th>\n      <th>journal volume</th>\n      <th>dataset</th>\n      <th>Unknown</th>\n      <th>journal article</th>\n      <th>reference book</th>\n      <th>report</th>\n      <th>journal</th>\n    </tr>\n    <tr>\n      <th>source</th>\n      <th></th>\n      <th></th>\n      <th></th>\n      <th></th>\n      <th></th>\n      <th></th>\n      <th></th>\n      <th></th>\n      <th></th>\n      <th></th>\n    </tr>\n  </thead>\n  <tbody>\n    <tr>\n      <th>https://api.crossref.org/</th>\n      <td>{'omid_only': 5046154, 'other_pids': 31}</td>\n      <td>{'omid_only': 4667606, 'other_pids': 79827}</td>\n      <td>{'omid_only': 2405267, 'other_pids': 91797}</td>\n      <td>{'omid_only': 1440942, 'other_pids': 95}</td>\n      <td>{'omid_only': 0, 'other_pids': 46}</td>\n      <td>{'omid_only': 356955, 'other_pids': 324066}</td>\n      <td>{'omid_only': 0, 'other_pids': 4983}</td>\n      <td>{'omid_only': 186140, 'other_pids': 25}</td>\n      <td>{'omid_only': 0, 'other_pids': 15}</td>\n      <td>{'omid_only': 56561, 'other_pids': 52}</td>\n    </tr>\n    <tr>\n      <th>https://api.crossref.org/snapshots/monthly/2023/09/all.json.tar.gz</th>\n      <td>{'omid_only': 324639, 'other_pids': 0}</td>\n      <td>{'omid_only': 202652, 'other_pids': 15}</td>\n      <td>{'omid_only': 2626, 'other_pids': 16272}</td>\n      <td>{'omid_only': 106965, 'other_pids': 0}</td>\n      <td>NaN</td>\n      <td>{'omid_only': 71227, 'other_pids': 149362}</td>\n      <td>{'omid_only': 0, 'other_pids': 484}</td>\n      <td>{'omid_only': 2286, 'other_pids': 1}</td>\n      <td>NaN</td>\n      <td>{'omid_only': 5000, 'other_pids': 3}</td>\n    </tr>\n    <tr>\n      <th>https://doi.org/10.5281/zenodo.7845968</th>\n      <td>{'omid_only': 0, 'other_pids': 11487}</td>\n      <td>{'omid_only': 1075, 'other_pids': 0}</td>\n      <td>{'omid_only': 0, 'other_pids': 1247}</td>\n      <td>NaN</td>\n      <td>{'omid_only': 0, 'other_pids': 203240}</td>\n      <td>{'omid_only': 0, 'other_pids': 355075}</td>\n      <td>{'omid_only': 0, 'other_pids': 202018}</td>\n      <td>NaN</td>\n      <td>{'omid_only': 0, 'other_pids': 1993}</td>\n      <td>{'omid_only': 0, 'other_pids': 19}</td>\n    </tr>\n    <tr>\n      <th>https://nih.figshare.com/collections/iCite_Database_Snapshots_NIH_Open_Citation_Collection_/4586573/42</th>\n      <td>{'omid_only': 786, 'other_pids': 0}</td>\n      <td>{'omid_only': 102115, 'other_pids': 0}</td>\n      <td>{'omid_only': 3757, 'other_pids': 0}</td>\n      <td>{'omid_only': 22602, 'other_pids': 0}</td>\n      <td>NaN</td>\n      <td>{'omid_only': 1, 'other_pids': 153}</td>\n      <td>{'omid_only': 0, 'other_pids': 42009}</td>\n      <td>{'omid_only': 1, 'other_pids': 0}</td>\n      <td>NaN</td>\n      <td>{'omid_only': 40080, 'other_pids': 1499}</td>\n    </tr>\n    <tr>\n      <th>https://doi.org/10.5281/zenodo.7845968 https://api.crossref.org/</th>\n      <td>{'omid_only': 0, 'other_pids': 17}</td>\n      <td>{'omid_only': 2830, 'other_pids': 37}</td>\n      <td>{'omid_only': 0, 'other_pids': 2}</td>\n      <td>{'omid_only': 1730, 'other_pids': 0}</td>\n      <td>{'omid_only': 0, 'other_pids': 190}</td>\n      <td>{'omid_only': 0, 'other_pids': 16}</td>\n      <td>{'omid_only': 0, 'other_pids': 57}</td>\n      <td>NaN</td>\n      <td>NaN</td>\n      <td>{'omid_only': 5, 'other_pids': 0}</td>\n    </tr>\n    <tr>\n      <th>https://api.datacite.org/ https://api.crossref.org/</th>\n      <td>{'omid_only': 1, 'other_pids': 0}</td>\n      <td>{'omid_only': 457, 'other_pids': 23}</td>\n      <td>{'omid_only': 1, 'other_pids': 28}</td>\n      <td>{'omid_only': 436, 'other_pids': 0}</td>\n      <td>{'omid_only': 0, 'other_pids': 3521}</td>\n      <td>{'omid_only': 0, 'other_pids': 287}</td>\n      <td>{'omid_only': 0, 'other_pids': 7}</td>\n      <td>NaN</td>\n      <td>{'omid_only': 0, 'other_pids': 115}</td>\n      <td>NaN</td>\n    </tr>\n    <tr>\n      <th>https://nih.figshare.com/collections/iCite_Database_Snapshots_NIH_Open_Citation_Collection_/4586573/42 https://doi.org/10.5281/zenodo.7845968</th>\n      <td>NaN</td>\n      <td>{'omid_only': 3847, 'other_pids': 0}</td>\n      <td>NaN</td>\n      <td>{'omid_only': 910, 'other_pids': 0}</td>\n      <td>NaN</td>\n      <td>NaN</td>\n      <td>{'omid_only': 0, 'other_pids': 374}</td>\n      <td>NaN</td>\n      <td>NaN</td>\n      <td>{'omid_only': 13, 'other_pids': 21}</td>\n    </tr>\n    <tr>\n      <th>https://nih.figshare.com/collections/iCite_Database_Snapshots_NIH_Open_Citation_Collection_/4586573/42 https://api.crossref.org/</th>\n      <td>NaN</td>\n      <td>{'omid_only': 3305, 'other_pids': 120}</td>\n      <td>NaN</td>\n      <td>{'omid_only': 2125, 'other_pids': 0}</td>\n      <td>NaN</td>\n      <td>NaN</td>\n      <td>{'omid_only': 0, 'other_pids': 2246}</td>\n      <td>NaN</td>\n      <td>NaN</td>\n      <td>{'omid_only': 0, 'other_pids': 3}</td>\n    </tr>\n    <tr>\n      <th>https://api.crossref.org/snapshots/monthly/2023/09/all.json.tar.gz https://api.crossref.org/</th>\n      <td>NaN</td>\n      <td>{'omid_only': 0, 'other_pids': 92}</td>\n      <td>{'omid_only': 0, 'other_pids': 589}</td>\n      <td>NaN</td>\n      <td>NaN</td>\n      <td>NaN</td>\n      <td>NaN</td>\n      <td>NaN</td>\n      <td>NaN</td>\n      <td>NaN</td>\n    </tr>\n    <tr>\n      <th>https://nih.figshare.com/collections/iCite_Database_Snapshots_NIH_Open_Citation_Collection_/4586573/42 https://doi.org/10.5281/zenodo.7845968 https://api.crossref.org/</th>\n      <td>NaN</td>\n      <td>{'omid_only': 12, 'other_pids': 13}</td>\n      <td>NaN</td>\n      <td>{'omid_only': 27, 'other_pids': 0}</td>\n      <td>NaN</td>\n      <td>NaN</td>\n      <td>{'omid_only': 0, 'other_pids': 31}</td>\n      <td>NaN</td>\n      <td>NaN</td>\n      <td>NaN</td>\n    </tr>\n    <tr>\n      <th>https://api.datacite.org/</th>\n      <td>NaN</td>\n      <td>{'omid_only': 2, 'other_pids': 0}</td>\n      <td>{'omid_only': 0, 'other_pids': 300}</td>\n      <td>{'omid_only': 1, 'other_pids': 0}</td>\n      <td>{'omid_only': 0, 'other_pids': 1238173}</td>\n      <td>{'omid_only': 9, 'other_pids': 162061}</td>\n      <td>{'omid_only': 0, 'other_pids': 1075}</td>\n      <td>NaN</td>\n      <td>{'omid_only': 0, 'other_pids': 133865}</td>\n      <td>{'omid_only': 1, 'other_pids': 6}</td>\n    </tr>\n    <tr>\n      <th>https://api.crossref.org/snapshots/monthly/2023/09/all.json.tar.gz https://nih.figshare.com/collections/iCite_Database_Snapshots_NIH_Open_Citation_Collection_/4586573/42</th>\n      <td>NaN</td>\n      <td>{'omid_only': 2, 'other_pids': 0}</td>\n      <td>NaN</td>\n      <td>NaN</td>\n      <td>NaN</td>\n      <td>NaN</td>\n      <td>NaN</td>\n      <td>NaN</td>\n      <td>NaN</td>\n      <td>NaN</td>\n    </tr>\n    <tr>\n      <th>https://doi.org/10.5281/zenodo.7845968 https://api.datacite.org/ https://api.crossref.org/</th>\n      <td>NaN</td>\n      <td>NaN</td>\n      <td>NaN</td>\n      <td>{'omid_only': 1, 'other_pids': 0}</td>\n      <td>{'omid_only': 0, 'other_pids': 6}</td>\n      <td>NaN</td>\n      <td>NaN</td>\n      <td>NaN</td>\n      <td>{'omid_only': 0, 'other_pids': 3}</td>\n      <td>NaN</td>\n    </tr>\n    <tr>\n      <th>https://doi.org/10.5281/zenodo.7845968 https://api.datacite.org/</th>\n      <td>NaN</td>\n      <td>NaN</td>\n      <td>NaN</td>\n      <td>NaN</td>\n      <td>{'omid_only': 0, 'other_pids': 165}</td>\n      <td>NaN</td>\n      <td>NaN</td>\n      <td>NaN</td>\n      <td>{'omid_only': 0, 'other_pids': 6}</td>\n      <td>NaN</td>\n    </tr>\n    <tr>\n      <th>https://nih.figshare.com/collections/iCite_Database_Snapshots_NIH_Open_Citation_Collection_/4586573/42 https://doi.org/10.5281/zenodo.7845968 https://api.datacite.org/</th>\n      <td>NaN</td>\n      <td>NaN</td>\n      <td>NaN</td>\n      <td>NaN</td>\n      <td>NaN</td>\n      <td>NaN</td>\n      <td>NaN</td>\n      <td>NaN</td>\n      <td>NaN</td>\n      <td>NaN</td>\n    </tr>\n  </tbody>\n</table>\n</div>"
     },
     "execution_count": 7,
     "metadata": {},
     "output_type": "execute_result"
    }
   ],
   "source": [
    "tmp_df = pd.read_json('provenance_analysis_results.json', orient='index')\n",
    "\n",
    "columns_to_keep = ['proceedings', 'journal issue', 'book', 'journal volume', 'dataset', 'Unknown', 'journal article', 'reference book', 'report', 'journal']\n",
    "tmp_df = tmp_df.T\n",
    "\n",
    "# rename column with empty string to 'Unknown'\n",
    "tmp_df.rename(columns={'': 'Unknown'}, inplace=True)\n",
    "# rename index column to 'source'\n",
    "tmp_df.index.rename('source', inplace=True)\n",
    "# tmp_df.rename(columns={'index': 'source'}, inplace=True)\n",
    "reduced_df = tmp_df[columns_to_keep]\n",
    "reduced_df \n",
    "\n",
    "# reduced_df['type'].fillna('Unknown', inplace=True)"
   ],
   "metadata": {
    "collapsed": false,
    "ExecuteTime": {
     "end_time": "2023-11-26T23:01:10.536103600Z",
     "start_time": "2023-11-26T23:01:10.481065700Z"
    }
   },
   "id": "c49631fab21d457e"
  },
  {
   "cell_type": "code",
   "execution_count": 8,
   "outputs": [],
   "source": [
    "# reduced_df.to_latex('provenance_analysis_results.tex', index=False)"
   ],
   "metadata": {
    "collapsed": false,
    "ExecuteTime": {
     "end_time": "2023-11-26T23:01:10.536103600Z",
     "start_time": "2023-11-26T23:01:10.482063900Z"
    }
   },
   "id": "3b48cd5fc4cde652"
  },
  {
   "cell_type": "code",
   "execution_count": 9,
   "outputs": [],
   "source": [
    "\n",
    "def get_tot_contribution_by_source(sources_for_type:dict):\n",
    "    \n",
    "    res = dict()\n",
    "    for k, v in sources_for_type.items():\n",
    "        if ' ' not in k:\n",
    "            if k in res:\n",
    "                res[k] += v\n",
    "            else:\n",
    "                res[k] = v\n",
    "        else:\n",
    "            for single_source in k.split():\n",
    "                if single_source in res:\n",
    "                    res[single_source] += v\n",
    "                else:\n",
    "                    res[single_source] = v\n",
    "    return res\n"
   ],
   "metadata": {
    "collapsed": false,
    "ExecuteTime": {
     "end_time": "2023-11-26T23:01:10.540103Z",
     "start_time": "2023-11-26T23:01:10.482063900Z"
    }
   },
   "id": "faea1ac26510edb3"
  },
  {
   "cell_type": "code",
   "execution_count": 10,
   "outputs": [
    {
     "ename": "NameError",
     "evalue": "name 'sorted_res' is not defined",
     "output_type": "error",
     "traceback": [
      "\u001B[1;31m---------------------------------------------------------------------------\u001B[0m",
      "\u001B[1;31mNameError\u001B[0m                                 Traceback (most recent call last)",
      "Cell \u001B[1;32mIn[10], line 1\u001B[0m\n\u001B[1;32m----> 1\u001B[0m ji \u001B[38;5;241m=\u001B[39m \u001B[43msorted_res\u001B[49m[\u001B[38;5;124m'\u001B[39m\u001B[38;5;124mjournal issue\u001B[39m\u001B[38;5;124m'\u001B[39m]\n\u001B[0;32m      2\u001B[0m ji_by_source \u001B[38;5;241m=\u001B[39m get_tot_contribution_by_source(sorted_res[\u001B[38;5;124m'\u001B[39m\u001B[38;5;124mjournal issue\u001B[39m\u001B[38;5;124m'\u001B[39m])\n\u001B[0;32m      3\u001B[0m pprint(ji)\n",
      "\u001B[1;31mNameError\u001B[0m: name 'sorted_res' is not defined"
     ]
    }
   ],
   "source": [
    "ji = sorted_res['journal issue']\n",
    "ji_by_source = get_tot_contribution_by_source(sorted_res['journal issue'])\n",
    "pprint(ji)\n",
    "print('\\n')\n",
    "pprint(ji_by_source)"
   ],
   "metadata": {
    "collapsed": false,
    "ExecuteTime": {
     "end_time": "2023-11-26T23:01:12.104494400Z",
     "start_time": "2023-11-26T23:01:10.483065700Z"
    }
   },
   "id": "a5a57e28ed21fa92"
  },
  {
   "cell_type": "code",
   "execution_count": null,
   "outputs": [],
   "source": [
    "import plotly.express as px\n",
    "\n",
    "\n",
    "def visualize_sources_proportion(sources_for_type:dict, title:str):\n",
    "    \"\"\"\n",
    "    Shows a pie chart of the proportion of contributions from each single source for a given type of bibliographic resource. Each single source's contribution is the results from the sum of all the bibliographic entities that have the source in their provenance data, therefore it is not necessarily a unique contribution, but rather it includes both the number of resources that are provided exclusively by the source and the number of resources that are provided by the source and other sources.\n",
    "    :param sources_for_type: \n",
    "    :param title: \n",
    "    :return: \n",
    "    \"\"\"\n",
    "    data = get_tot_contribution_by_source(sources_for_type)\n",
    "    labels = list(data.keys())\n",
    "    values = list(data.values())\n",
    "\n",
    "    fig = px.pie(values=values, names=labels, title=title)\n",
    "    fig.show()\n",
    "    csp.plot(fig, filename=title, auto_open=False, sharing='public')"
   ],
   "metadata": {
    "collapsed": false,
    "ExecuteTime": {
     "start_time": "2023-11-26T23:01:11.154876400Z"
    }
   },
   "id": "386e57f694abbab6"
  },
  {
   "cell_type": "code",
   "execution_count": null,
   "outputs": [],
   "source": [
    "visualize_sources_proportion(sorted_res['journal issue'], 'Journal Issue')\n",
    "visualize_sources_proportion(sorted_res['journal volume'], 'Journal Volume')\n",
    "visualize_sources_proportion(sorted_res['dataset'], 'Dataset')\n",
    "visualize_sources_proportion(sorted_res[''], 'Unknown')\n",
    "visualize_sources_proportion(sorted_res['journal article'], 'Journal Article')"
   ],
   "metadata": {
    "collapsed": false,
    "ExecuteTime": {
     "start_time": "2023-11-26T23:01:11.160876Z"
    }
   },
   "id": "987ecfb6f9c1b3d5"
  },
  {
   "cell_type": "code",
   "execution_count": null,
   "outputs": [],
   "source": [
    "visualize_sources_proportion(sorted_res['journal'], 'Journal')"
   ],
   "metadata": {
    "collapsed": false,
    "ExecuteTime": {
     "start_time": "2023-11-26T23:01:11.166877200Z"
    }
   },
   "id": "bd4048ba67f1d060"
  },
  {
   "cell_type": "code",
   "execution_count": null,
   "outputs": [],
   "source": [
    "assert False\n",
    "for k, v in sorted_res.items():\n",
    "    visualize_sources_proportion(v, k)"
   ],
   "metadata": {
    "collapsed": false,
    "ExecuteTime": {
     "start_time": "2023-11-26T23:01:11.170873400Z"
    }
   },
   "id": "57aeffc73f5c6441"
  }
 ],
 "metadata": {
  "kernelspec": {
   "name": "python3",
   "language": "python",
   "display_name": "Python 3 (ipykernel)"
  },
  "language_info": {
   "codemirror_mode": {
    "name": "ipython",
    "version": 2
   },
   "file_extension": ".py",
   "mimetype": "text/x-python",
   "name": "python",
   "nbconvert_exporter": "python",
   "pygments_lexer": "ipython2",
   "version": "2.7.6"
  }
 },
 "nbformat": 4,
 "nbformat_minor": 5
}
